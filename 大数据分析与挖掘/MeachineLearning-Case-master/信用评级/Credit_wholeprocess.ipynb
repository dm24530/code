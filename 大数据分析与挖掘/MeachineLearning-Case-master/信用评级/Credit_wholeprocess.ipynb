{
 "cells": [
  {
   "cell_type": "markdown",
   "metadata": {},
   "source": [
    "## 读取并选择数据"
   ]
  },
  {
   "cell_type": "code",
   "execution_count": 1,
   "metadata": {},
   "outputs": [],
   "source": [
    "import pandas as pd\n",
    "import numpy as np\n",
    "import matplotlib.pyplot as plt\n",
    "import seaborn as sns\n",
    "import os\n",
    "accepts = pd.read_csv('accepts.csv')\n",
    "rejects = pd.read_csv('rejects.csv')\n",
    "\n",
    "accepts_x = accepts[[\"tot_derog\",\"age_oldest_tr\",\"rev_util\",\"fico_score\",\"ltv\"]]\n",
    "accepts_y = accepts['bad_ind']\n",
    "rejects_x = rejects[[\"tot_derog\",\"age_oldest_tr\",\"rev_util\",\"fico_score\",\"ltv\"]]"
   ]
  },
  {
   "cell_type": "markdown",
   "metadata": {},
   "source": [
    "### 查看数据集信息"
   ]
  },
  {
   "cell_type": "code",
   "execution_count": 2,
   "metadata": {},
   "outputs": [
    {
     "name": "stdout",
     "output_type": "stream",
     "text": [
      "<class 'pandas.core.frame.DataFrame'>\n",
      "RangeIndex: 4233 entries, 0 to 4232\n",
      "Data columns (total 5 columns):\n",
      "tot_derog        4100 non-null float64\n",
      "age_oldest_tr    4099 non-null float64\n",
      "rev_util         4233 non-null int64\n",
      "fico_score       4051 non-null float64\n",
      "ltv              4233 non-null int64\n",
      "dtypes: float64(3), int64(2)\n",
      "memory usage: 165.5 KB\n"
     ]
    }
   ],
   "source": [
    "rejects_x.info()"
   ]
  },
  {
   "cell_type": "markdown",
   "metadata": {},
   "source": [
    "### 定义缺失值替换函数"
   ]
  },
  {
   "cell_type": "code",
   "execution_count": 3,
   "metadata": {},
   "outputs": [],
   "source": [
    "def Myfillna_median(df):\n",
    "    for i in df.columns:\n",
    "        median = df[i].median()\n",
    "        df[i].fillna(value=median, inplace=True)\n",
    "    return df"
   ]
  },
  {
   "cell_type": "markdown",
   "metadata": {},
   "source": [
    "### 缺失值填补"
   ]
  },
  {
   "cell_type": "code",
   "execution_count": 4,
   "metadata": {},
   "outputs": [
    {
     "name": "stderr",
     "output_type": "stream",
     "text": [
      "D:\\Anaconda\\anaconda\\lib\\site-packages\\pandas\\core\\generic.py:6287: SettingWithCopyWarning: \n",
      "A value is trying to be set on a copy of a slice from a DataFrame\n",
      "\n",
      "See the caveats in the documentation: http://pandas.pydata.org/pandas-docs/stable/user_guide/indexing.html#returning-a-view-versus-a-copy\n",
      "  self._update_inplace(new_data)\n"
     ]
    }
   ],
   "source": [
    "accepts_x_filled=Myfillna_median(df=accepts_x)\n",
    "\n",
    "rejects_x_filled=Myfillna_median(df=rejects_x)"
   ]
  },
  {
   "cell_type": "markdown",
   "metadata": {},
   "source": [
    "### 标准化数据"
   ]
  },
  {
   "cell_type": "code",
   "execution_count": 5,
   "metadata": {},
   "outputs": [],
   "source": [
    "from sklearn.preprocessing import Normalizer\n",
    "accepts_x_norm = pd.DataFrame(Normalizer().fit_transform(accepts_x_filled))\n",
    "accepts_x_norm.columns = accepts_x_filled.columns\n",
    "\n",
    "rejects_x_norm = pd.DataFrame(Normalizer().fit_transform(rejects_x_filled))\n",
    "rejects_x_norm.columns = rejects_x_filled.columns\n"
   ]
  },
  {
   "cell_type": "markdown",
   "metadata": {},
   "source": [
    "### 利用knn模型进行预测，做拒绝推断"
   ]
  },
  {
   "cell_type": "code",
   "execution_count": 25,
   "metadata": {},
   "outputs": [
    {
     "name": "stdout",
     "output_type": "stream",
     "text": [
      "KNeighborsClassifier(algorithm='auto', leaf_size=30, metric='minkowski',\n",
      "                     metric_params=None, n_jobs=None, n_neighbors=5, p=2,\n",
      "                     weights='distance')\n"
     ]
    }
   ],
   "source": [
    "from sklearn.neighbors import NearestNeighbors\n",
    "from sklearn.neighbors import KNeighborsClassifier\n",
    "neigh = KNeighborsClassifier(n_neighbors=5, weights='distance')\n",
    "neigh.fit(accepts_x_norm, accepts_y)\n",
    "# rejects['bad_ind'] = neigh.predict(rejects_x_norm)\n",
    "print(neigh)"
   ]
  },
  {
   "cell_type": "markdown",
   "metadata": {},
   "source": [
    "### 将审核通过的申请者和未通过的申请者进行合并"
   ]
  },
  {
   "cell_type": "code",
   "execution_count": 9,
   "metadata": {},
   "outputs": [
    {
     "name": "stderr",
     "output_type": "stream",
     "text": [
      "D:\\Anaconda\\anaconda\\lib\\site-packages\\ipykernel_launcher.py:3: FutureWarning: Sorting because non-concatenation axis is not aligned. A future version\n",
      "of pandas will change to not sort by default.\n",
      "\n",
      "To accept the future behavior, pass 'sort=False'.\n",
      "\n",
      "To retain the current behavior and silence the warning, pass 'sort=True'.\n",
      "\n",
      "  This is separate from the ipykernel package so we can avoid doing imports until\n"
     ]
    }
   ],
   "source": [
    "rejects_res = rejects[rejects['bad_ind'] == 0].sample(1340)\n",
    "rejects_res = pd.concat([rejects_res, rejects[rejects['bad_ind'] == 1]], axis = 0)\n",
    "data = pd.concat([accepts.iloc[:, 2:-1], rejects_res.iloc[:,1:]], axis = 0)"
   ]
  },
  {
   "cell_type": "markdown",
   "metadata": {},
   "source": [
    "### 分类变量转换"
   ]
  },
  {
   "cell_type": "code",
   "execution_count": 10,
   "metadata": {},
   "outputs": [],
   "source": [
    "bankruptcy_dict = {'N':0, 'Y':1}\n",
    "data.bankruptcy_ind = data.bankruptcy_ind.map(bankruptcy_dict)"
   ]
  },
  {
   "cell_type": "markdown",
   "metadata": {},
   "source": [
    "### 处理异常值"
   ]
  },
  {
   "cell_type": "code",
   "execution_count": 11,
   "metadata": {},
   "outputs": [
    {
     "name": "stdout",
     "output_type": "stream",
     "text": [
      "      age_oldest_tr  bad_ind  bankruptcy_ind  down_pyt  fico_score  loan_amt  \\\n",
      "0              64.0        1             0.0      0.00       650.0  17200.00   \n",
      "1             240.0        0             0.0    683.54       649.0  19588.54   \n",
      "2              60.0        1             0.0      0.00       613.0  10500.00   \n",
      "3              35.0        1             0.0   3099.00       603.0  10800.00   \n",
      "4             104.0        0             0.0      0.00       764.0  26328.04   \n",
      "...             ...      ...             ...       ...         ...       ...   \n",
      "4171          103.0        1             0.0   2000.00       552.0  19000.00   \n",
      "4183          142.0        1             0.0      0.00       718.0  15121.58   \n",
      "4186           32.0        1             0.0   2136.00       624.0  15000.00   \n",
      "4194          101.0        1             0.0   2429.67       662.0  18700.00   \n",
      "4208           52.0        1             0.0   2503.00       711.0  10000.00   \n",
      "\n",
      "      loan_term    ltv     msrp  purch_price  ...  tot_derog  tot_income  \\\n",
      "0            36   99.0  17350.0     17200.00  ...        7.0     6550.00   \n",
      "1            60   99.0  19788.0     19588.54  ...        0.0     4666.67   \n",
      "2            60   92.0  11450.0     13595.00  ...        7.0     2000.00   \n",
      "3            60  118.0  12100.0     12999.00  ...        3.0     1500.00   \n",
      "4            60  122.0  22024.0     26328.04  ...        0.0     4144.00   \n",
      "...         ...    ...      ...          ...  ...        ...         ...   \n",
      "4171         60   86.0  22000.0     21500.00  ...       10.0     1775.00   \n",
      "4183         60  123.0  12325.0     15528.15  ...        1.0     2916.67   \n",
      "4186         42   97.0  15525.0     17136.00  ...        2.0     2750.00   \n",
      "4194         48  100.0  18700.0     21129.67  ...       12.0     5000.00   \n",
      "4208         36   83.0  12000.0     14503.00  ...        0.0     1280.00   \n",
      "\n",
      "      tot_open_tr  tot_rev_debt  tot_rev_line  tot_rev_tr  tot_tr  used_ind  \\\n",
      "0             2.0         506.0         500.0         1.0     9.0         1   \n",
      "1            11.0       34605.0       57241.0         7.0    21.0         0   \n",
      "2             5.0        3076.5       10009.5         3.0    10.0         1   \n",
      "3             5.0        4019.0        5946.0         4.0    10.0         1   \n",
      "4             2.0           0.0        1800.0         0.0    10.0         0   \n",
      "...           ...           ...           ...         ...     ...       ...   \n",
      "4171          8.0        6085.0        4803.0         6.0    27.0         0   \n",
      "4183          7.0        8760.0       10685.0         5.0    13.0         1   \n",
      "4186          4.0         851.0         500.0         1.0     9.0         1   \n",
      "4194          6.0        6195.0        9951.0         3.0    31.0         0   \n",
      "4208          5.0           0.0        2000.0         0.0     2.0         1   \n",
      "\n",
      "      veh_mileage  vehicle_year  \n",
      "0         24000.0          20.0  \n",
      "1            22.0          18.0  \n",
      "2         19600.0          20.0  \n",
      "3         10000.0          21.0  \n",
      "4            14.0          18.0  \n",
      "...           ...           ...  \n",
      "4171          1.0          18.0  \n",
      "4183      27975.0          20.0  \n",
      "4186      75000.0          24.0  \n",
      "4194          0.0          18.0  \n",
      "4208     100141.0          24.0  \n",
      "\n",
      "[7533 rows x 21 columns]\n"
     ]
    }
   ],
   "source": [
    "year_min = data.vehicle_year.quantile(0.1)\n",
    "year_max = data.vehicle_year.quantile(0.99)\n",
    "data.vehicle_year = data.vehicle_year.map(lambda x: year_min if x <= year_min else x)\n",
    "data.vehicle_year = data.vehicle_year.map(lambda x: year_max if x >= year_max else x)\n",
    "data.vehicle_year = data.vehicle_year.map(lambda x: 2018 - x)\n",
    "data.drop(['vehicle_make'], axis = 1, inplace = True)\n",
    "data_filled=Myfillna_median(df=data)\n",
    "X = data_filled[['age_oldest_tr', 'bankruptcy_ind', 'down_pyt', 'fico_score',\n",
    "       'loan_amt', 'loan_term', 'ltv', 'msrp', 'purch_price', 'rev_util',\n",
    "       'tot_derog', 'tot_income', 'tot_open_tr', 'tot_rev_debt',\n",
    "       'tot_rev_line', 'tot_rev_tr', 'tot_tr', 'used_ind', 'veh_mileage',\n",
    "       'vehicle_year']]\n",
    "y = data_filled['bad_ind']\n",
    "print(data_filled)"
   ]
  },
  {
   "cell_type": "markdown",
   "metadata": {},
   "source": [
    "### 利用随机森林填补变量"
   ]
  },
  {
   "cell_type": "code",
   "execution_count": 14,
   "metadata": {},
   "outputs": [
    {
     "name": "stdout",
     "output_type": "stream",
     "text": [
      "[(0.2703856544549641, 'fico_score'), (0.12407590399997459, 'age_oldest_tr'), (0.11587163522770565, 'rev_util'), (0.09324645022037789, 'ltv'), (0.08054739301439076, 'tot_derog'), (0.07645932670619422, 'tot_rev_line'), (0.06170165695082909, 'tot_tr'), (0.03363202702336891, 'tot_rev_debt'), (0.026431913888006843, 'purch_price')]\n"
     ]
    },
    {
     "name": "stderr",
     "output_type": "stream",
     "text": [
      "D:\\Anaconda\\anaconda\\lib\\site-packages\\sklearn\\ensemble\\forest.py:245: FutureWarning: The default value of n_estimators will change from 10 in version 0.20 to 100 in 0.22.\n",
      "  \"10 in version 0.20 to 100 in 0.22.\", FutureWarning)\n"
     ]
    }
   ],
   "source": [
    "from sklearn.ensemble import RandomForestClassifier\n",
    "clf = RandomForestClassifier(max_depth=5, random_state=0)\n",
    "clf.fit(X,y)\n",
    "\n",
    "importances = list(clf.feature_importances_)\n",
    "importances_order = importances.copy()\n",
    "importances_order.sort(reverse=True)\n",
    "\n",
    "cols = list(X.columns)\n",
    "col_top = []\n",
    "for i in importances_order[:9]:\n",
    "    col_top.append((i,cols[importances.index(i)]))\n",
    "col_top\n",
    "\n",
    "col = [i[1] for i in col_top]\n",
    "print(col_top)"
   ]
  },
  {
   "cell_type": "markdown",
   "metadata": {},
   "source": [
    "### 变量细筛与数据清洗"
   ]
  },
  {
   "cell_type": "code",
   "execution_count": 16,
   "metadata": {},
   "outputs": [],
   "source": [
    "from woe import WoE\n",
    "import warnings\n",
    "warnings.filterwarnings(\"ignore\")"
   ]
  },
  {
   "cell_type": "code",
   "execution_count": 17,
   "metadata": {},
   "outputs": [
    {
     "name": "stdout",
     "output_type": "stream",
     "text": [
      "rev_util\n",
      "tot_rev_line\n",
      "tot_rev_debt\n"
     ]
    },
    {
     "data": {
      "text/plain": [
       "fico_score       0.464300\n",
       "age_oldest_tr    0.200235\n",
       "tot_derog        0.179381\n",
       "ltv              0.145189\n",
       "tot_tr           0.107821\n",
       "purch_price      0.019769\n",
       "dtype: float64"
      ]
     },
     "execution_count": 17,
     "metadata": {},
     "output_type": "execute_result"
    }
   ],
   "source": [
    "data_filled.head()\n",
    "iv_c = {}\n",
    "for i in col:\n",
    "    try:\n",
    "        iv_c[i] = WoE(v_type='c').fit(data_filled[i],data_filled['bad_ind']).optimize().iv \n",
    "    except:\n",
    "        print(i)\n",
    "    \n",
    "pd.Series(iv_c).sort_values(ascending=False)"
   ]
  },
  {
   "cell_type": "markdown",
   "metadata": {},
   "source": [
    "### WOE转换"
   ]
  },
  {
   "cell_type": "code",
   "execution_count": 18,
   "metadata": {},
   "outputs": [
    {
     "data": {
      "text/html": [
       "<div>\n",
       "<style scoped>\n",
       "    .dataframe tbody tr th:only-of-type {\n",
       "        vertical-align: middle;\n",
       "    }\n",
       "\n",
       "    .dataframe tbody tr th {\n",
       "        vertical-align: top;\n",
       "    }\n",
       "\n",
       "    .dataframe thead th {\n",
       "        text-align: right;\n",
       "    }\n",
       "</style>\n",
       "<table border=\"1\" class=\"dataframe\">\n",
       "  <thead>\n",
       "    <tr style=\"text-align: right;\">\n",
       "      <th></th>\n",
       "      <th>fico_score</th>\n",
       "      <th>age_oldest_tr</th>\n",
       "      <th>rev_util</th>\n",
       "      <th>ltv</th>\n",
       "      <th>tot_derog</th>\n",
       "      <th>tot_rev_line</th>\n",
       "      <th>tot_tr</th>\n",
       "      <th>tot_rev_debt</th>\n",
       "      <th>purch_price</th>\n",
       "    </tr>\n",
       "  </thead>\n",
       "  <tbody>\n",
       "    <tr>\n",
       "      <td>0</td>\n",
       "      <td>0.518595</td>\n",
       "      <td>0.285117</td>\n",
       "      <td>0.553871</td>\n",
       "      <td>0.257519</td>\n",
       "      <td>0.324220</td>\n",
       "      <td>0.402393</td>\n",
       "      <td>0.271595</td>\n",
       "      <td>0.118634</td>\n",
       "      <td>0.134938</td>\n",
       "    </tr>\n",
       "    <tr>\n",
       "      <td>1</td>\n",
       "      <td>0.518595</td>\n",
       "      <td>-0.714130</td>\n",
       "      <td>0.553871</td>\n",
       "      <td>0.257519</td>\n",
       "      <td>-0.449116</td>\n",
       "      <td>-0.797381</td>\n",
       "      <td>-0.400585</td>\n",
       "      <td>-0.154349</td>\n",
       "      <td>-0.146749</td>\n",
       "    </tr>\n",
       "    <tr>\n",
       "      <td>2</td>\n",
       "      <td>0.518595</td>\n",
       "      <td>0.285117</td>\n",
       "      <td>-0.316356</td>\n",
       "      <td>-0.570676</td>\n",
       "      <td>0.324220</td>\n",
       "      <td>0.402393</td>\n",
       "      <td>0.271595</td>\n",
       "      <td>0.118634</td>\n",
       "      <td>0.134938</td>\n",
       "    </tr>\n",
       "    <tr>\n",
       "      <td>3</td>\n",
       "      <td>0.518595</td>\n",
       "      <td>0.285117</td>\n",
       "      <td>0.553871</td>\n",
       "      <td>0.257519</td>\n",
       "      <td>0.324220</td>\n",
       "      <td>0.402393</td>\n",
       "      <td>0.271595</td>\n",
       "      <td>-0.154349</td>\n",
       "      <td>0.134938</td>\n",
       "    </tr>\n",
       "    <tr>\n",
       "      <td>4</td>\n",
       "      <td>-0.930939</td>\n",
       "      <td>0.285117</td>\n",
       "      <td>-0.316356</td>\n",
       "      <td>0.257519</td>\n",
       "      <td>-0.449116</td>\n",
       "      <td>0.402393</td>\n",
       "      <td>0.271595</td>\n",
       "      <td>0.118634</td>\n",
       "      <td>-0.146749</td>\n",
       "    </tr>\n",
       "  </tbody>\n",
       "</table>\n",
       "</div>"
      ],
      "text/plain": [
       "   fico_score  age_oldest_tr  rev_util       ltv  tot_derog  tot_rev_line  \\\n",
       "0    0.518595       0.285117  0.553871  0.257519   0.324220      0.402393   \n",
       "1    0.518595      -0.714130  0.553871  0.257519  -0.449116     -0.797381   \n",
       "2    0.518595       0.285117 -0.316356 -0.570676   0.324220      0.402393   \n",
       "3    0.518595       0.285117  0.553871  0.257519   0.324220      0.402393   \n",
       "4   -0.930939       0.285117 -0.316356  0.257519  -0.449116      0.402393   \n",
       "\n",
       "     tot_tr  tot_rev_debt  purch_price  \n",
       "0  0.271595      0.118634     0.134938  \n",
       "1 -0.400585     -0.154349    -0.146749  \n",
       "2  0.271595      0.118634     0.134938  \n",
       "3  0.271595     -0.154349     0.134938  \n",
       "4  0.271595      0.118634    -0.146749  "
      ]
     },
     "execution_count": 18,
     "metadata": {},
     "output_type": "execute_result"
    }
   ],
   "source": [
    "WOE_c = data_filled[col].apply(lambda col:WoE(v_type='c',qnt_num=5).fit(col,data_filled['bad_ind']).optimize().fit_transform(col,data_filled['bad_ind']))\n",
    "WOE_c.head()"
   ]
  },
  {
   "cell_type": "markdown",
   "metadata": {},
   "source": [
    "### 划分数据集"
   ]
  },
  {
   "cell_type": "code",
   "execution_count": 20,
   "metadata": {},
   "outputs": [],
   "source": [
    "from sklearn.model_selection import  train_test_split\n",
    "X = WOE_c\n",
    "y = data_filled['bad_ind']\n",
    "X_train, X_test, y_train, y_test = train_test_split(X,y,test_size = 0.3, random_state = 0)\n",
    "\n",
    "def plot_confusion_matrix(cm, classes,\n",
    "                          title='Confusion matrix',\n",
    "                          cmap=plt.cm.Blues):\n",
    "    \"\"\"\n",
    "    This function prints and plots the confusion matrix.\n",
    "    \"\"\"\n",
    "    plt.imshow(cm, interpolation='nearest', cmap=cmap)\n",
    "    plt.title(title)\n",
    "    plt.colorbar()\n",
    "    tick_marks = np.arange(len(classes))\n",
    "    plt.xticks(tick_marks, classes, rotation=0)\n",
    "    plt.yticks(tick_marks, classes)\n",
    "\n",
    "    thresh = cm.max() / 2.\n",
    "    for i, j in itertools.product(range(cm.shape[0]), range(cm.shape[1])):\n",
    "        plt.text(j, i, cm[i, j],\n",
    "                 horizontalalignment=\"center\",\n",
    "                 color=\"white\" if cm[i, j] > thresh else \"black\")\n",
    "\n",
    "    plt.tight_layout()\n",
    "    plt.ylabel('True label')\n",
    "    plt.xlabel('Predicted label')"
   ]
  },
  {
   "cell_type": "markdown",
   "metadata": {},
   "source": [
    "## 构建逻辑回归模型，进行违约概率预测"
   ]
  },
  {
   "cell_type": "code",
   "execution_count": 21,
   "metadata": {},
   "outputs": [
    {
     "name": "stdout",
     "output_type": "stream",
     "text": [
      "Recall metric in the testing dataset:  0.06047516198704104\n"
     ]
    },
    {
     "data": {
      "image/png": "[encoded data removed]",
      "text/plain": [
       "<Figure size 432x288 with 2 Axes>"
      ]
     },
     "metadata": {
      "needs_background": "light"
     },
     "output_type": "display_data"
    }
   ],
   "source": [
    "import itertools\n",
    "from sklearn.linear_model import LogisticRegression\n",
    "from sklearn.metrics import confusion_matrix,recall_score,classification_report \n",
    "lr = LogisticRegression(C = 1, penalty = 'l1')\n",
    "lr.fit(X_train,y_train.values.ravel())\n",
    "y_pred = lr.predict(X_test.values)\n",
    "\n",
    "# Compute confusion matrix\n",
    "cnf_matrix = confusion_matrix(y_test,y_pred)\n",
    "np.set_printoptions(precision=2)\n",
    "\n",
    "print(\"Recall metric in the testing dataset: \", cnf_matrix[1,1]/(cnf_matrix[1,0]+cnf_matrix[1,1]))\n",
    "\n",
    "# Plot non-normalized confusion matrix\n",
    "class_names = [0,1]\n",
    "plt.figure()\n",
    "plot_confusion_matrix(cnf_matrix\n",
    "                      , classes=class_names\n",
    "                      , title='Confusion matrix')\n",
    "plt.show()"
   ]
  },
  {
   "cell_type": "markdown",
   "metadata": {},
   "source": [
    "## 加入代价敏感参数，重新计算"
   ]
  },
  {
   "cell_type": "code",
   "execution_count": 22,
   "metadata": {},
   "outputs": [
    {
     "name": "stdout",
     "output_type": "stream",
     "text": [
      "Recall metric in the testing dataset:  0.712742980561555\n"
     ]
    },
    {
     "data": {
      "image/png": "[encoded data removed]",
      "text/plain": [
       "<Figure size 432x288 with 2 Axes>"
      ]
     },
     "metadata": {
      "needs_background": "light"
     },
     "output_type": "display_data"
    }
   ],
   "source": [
    "import itertools\n",
    "from sklearn.linear_model import LogisticRegression\n",
    "from sklearn.metrics import confusion_matrix,recall_score,classification_report \n",
    "lr = LogisticRegression(C = 1, penalty = 'l1', class_weight='balanced')\n",
    "lr.fit(X_train,y_train.values.ravel())\n",
    "y_pred = lr.predict(X_test.values)\n",
    "\n",
    "# Compute confusion matrix\n",
    "cnf_matrix = confusion_matrix(y_test,y_pred)\n",
    "np.set_printoptions(precision=2)\n",
    "\n",
    "print(\"Recall metric in the testing dataset: \", cnf_matrix[1,1]/(cnf_matrix[1,0]+cnf_matrix[1,1]))\n",
    "\n",
    "# Plot non-normalized confusion matrix\n",
    "class_names = [0,1]\n",
    "plt.figure()\n",
    "plot_confusion_matrix(cnf_matrix\n",
    "                      , classes=class_names\n",
    "                      , title='Confusion matrix')\n",
    "plt.show()"
   ]
  },
  {
   "cell_type": "markdown",
   "metadata": {},
   "source": [
    "### 检验模型"
   ]
  },
  {
   "cell_type": "code",
   "execution_count": 23,
   "metadata": {},
   "outputs": [
    {
     "data": {
      "text/plain": [
       "<Figure size 432x288 with 0 Axes>"
      ]
     },
     "metadata": {},
     "output_type": "display_data"
    },
    {
     "data": {
      "image/png": "[encoded data removed]",
      "text/plain": [
       "<Figure size 720x720 with 1 Axes>"
      ]
     },
     "metadata": {
      "needs_background": "light"
     },
     "output_type": "display_data"
    }
   ],
   "source": [
    "from sklearn.metrics import roc_curve, auc\n",
    "fpr,tpr,threshold = roc_curve(y_test,y_pred, drop_intermediate=False) ###计算真正率和假正率  \n",
    "roc_auc = auc(fpr,tpr) ###计算auc的值  \n",
    "  \n",
    "plt.figure()  \n",
    "lw = 2  \n",
    "plt.figure(figsize=(10,10))  \n",
    "plt.plot(fpr, tpr, color='darkorange',  \n",
    "         lw=lw, label='ROC curve (area = %0.2f)' % roc_auc) ###假正率为横坐标，真正率为纵坐标做曲线  \n",
    "plt.plot([0, 1], [0, 1], color='navy', lw=lw, linestyle='--')  \n",
    "plt.xlim([0.0, 1.0])  \n",
    "plt.ylim([0.0, 1.05])  \n",
    "plt.xlabel('False Positive Rate')  \n",
    "plt.ylabel('True Positive Rate')  \n",
    "plt.title('Receiver operating characteristic example')  \n",
    "plt.legend(loc=\"lower right\")  \n",
    "plt.show()"
   ]
  },
  {
   "cell_type": "markdown",
   "metadata": {},
   "source": [
    "## 利用sklearn.metrics中的roc_curve算出tpr，fpr作图"
   ]
  },
  {
   "cell_type": "code",
   "execution_count": 24,
   "metadata": {},
   "outputs": [
    {
     "data": {
      "image/png": "[encoded data removed]",
      "text/plain": [
       "<Figure size 432x288 with 1 Axes>"
      ]
     },
     "metadata": {
      "needs_background": "light"
     },
     "output_type": "display_data"
    },
    {
     "data": {
      "text/plain": [
       "<Figure size 1440x1440 with 0 Axes>"
      ]
     },
     "metadata": {},
     "output_type": "display_data"
    }
   ],
   "source": [
    "fig, ax = plt.subplots()\n",
    "ax.plot(1 - threshold, tpr, label='tpr') # ks曲线要按照预测概率降序排列，所以需要1-threshold镜像\n",
    "ax.plot(1 - threshold, fpr, label='fpr')\n",
    "ax.plot(1 - threshold, tpr-fpr,label='KS')\n",
    "plt.xlabel('score')\n",
    "plt.title('KS Curve')\n",
    "#plt.xticks(np.arange(0,1,0.2), np.arange(1,0,-0.2))\n",
    "#plt.xticks(np.arange(0,1,0.2), np.arange(score.max(),score.min(),-0.2*(data['反欺诈评分卡总分'].max() - data['反欺诈评分卡总分'].min())))\n",
    "plt.figure(figsize=(20,20))\n",
    "legend = ax.legend(loc='upper left', shadow=True, fontsize='x-large')\n",
    "\n",
    "plt.show()"
   ]
  },
  {
   "cell_type": "code",
   "execution_count": null,
   "metadata": {},
   "outputs": [],
   "source": []
  }
 ],
 "metadata": {
  "kernelspec": {
   "display_name": "Python 3",
   "language": "python",
   "name": "python3"
  },
  "language_info": {
   "codemirror_mode": {
    "name": "ipython",
    "version": 3
   },
   "file_extension": ".py",
   "mimetype": "text/x-python",
   "name": "python",
   "nbconvert_exporter": "python",
   "pygments_lexer": "ipython3",
   "version": "3.7.4"
  }
 },
 "nbformat": 4,
 "nbformat_minor": 2
}

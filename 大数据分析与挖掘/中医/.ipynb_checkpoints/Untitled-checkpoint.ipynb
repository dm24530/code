{
 "cells": [
  {
   "cell_type": "code",
   "execution_count": 2,
   "metadata": {},
   "outputs": [
    {
     "name": "stdout",
     "output_type": "stream",
     "text": [
      "HelloWord\n"
     ]
    }
   ],
   "source": [
    "#2.1\n",
    "print (\"HelloWord\")"
   ]
  },
  {
   "cell_type": "code",
   "execution_count": 3,
   "metadata": {},
   "outputs": [
    {
     "name": "stdout",
     "output_type": "stream",
     "text": [
      "HelloWord\n"
     ]
    }
   ],
   "source": [
    "#2.2\n",
    "print (\"HelloWord\")#你好世界"
   ]
  },
  {
   "cell_type": "code",
   "execution_count": 4,
   "metadata": {},
   "outputs": [
    {
     "data": {
      "text/plain": [
       "100"
      ]
     },
     "execution_count": 4,
     "metadata": {},
     "output_type": "execute_result"
    }
   ],
   "source": [
    "#3.1\n",
    "var1=100\n",
    "var1"
   ]
  },
  {
   "cell_type": "code",
   "execution_count": 5,
   "metadata": {},
   "outputs": [
    {
     "name": "stdout",
     "output_type": "stream",
     "text": [
      "Hello World!\n"
     ]
    }
   ],
   "source": [
    "#3.2\n",
    "str=\"Hello World!\"\n",
    "print(str) #输出完整字符串"
   ]
  },
  {
   "cell_type": "code",
   "execution_count": 7,
   "metadata": {},
   "outputs": [
    {
     "name": "stdout",
     "output_type": "stream",
     "text": [
      "H\n"
     ]
    }
   ],
   "source": [
    "print(str[0]) #输出字符串中的第一个字符"
   ]
  },
  {
   "cell_type": "code",
   "execution_count": 8,
   "metadata": {},
   "outputs": [
    {
     "name": "stdout",
     "output_type": "stream",
     "text": [
      "llo\n"
     ]
    }
   ],
   "source": [
    "print(str[2:5]) #输出字符床中第三个至第五个之间的字符串"
   ]
  },
  {
   "cell_type": "code",
   "execution_count": 9,
   "metadata": {},
   "outputs": [
    {
     "name": "stdout",
     "output_type": "stream",
     "text": [
      "llo World!\n"
     ]
    }
   ],
   "source": [
    "print(str[2:]) #输出从第三个字符串开始的字符串"
   ]
  },
  {
   "cell_type": "code",
   "execution_count": 10,
   "metadata": {},
   "outputs": [
    {
     "name": "stdout",
     "output_type": "stream",
     "text": [
      "Hello World!Hello World!\n"
     ]
    }
   ],
   "source": [
    "print(str*2) #输出字符串两次"
   ]
  },
  {
   "cell_type": "code",
   "execution_count": 11,
   "metadata": {},
   "outputs": [
    {
     "name": "stdout",
     "output_type": "stream",
     "text": [
      "Hello World!TEST\n"
     ]
    }
   ],
   "source": [
    "print(str+\"TEST\") #输出连接的字符串"
   ]
  },
  {
   "cell_type": "code",
   "execution_count": 13,
   "metadata": {},
   "outputs": [
    {
     "name": "stdout",
     "output_type": "stream",
     "text": [
      "['name', 147, 2.58, 'jake', 45.3]\n",
      "name\n",
      "[147, 2.58]\n",
      "[2.58, 'jake', 45.3]\n",
      "[123, 'lisi', 123, 'lisi']\n",
      "['name', 147, 2.58, 'jake', 45.3, 123, 'lisi']\n"
     ]
    }
   ],
   "source": [
    "#3.3\n",
    "list=['name',147,2.58,'jake',45.3]\n",
    "lists=[123,'lisi']\n",
    "print(list) #输出完整列表\n",
    "print(list[0]) #输出列表的第一个元素\n",
    "print(list[1:3]) #输出第二个至第三个的元素\n",
    "print(list[2:]) #输出从第三个开始至列表末尾的所有元素\n",
    "print(lists*2) #输出列表两次\n",
    "print(list+lists) #打印组合的列表"
   ]
  },
  {
   "cell_type": "code",
   "execution_count": 14,
   "metadata": {},
   "outputs": [
    {
     "name": "stdout",
     "output_type": "stream",
     "text": [
      "('name', 147, 2.58, 'jake', 45.3)\n",
      "name\n",
      "(147, 2.58)\n",
      "(2.58, 'jake', 45.3)\n",
      "(123, 'lisi', 123, 'lisi')\n",
      "('name', 147, 2.58, 'jake', 45.3, 123, 'lisi')\n"
     ]
    }
   ],
   "source": [
    "#3.4\n",
    "tuple=('name',147,2.58,'jake',45.3)\n",
    "tuples=(123,'lisi')\n",
    "print(tuple) #输出完整元组\n",
    "print(tuple[0]) #输出元组的第一个元素\n",
    "print(tuple[1:3]) #输出第二个至第三个的元素\n",
    "print(tuple[2:]) #输出从第三个开始至列表末尾的所有元素\n",
    "print(tuples*2) #输出元组两次\n",
    "print(tuple+tuples) #打印组合的元组"
   ]
  },
  {
   "cell_type": "code",
   "execution_count": 15,
   "metadata": {},
   "outputs": [
    {
     "name": "stdout",
     "output_type": "stream",
     "text": [
      "This is one\n",
      "This is two\n",
      "{'name': 'lisi', 'code': 6732, 'dept': 'sales'}\n",
      "dict_keys(['name', 'code', 'dept'])\n"
     ]
    }
   ],
   "source": [
    "#3.5\n",
    "dict={}\n",
    "dict['one']=\"This is one\"\n",
    "dict[2]=\"This is two\"\n",
    "dicts={'name':'lisi','code':6732,'dept':'sales'}\n",
    "print(dict['one']) #输出键为'one'的值\n",
    "print(dict[2]) #输出键为2的值\n",
    "print(dicts) #输出完整的字典\n",
    "print(dicts.keys()) #输出所有键"
   ]
  },
  {
   "cell_type": "code",
   "execution_count": 17,
   "metadata": {},
   "outputs": [],
   "source": [
    "#2.1定义函数\n",
    "def printme(str):\n",
    "    \"打印传入的字符串到标准显示设备上\"\n",
    "    print(str)\n",
    "    return"
   ]
  },
  {
   "cell_type": "code",
   "execution_count": 19,
   "metadata": {},
   "outputs": [
    {
     "name": "stdout",
     "output_type": "stream",
     "text": [
      "用用户自定义函数！\n"
     ]
    }
   ],
   "source": [
    "#调用函数\n",
    "printme(\"用用户自定义函数！\")"
   ]
  },
  {
   "cell_type": "code",
   "execution_count": 20,
   "metadata": {},
   "outputs": [
    {
     "name": "stdout",
     "output_type": "stream",
     "text": [
      "再次调用同一函数\n"
     ]
    }
   ],
   "source": [
    "printme(\"再次调用同一函数\");"
   ]
  },
  {
   "cell_type": "code",
   "execution_count": 21,
   "metadata": {},
   "outputs": [],
   "source": [
    "#2.3\n",
    "#传入参数\n",
    "#定义一个名为foo的函数，传入参数x\n",
    "def foo(x):\n",
    "    return x**2 #为x执行平方运算，返回所得的值"
   ]
  },
  {
   "cell_type": "code",
   "execution_count": 22,
   "metadata": {},
   "outputs": [
    {
     "data": {
      "text/plain": [
       "64.0"
      ]
     },
     "execution_count": 22,
     "metadata": {},
     "output_type": "execute_result"
    }
   ],
   "source": [
    "#调用函数foo，传入参数8.0，观测输出，结果为64.0\n",
    "foo(8.0)"
   ]
  },
  {
   "cell_type": "code",
   "execution_count": 25,
   "metadata": {},
   "outputs": [],
   "source": [
    "#2.4\n",
    "total=0; #这是一个全局变量\n",
    "#定义函数sum\n",
    "def sum(arg1,arg2):\n",
    "    #返回2个参数的和\n",
    "    total=arg1+arg2; #total在这里是局部变量\n",
    "    print(\"函数内是局部变量：\",total)\n",
    "    return total;"
   ]
  },
  {
   "cell_type": "code",
   "execution_count": 26,
   "metadata": {},
   "outputs": [
    {
     "name": "stdout",
     "output_type": "stream",
     "text": [
      "函数内是局部变量： 30\n",
      "函数外是全局变量： 0\n"
     ]
    }
   ],
   "source": [
    "#调用函数sum\n",
    "sum(10,20);\n",
    "print(\"函数外是全局变量：\",total)"
   ]
  },
  {
   "cell_type": "code",
   "execution_count": 28,
   "metadata": {},
   "outputs": [
    {
     "name": "stdout",
     "output_type": "stream",
     "text": [
      "相加后的值为： 120\n",
      "相加后的值为： 30\n"
     ]
    }
   ],
   "source": [
    "#2.5\n",
    "#定义匿名函数sum\n",
    "sum=lambda arg1,arg2: arg1+arg2;\n",
    "#调用sum函数\n",
    "print(\"相加后的值为：\",sum(40,80))\n",
    "print(\"相加后的值为：\",sum(10,20))"
   ]
  },
  {
   "cell_type": "code",
   "execution_count": 33,
   "metadata": {},
   "outputs": [],
   "source": [
    "#2.6\n",
    "#定义函数pringinfo\n",
    "def printinfo(arg1,*vartuple):\n",
    "    \"打印任何传入的参数\"\n",
    "    print(\"输出：\")\n",
    "    print(arg1)\n",
    "    for var in vartuple:\n",
    "        print(var)\n",
    "    return;"
   ]
  },
  {
   "cell_type": "code",
   "execution_count": 34,
   "metadata": {},
   "outputs": [
    {
     "name": "stdout",
     "output_type": "stream",
     "text": [
      "输出：\n",
      "10\n",
      "输出：\n",
      "70\n",
      "60\n",
      "50\n"
     ]
    }
   ],
   "source": [
    "#调用printinfo的值\n",
    "printinfo(10);\n",
    "printinfo(70,60,50);"
   ]
  },
  {
   "cell_type": "code",
   "execution_count": 32,
   "metadata": {},
   "outputs": [],
   "source": [
    "#2.1\n",
    "a=20\n",
    "b=10\n",
    "c=0"
   ]
  },
  {
   "cell_type": "code",
   "execution_count": 35,
   "metadata": {},
   "outputs": [
    {
     "name": "stdout",
     "output_type": "stream",
     "text": [
      "30\n"
     ]
    }
   ],
   "source": [
    "c=a+b\n",
    "print(c) #加法求c"
   ]
  },
  {
   "cell_type": "code",
   "execution_count": 36,
   "metadata": {},
   "outputs": [
    {
     "name": "stdout",
     "output_type": "stream",
     "text": [
      "10\n"
     ]
    }
   ],
   "source": [
    "c=a-b\n",
    "print(c) #减法求c"
   ]
  },
  {
   "cell_type": "code",
   "execution_count": 37,
   "metadata": {},
   "outputs": [
    {
     "name": "stdout",
     "output_type": "stream",
     "text": [
      "200\n"
     ]
    }
   ],
   "source": [
    "c=a*b\n",
    "print(c) #乘法求c"
   ]
  },
  {
   "cell_type": "code",
   "execution_count": 38,
   "metadata": {},
   "outputs": [
    {
     "name": "stdout",
     "output_type": "stream",
     "text": [
      "2.0\n"
     ]
    }
   ],
   "source": [
    "c=a/b\n",
    "print(c) #除法求c"
   ]
  },
  {
   "cell_type": "code",
   "execution_count": 39,
   "metadata": {},
   "outputs": [
    {
     "name": "stdout",
     "output_type": "stream",
     "text": [
      "0\n"
     ]
    }
   ],
   "source": [
    "c=a%b\n",
    "print(c) #取模求c"
   ]
  },
  {
   "cell_type": "code",
   "execution_count": 40,
   "metadata": {},
   "outputs": [
    {
     "name": "stdout",
     "output_type": "stream",
     "text": [
      "10240000000000\n"
     ]
    }
   ],
   "source": [
    "c=a**b\n",
    "print(c) #幂求c"
   ]
  },
  {
   "cell_type": "code",
   "execution_count": 41,
   "metadata": {},
   "outputs": [
    {
     "name": "stdout",
     "output_type": "stream",
     "text": [
      "2\n"
     ]
    }
   ],
   "source": [
    "c=a//b\n",
    "print(c) #取整除求c"
   ]
  },
  {
   "cell_type": "code",
   "execution_count": 44,
   "metadata": {},
   "outputs": [
    {
     "data": {
      "text/plain": [
       "False"
      ]
     },
     "execution_count": 44,
     "metadata": {},
     "output_type": "execute_result"
    }
   ],
   "source": [
    "#2.2\n",
    "a=20\n",
    "b=10\n",
    "c=0\n",
    "a==b #等于\n"
   ]
  },
  {
   "cell_type": "code",
   "execution_count": 45,
   "metadata": {},
   "outputs": [
    {
     "data": {
      "text/plain": [
       "True"
      ]
     },
     "execution_count": 45,
     "metadata": {},
     "output_type": "execute_result"
    }
   ],
   "source": [
    "a!=b #不等于"
   ]
  },
  {
   "cell_type": "code",
   "execution_count": 49,
   "metadata": {},
   "outputs": [
    {
     "data": {
      "text/plain": [
       "True"
      ]
     },
     "execution_count": 49,
     "metadata": {},
     "output_type": "execute_result"
    }
   ],
   "source": [
    "a>b #大于"
   ]
  },
  {
   "cell_type": "code",
   "execution_count": 50,
   "metadata": {},
   "outputs": [
    {
     "data": {
      "text/plain": [
       "False"
      ]
     },
     "execution_count": 50,
     "metadata": {},
     "output_type": "execute_result"
    }
   ],
   "source": [
    "a<b #小于"
   ]
  },
  {
   "cell_type": "code",
   "execution_count": 51,
   "metadata": {},
   "outputs": [
    {
     "data": {
      "text/plain": [
       "True"
      ]
     },
     "execution_count": 51,
     "metadata": {},
     "output_type": "execute_result"
    }
   ],
   "source": [
    "a>=b #大于等于"
   ]
  },
  {
   "cell_type": "code",
   "execution_count": 52,
   "metadata": {},
   "outputs": [
    {
     "data": {
      "text/plain": [
       "False"
      ]
     },
     "execution_count": 52,
     "metadata": {},
     "output_type": "execute_result"
    }
   ],
   "source": [
    "a<=b #小于等于"
   ]
  },
  {
   "cell_type": "code",
   "execution_count": 53,
   "metadata": {},
   "outputs": [
    {
     "name": "stdout",
     "output_type": "stream",
     "text": [
      "30\n",
      "50\n",
      "30\n",
      "600\n",
      "30.0\n",
      "10.0\n",
      "1e+20\n",
      "1e+20\n",
      "5e+18\n"
     ]
    }
   ],
   "source": [
    "#2.3\n",
    "a=20\n",
    "b=10\n",
    "c=0\n",
    "c=a+b #简单赋值运算符\n",
    "print(c)\n",
    "c+=a #加法赋值运算符\n",
    "print(c)\n",
    "c-=a #减法赋值运算符\n",
    "print(c)\n",
    "c*=a #乘法赋值运算符\n",
    "print(c)\n",
    "c/=a #除法赋值运算符\n",
    "print(c)\n",
    "c%=a #取模赋值运算符\n",
    "print(c)\n",
    "c**=a #幂赋值运算符\n",
    "print(c)\n",
    "c//a #取整除赋值运算符\n",
    "print(c)\n",
    "c//=a #取整除赋值运算符\n",
    "print(c)"
   ]
  },
  {
   "cell_type": "code",
   "execution_count": 54,
   "metadata": {},
   "outputs": [
    {
     "name": "stdout",
     "output_type": "stream",
     "text": [
      "1\n",
      "29\n",
      "28\n",
      "-22\n",
      "84\n",
      "5\n"
     ]
    }
   ],
   "source": [
    "#2.4\n",
    "a=21\n",
    "b=9\n",
    "c=0\n",
    "c=a&b #按位与运算符\n",
    "print(c)\n",
    "c=a|b #按位或运算符\n",
    "print(c)\n",
    "c=a^b #按位异或运算符\n",
    "print(c)\n",
    "c=~a #按位取反运算符\n",
    "print(c)\n",
    "c=a<<2 #左移动运算符\n",
    "print(c)\n",
    "c=a>>2 #右移动运算符\n",
    "print(c)"
   ]
  },
  {
   "cell_type": "code",
   "execution_count": 2,
   "metadata": {},
   "outputs": [
    {
     "data": {
      "text/plain": [
       "True"
      ]
     },
     "execution_count": 2,
     "metadata": {},
     "output_type": "execute_result"
    }
   ],
   "source": [
    "#2.5\n",
    "a=20\n",
    "b=10\n",
    "a>0 and b>0 #and运算符只有二者都是true，返回值才是Ttrue"
   ]
  },
  {
   "cell_type": "code",
   "execution_count": 3,
   "metadata": {},
   "outputs": [
    {
     "data": {
      "text/plain": [
       "True"
      ]
     },
     "execution_count": 3,
     "metadata": {},
     "output_type": "execute_result"
    }
   ],
   "source": [
    "a>0 or b>0 #or运算符只要二者其中一方为true，返回值就是true"
   ]
  },
  {
   "cell_type": "code",
   "execution_count": 4,
   "metadata": {},
   "outputs": [
    {
     "data": {
      "text/plain": [
       "False"
      ]
     },
     "execution_count": 4,
     "metadata": {},
     "output_type": "execute_result"
    }
   ],
   "source": [
    "not a>0 #not运算符直接反转布尔值"
   ]
  },
  {
   "cell_type": "code",
   "execution_count": 6,
   "metadata": {},
   "outputs": [
    {
     "data": {
      "text/plain": [
       "False"
      ]
     },
     "execution_count": 6,
     "metadata": {},
     "output_type": "execute_result"
    }
   ],
   "source": [
    "2.6\n",
    "a=20\n",
    "b=10\n",
    "list=[1,2,3,4,5]\n",
    "list1=(10,20,30,40,50)\n",
    "list2={5,10,15,20,25}\n",
    "a in list"
   ]
  },
  {
   "cell_type": "code",
   "execution_count": 7,
   "metadata": {},
   "outputs": [
    {
     "data": {
      "text/plain": [
       "False"
      ]
     },
     "execution_count": 7,
     "metadata": {},
     "output_type": "execute_result"
    }
   ],
   "source": [
    "b not in list1"
   ]
  },
  {
   "cell_type": "code",
   "execution_count": 8,
   "metadata": {},
   "outputs": [
    {
     "data": {
      "text/plain": [
       "True"
      ]
     },
     "execution_count": 8,
     "metadata": {},
     "output_type": "execute_result"
    }
   ],
   "source": [
    "b in list2"
   ]
  },
  {
   "cell_type": "code",
   "execution_count": 9,
   "metadata": {},
   "outputs": [],
   "source": [
    "#2.7\n",
    "a=20"
   ]
  },
  {
   "cell_type": "code",
   "execution_count": 10,
   "metadata": {},
   "outputs": [],
   "source": [
    "b=10"
   ]
  },
  {
   "cell_type": "code",
   "execution_count": 11,
   "metadata": {},
   "outputs": [
    {
     "data": {
      "text/plain": [
       "False"
      ]
     },
     "execution_count": 11,
     "metadata": {},
     "output_type": "execute_result"
    }
   ],
   "source": [
    "a is b"
   ]
  },
  {
   "cell_type": "code",
   "execution_count": 12,
   "metadata": {},
   "outputs": [
    {
     "data": {
      "text/plain": [
       "True"
      ]
     },
     "execution_count": 12,
     "metadata": {},
     "output_type": "execute_result"
    }
   ],
   "source": [
    "a is not b"
   ]
  },
  {
   "cell_type": "code",
   "execution_count": 13,
   "metadata": {},
   "outputs": [],
   "source": [
    "#实验四"
   ]
  },
  {
   "cell_type": "code",
   "execution_count": 14,
   "metadata": {},
   "outputs": [
    {
     "name": "stdout",
     "output_type": "stream",
     "text": [
      "zhangsan\n"
     ]
    }
   ],
   "source": [
    "#2.1\n",
    "wgc=False\n",
    "name='zhangsan'\n",
    "if name=='python':\n",
    "    wgc=True\n",
    "    print('welcome')\n",
    "else:\n",
    "    print(name)"
   ]
  },
  {
   "cell_type": "code",
   "execution_count": 15,
   "metadata": {},
   "outputs": [
    {
     "name": "stdout",
     "output_type": "stream",
     "text": [
      "roadman\n"
     ]
    }
   ],
   "source": [
    "#2.2\n",
    "num=5\n",
    "if num==3:\n",
    "    print('boss')\n",
    "elif num==2:\n",
    "    print('user')\n",
    "elif num==1:\n",
    "    print('worker')\n",
    "elif num<0:\n",
    "    print('error')\n",
    "else:\n",
    "    print('roadman')"
   ]
  },
  {
   "cell_type": "code",
   "execution_count": 16,
   "metadata": {},
   "outputs": [
    {
     "name": "stdout",
     "output_type": "stream",
     "text": [
      "hello\n"
     ]
    }
   ],
   "source": [
    "#2.3\n",
    "num=9\n",
    "if num>=0 and num<=10:\n",
    "    print('hello')"
   ]
  },
  {
   "cell_type": "code",
   "execution_count": 17,
   "metadata": {},
   "outputs": [
    {
     "name": "stdout",
     "output_type": "stream",
     "text": [
      "underfine\n"
     ]
    }
   ],
   "source": [
    "num=10\n",
    "if num<0 or num>10:\n",
    "    print('hello')\n",
    "else:\n",
    "    print('underfine')"
   ]
  },
  {
   "cell_type": "code",
   "execution_count": 18,
   "metadata": {},
   "outputs": [
    {
     "name": "stdout",
     "output_type": "stream",
     "text": [
      "underfine\n"
     ]
    }
   ],
   "source": [
    "num=8\n",
    "if(num>=0 and num<=5) or (num>=10 and num<=15):\n",
    "    print('hello')\n",
    "else:\n",
    "    print('underfine')"
   ]
  },
  {
   "cell_type": "code",
   "execution_count": 19,
   "metadata": {},
   "outputs": [
    {
     "name": "stdout",
     "output_type": "stream",
     "text": [
      "当前字母: p\n",
      "当前字母: y\n",
      "当前字母: t\n",
      "当前字母: h\n",
      "当前字母: o\n",
      "当前字母: n\n"
     ]
    }
   ],
   "source": [
    "#2.4\n",
    "for letter in 'python':\n",
    "    print('当前字母:',letter)"
   ]
  },
  {
   "cell_type": "code",
   "execution_count": 20,
   "metadata": {},
   "outputs": [
    {
     "name": "stdout",
     "output_type": "stream",
     "text": [
      "当前字母： banana\n",
      "当前字母： apple\n",
      "当前字母： mango\n"
     ]
    }
   ],
   "source": [
    "fruits=['banana','apple','mango']\n",
    "for fruit in fruits:\n",
    "    print('当前字母：',fruit)"
   ]
  },
  {
   "cell_type": "code",
   "execution_count": 22,
   "metadata": {},
   "outputs": [
    {
     "name": "stdout",
     "output_type": "stream",
     "text": [
      "当前水果： m\n",
      "当前水果： a\n",
      "当前水果： n\n"
     ]
    }
   ],
   "source": [
    "#2.5\n",
    "fruits=['banana','apple','mango']\n",
    "for index in range(len(fruits)):\n",
    "    print('当前水果：',fruit[index])"
   ]
  },
  {
   "cell_type": "code",
   "execution_count": 23,
   "metadata": {},
   "outputs": [
    {
     "name": "stdout",
     "output_type": "stream",
     "text": [
      "10等于2 * 5\n",
      "12等于2 * 6\n",
      "14等于2 * 7\n",
      "15等于3 * 5\n",
      "16等于2 * 8\n",
      "18等于2 * 9\n"
     ]
    }
   ],
   "source": [
    "#2.6\n",
    "for num in range(10,20):\n",
    "    for i in range(2,num):\n",
    "        if num%i ==0:\n",
    "            j=num/i\n",
    "            print('%d等于%d * %d'%(num,i,j))\n",
    "            break\n",
    "            print(num,'是一个质数')"
   ]
  },
  {
   "cell_type": "code",
   "execution_count": null,
   "metadata": {},
   "outputs": [],
   "source": []
  }
 ],
 "metadata": {
  "kernelspec": {
   "display_name": "Python 3",
   "language": "python",
   "name": "python3"
  },
  "language_info": {
   "codemirror_mode": {
    "name": "ipython",
    "version": 3
   },
   "file_extension": ".py",
   "mimetype": "text/x-python",
   "name": "python",
   "nbconvert_exporter": "python",
   "pygments_lexer": "ipython3",
   "version": "3.7.6"
  }
 },
 "nbformat": 4,
 "nbformat_minor": 2
}

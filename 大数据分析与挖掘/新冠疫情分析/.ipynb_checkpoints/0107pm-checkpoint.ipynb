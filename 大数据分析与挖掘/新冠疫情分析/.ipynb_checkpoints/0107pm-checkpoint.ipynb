{
 "cells": [
  {
   "cell_type": "markdown",
   "metadata": {},
   "source": [
    "# 全国数据"
   ]
  },
  {
   "cell_type": "code",
   "execution_count": 1,
   "metadata": {},
   "outputs": [],
   "source": [
    "#全国数据\n",
    "import requests\n",
    "import json\n",
    "import pandas as pd\n",
    "import datetime\n",
    "url = 'https://api.inews.qq.com/newsqa/v1/query/inner/publish/modules/list?modules=chinaDayList'\n",
    "\n",
    "r = requests.get(url)\n",
    "content = json.loads(r.text)\n",
    "\n",
    "data = pd.DataFrame(columns=['date','healRate', 'noInfect', 'suspect', 'dead', 'nowSevere', 'deadRate', 'confirm', 'heal','nowConfirm','importedCase'])\n",
    "for i in range(len(content['data']['chinaDayList'])):\n",
    "    data.loc[i + 1] = [round(float(content['data']['chinaDayList'][i]['date']),2),#日期\n",
    "                       content['data']['chinaDayList'][i]['healRate'],#治愈率\n",
    "                       content['data']['chinaDayList'][i]['noInfect'],#无症状\n",
    "                       content['data']['chinaDayList'][i]['suspect'],#疑似\n",
    "                       content['data']['chinaDayList'][i]['dead'],#死亡人数\n",
    "                       content['data']['chinaDayList'][i]['nowSevere'],#新增\n",
    "                       content['data']['chinaDayList'][i]['deadRate'],#死亡率\n",
    "                       content['data']['chinaDayList'][i]['confirm'],#确诊\n",
    "                       content['data']['chinaDayList'][i]['heal'],#治愈\n",
    "                       content['data']['chinaDayList'][i]['nowConfirm'],#现有确诊\n",
    "                       content['data']['chinaDayList'][i]['importedCase']]#输入病例\n",
    "data.to_csv('china_rizeng.csv', index=0,encoding='utf_8_sig')#保存文件时不要手动打开文件，否则回报Permission denied: 'data_china.csv'错误\n"
   ]
  },
  {
   "cell_type": "markdown",
   "metadata": {},
   "source": [
    "# 意大利"
   ]
  },
  {
   "cell_type": "code",
   "execution_count": 2,
   "metadata": {},
   "outputs": [],
   "source": [
    "import requests\n",
    "import json\n",
    "import pandas as pd\n",
    "import datetime\n",
    "#url = 'https://api.inews.qq.com/newsqa/v1/query/inner/publish/modules/list?modules=chinaDayList'\n",
    "url ='https://api.inews.qq.com/newsqa/v1/automation/foreign/daily/list?country=%E6%84%8F%E5%A4%A7%E5%88%A9&'\n",
    "r = requests.get(url)\n",
    "content = json.loads(r.text)\n",
    "\n",
    "data = pd.DataFrame(columns=['date','confirm_add', 'confirm', 'heal', 'dead'])\n",
    "for i in range(len(content['data'])):\n",
    "    data.loc[i + 1] = [round(float(content['data'][i]['date']),2),#日期\n",
    "                       content['data'][i]['confirm_add'],#新增\n",
    "                       content['data'][i]['confirm'],#确诊\n",
    "                       content['data'][i]['heal'],#治愈\n",
    "                       content['data'][i]['dead']]#siwang病例\n",
    "data.to_csv('Italy.csv', index=0,encoding='utf_8_sig')#保存文件时不要手动打开文件，否则回报Permission denied: 'data_china.csv'错误"
   ]
  },
  {
   "cell_type": "code",
   "execution_count": null,
   "metadata": {},
   "outputs": [],
   "source": []
  }
 ],
 "metadata": {
  "kernelspec": {
   "display_name": "Python 3",
   "language": "python",
   "name": "python3"
  },
  "language_info": {
   "codemirror_mode": {
    "name": "ipython",
    "version": 3
   },
   "file_extension": ".py",
   "mimetype": "text/x-python",
   "name": "python",
   "nbconvert_exporter": "python",
   "pygments_lexer": "ipython3",
   "version": "3.7.6"
  }
 },
 "nbformat": 4,
 "nbformat_minor": 2
}

{
 "cells": [
  {
   "cell_type": "markdown",
   "metadata": {},
   "source": [
    "# 数据采集"
   ]
  },
  {
   "cell_type": "code",
   "execution_count": 1,
   "metadata": {},
   "outputs": [
    {
     "name": "stdout",
     "output_type": "stream",
     "text": [
      "200\n",
      "<class 'str'>\n",
      "375807\n"
     ]
    }
   ],
   "source": [
    "#首先导入使用的包，使用request进行网页请求，使用pandas保存数据\n",
    "import requests\n",
    "import pandas as pd\n",
    "import time \n",
    "pd.set_option('max_rows',500)\n",
    "#设置请求头，伪装为浏览器\n",
    "headers = {\n",
    "    'user-agent': 'Mozilla/5.0 (Windows NT 6.1; Win64; x64) AppleWebKit/537.36 (KHTML, like Gecko) Chrome/80.0.3987.149 Safari/537.36'\n",
    "}\n",
    "#发起请求，将找到的第一个数据源作为请求目标\n",
    "url = 'https://c.m.163.com/ug/api/wuhan/app/data/list-total'   # 定义要访问的地址\n",
    "r = requests.get(url, headers=headers)  # 使用requests发起请求\n",
    "\n",
    "print(r.status_code)  # 查看请求状态\n",
    "print(type(r.text))\n",
    "print(len(r.text))"
   ]
  },
  {
   "cell_type": "code",
   "execution_count": 2,
   "metadata": {},
   "outputs": [
    {
     "data": {
      "text/plain": [
       "dict_keys(['reqId', 'code', 'msg', 'data', 'timestamp'])"
      ]
     },
     "execution_count": 2,
     "metadata": {},
     "output_type": "execute_result"
    }
   ],
   "source": [
    "#可以看到返回后的内容是一个几十万长度的字符串，\n",
    "#由于字符串格式不方便进行分析，并且在网页预览中发现数据为类似字典的json格式，\n",
    "#所以我们将其转为json格式\n",
    "import json\n",
    "data_json = json.loads(r.text)\n",
    "data_json.keys()"
   ]
  },
  {
   "cell_type": "code",
   "execution_count": 3,
   "metadata": {},
   "outputs": [
    {
     "data": {
      "text/plain": [
       "dict_keys(['chinaTotal', 'chinaDayList', 'lastUpdateTime', 'overseaLastUpdateTime', 'areaTree'])"
      ]
     },
     "execution_count": 3,
     "metadata": {},
     "output_type": "execute_result"
    }
   ],
   "source": [
    "data = data_json['data'] # 取出json中的数据\n",
    "data.keys()"
   ]
  },
  {
   "cell_type": "markdown",
   "metadata": {},
   "source": [
    "# 实时数据爬取"
   ]
  },
  {
   "cell_type": "markdown",
   "metadata": {},
   "source": [
    "# 全国各省实时数据爬取"
   ]
  },
  {
   "cell_type": "code",
   "execution_count": 4,
   "metadata": {},
   "outputs": [
    {
     "data": {
      "text/plain": [
       "list"
      ]
     },
     "execution_count": 4,
     "metadata": {},
     "output_type": "execute_result"
    }
   ],
   "source": [
    "data_province = data['areaTree'][2]['children']  # 取出中国各省的实时数据\n",
    "\n",
    "type(data_province)"
   ]
  },
  {
   "cell_type": "code",
   "execution_count": 5,
   "metadata": {},
   "outputs": [
    {
     "data": {
      "text/plain": [
       "dict_keys(['today', 'total', 'extData', 'name', 'id', 'lastUpdateTime', 'children'])"
      ]
     },
     "execution_count": 5,
     "metadata": {},
     "output_type": "execute_result"
    }
   ],
   "source": [
    "data_province[0].keys() # 查看每个省键名称"
   ]
  },
  {
   "cell_type": "code",
   "execution_count": 6,
   "metadata": {},
   "outputs": [
    {
     "name": "stdout",
     "output_type": "stream",
     "text": [
      "湖北 2021-01-07 08:22:59\n",
      "香港 2021-01-07 17:13:41\n",
      "广东 2021-01-07 08:37:57\n",
      "上海 2021-01-07 15:48:25\n",
      "浙江 2021-01-07 08:22:58\n",
      "河南 2021-01-07 08:22:58\n",
      "湖南 2021-01-07 08:22:59\n",
      "北京 2021-01-07 08:22:58\n",
      "安徽 2021-01-07 08:22:58\n",
      "新疆 2021-01-07 08:22:58\n",
      "黑龙江 2021-01-07 15:48:25\n"
     ]
    }
   ],
   "source": [
    "for i in range(len(data_province)): # 遍历查看各省名称、更新时间\n",
    "    print(data_province[i]['name'],data_province[i]['lastUpdateTime'])\n",
    "    if i == 10:\n",
    "        break"
   ]
  },
  {
   "cell_type": "code",
   "execution_count": 7,
   "metadata": {},
   "outputs": [
    {
     "data": {
      "text/html": [
       "<div>\n",
       "<style scoped>\n",
       "    .dataframe tbody tr th:only-of-type {\n",
       "        vertical-align: middle;\n",
       "    }\n",
       "\n",
       "    .dataframe tbody tr th {\n",
       "        vertical-align: top;\n",
       "    }\n",
       "\n",
       "    .dataframe thead th {\n",
       "        text-align: right;\n",
       "    }\n",
       "</style>\n",
       "<table border=\"1\" class=\"dataframe\">\n",
       "  <thead>\n",
       "    <tr style=\"text-align: right;\">\n",
       "      <th></th>\n",
       "      <th>a</th>\n",
       "      <th>b</th>\n",
       "      <th>c</th>\n",
       "    </tr>\n",
       "  </thead>\n",
       "  <tbody>\n",
       "    <tr>\n",
       "      <th>0</th>\n",
       "      <td>1</td>\n",
       "      <td>2</td>\n",
       "      <td>3.0</td>\n",
       "    </tr>\n",
       "    <tr>\n",
       "      <th>1</th>\n",
       "      <td>111</td>\n",
       "      <td>222</td>\n",
       "      <td>NaN</td>\n",
       "    </tr>\n",
       "  </tbody>\n",
       "</table>\n",
       "</div>"
      ],
      "text/plain": [
       "     a    b    c\n",
       "0    1    2  3.0\n",
       "1  111  222  NaN"
      ]
     },
     "execution_count": 7,
     "metadata": {},
     "output_type": "execute_result"
    }
   ],
   "source": [
    "test_dict = [{'a':1,\n",
    "              'b':2,\n",
    "              'c':3,},\n",
    "             \n",
    "             {'a':111,\n",
    "              'b':222}]\n",
    "pd.DataFrame(test_dict)"
   ]
  },
  {
   "cell_type": "code",
   "execution_count": 8,
   "metadata": {},
   "outputs": [
    {
     "data": {
      "text/html": [
       "<div>\n",
       "<style scoped>\n",
       "    .dataframe tbody tr th:only-of-type {\n",
       "        vertical-align: middle;\n",
       "    }\n",
       "\n",
       "    .dataframe tbody tr th {\n",
       "        vertical-align: top;\n",
       "    }\n",
       "\n",
       "    .dataframe thead th {\n",
       "        text-align: right;\n",
       "    }\n",
       "</style>\n",
       "<table border=\"1\" class=\"dataframe\">\n",
       "  <thead>\n",
       "    <tr style=\"text-align: right;\">\n",
       "      <th></th>\n",
       "      <th>today</th>\n",
       "      <th>total</th>\n",
       "      <th>extData</th>\n",
       "      <th>name</th>\n",
       "      <th>id</th>\n",
       "      <th>lastUpdateTime</th>\n",
       "      <th>children</th>\n",
       "    </tr>\n",
       "  </thead>\n",
       "  <tbody>\n",
       "    <tr>\n",
       "      <th>0</th>\n",
       "      <td>{'confirm': 0, 'suspect': None, 'heal': 0, 'de...</td>\n",
       "      <td>{'confirm': 68149, 'suspect': 0, 'heal': 63637...</td>\n",
       "      <td>{}</td>\n",
       "      <td>湖北</td>\n",
       "      <td>420000</td>\n",
       "      <td>2021-01-07 08:22:59</td>\n",
       "      <td>[{'today': {'confirm': 0, 'suspect': None, 'he...</td>\n",
       "    </tr>\n",
       "    <tr>\n",
       "      <th>1</th>\n",
       "      <td>{'confirm': 25, 'suspect': None, 'heal': 131, ...</td>\n",
       "      <td>{'confirm': 9107, 'suspect': 0, 'heal': 8258, ...</td>\n",
       "      <td>{}</td>\n",
       "      <td>香港</td>\n",
       "      <td>810000</td>\n",
       "      <td>2021-01-07 17:13:41</td>\n",
       "      <td>[{'today': {'confirm': 25, 'suspect': None, 'h...</td>\n",
       "    </tr>\n",
       "    <tr>\n",
       "      <th>2</th>\n",
       "      <td>{'confirm': 2, 'suspect': None, 'heal': 3, 'de...</td>\n",
       "      <td>{'confirm': 2062, 'suspect': 0, 'heal': 2018, ...</td>\n",
       "      <td>{}</td>\n",
       "      <td>广东</td>\n",
       "      <td>440000</td>\n",
       "      <td>2021-01-07 08:37:57</td>\n",
       "      <td>[{'today': {'confirm': 2, 'suspect': None, 'he...</td>\n",
       "    </tr>\n",
       "    <tr>\n",
       "      <th>3</th>\n",
       "      <td>{'confirm': 5, 'suspect': None, 'heal': 5, 'de...</td>\n",
       "      <td>{'confirm': 1543, 'suspect': 0, 'heal': 1442, ...</td>\n",
       "      <td>{}</td>\n",
       "      <td>上海</td>\n",
       "      <td>310000</td>\n",
       "      <td>2021-01-07 15:48:25</td>\n",
       "      <td>[{'today': {'confirm': 5, 'suspect': None, 'he...</td>\n",
       "    </tr>\n",
       "    <tr>\n",
       "      <th>4</th>\n",
       "      <td>{'confirm': 0, 'suspect': None, 'heal': 0, 'de...</td>\n",
       "      <td>{'confirm': 1306, 'suspect': 0, 'heal': 1293, ...</td>\n",
       "      <td>{}</td>\n",
       "      <td>浙江</td>\n",
       "      <td>330000</td>\n",
       "      <td>2021-01-07 08:22:58</td>\n",
       "      <td>[{'today': {'confirm': 0, 'suspect': None, 'he...</td>\n",
       "    </tr>\n",
       "  </tbody>\n",
       "</table>\n",
       "</div>"
      ],
      "text/plain": [
       "                                               today  \\\n",
       "0  {'confirm': 0, 'suspect': None, 'heal': 0, 'de...   \n",
       "1  {'confirm': 25, 'suspect': None, 'heal': 131, ...   \n",
       "2  {'confirm': 2, 'suspect': None, 'heal': 3, 'de...   \n",
       "3  {'confirm': 5, 'suspect': None, 'heal': 5, 'de...   \n",
       "4  {'confirm': 0, 'suspect': None, 'heal': 0, 'de...   \n",
       "\n",
       "                                               total extData name      id  \\\n",
       "0  {'confirm': 68149, 'suspect': 0, 'heal': 63637...      {}   湖北  420000   \n",
       "1  {'confirm': 9107, 'suspect': 0, 'heal': 8258, ...      {}   香港  810000   \n",
       "2  {'confirm': 2062, 'suspect': 0, 'heal': 2018, ...      {}   广东  440000   \n",
       "3  {'confirm': 1543, 'suspect': 0, 'heal': 1442, ...      {}   上海  310000   \n",
       "4  {'confirm': 1306, 'suspect': 0, 'heal': 1293, ...      {}   浙江  330000   \n",
       "\n",
       "        lastUpdateTime                                           children  \n",
       "0  2021-01-07 08:22:59  [{'today': {'confirm': 0, 'suspect': None, 'he...  \n",
       "1  2021-01-07 17:13:41  [{'today': {'confirm': 25, 'suspect': None, 'h...  \n",
       "2  2021-01-07 08:37:57  [{'today': {'confirm': 2, 'suspect': None, 'he...  \n",
       "3  2021-01-07 15:48:25  [{'today': {'confirm': 5, 'suspect': None, 'he...  \n",
       "4  2021-01-07 08:22:58  [{'today': {'confirm': 0, 'suspect': None, 'he...  "
      ]
     },
     "execution_count": 8,
     "metadata": {},
     "output_type": "execute_result"
    }
   ],
   "source": [
    "pd.DataFrame(data_province).head() # 直接生成数据效果并不理想"
   ]
  },
  {
   "cell_type": "code",
   "execution_count": 9,
   "metadata": {},
   "outputs": [
    {
     "data": {
      "text/html": [
       "<div>\n",
       "<style scoped>\n",
       "    .dataframe tbody tr th:only-of-type {\n",
       "        vertical-align: middle;\n",
       "    }\n",
       "\n",
       "    .dataframe tbody tr th {\n",
       "        vertical-align: top;\n",
       "    }\n",
       "\n",
       "    .dataframe thead th {\n",
       "        text-align: right;\n",
       "    }\n",
       "</style>\n",
       "<table border=\"1\" class=\"dataframe\">\n",
       "  <thead>\n",
       "    <tr style=\"text-align: right;\">\n",
       "      <th></th>\n",
       "      <th>id</th>\n",
       "      <th>lastUpdateTime</th>\n",
       "      <th>name</th>\n",
       "    </tr>\n",
       "  </thead>\n",
       "  <tbody>\n",
       "    <tr>\n",
       "      <th>0</th>\n",
       "      <td>420000</td>\n",
       "      <td>2021-01-07 08:22:59</td>\n",
       "      <td>湖北</td>\n",
       "    </tr>\n",
       "    <tr>\n",
       "      <th>1</th>\n",
       "      <td>810000</td>\n",
       "      <td>2021-01-07 17:13:41</td>\n",
       "      <td>香港</td>\n",
       "    </tr>\n",
       "    <tr>\n",
       "      <th>2</th>\n",
       "      <td>440000</td>\n",
       "      <td>2021-01-07 08:37:57</td>\n",
       "      <td>广东</td>\n",
       "    </tr>\n",
       "    <tr>\n",
       "      <th>3</th>\n",
       "      <td>310000</td>\n",
       "      <td>2021-01-07 15:48:25</td>\n",
       "      <td>上海</td>\n",
       "    </tr>\n",
       "    <tr>\n",
       "      <th>4</th>\n",
       "      <td>330000</td>\n",
       "      <td>2021-01-07 08:22:58</td>\n",
       "      <td>浙江</td>\n",
       "    </tr>\n",
       "  </tbody>\n",
       "</table>\n",
       "</div>"
      ],
      "text/plain": [
       "       id       lastUpdateTime name\n",
       "0  420000  2021-01-07 08:22:59   湖北\n",
       "1  810000  2021-01-07 17:13:41   香港\n",
       "2  440000  2021-01-07 08:37:57   广东\n",
       "3  310000  2021-01-07 15:48:25   上海\n",
       "4  330000  2021-01-07 08:22:58   浙江"
      ]
     },
     "execution_count": 9,
     "metadata": {},
     "output_type": "execute_result"
    }
   ],
   "source": [
    "# 获取id、lastUpdateTime、name\n",
    "info = pd.DataFrame(data_province)[['id','lastUpdateTime','name']]\n",
    "info.head()"
   ]
  },
  {
   "cell_type": "code",
   "execution_count": 10,
   "metadata": {},
   "outputs": [
    {
     "data": {
      "text/html": [
       "<div>\n",
       "<style scoped>\n",
       "    .dataframe tbody tr th:only-of-type {\n",
       "        vertical-align: middle;\n",
       "    }\n",
       "\n",
       "    .dataframe tbody tr th {\n",
       "        vertical-align: top;\n",
       "    }\n",
       "\n",
       "    .dataframe thead th {\n",
       "        text-align: right;\n",
       "    }\n",
       "</style>\n",
       "<table border=\"1\" class=\"dataframe\">\n",
       "  <thead>\n",
       "    <tr style=\"text-align: right;\">\n",
       "      <th></th>\n",
       "      <th>confirm</th>\n",
       "      <th>suspect</th>\n",
       "      <th>heal</th>\n",
       "      <th>dead</th>\n",
       "      <th>severe</th>\n",
       "      <th>storeConfirm</th>\n",
       "    </tr>\n",
       "  </thead>\n",
       "  <tbody>\n",
       "    <tr>\n",
       "      <th>0</th>\n",
       "      <td>0</td>\n",
       "      <td>None</td>\n",
       "      <td>0</td>\n",
       "      <td>0</td>\n",
       "      <td>None</td>\n",
       "      <td>0</td>\n",
       "    </tr>\n",
       "    <tr>\n",
       "      <th>1</th>\n",
       "      <td>25</td>\n",
       "      <td>None</td>\n",
       "      <td>131</td>\n",
       "      <td>1</td>\n",
       "      <td>None</td>\n",
       "      <td>-74</td>\n",
       "    </tr>\n",
       "    <tr>\n",
       "      <th>2</th>\n",
       "      <td>2</td>\n",
       "      <td>None</td>\n",
       "      <td>3</td>\n",
       "      <td>0</td>\n",
       "      <td>None</td>\n",
       "      <td>-1</td>\n",
       "    </tr>\n",
       "    <tr>\n",
       "      <th>3</th>\n",
       "      <td>5</td>\n",
       "      <td>None</td>\n",
       "      <td>5</td>\n",
       "      <td>0</td>\n",
       "      <td>None</td>\n",
       "      <td>0</td>\n",
       "    </tr>\n",
       "    <tr>\n",
       "      <th>4</th>\n",
       "      <td>0</td>\n",
       "      <td>None</td>\n",
       "      <td>0</td>\n",
       "      <td>0</td>\n",
       "      <td>None</td>\n",
       "      <td>0</td>\n",
       "    </tr>\n",
       "  </tbody>\n",
       "</table>\n",
       "</div>"
      ],
      "text/plain": [
       "   confirm suspect  heal  dead severe  storeConfirm\n",
       "0        0    None     0     0   None             0\n",
       "1       25    None   131     1   None           -74\n",
       "2        2    None     3     0   None            -1\n",
       "3        5    None     5     0   None             0\n",
       "4        0    None     0     0   None             0"
      ]
     },
     "execution_count": 10,
     "metadata": {},
     "output_type": "execute_result"
    }
   ],
   "source": [
    "# 获取today中的数据\n",
    "today_data = pd.DataFrame([province['today'] for province in data_province ]) \n",
    "today_data.head()"
   ]
  },
  {
   "cell_type": "code",
   "execution_count": 11,
   "metadata": {},
   "outputs": [
    {
     "data": {
      "text/plain": [
       "['today_confirm',\n",
       " 'today_suspect',\n",
       " 'today_heal',\n",
       " 'today_dead',\n",
       " 'today_severe',\n",
       " 'today_storeConfirm']"
      ]
     },
     "execution_count": 11,
     "metadata": {},
     "output_type": "execute_result"
    }
   ],
   "source": [
    "['today_'+i for i in today_data.columns]"
   ]
  },
  {
   "cell_type": "code",
   "execution_count": 12,
   "metadata": {},
   "outputs": [
    {
     "data": {
      "text/html": [
       "<div>\n",
       "<style scoped>\n",
       "    .dataframe tbody tr th:only-of-type {\n",
       "        vertical-align: middle;\n",
       "    }\n",
       "\n",
       "    .dataframe tbody tr th {\n",
       "        vertical-align: top;\n",
       "    }\n",
       "\n",
       "    .dataframe thead th {\n",
       "        text-align: right;\n",
       "    }\n",
       "</style>\n",
       "<table border=\"1\" class=\"dataframe\">\n",
       "  <thead>\n",
       "    <tr style=\"text-align: right;\">\n",
       "      <th></th>\n",
       "      <th>today_confirm</th>\n",
       "      <th>today_suspect</th>\n",
       "      <th>today_heal</th>\n",
       "      <th>today_dead</th>\n",
       "      <th>today_severe</th>\n",
       "      <th>today_storeConfirm</th>\n",
       "    </tr>\n",
       "  </thead>\n",
       "  <tbody>\n",
       "    <tr>\n",
       "      <th>0</th>\n",
       "      <td>0</td>\n",
       "      <td>None</td>\n",
       "      <td>0</td>\n",
       "      <td>0</td>\n",
       "      <td>None</td>\n",
       "      <td>0</td>\n",
       "    </tr>\n",
       "    <tr>\n",
       "      <th>1</th>\n",
       "      <td>25</td>\n",
       "      <td>None</td>\n",
       "      <td>131</td>\n",
       "      <td>1</td>\n",
       "      <td>None</td>\n",
       "      <td>-74</td>\n",
       "    </tr>\n",
       "    <tr>\n",
       "      <th>2</th>\n",
       "      <td>2</td>\n",
       "      <td>None</td>\n",
       "      <td>3</td>\n",
       "      <td>0</td>\n",
       "      <td>None</td>\n",
       "      <td>-1</td>\n",
       "    </tr>\n",
       "    <tr>\n",
       "      <th>3</th>\n",
       "      <td>5</td>\n",
       "      <td>None</td>\n",
       "      <td>5</td>\n",
       "      <td>0</td>\n",
       "      <td>None</td>\n",
       "      <td>0</td>\n",
       "    </tr>\n",
       "    <tr>\n",
       "      <th>4</th>\n",
       "      <td>0</td>\n",
       "      <td>None</td>\n",
       "      <td>0</td>\n",
       "      <td>0</td>\n",
       "      <td>None</td>\n",
       "      <td>0</td>\n",
       "    </tr>\n",
       "  </tbody>\n",
       "</table>\n",
       "</div>"
      ],
      "text/plain": [
       "   today_confirm today_suspect  today_heal  today_dead today_severe  \\\n",
       "0              0          None           0           0         None   \n",
       "1             25          None         131           1         None   \n",
       "2              2          None           3           0         None   \n",
       "3              5          None           5           0         None   \n",
       "4              0          None           0           0         None   \n",
       "\n",
       "   today_storeConfirm  \n",
       "0                   0  \n",
       "1                 -74  \n",
       "2                  -1  \n",
       "3                   0  \n",
       "4                   0  "
      ]
     },
     "execution_count": 12,
     "metadata": {},
     "output_type": "execute_result"
    }
   ],
   "source": [
    "today_data.columns = ['today_'+i for i in today_data.columns] # 由于today中键名和total键名相同，因此需要修改列名称\n",
    "\n",
    "today_data.head()"
   ]
  },
  {
   "cell_type": "code",
   "execution_count": 13,
   "metadata": {
    "scrolled": true
   },
   "outputs": [
    {
     "data": {
      "text/html": [
       "<div>\n",
       "<style scoped>\n",
       "    .dataframe tbody tr th:only-of-type {\n",
       "        vertical-align: middle;\n",
       "    }\n",
       "\n",
       "    .dataframe tbody tr th {\n",
       "        vertical-align: top;\n",
       "    }\n",
       "\n",
       "    .dataframe thead th {\n",
       "        text-align: right;\n",
       "    }\n",
       "</style>\n",
       "<table border=\"1\" class=\"dataframe\">\n",
       "  <thead>\n",
       "    <tr style=\"text-align: right;\">\n",
       "      <th></th>\n",
       "      <th>total_confirm</th>\n",
       "      <th>total_suspect</th>\n",
       "      <th>total_heal</th>\n",
       "      <th>total_dead</th>\n",
       "      <th>total_severe</th>\n",
       "      <th>total_input</th>\n",
       "      <th>total_newConfirm</th>\n",
       "      <th>total_newDead</th>\n",
       "      <th>total_newHeal</th>\n",
       "    </tr>\n",
       "  </thead>\n",
       "  <tbody>\n",
       "    <tr>\n",
       "      <th>0</th>\n",
       "      <td>68149</td>\n",
       "      <td>0</td>\n",
       "      <td>63637</td>\n",
       "      <td>4512</td>\n",
       "      <td>0</td>\n",
       "      <td>0</td>\n",
       "      <td>NaN</td>\n",
       "      <td>NaN</td>\n",
       "      <td>NaN</td>\n",
       "    </tr>\n",
       "    <tr>\n",
       "      <th>1</th>\n",
       "      <td>9107</td>\n",
       "      <td>0</td>\n",
       "      <td>8258</td>\n",
       "      <td>154</td>\n",
       "      <td>0</td>\n",
       "      <td>0</td>\n",
       "      <td>NaN</td>\n",
       "      <td>NaN</td>\n",
       "      <td>NaN</td>\n",
       "    </tr>\n",
       "    <tr>\n",
       "      <th>2</th>\n",
       "      <td>2062</td>\n",
       "      <td>0</td>\n",
       "      <td>2018</td>\n",
       "      <td>8</td>\n",
       "      <td>0</td>\n",
       "      <td>0</td>\n",
       "      <td>NaN</td>\n",
       "      <td>NaN</td>\n",
       "      <td>NaN</td>\n",
       "    </tr>\n",
       "    <tr>\n",
       "      <th>3</th>\n",
       "      <td>1543</td>\n",
       "      <td>0</td>\n",
       "      <td>1442</td>\n",
       "      <td>7</td>\n",
       "      <td>0</td>\n",
       "      <td>0</td>\n",
       "      <td>NaN</td>\n",
       "      <td>NaN</td>\n",
       "      <td>NaN</td>\n",
       "    </tr>\n",
       "    <tr>\n",
       "      <th>4</th>\n",
       "      <td>1306</td>\n",
       "      <td>0</td>\n",
       "      <td>1293</td>\n",
       "      <td>1</td>\n",
       "      <td>0</td>\n",
       "      <td>0</td>\n",
       "      <td>NaN</td>\n",
       "      <td>NaN</td>\n",
       "      <td>NaN</td>\n",
       "    </tr>\n",
       "  </tbody>\n",
       "</table>\n",
       "</div>"
      ],
      "text/plain": [
       "   total_confirm  total_suspect  total_heal  total_dead  total_severe  \\\n",
       "0          68149              0       63637        4512             0   \n",
       "1           9107              0        8258         154             0   \n",
       "2           2062              0        2018           8             0   \n",
       "3           1543              0        1442           7             0   \n",
       "4           1306              0        1293           1             0   \n",
       "\n",
       "   total_input  total_newConfirm  total_newDead  total_newHeal  \n",
       "0            0               NaN            NaN            NaN  \n",
       "1            0               NaN            NaN            NaN  \n",
       "2            0               NaN            NaN            NaN  \n",
       "3            0               NaN            NaN            NaN  \n",
       "4            0               NaN            NaN            NaN  "
      ]
     },
     "execution_count": 13,
     "metadata": {},
     "output_type": "execute_result"
    }
   ],
   "source": [
    "# 获取total中的数据\n",
    "total_data = pd.DataFrame([province['total'] for province in data_province ])\n",
    "total_data.columns = ['total_'+i for i in total_data.columns]\n",
    "total_data.head()"
   ]
  },
  {
   "cell_type": "code",
   "execution_count": 14,
   "metadata": {
    "scrolled": true
   },
   "outputs": [
    {
     "data": {
      "text/html": [
       "<div>\n",
       "<style scoped>\n",
       "    .dataframe tbody tr th:only-of-type {\n",
       "        vertical-align: middle;\n",
       "    }\n",
       "\n",
       "    .dataframe tbody tr th {\n",
       "        vertical-align: top;\n",
       "    }\n",
       "\n",
       "    .dataframe thead th {\n",
       "        text-align: right;\n",
       "    }\n",
       "</style>\n",
       "<table border=\"1\" class=\"dataframe\">\n",
       "  <thead>\n",
       "    <tr style=\"text-align: right;\">\n",
       "      <th></th>\n",
       "      <th>id</th>\n",
       "      <th>lastUpdateTime</th>\n",
       "      <th>name</th>\n",
       "      <th>total_confirm</th>\n",
       "      <th>total_suspect</th>\n",
       "      <th>total_heal</th>\n",
       "      <th>total_dead</th>\n",
       "      <th>total_severe</th>\n",
       "      <th>total_input</th>\n",
       "      <th>total_newConfirm</th>\n",
       "      <th>total_newDead</th>\n",
       "      <th>total_newHeal</th>\n",
       "      <th>today_confirm</th>\n",
       "      <th>today_suspect</th>\n",
       "      <th>today_heal</th>\n",
       "      <th>today_dead</th>\n",
       "      <th>today_severe</th>\n",
       "      <th>today_storeConfirm</th>\n",
       "    </tr>\n",
       "  </thead>\n",
       "  <tbody>\n",
       "    <tr>\n",
       "      <th>0</th>\n",
       "      <td>420000</td>\n",
       "      <td>2021-01-07 08:22:59</td>\n",
       "      <td>湖北</td>\n",
       "      <td>68149</td>\n",
       "      <td>0</td>\n",
       "      <td>63637</td>\n",
       "      <td>4512</td>\n",
       "      <td>0</td>\n",
       "      <td>0</td>\n",
       "      <td>NaN</td>\n",
       "      <td>NaN</td>\n",
       "      <td>NaN</td>\n",
       "      <td>0</td>\n",
       "      <td>None</td>\n",
       "      <td>0</td>\n",
       "      <td>0</td>\n",
       "      <td>None</td>\n",
       "      <td>0</td>\n",
       "    </tr>\n",
       "    <tr>\n",
       "      <th>1</th>\n",
       "      <td>810000</td>\n",
       "      <td>2021-01-07 17:13:41</td>\n",
       "      <td>香港</td>\n",
       "      <td>9107</td>\n",
       "      <td>0</td>\n",
       "      <td>8258</td>\n",
       "      <td>154</td>\n",
       "      <td>0</td>\n",
       "      <td>0</td>\n",
       "      <td>NaN</td>\n",
       "      <td>NaN</td>\n",
       "      <td>NaN</td>\n",
       "      <td>25</td>\n",
       "      <td>None</td>\n",
       "      <td>131</td>\n",
       "      <td>1</td>\n",
       "      <td>None</td>\n",
       "      <td>-74</td>\n",
       "    </tr>\n",
       "    <tr>\n",
       "      <th>2</th>\n",
       "      <td>440000</td>\n",
       "      <td>2021-01-07 08:37:57</td>\n",
       "      <td>广东</td>\n",
       "      <td>2062</td>\n",
       "      <td>0</td>\n",
       "      <td>2018</td>\n",
       "      <td>8</td>\n",
       "      <td>0</td>\n",
       "      <td>0</td>\n",
       "      <td>NaN</td>\n",
       "      <td>NaN</td>\n",
       "      <td>NaN</td>\n",
       "      <td>2</td>\n",
       "      <td>None</td>\n",
       "      <td>3</td>\n",
       "      <td>0</td>\n",
       "      <td>None</td>\n",
       "      <td>-1</td>\n",
       "    </tr>\n",
       "    <tr>\n",
       "      <th>3</th>\n",
       "      <td>310000</td>\n",
       "      <td>2021-01-07 15:48:25</td>\n",
       "      <td>上海</td>\n",
       "      <td>1543</td>\n",
       "      <td>0</td>\n",
       "      <td>1442</td>\n",
       "      <td>7</td>\n",
       "      <td>0</td>\n",
       "      <td>0</td>\n",
       "      <td>NaN</td>\n",
       "      <td>NaN</td>\n",
       "      <td>NaN</td>\n",
       "      <td>5</td>\n",
       "      <td>None</td>\n",
       "      <td>5</td>\n",
       "      <td>0</td>\n",
       "      <td>None</td>\n",
       "      <td>0</td>\n",
       "    </tr>\n",
       "    <tr>\n",
       "      <th>4</th>\n",
       "      <td>330000</td>\n",
       "      <td>2021-01-07 08:22:58</td>\n",
       "      <td>浙江</td>\n",
       "      <td>1306</td>\n",
       "      <td>0</td>\n",
       "      <td>1293</td>\n",
       "      <td>1</td>\n",
       "      <td>0</td>\n",
       "      <td>0</td>\n",
       "      <td>NaN</td>\n",
       "      <td>NaN</td>\n",
       "      <td>NaN</td>\n",
       "      <td>0</td>\n",
       "      <td>None</td>\n",
       "      <td>0</td>\n",
       "      <td>0</td>\n",
       "      <td>None</td>\n",
       "      <td>0</td>\n",
       "    </tr>\n",
       "  </tbody>\n",
       "</table>\n",
       "</div>"
      ],
      "text/plain": [
       "       id       lastUpdateTime name  total_confirm  total_suspect  total_heal  \\\n",
       "0  420000  2021-01-07 08:22:59   湖北          68149              0       63637   \n",
       "1  810000  2021-01-07 17:13:41   香港           9107              0        8258   \n",
       "2  440000  2021-01-07 08:37:57   广东           2062              0        2018   \n",
       "3  310000  2021-01-07 15:48:25   上海           1543              0        1442   \n",
       "4  330000  2021-01-07 08:22:58   浙江           1306              0        1293   \n",
       "\n",
       "   total_dead  total_severe  total_input  total_newConfirm  total_newDead  \\\n",
       "0        4512             0            0               NaN            NaN   \n",
       "1         154             0            0               NaN            NaN   \n",
       "2           8             0            0               NaN            NaN   \n",
       "3           7             0            0               NaN            NaN   \n",
       "4           1             0            0               NaN            NaN   \n",
       "\n",
       "   total_newHeal  today_confirm today_suspect  today_heal  today_dead  \\\n",
       "0            NaN              0          None           0           0   \n",
       "1            NaN             25          None         131           1   \n",
       "2            NaN              2          None           3           0   \n",
       "3            NaN              5          None           5           0   \n",
       "4            NaN              0          None           0           0   \n",
       "\n",
       "  today_severe  today_storeConfirm  \n",
       "0         None                   0  \n",
       "1         None                 -74  \n",
       "2         None                  -1  \n",
       "3         None                   0  \n",
       "4         None                   0  "
      ]
     },
     "execution_count": 14,
     "metadata": {},
     "output_type": "execute_result"
    }
   ],
   "source": [
    "pd.concat([info,total_data,today_data],axis=1).head() # 将三个数据合并"
   ]
  },
  {
   "cell_type": "code",
   "execution_count": 15,
   "metadata": {},
   "outputs": [
    {
     "data": {
      "text/html": [
       "<div>\n",
       "<style scoped>\n",
       "    .dataframe tbody tr th:only-of-type {\n",
       "        vertical-align: middle;\n",
       "    }\n",
       "\n",
       "    .dataframe tbody tr th {\n",
       "        vertical-align: top;\n",
       "    }\n",
       "\n",
       "    .dataframe thead th {\n",
       "        text-align: right;\n",
       "    }\n",
       "</style>\n",
       "<table border=\"1\" class=\"dataframe\">\n",
       "  <thead>\n",
       "    <tr style=\"text-align: right;\">\n",
       "      <th></th>\n",
       "      <th>id</th>\n",
       "      <th>lastUpdateTime</th>\n",
       "      <th>name</th>\n",
       "      <th>total_confirm</th>\n",
       "      <th>total_suspect</th>\n",
       "      <th>total_heal</th>\n",
       "      <th>total_dead</th>\n",
       "      <th>total_severe</th>\n",
       "      <th>total_input</th>\n",
       "      <th>total_newConfirm</th>\n",
       "      <th>total_newDead</th>\n",
       "      <th>total_newHeal</th>\n",
       "      <th>today_confirm</th>\n",
       "      <th>today_suspect</th>\n",
       "      <th>today_heal</th>\n",
       "      <th>today_dead</th>\n",
       "      <th>today_severe</th>\n",
       "      <th>today_storeConfirm</th>\n",
       "    </tr>\n",
       "  </thead>\n",
       "  <tbody>\n",
       "    <tr>\n",
       "      <th>0</th>\n",
       "      <td>420000</td>\n",
       "      <td>2021-01-07 08:22:59</td>\n",
       "      <td>湖北</td>\n",
       "      <td>68149</td>\n",
       "      <td>0</td>\n",
       "      <td>63637</td>\n",
       "      <td>4512</td>\n",
       "      <td>0</td>\n",
       "      <td>0</td>\n",
       "      <td>NaN</td>\n",
       "      <td>NaN</td>\n",
       "      <td>NaN</td>\n",
       "      <td>0</td>\n",
       "      <td>None</td>\n",
       "      <td>0</td>\n",
       "      <td>0</td>\n",
       "      <td>None</td>\n",
       "      <td>0</td>\n",
       "    </tr>\n",
       "    <tr>\n",
       "      <th>1</th>\n",
       "      <td>810000</td>\n",
       "      <td>2021-01-07 17:13:41</td>\n",
       "      <td>香港</td>\n",
       "      <td>9107</td>\n",
       "      <td>0</td>\n",
       "      <td>8258</td>\n",
       "      <td>154</td>\n",
       "      <td>0</td>\n",
       "      <td>0</td>\n",
       "      <td>NaN</td>\n",
       "      <td>NaN</td>\n",
       "      <td>NaN</td>\n",
       "      <td>25</td>\n",
       "      <td>None</td>\n",
       "      <td>131</td>\n",
       "      <td>1</td>\n",
       "      <td>None</td>\n",
       "      <td>-74</td>\n",
       "    </tr>\n",
       "    <tr>\n",
       "      <th>2</th>\n",
       "      <td>440000</td>\n",
       "      <td>2021-01-07 08:37:57</td>\n",
       "      <td>广东</td>\n",
       "      <td>2062</td>\n",
       "      <td>0</td>\n",
       "      <td>2018</td>\n",
       "      <td>8</td>\n",
       "      <td>0</td>\n",
       "      <td>0</td>\n",
       "      <td>NaN</td>\n",
       "      <td>NaN</td>\n",
       "      <td>NaN</td>\n",
       "      <td>2</td>\n",
       "      <td>None</td>\n",
       "      <td>3</td>\n",
       "      <td>0</td>\n",
       "      <td>None</td>\n",
       "      <td>-1</td>\n",
       "    </tr>\n",
       "    <tr>\n",
       "      <th>3</th>\n",
       "      <td>310000</td>\n",
       "      <td>2021-01-07 15:48:25</td>\n",
       "      <td>上海</td>\n",
       "      <td>1543</td>\n",
       "      <td>0</td>\n",
       "      <td>1442</td>\n",
       "      <td>7</td>\n",
       "      <td>0</td>\n",
       "      <td>0</td>\n",
       "      <td>NaN</td>\n",
       "      <td>NaN</td>\n",
       "      <td>NaN</td>\n",
       "      <td>5</td>\n",
       "      <td>None</td>\n",
       "      <td>5</td>\n",
       "      <td>0</td>\n",
       "      <td>None</td>\n",
       "      <td>0</td>\n",
       "    </tr>\n",
       "    <tr>\n",
       "      <th>4</th>\n",
       "      <td>330000</td>\n",
       "      <td>2021-01-07 08:22:58</td>\n",
       "      <td>浙江</td>\n",
       "      <td>1306</td>\n",
       "      <td>0</td>\n",
       "      <td>1293</td>\n",
       "      <td>1</td>\n",
       "      <td>0</td>\n",
       "      <td>0</td>\n",
       "      <td>NaN</td>\n",
       "      <td>NaN</td>\n",
       "      <td>NaN</td>\n",
       "      <td>0</td>\n",
       "      <td>None</td>\n",
       "      <td>0</td>\n",
       "      <td>0</td>\n",
       "      <td>None</td>\n",
       "      <td>0</td>\n",
       "    </tr>\n",
       "  </tbody>\n",
       "</table>\n",
       "</div>"
      ],
      "text/plain": [
       "       id       lastUpdateTime name  total_confirm  total_suspect  total_heal  \\\n",
       "0  420000  2021-01-07 08:22:59   湖北          68149              0       63637   \n",
       "1  810000  2021-01-07 17:13:41   香港           9107              0        8258   \n",
       "2  440000  2021-01-07 08:37:57   广东           2062              0        2018   \n",
       "3  310000  2021-01-07 15:48:25   上海           1543              0        1442   \n",
       "4  330000  2021-01-07 08:22:58   浙江           1306              0        1293   \n",
       "\n",
       "   total_dead  total_severe  total_input  total_newConfirm  total_newDead  \\\n",
       "0        4512             0            0               NaN            NaN   \n",
       "1         154             0            0               NaN            NaN   \n",
       "2           8             0            0               NaN            NaN   \n",
       "3           7             0            0               NaN            NaN   \n",
       "4           1             0            0               NaN            NaN   \n",
       "\n",
       "   total_newHeal  today_confirm today_suspect  today_heal  today_dead  \\\n",
       "0            NaN              0          None           0           0   \n",
       "1            NaN             25          None         131           1   \n",
       "2            NaN              2          None           3           0   \n",
       "3            NaN              5          None           5           0   \n",
       "4            NaN              0          None           0           0   \n",
       "\n",
       "  today_severe  today_storeConfirm  \n",
       "0         None                   0  \n",
       "1         None                 -74  \n",
       "2         None                  -1  \n",
       "3         None                   0  \n",
       "4         None                   0  "
      ]
     },
     "execution_count": 15,
     "metadata": {},
     "output_type": "execute_result"
    }
   ],
   "source": [
    "# 将提取数据的方法封装为函数\n",
    "def get_data(data,info_list):\n",
    "    info = pd.DataFrame(data)[info_list] # 主要信息\n",
    "    \n",
    "    today_data = pd.DataFrame([i['today'] for i in data ]) # 生成today的数据\n",
    "    today_data.columns = ['today_'+i for i in today_data.columns] # 修改列名\n",
    "    \n",
    "    total_data = pd.DataFrame([i['total'] for i in data ]) # 生成total的数据\n",
    "    total_data.columns = ['total_'+i for i in total_data.columns] # 修改列名\n",
    "    \n",
    "    return pd.concat([info,total_data,today_data],axis=1) # info、today和total横向合并最终得到汇总的数据\n",
    "\n",
    "today_province = get_data(data_province,['id','lastUpdateTime','name'])\n",
    "today_province.head()"
   ]
  },
  {
   "cell_type": "code",
   "execution_count": 16,
   "metadata": {},
   "outputs": [
    {
     "data": {
      "text/plain": [
       "'2021_01_07'"
      ]
     },
     "execution_count": 16,
     "metadata": {},
     "output_type": "execute_result"
    }
   ],
   "source": [
    "def save_data(data,name): # 定义保存数据方法\n",
    "    file_name = name+'_'+time.strftime('%Y_%m_%d',time.localtime(time.time()))+'.csv'\n",
    "    data.to_csv(file_name,index=None,encoding='utf_8_sig')\n",
    "    print(file_name+' 保存成功！')\n",
    "\n",
    "time.strftime('%Y_%m_%d',time.localtime(time.time()))"
   ]
  },
  {
   "cell_type": "code",
   "execution_count": 17,
   "metadata": {},
   "outputs": [
    {
     "name": "stdout",
     "output_type": "stream",
     "text": [
      "today_province_2021_01_07.csv 保存成功！\n"
     ]
    }
   ],
   "source": [
    "save_data(today_province,'today_province')"
   ]
  },
  {
   "cell_type": "markdown",
   "metadata": {},
   "source": [
    "# 世界各国实时数据爬取"
   ]
  },
  {
   "cell_type": "code",
   "execution_count": 18,
   "metadata": {},
   "outputs": [
    {
     "data": {
      "text/plain": [
       "{'today': {'confirm': 2820,\n",
       "  'suspect': None,\n",
       "  'heal': 1275,\n",
       "  'dead': 70,\n",
       "  'severe': None,\n",
       "  'storeConfirm': None},\n",
       " 'total': {'confirm': 149881,\n",
       "  'suspect': 0,\n",
       "  'heal': 111599,\n",
       "  'dead': 5004,\n",
       "  'severe': 0,\n",
       "  'input': 0},\n",
       " 'extData': {},\n",
       " 'name': '突尼斯',\n",
       " 'id': '9577772',\n",
       " 'lastUpdateTime': '2021-01-07 08:23:02',\n",
       " 'children': []}"
      ]
     },
     "execution_count": 18,
     "metadata": {},
     "output_type": "execute_result"
    }
   ],
   "source": [
    "areaTree = data['areaTree'] # 取出areaTree\n",
    "\n",
    "areaTree[0] # 查看第一个国家的数据"
   ]
  },
  {
   "cell_type": "code",
   "execution_count": 19,
   "metadata": {},
   "outputs": [
    {
     "name": "stdout",
     "output_type": "stream",
     "text": [
      "突尼斯 2021-01-07 08:23:02\n",
      "塞尔维亚 2021-01-07 08:23:02\n",
      "中国 2021-01-07 17:13:40\n",
      "日本本土 2021-01-07 18:03:37\n",
      "泰国 2021-01-07 14:23:37\n",
      "新加坡 2021-01-07 18:03:38\n"
     ]
    }
   ],
   "source": [
    "for i in range(len(areaTree)):  # 查看各国家名称和更新时间\n",
    "    print(areaTree[i]['name'],areaTree[i]['lastUpdateTime'])\n",
    "    if i == 5:\n",
    "        break"
   ]
  },
  {
   "cell_type": "code",
   "execution_count": 20,
   "metadata": {},
   "outputs": [
    {
     "data": {
      "text/html": [
       "<div>\n",
       "<style scoped>\n",
       "    .dataframe tbody tr th:only-of-type {\n",
       "        vertical-align: middle;\n",
       "    }\n",
       "\n",
       "    .dataframe tbody tr th {\n",
       "        vertical-align: top;\n",
       "    }\n",
       "\n",
       "    .dataframe thead th {\n",
       "        text-align: right;\n",
       "    }\n",
       "</style>\n",
       "<table border=\"1\" class=\"dataframe\">\n",
       "  <thead>\n",
       "    <tr style=\"text-align: right;\">\n",
       "      <th></th>\n",
       "      <th>id</th>\n",
       "      <th>lastUpdateTime</th>\n",
       "      <th>name</th>\n",
       "      <th>total_confirm</th>\n",
       "      <th>total_suspect</th>\n",
       "      <th>total_heal</th>\n",
       "      <th>total_dead</th>\n",
       "      <th>total_severe</th>\n",
       "      <th>total_input</th>\n",
       "      <th>today_confirm</th>\n",
       "      <th>today_suspect</th>\n",
       "      <th>today_heal</th>\n",
       "      <th>today_dead</th>\n",
       "      <th>today_severe</th>\n",
       "      <th>today_storeConfirm</th>\n",
       "      <th>today_input</th>\n",
       "    </tr>\n",
       "  </thead>\n",
       "  <tbody>\n",
       "    <tr>\n",
       "      <th>0</th>\n",
       "      <td>9577772</td>\n",
       "      <td>2021-01-07 08:23:02</td>\n",
       "      <td>突尼斯</td>\n",
       "      <td>149881</td>\n",
       "      <td>0</td>\n",
       "      <td>111599</td>\n",
       "      <td>5004</td>\n",
       "      <td>0</td>\n",
       "      <td>0.0</td>\n",
       "      <td>2820.0</td>\n",
       "      <td>NaN</td>\n",
       "      <td>1275.0</td>\n",
       "      <td>70.0</td>\n",
       "      <td>NaN</td>\n",
       "      <td>NaN</td>\n",
       "      <td>NaN</td>\n",
       "    </tr>\n",
       "    <tr>\n",
       "      <th>1</th>\n",
       "      <td>9507896</td>\n",
       "      <td>2021-01-07 08:23:02</td>\n",
       "      <td>塞尔维亚</td>\n",
       "      <td>352120</td>\n",
       "      <td>0</td>\n",
       "      <td>0</td>\n",
       "      <td>3444</td>\n",
       "      <td>0</td>\n",
       "      <td>0.0</td>\n",
       "      <td>2882.0</td>\n",
       "      <td>NaN</td>\n",
       "      <td>0.0</td>\n",
       "      <td>0.0</td>\n",
       "      <td>NaN</td>\n",
       "      <td>NaN</td>\n",
       "      <td>NaN</td>\n",
       "    </tr>\n",
       "    <tr>\n",
       "      <th>2</th>\n",
       "      <td>0</td>\n",
       "      <td>2021-01-07 17:13:40</td>\n",
       "      <td>中国</td>\n",
       "      <td>97254</td>\n",
       "      <td>0</td>\n",
       "      <td>91172</td>\n",
       "      <td>4795</td>\n",
       "      <td>0</td>\n",
       "      <td>4359.0</td>\n",
       "      <td>94.0</td>\n",
       "      <td>NaN</td>\n",
       "      <td>164.0</td>\n",
       "      <td>1.0</td>\n",
       "      <td>NaN</td>\n",
       "      <td>-38.0</td>\n",
       "      <td>11.0</td>\n",
       "    </tr>\n",
       "    <tr>\n",
       "      <th>3</th>\n",
       "      <td>1</td>\n",
       "      <td>2021-01-07 18:03:37</td>\n",
       "      <td>日本本土</td>\n",
       "      <td>266098</td>\n",
       "      <td>0</td>\n",
       "      <td>210295</td>\n",
       "      <td>3636</td>\n",
       "      <td>0</td>\n",
       "      <td>0.0</td>\n",
       "      <td>6603.0</td>\n",
       "      <td>NaN</td>\n",
       "      <td>3412.0</td>\n",
       "      <td>27.0</td>\n",
       "      <td>NaN</td>\n",
       "      <td>NaN</td>\n",
       "      <td>NaN</td>\n",
       "    </tr>\n",
       "    <tr>\n",
       "      <th>4</th>\n",
       "      <td>2</td>\n",
       "      <td>2021-01-07 14:23:37</td>\n",
       "      <td>泰国</td>\n",
       "      <td>9636</td>\n",
       "      <td>0</td>\n",
       "      <td>4521</td>\n",
       "      <td>67</td>\n",
       "      <td>0</td>\n",
       "      <td>0.0</td>\n",
       "      <td>305.0</td>\n",
       "      <td>NaN</td>\n",
       "      <td>103.0</td>\n",
       "      <td>1.0</td>\n",
       "      <td>NaN</td>\n",
       "      <td>NaN</td>\n",
       "      <td>NaN</td>\n",
       "    </tr>\n",
       "  </tbody>\n",
       "</table>\n",
       "</div>"
      ],
      "text/plain": [
       "        id       lastUpdateTime  name  total_confirm  total_suspect  \\\n",
       "0  9577772  2021-01-07 08:23:02   突尼斯         149881              0   \n",
       "1  9507896  2021-01-07 08:23:02  塞尔维亚         352120              0   \n",
       "2        0  2021-01-07 17:13:40    中国          97254              0   \n",
       "3        1  2021-01-07 18:03:37  日本本土         266098              0   \n",
       "4        2  2021-01-07 14:23:37    泰国           9636              0   \n",
       "\n",
       "   total_heal  total_dead  total_severe  total_input  today_confirm  \\\n",
       "0      111599        5004             0          0.0         2820.0   \n",
       "1           0        3444             0          0.0         2882.0   \n",
       "2       91172        4795             0       4359.0           94.0   \n",
       "3      210295        3636             0          0.0         6603.0   \n",
       "4        4521          67             0          0.0          305.0   \n",
       "\n",
       "   today_suspect  today_heal  today_dead  today_severe  today_storeConfirm  \\\n",
       "0            NaN      1275.0        70.0           NaN                 NaN   \n",
       "1            NaN         0.0         0.0           NaN                 NaN   \n",
       "2            NaN       164.0         1.0           NaN               -38.0   \n",
       "3            NaN      3412.0        27.0           NaN                 NaN   \n",
       "4            NaN       103.0         1.0           NaN                 NaN   \n",
       "\n",
       "   today_input  \n",
       "0          NaN  \n",
       "1          NaN  \n",
       "2         11.0  \n",
       "3          NaN  \n",
       "4          NaN  "
      ]
     },
     "execution_count": 20,
     "metadata": {},
     "output_type": "execute_result"
    }
   ],
   "source": [
    "#从areaTree中提取每个国家的实时数据\n",
    "today_world = get_data(areaTree,['id','lastUpdateTime','name'])\n",
    "today_world.head()"
   ]
  },
  {
   "cell_type": "code",
   "execution_count": 21,
   "metadata": {},
   "outputs": [
    {
     "name": "stdout",
     "output_type": "stream",
     "text": [
      "today_world_2021_01_07.csv 保存成功！\n"
     ]
    }
   ],
   "source": [
    "save_data(today_world,'today_world')"
   ]
  },
  {
   "cell_type": "markdown",
   "metadata": {},
   "source": [
    "# 历史数据处理"
   ]
  },
  {
   "cell_type": "markdown",
   "metadata": {},
   "source": [
    "# 全国历史数据爬取\n"
   ]
  },
  {
   "cell_type": "code",
   "execution_count": 22,
   "metadata": {},
   "outputs": [
    {
     "data": {
      "text/plain": [
       "dict_keys(['chinaTotal', 'chinaDayList', 'lastUpdateTime', 'overseaLastUpdateTime', 'areaTree'])"
      ]
     },
     "execution_count": 22,
     "metadata": {},
     "output_type": "execute_result"
    }
   ],
   "source": [
    "data.keys()"
   ]
  },
  {
   "cell_type": "code",
   "execution_count": 23,
   "metadata": {},
   "outputs": [],
   "source": [
    "chinaDayList = data['chinaDayList'] # 取出chinaDayList"
   ]
  },
  {
   "cell_type": "code",
   "execution_count": 24,
   "metadata": {},
   "outputs": [
    {
     "data": {
      "text/plain": [
       "list"
      ]
     },
     "execution_count": 24,
     "metadata": {},
     "output_type": "execute_result"
    }
   ],
   "source": [
    "type(chinaDayList) # 查看chinaDayList的格式"
   ]
  },
  {
   "cell_type": "code",
   "execution_count": 25,
   "metadata": {},
   "outputs": [
    {
     "data": {
      "text/plain": [
       "{'date': '2020-01-13',\n",
       " 'today': {'confirm': 0,\n",
       "  'suspect': 0,\n",
       "  'heal': 0,\n",
       "  'dead': 0,\n",
       "  'severe': None,\n",
       "  'storeConfirm': 0,\n",
       "  'input': 0},\n",
       " 'total': {'confirm': 41,\n",
       "  'suspect': 0,\n",
       "  'heal': 0,\n",
       "  'dead': 1,\n",
       "  'severe': None,\n",
       "  'input': 0,\n",
       "  'storeConfirm': 0},\n",
       " 'extData': None,\n",
       " 'lastUpdateTime': None}"
      ]
     },
     "execution_count": 25,
     "metadata": {},
     "output_type": "execute_result"
    }
   ],
   "source": [
    "chinaDayList[0]"
   ]
  },
  {
   "cell_type": "code",
   "execution_count": 26,
   "metadata": {},
   "outputs": [
    {
     "data": {
      "text/html": [
       "<div>\n",
       "<style scoped>\n",
       "    .dataframe tbody tr th:only-of-type {\n",
       "        vertical-align: middle;\n",
       "    }\n",
       "\n",
       "    .dataframe tbody tr th {\n",
       "        vertical-align: top;\n",
       "    }\n",
       "\n",
       "    .dataframe thead th {\n",
       "        text-align: right;\n",
       "    }\n",
       "</style>\n",
       "<table border=\"1\" class=\"dataframe\">\n",
       "  <thead>\n",
       "    <tr style=\"text-align: right;\">\n",
       "      <th></th>\n",
       "      <th>date</th>\n",
       "      <th>lastUpdateTime</th>\n",
       "      <th>total_confirm</th>\n",
       "      <th>total_suspect</th>\n",
       "      <th>total_heal</th>\n",
       "      <th>total_dead</th>\n",
       "      <th>total_severe</th>\n",
       "      <th>total_input</th>\n",
       "      <th>total_storeConfirm</th>\n",
       "      <th>today_confirm</th>\n",
       "      <th>today_suspect</th>\n",
       "      <th>today_heal</th>\n",
       "      <th>today_dead</th>\n",
       "      <th>today_severe</th>\n",
       "      <th>today_storeConfirm</th>\n",
       "      <th>today_input</th>\n",
       "    </tr>\n",
       "  </thead>\n",
       "  <tbody>\n",
       "    <tr>\n",
       "      <th>0</th>\n",
       "      <td>2020-01-13</td>\n",
       "      <td>None</td>\n",
       "      <td>41</td>\n",
       "      <td>0</td>\n",
       "      <td>0</td>\n",
       "      <td>1</td>\n",
       "      <td>None</td>\n",
       "      <td>0</td>\n",
       "      <td>0</td>\n",
       "      <td>0</td>\n",
       "      <td>0</td>\n",
       "      <td>0</td>\n",
       "      <td>0</td>\n",
       "      <td>None</td>\n",
       "      <td>0</td>\n",
       "      <td>0</td>\n",
       "    </tr>\n",
       "    <tr>\n",
       "      <th>1</th>\n",
       "      <td>2020-01-14</td>\n",
       "      <td>None</td>\n",
       "      <td>41</td>\n",
       "      <td>0</td>\n",
       "      <td>0</td>\n",
       "      <td>1</td>\n",
       "      <td>None</td>\n",
       "      <td>0</td>\n",
       "      <td>0</td>\n",
       "      <td>0</td>\n",
       "      <td>0</td>\n",
       "      <td>0</td>\n",
       "      <td>0</td>\n",
       "      <td>None</td>\n",
       "      <td>0</td>\n",
       "      <td>0</td>\n",
       "    </tr>\n",
       "    <tr>\n",
       "      <th>2</th>\n",
       "      <td>2020-01-15</td>\n",
       "      <td>None</td>\n",
       "      <td>41</td>\n",
       "      <td>0</td>\n",
       "      <td>5</td>\n",
       "      <td>2</td>\n",
       "      <td>None</td>\n",
       "      <td>0</td>\n",
       "      <td>0</td>\n",
       "      <td>0</td>\n",
       "      <td>0</td>\n",
       "      <td>0</td>\n",
       "      <td>0</td>\n",
       "      <td>None</td>\n",
       "      <td>0</td>\n",
       "      <td>0</td>\n",
       "    </tr>\n",
       "    <tr>\n",
       "      <th>3</th>\n",
       "      <td>2020-01-16</td>\n",
       "      <td>None</td>\n",
       "      <td>45</td>\n",
       "      <td>0</td>\n",
       "      <td>8</td>\n",
       "      <td>2</td>\n",
       "      <td>None</td>\n",
       "      <td>0</td>\n",
       "      <td>0</td>\n",
       "      <td>0</td>\n",
       "      <td>0</td>\n",
       "      <td>0</td>\n",
       "      <td>0</td>\n",
       "      <td>None</td>\n",
       "      <td>0</td>\n",
       "      <td>0</td>\n",
       "    </tr>\n",
       "    <tr>\n",
       "      <th>4</th>\n",
       "      <td>2020-01-17</td>\n",
       "      <td>None</td>\n",
       "      <td>62</td>\n",
       "      <td>0</td>\n",
       "      <td>12</td>\n",
       "      <td>2</td>\n",
       "      <td>None</td>\n",
       "      <td>0</td>\n",
       "      <td>0</td>\n",
       "      <td>0</td>\n",
       "      <td>0</td>\n",
       "      <td>0</td>\n",
       "      <td>0</td>\n",
       "      <td>None</td>\n",
       "      <td>0</td>\n",
       "      <td>0</td>\n",
       "    </tr>\n",
       "  </tbody>\n",
       "</table>\n",
       "</div>"
      ],
      "text/plain": [
       "         date lastUpdateTime  total_confirm  total_suspect  total_heal  \\\n",
       "0  2020-01-13           None             41              0           0   \n",
       "1  2020-01-14           None             41              0           0   \n",
       "2  2020-01-15           None             41              0           5   \n",
       "3  2020-01-16           None             45              0           8   \n",
       "4  2020-01-17           None             62              0          12   \n",
       "\n",
       "   total_dead total_severe  total_input  total_storeConfirm  today_confirm  \\\n",
       "0           1         None            0                   0              0   \n",
       "1           1         None            0                   0              0   \n",
       "2           2         None            0                   0              0   \n",
       "3           2         None            0                   0              0   \n",
       "4           2         None            0                   0              0   \n",
       "\n",
       "   today_suspect  today_heal  today_dead today_severe  today_storeConfirm  \\\n",
       "0              0           0           0         None                   0   \n",
       "1              0           0           0         None                   0   \n",
       "2              0           0           0         None                   0   \n",
       "3              0           0           0         None                   0   \n",
       "4              0           0           0         None                   0   \n",
       "\n",
       "   today_input  \n",
       "0            0  \n",
       "1            0  \n",
       "2            0  \n",
       "3            0  \n",
       "4            0  "
      ]
     },
     "execution_count": 26,
     "metadata": {},
     "output_type": "execute_result"
    }
   ],
   "source": [
    "alltime_China = get_data(chinaDayList,['date','lastUpdateTime'])\n",
    "alltime_China.head()"
   ]
  },
  {
   "cell_type": "code",
   "execution_count": 27,
   "metadata": {},
   "outputs": [
    {
     "name": "stdout",
     "output_type": "stream",
     "text": [
      "alltime_China_2021_01_07.csv 保存成功！\n"
     ]
    }
   ],
   "source": [
    "save_data(alltime_China,'alltime_China')"
   ]
  },
  {
   "cell_type": "markdown",
   "metadata": {},
   "source": [
    "# 全国各省历史数据爬取"
   ]
  },
  {
   "cell_type": "code",
   "execution_count": 28,
   "metadata": {},
   "outputs": [
    {
     "data": {
      "text/plain": [
       "dict_keys(['reqId', 'code', 'msg', 'data', 'timestamp'])"
      ]
     },
     "execution_count": 28,
     "metadata": {},
     "output_type": "execute_result"
    }
   ],
   "source": [
    "#以其中一个省为例，先尝试获取其历史数据，其他的省可以使用同样的方法。\n",
    "url = 'https://c.m.163.com/ug/api/wuhan/app/data/list-by-area-code?areaCode=420000' # 定义数据地址\n",
    "r = requests.get(url, headers=headers) # 进行请求\n",
    "data_json = json.loads(r.text) # 获取json数据\n",
    "\n",
    "data_json.keys()"
   ]
  },
  {
   "cell_type": "code",
   "execution_count": 29,
   "metadata": {},
   "outputs": [
    {
     "data": {
      "text/plain": [
       "{'date': '2020-01-20',\n",
       " 'today': {'confirm': 0,\n",
       "  'suspect': 0,\n",
       "  'heal': 0,\n",
       "  'dead': 0,\n",
       "  'severe': None,\n",
       "  'storeConfirm': 0,\n",
       "  'input': 0},\n",
       " 'total': {'confirm': 270,\n",
       "  'suspect': 0,\n",
       "  'heal': 25,\n",
       "  'dead': 6,\n",
       "  'severe': None,\n",
       "  'input': 0,\n",
       "  'storeConfirm': 239},\n",
       " 'extData': None,\n",
       " 'lastUpdateTime': None}"
      ]
     },
     "execution_count": 29,
     "metadata": {},
     "output_type": "execute_result"
    }
   ],
   "source": [
    "#在list中存放着数据。\n",
    "data_json['data']['list'][0]"
   ]
  },
  {
   "cell_type": "code",
   "execution_count": 30,
   "metadata": {},
   "outputs": [
    {
     "data": {
      "text/html": [
       "<div>\n",
       "<style scoped>\n",
       "    .dataframe tbody tr th:only-of-type {\n",
       "        vertical-align: middle;\n",
       "    }\n",
       "\n",
       "    .dataframe tbody tr th {\n",
       "        vertical-align: top;\n",
       "    }\n",
       "\n",
       "    .dataframe thead th {\n",
       "        text-align: right;\n",
       "    }\n",
       "</style>\n",
       "<table border=\"1\" class=\"dataframe\">\n",
       "  <thead>\n",
       "    <tr style=\"text-align: right;\">\n",
       "      <th></th>\n",
       "      <th>date</th>\n",
       "      <th>total_confirm</th>\n",
       "      <th>total_suspect</th>\n",
       "      <th>total_heal</th>\n",
       "      <th>total_dead</th>\n",
       "      <th>total_severe</th>\n",
       "      <th>total_input</th>\n",
       "      <th>total_storeConfirm</th>\n",
       "      <th>today_confirm</th>\n",
       "      <th>today_suspect</th>\n",
       "      <th>today_heal</th>\n",
       "      <th>today_dead</th>\n",
       "      <th>today_severe</th>\n",
       "      <th>today_storeConfirm</th>\n",
       "      <th>today_input</th>\n",
       "      <th>name</th>\n",
       "    </tr>\n",
       "  </thead>\n",
       "  <tbody>\n",
       "    <tr>\n",
       "      <th>0</th>\n",
       "      <td>2020-01-20</td>\n",
       "      <td>270</td>\n",
       "      <td>0</td>\n",
       "      <td>25</td>\n",
       "      <td>6</td>\n",
       "      <td>None</td>\n",
       "      <td>0</td>\n",
       "      <td>239</td>\n",
       "      <td>0</td>\n",
       "      <td>0</td>\n",
       "      <td>0</td>\n",
       "      <td>0</td>\n",
       "      <td>None</td>\n",
       "      <td>0</td>\n",
       "      <td>0</td>\n",
       "      <td>湖北省</td>\n",
       "    </tr>\n",
       "    <tr>\n",
       "      <th>1</th>\n",
       "      <td>2020-01-21</td>\n",
       "      <td>375</td>\n",
       "      <td>0</td>\n",
       "      <td>28</td>\n",
       "      <td>9</td>\n",
       "      <td>None</td>\n",
       "      <td>0</td>\n",
       "      <td>338</td>\n",
       "      <td>105</td>\n",
       "      <td>0</td>\n",
       "      <td>3</td>\n",
       "      <td>3</td>\n",
       "      <td>None</td>\n",
       "      <td>0</td>\n",
       "      <td>0</td>\n",
       "      <td>湖北省</td>\n",
       "    </tr>\n",
       "    <tr>\n",
       "      <th>2</th>\n",
       "      <td>2020-01-22</td>\n",
       "      <td>444</td>\n",
       "      <td>0</td>\n",
       "      <td>28</td>\n",
       "      <td>17</td>\n",
       "      <td>None</td>\n",
       "      <td>0</td>\n",
       "      <td>399</td>\n",
       "      <td>69</td>\n",
       "      <td>0</td>\n",
       "      <td>0</td>\n",
       "      <td>8</td>\n",
       "      <td>None</td>\n",
       "      <td>0</td>\n",
       "      <td>0</td>\n",
       "      <td>湖北省</td>\n",
       "    </tr>\n",
       "    <tr>\n",
       "      <th>3</th>\n",
       "      <td>2020-01-23</td>\n",
       "      <td>549</td>\n",
       "      <td>0</td>\n",
       "      <td>31</td>\n",
       "      <td>24</td>\n",
       "      <td>None</td>\n",
       "      <td>0</td>\n",
       "      <td>494</td>\n",
       "      <td>105</td>\n",
       "      <td>0</td>\n",
       "      <td>3</td>\n",
       "      <td>7</td>\n",
       "      <td>None</td>\n",
       "      <td>0</td>\n",
       "      <td>0</td>\n",
       "      <td>湖北省</td>\n",
       "    </tr>\n",
       "    <tr>\n",
       "      <th>4</th>\n",
       "      <td>2020-01-24</td>\n",
       "      <td>729</td>\n",
       "      <td>0</td>\n",
       "      <td>32</td>\n",
       "      <td>39</td>\n",
       "      <td>None</td>\n",
       "      <td>0</td>\n",
       "      <td>658</td>\n",
       "      <td>180</td>\n",
       "      <td>0</td>\n",
       "      <td>1</td>\n",
       "      <td>15</td>\n",
       "      <td>None</td>\n",
       "      <td>0</td>\n",
       "      <td>0</td>\n",
       "      <td>湖北省</td>\n",
       "    </tr>\n",
       "  </tbody>\n",
       "</table>\n",
       "</div>"
      ],
      "text/plain": [
       "         date  total_confirm  total_suspect  total_heal  total_dead  \\\n",
       "0  2020-01-20            270              0          25           6   \n",
       "1  2020-01-21            375              0          28           9   \n",
       "2  2020-01-22            444              0          28          17   \n",
       "3  2020-01-23            549              0          31          24   \n",
       "4  2020-01-24            729              0          32          39   \n",
       "\n",
       "  total_severe  total_input  total_storeConfirm  today_confirm  today_suspect  \\\n",
       "0         None            0                 239              0              0   \n",
       "1         None            0                 338            105              0   \n",
       "2         None            0                 399             69              0   \n",
       "3         None            0                 494            105              0   \n",
       "4         None            0                 658            180              0   \n",
       "\n",
       "   today_heal  today_dead today_severe  today_storeConfirm  today_input name  \n",
       "0           0           0         None                   0            0  湖北省  \n",
       "1           3           3         None                   0            0  湖北省  \n",
       "2           0           8         None                   0            0  湖北省  \n",
       "3           3           7         None                   0            0  湖北省  \n",
       "4           1          15         None                   0            0  湖北省  "
      ]
     },
     "execution_count": 30,
     "metadata": {},
     "output_type": "execute_result"
    }
   ],
   "source": [
    "data_test = get_data(data_json['data']['list'],['date'])\n",
    "data_test['name'] = '湖北省'\n",
    "data_test.head()"
   ]
  },
  {
   "cell_type": "code",
   "execution_count": 31,
   "metadata": {},
   "outputs": [
    {
     "data": {
      "text/html": [
       "<div>\n",
       "<style scoped>\n",
       "    .dataframe tbody tr th:only-of-type {\n",
       "        vertical-align: middle;\n",
       "    }\n",
       "\n",
       "    .dataframe tbody tr th {\n",
       "        vertical-align: top;\n",
       "    }\n",
       "\n",
       "    .dataframe thead th {\n",
       "        text-align: right;\n",
       "    }\n",
       "</style>\n",
       "<table border=\"1\" class=\"dataframe\">\n",
       "  <thead>\n",
       "    <tr style=\"text-align: right;\">\n",
       "      <th></th>\n",
       "      <th>id</th>\n",
       "      <th>name</th>\n",
       "    </tr>\n",
       "  </thead>\n",
       "  <tbody>\n",
       "    <tr>\n",
       "      <th>0</th>\n",
       "      <td>420000</td>\n",
       "      <td>湖北</td>\n",
       "    </tr>\n",
       "    <tr>\n",
       "      <th>1</th>\n",
       "      <td>810000</td>\n",
       "      <td>香港</td>\n",
       "    </tr>\n",
       "    <tr>\n",
       "      <th>2</th>\n",
       "      <td>440000</td>\n",
       "      <td>广东</td>\n",
       "    </tr>\n",
       "    <tr>\n",
       "      <th>3</th>\n",
       "      <td>310000</td>\n",
       "      <td>上海</td>\n",
       "    </tr>\n",
       "    <tr>\n",
       "      <th>4</th>\n",
       "      <td>330000</td>\n",
       "      <td>浙江</td>\n",
       "    </tr>\n",
       "  </tbody>\n",
       "</table>\n",
       "</div>"
      ],
      "text/plain": [
       "       id name\n",
       "0  420000   湖北\n",
       "1  810000   香港\n",
       "2  440000   广东\n",
       "3  310000   上海\n",
       "4  330000   浙江"
      ]
     },
     "execution_count": 31,
     "metadata": {},
     "output_type": "execute_result"
    }
   ],
   "source": [
    "today_province[['id','name']].head()"
   ]
  },
  {
   "cell_type": "code",
   "execution_count": 32,
   "metadata": {},
   "outputs": [
    {
     "name": "stdout",
     "output_type": "stream",
     "text": [
      "1 q\n",
      "2 w\n",
      "3 e\n",
      "4 r\n"
     ]
    }
   ],
   "source": [
    "#为了便于写入各省的名称，我们需要生成一个各省行政代码和省名称对应的字典。\n",
    "a = ['1','2','3','4']\n",
    "b = ['q','w','e','r']\n",
    "\n",
    "for i,j in zip(a, b):\n",
    "    print(i,j)"
   ]
  },
  {
   "cell_type": "code",
   "execution_count": 33,
   "metadata": {},
   "outputs": [
    {
     "data": {
      "text/plain": [
       "{'1': 'q', '2': 'w', '3': 'e', '4': 'r'}"
      ]
     },
     "execution_count": 33,
     "metadata": {},
     "output_type": "execute_result"
    }
   ],
   "source": [
    "{ i:j  for i,j in zip(a, b)}"
   ]
  },
  {
   "cell_type": "code",
   "execution_count": 34,
   "metadata": {},
   "outputs": [
    {
     "name": "stdout",
     "output_type": "stream",
     "text": [
      "420000 湖北\n",
      "810000 香港\n",
      "440000 广东\n",
      "310000 上海\n",
      "330000 浙江\n"
     ]
    }
   ],
   "source": [
    "province_dict = {num:name for num,name in zip(today_province['id'],today_province['name'])}\n",
    "\n",
    "# 查看前五个内容\n",
    "count = 0\n",
    "for i in province_dict:\n",
    "    print(i,province_dict[i])\n",
    "    count += 1\n",
    "    if count == 5:\n",
    "        break"
   ]
  },
  {
   "cell_type": "code",
   "execution_count": 35,
   "metadata": {},
   "outputs": [
    {
     "data": {
      "text/html": [
       "<div>\n",
       "<style scoped>\n",
       "    .dataframe tbody tr th:only-of-type {\n",
       "        vertical-align: middle;\n",
       "    }\n",
       "\n",
       "    .dataframe tbody tr th {\n",
       "        vertical-align: top;\n",
       "    }\n",
       "\n",
       "    .dataframe thead th {\n",
       "        text-align: right;\n",
       "    }\n",
       "</style>\n",
       "<table border=\"1\" class=\"dataframe\">\n",
       "  <thead>\n",
       "    <tr style=\"text-align: right;\">\n",
       "      <th></th>\n",
       "      <th>a</th>\n",
       "      <th>b</th>\n",
       "      <th>c</th>\n",
       "    </tr>\n",
       "  </thead>\n",
       "  <tbody>\n",
       "    <tr>\n",
       "      <th>0</th>\n",
       "      <td>1</td>\n",
       "      <td>2</td>\n",
       "      <td>3.0</td>\n",
       "    </tr>\n",
       "    <tr>\n",
       "      <th>1</th>\n",
       "      <td>111</td>\n",
       "      <td>222</td>\n",
       "      <td>NaN</td>\n",
       "    </tr>\n",
       "  </tbody>\n",
       "</table>\n",
       "</div>"
      ],
      "text/plain": [
       "     a    b    c\n",
       "0    1    2  3.0\n",
       "1  111  222  NaN"
      ]
     },
     "execution_count": 35,
     "metadata": {},
     "output_type": "execute_result"
    }
   ],
   "source": [
    "#每一个省的列名是相同的，因此多个省的数据合并起来就可以存入一个数据中，数据合并演示的例子如下：\n",
    "df1 = pd.DataFrame([{'a':1,'b':2,'c':3,},{'a':111,'b':222}])\n",
    "df1"
   ]
  },
  {
   "cell_type": "code",
   "execution_count": 36,
   "metadata": {},
   "outputs": [
    {
     "data": {
      "text/html": [
       "<div>\n",
       "<style scoped>\n",
       "    .dataframe tbody tr th:only-of-type {\n",
       "        vertical-align: middle;\n",
       "    }\n",
       "\n",
       "    .dataframe tbody tr th {\n",
       "        vertical-align: top;\n",
       "    }\n",
       "\n",
       "    .dataframe thead th {\n",
       "        text-align: right;\n",
       "    }\n",
       "</style>\n",
       "<table border=\"1\" class=\"dataframe\">\n",
       "  <thead>\n",
       "    <tr style=\"text-align: right;\">\n",
       "      <th></th>\n",
       "      <th>a</th>\n",
       "      <th>b</th>\n",
       "      <th>c</th>\n",
       "    </tr>\n",
       "  </thead>\n",
       "  <tbody>\n",
       "    <tr>\n",
       "      <th>0</th>\n",
       "      <td>9</td>\n",
       "      <td>8.0</td>\n",
       "      <td>7</td>\n",
       "    </tr>\n",
       "    <tr>\n",
       "      <th>1</th>\n",
       "      <td>345</td>\n",
       "      <td>NaN</td>\n",
       "      <td>789</td>\n",
       "    </tr>\n",
       "  </tbody>\n",
       "</table>\n",
       "</div>"
      ],
      "text/plain": [
       "     a    b    c\n",
       "0    9  8.0    7\n",
       "1  345  NaN  789"
      ]
     },
     "execution_count": 36,
     "metadata": {},
     "output_type": "execute_result"
    }
   ],
   "source": [
    "df2 = pd.DataFrame([{'a':9,'b':8,'c':7,},{'a':345,'c':789}])\n",
    "df2"
   ]
  },
  {
   "cell_type": "code",
   "execution_count": 37,
   "metadata": {},
   "outputs": [
    {
     "data": {
      "text/html": [
       "<div>\n",
       "<style scoped>\n",
       "    .dataframe tbody tr th:only-of-type {\n",
       "        vertical-align: middle;\n",
       "    }\n",
       "\n",
       "    .dataframe tbody tr th {\n",
       "        vertical-align: top;\n",
       "    }\n",
       "\n",
       "    .dataframe thead th {\n",
       "        text-align: right;\n",
       "    }\n",
       "</style>\n",
       "<table border=\"1\" class=\"dataframe\">\n",
       "  <thead>\n",
       "    <tr style=\"text-align: right;\">\n",
       "      <th></th>\n",
       "      <th>a</th>\n",
       "      <th>b</th>\n",
       "      <th>c</th>\n",
       "    </tr>\n",
       "  </thead>\n",
       "  <tbody>\n",
       "    <tr>\n",
       "      <th>0</th>\n",
       "      <td>1</td>\n",
       "      <td>2.0</td>\n",
       "      <td>3.0</td>\n",
       "    </tr>\n",
       "    <tr>\n",
       "      <th>1</th>\n",
       "      <td>111</td>\n",
       "      <td>222.0</td>\n",
       "      <td>NaN</td>\n",
       "    </tr>\n",
       "    <tr>\n",
       "      <th>0</th>\n",
       "      <td>9</td>\n",
       "      <td>8.0</td>\n",
       "      <td>7.0</td>\n",
       "    </tr>\n",
       "    <tr>\n",
       "      <th>1</th>\n",
       "      <td>345</td>\n",
       "      <td>NaN</td>\n",
       "      <td>789.0</td>\n",
       "    </tr>\n",
       "  </tbody>\n",
       "</table>\n",
       "</div>"
      ],
      "text/plain": [
       "     a      b      c\n",
       "0    1    2.0    3.0\n",
       "1  111  222.0    NaN\n",
       "0    9    8.0    7.0\n",
       "1  345    NaN  789.0"
      ]
     },
     "execution_count": 37,
     "metadata": {},
     "output_type": "execute_result"
    }
   ],
   "source": [
    "df1 = pd.concat([df1,df2],axis=0)\n",
    "df1"
   ]
  },
  {
   "cell_type": "code",
   "execution_count": null,
   "metadata": {},
   "outputs": [
    {
     "name": "stdout",
     "output_type": "stream",
     "text": [
      "-------------------- 湖北 成功 (354, 16) (354, 16) ,累计耗时: 0 --------------------\n",
      "-------------------- 香港 成功 (354, 16) (708, 16) ,累计耗时: 11 --------------------\n",
      "-------------------- 广东 成功 (352, 16) (1060, 16) ,累计耗时: 21 --------------------\n",
      "-------------------- 上海 成功 (338, 16) (1398, 16) ,累计耗时: 31 --------------------\n",
      "-------------------- 浙江 成功 (350, 16) (1748, 16) ,累计耗时: 42 --------------------\n",
      "-------------------- 河南 成功 (352, 16) (2100, 16) ,累计耗时: 52 --------------------\n",
      "-------------------- 湖南 成功 (349, 16) (2449, 16) ,累计耗时: 62 --------------------\n",
      "-------------------- 北京 成功 (346, 16) (2795, 16) ,累计耗时: 73 --------------------\n",
      "-------------------- 安徽 成功 (351, 16) (3146, 16) ,累计耗时: 83 --------------------\n"
     ]
    }
   ],
   "source": [
    "#按照上述方法，得到每一个省的数据后，进行合并。\n",
    "start = time.time()\n",
    "for province_id in province_dict: # 遍历各省编号\n",
    "    \n",
    "    try:\n",
    "        # 按照省编号访问每个省的数据地址，并获取json数据\n",
    "        url = 'https://c.m.163.com/ug/api/wuhan/app/data/list-by-area-code?areaCode='+province_id\n",
    "        r = requests.get(url, headers=headers)\n",
    "        data_json = json.loads(r.text)\n",
    "        \n",
    "        # 提取各省数据，然后写入各省名称\n",
    "        province_data = get_data(data_json['data']['list'],['date'])\n",
    "        province_data['name'] = province_dict[province_id]\n",
    "        \n",
    "        # 合并数据\n",
    "        if province_id == '420000':\n",
    "            alltime_province = province_data\n",
    "        else:\n",
    "            alltime_province = pd.concat([alltime_province,province_data])\n",
    "            \n",
    "        print('-'*20,province_dict[province_id],'成功',\n",
    "              province_data.shape,alltime_province.shape,\n",
    "              ',累计耗时:',round(time.time()-start),'-'*20)\n",
    "        \n",
    "        # 设置延迟等待\n",
    "        time.sleep(10)\n",
    "        \n",
    "    except:\n",
    "        print('-'*20,province_dict[province_id],'wrong','-'*20)"
   ]
  },
  {
   "cell_type": "code",
   "execution_count": null,
   "metadata": {},
   "outputs": [],
   "source": [
    "save_data(alltime_province,'alltime_province')"
   ]
  },
  {
   "cell_type": "markdown",
   "metadata": {},
   "source": [
    "# 世界各国历史数据爬取"
   ]
  },
  {
   "cell_type": "code",
   "execution_count": null,
   "metadata": {},
   "outputs": [],
   "source": [
    "#首先尝试爬取意大利的历史数据\n",
    "url_italy = 'https://c.m.163.com/ug/api/wuhan/app/data/list-by-area-code?areaCode=15'  # 意大利的数据地址\n",
    "r = requests.get(url_italy, headers=headers) # 进行访问\n",
    "italy_json = json.loads(r.text) # 导出json数据\n",
    "\n",
    "italy_json.keys()"
   ]
  },
  {
   "cell_type": "code",
   "execution_count": null,
   "metadata": {},
   "outputs": [],
   "source": [
    "italy_json['data'].keys()"
   ]
  },
  {
   "cell_type": "code",
   "execution_count": null,
   "metadata": {},
   "outputs": [],
   "source": [
    "italy_json['data']['list'][0] # 查看数据内容"
   ]
  },
  {
   "cell_type": "code",
   "execution_count": null,
   "metadata": {},
   "outputs": [],
   "source": [
    "#每个国家的数据格式和之前各省的几乎一样，因此使用定义好的方法生成数据，然后把国家名称写入数据。\n",
    "data_italy = get_data(italy_json['data']['list'],['date']) # 生成数据\n",
    "data_italy['name'] = '意大利' # 写入国家名称\n",
    "data_italy.head()"
   ]
  },
  {
   "cell_type": "code",
   "execution_count": null,
   "metadata": {},
   "outputs": [],
   "source": [
    "#因为原始数据中没有国家名称，为了得到每个国家的名称，需要生成国家编号和国家名称的键值对，\n",
    "#这样就可以存储国家名称，在之前的世界各国实时数据today_world中有国家的编号和名称，可以用它来生成键值对。\n",
    "\n",
    "today_world[['id','name']].head()\n",
    "country_dict = {key:value for key,value in zip(today_world['id'], today_world['name'])}\n",
    "\n",
    "# 查看前五个内容\n",
    "count = 0\n",
    "for i in country_dict:\n",
    "    print(i,country_dict[i])\n",
    "    count += 1\n",
    "    if count == 5:\n",
    "        break"
   ]
  },
  {
   "cell_type": "code",
   "execution_count": null,
   "metadata": {},
   "outputs": [],
   "source": [
    "#通过每个国家的编号访问每个国家历史数据的地址，然后获取每一个国家的历史数据\n",
    "start = time.time()\n",
    "for country_id in country_dict: # 遍历每个国家的编号\n",
    "    \n",
    "    try:\n",
    "        # 按照编号访问每个国家的数据地址，并获取json数据\n",
    "        url = 'https://c.m.163.com/ug/api/wuhan/app/data/list-by-area-code?areaCode='+country_id\n",
    "        r = requests.get(url, headers=headers)\n",
    "        json_data = json.loads(r.text)\n",
    "        \n",
    "        # 生成每个国家的数据\n",
    "        country_data = get_data(json_data['data']['list'],['date'])\n",
    "        country_data['name'] = country_dict[country_id]\n",
    "\n",
    "        # 数据叠加\n",
    "        if country_id == '9577772':\n",
    "            alltime_world = country_data\n",
    "        else:\n",
    "            alltime_world = pd.concat([alltime_world,country_data])\n",
    "            \n",
    "        print('-'*20,country_dict[country_id],'成功',country_data.shape,alltime_world.shape,\n",
    "              ',累计耗时:',round(time.time()-start),'-'*20)\n",
    "        \n",
    "        time.sleep(10)\n",
    "\n",
    "    except:\n",
    "        print('-'*20,country_dict[country_id],'wrong','-'*20)\n"
   ]
  },
  {
   "cell_type": "code",
   "execution_count": null,
   "metadata": {},
   "outputs": [],
   "source": [
    "save_data(alltime_world,'alltime_world')"
   ]
  },
  {
   "cell_type": "code",
   "execution_count": null,
   "metadata": {},
   "outputs": [],
   "source": []
  }
 ],
 "metadata": {
  "kernelspec": {
   "display_name": "Python 3",
   "language": "python",
   "name": "python3"
  },
  "language_info": {
   "codemirror_mode": {
    "name": "ipython",
    "version": 3
   },
   "file_extension": ".py",
   "mimetype": "text/x-python",
   "name": "python",
   "nbconvert_exporter": "python",
   "pygments_lexer": "ipython3",
   "version": "3.7.6"
  }
 },
 "nbformat": 4,
 "nbformat_minor": 2
}

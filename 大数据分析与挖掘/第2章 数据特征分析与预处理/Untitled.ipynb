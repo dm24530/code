{
 "cells": [
  {
   "cell_type": "markdown",
   "metadata": {},
   "source": [
    "# 等宽分箱法"
   ]
  },
  {
   "cell_type": "code",
   "execution_count": 38,
   "metadata": {},
   "outputs": [],
   "source": [
    "import pandas as pd \n",
    "import numpy as np\n",
    "import pandas as pd \n",
    "from pandas import Series,DataFrame "
   ]
  },
  {
   "cell_type": "code",
   "execution_count": 30,
   "metadata": {},
   "outputs": [
    {
     "data": {
      "text/plain": [
       "array([35, 33, 62, 18,  7, 89, 12, 48, 10, 22, 20, 53, 25, 29, 21,  2, 41,\n",
       "       18, 31, 79])"
      ]
     },
     "execution_count": 30,
     "metadata": {},
     "output_type": "execute_result"
    }
   ],
   "source": [
    "num_list=np.random.randint(1,100,size=20)\n",
    "num_list"
   ]
  },
  {
   "cell_type": "code",
   "execution_count": 31,
   "metadata": {},
   "outputs": [
    {
     "data": {
      "text/plain": [
       "array([ 2,  7, 10, 12, 18, 18, 20, 21, 22, 25, 29, 31, 33, 35, 41, 48, 53,\n",
       "       62, 79, 89])"
      ]
     },
     "execution_count": 31,
     "metadata": {},
     "output_type": "execute_result"
    }
   ],
   "source": [
    "num_sort=np.sort(num_list)\n",
    "num_sort"
   ]
  },
  {
   "cell_type": "code",
   "execution_count": 32,
   "metadata": {},
   "outputs": [],
   "source": [
    "bins=[0,20,40,60,80,100]"
   ]
  },
  {
   "cell_type": "code",
   "execution_count": 33,
   "metadata": {},
   "outputs": [
    {
     "data": {
      "text/plain": [
       "[(0, 20], (0, 20], (0, 20], (0, 20], (0, 20], ..., (40, 60], (40, 60], (60, 80], (60, 80], (80, 100]]\n",
       "Length: 20\n",
       "Categories (5, interval[int64]): [(0, 20] < (20, 40] < (40, 60] < (60, 80] < (80, 100]]"
      ]
     },
     "execution_count": 33,
     "metadata": {},
     "output_type": "execute_result"
    }
   ],
   "source": [
    "pd.cut(num_sort,bins)"
   ]
  },
  {
   "cell_type": "code",
   "execution_count": 34,
   "metadata": {},
   "outputs": [],
   "source": [
    "num_cut=pd.cut(num_sort,bins)"
   ]
  },
  {
   "cell_type": "code",
   "execution_count": 35,
   "metadata": {},
   "outputs": [
    {
     "data": {
      "text/plain": [
       "(20, 40]     7\n",
       "(0, 20]      7\n",
       "(40, 60]     3\n",
       "(60, 80]     2\n",
       "(80, 100]    1\n",
       "dtype: int64"
      ]
     },
     "execution_count": 35,
     "metadata": {},
     "output_type": "execute_result"
    }
   ],
   "source": [
    "pd.value_counts(num_cut)"
   ]
  },
  {
   "cell_type": "code",
   "execution_count": 36,
   "metadata": {},
   "outputs": [
    {
     "data": {
      "text/plain": [
       "[(0, 20], (0, 20], (0, 20], (0, 20], (0, 20], ..., (40, 60], (40, 60], (60, 80], (60, 80], (80, 100]]\n",
       "Length: 20\n",
       "Categories (5, interval[int64]): [(0, 20] < (20, 40] < (40, 60] < (60, 80] < (80, 100]]"
      ]
     },
     "execution_count": 36,
     "metadata": {},
     "output_type": "execute_result"
    }
   ],
   "source": [
    "df=DataFrame()\n",
    "df['num']=num_list\n",
    "df\n",
    "num_cut"
   ]
  },
  {
   "cell_type": "code",
   "execution_count": 37,
   "metadata": {},
   "outputs": [
    {
     "data": {
      "text/plain": [
       "0      (20, 40]\n",
       "1      (20, 40]\n",
       "2      (60, 80]\n",
       "3       (0, 20]\n",
       "4       (0, 20]\n",
       "5     (80, 100]\n",
       "6       (0, 20]\n",
       "7      (40, 60]\n",
       "8       (0, 20]\n",
       "9      (20, 40]\n",
       "10      (0, 20]\n",
       "11     (40, 60]\n",
       "12     (20, 40]\n",
       "13     (20, 40]\n",
       "14     (20, 40]\n",
       "15      (0, 20]\n",
       "16     (40, 60]\n",
       "17      (0, 20]\n",
       "18     (20, 40]\n",
       "19     (60, 80]\n",
       "Name: num, dtype: category\n",
       "Categories (5, interval[int64]): [(0, 20] < (20, 40] < (40, 60] < (60, 80] < (80, 100]]"
      ]
     },
     "execution_count": 37,
     "metadata": {},
     "output_type": "execute_result"
    }
   ],
   "source": [
    "pd.cut(df['num'],bins)"
   ]
  },
  {
   "cell_type": "markdown",
   "metadata": {},
   "source": [
    "# 等深分箱法"
   ]
  },
  {
   "cell_type": "code",
   "execution_count": 78,
   "metadata": {},
   "outputs": [
    {
     "data": {
      "text/plain": [
       "[2, 7, 10, 12, 18, 18, 20, 21, 22, 25, 29, 31, 33, 35, 41, 48, 53, 62, 79, 89]"
      ]
     },
     "execution_count": 78,
     "metadata": {},
     "output_type": "execute_result"
    }
   ],
   "source": [
    "a = [35, 33, 62, 18,  7, 89, 12, 48, 10, 22, 20, 53, 25, 29, 21,  2, 41,18, 31, 79]\n",
    "a.sort()\n",
    "a"
   ]
  },
  {
   "cell_type": "code",
   "execution_count": 79,
   "metadata": {},
   "outputs": [],
   "source": [
    "deep = 4"
   ]
  },
  {
   "cell_type": "code",
   "execution_count": 80,
   "metadata": {},
   "outputs": [],
   "source": [
    "num = int(len(a)/deep)      "
   ]
  },
  {
   "cell_type": "code",
   "execution_count": 81,
   "metadata": {},
   "outputs": [
    {
     "name": "stdout",
     "output_type": "stream",
     "text": [
      "[[2, 7, 10, 12], [18, 18, 20, 21], [22, 25, 29, 31], [33, 35, 41, 48], [53, 62, 79, 89]]\n"
     ]
    }
   ],
   "source": [
    "b = []\n",
    "for i in range(0,num):\n",
    "    a_list = []\n",
    "    for j in range(deep*i,deep*(i+1)):\n",
    "        c_dict = {}\n",
    "        c_dict = a[j]\n",
    "        a_list.append(c_dict)\n",
    "    b.append(a_list)\n",
    "print(b)    "
   ]
  },
  {
   "cell_type": "code",
   "execution_count": null,
   "metadata": {},
   "outputs": [],
   "source": []
  }
 ],
 "metadata": {
  "kernelspec": {
   "display_name": "Python 3",
   "language": "python",
   "name": "python3"
  },
  "language_info": {
   "codemirror_mode": {
    "name": "ipython",
    "version": 3
   },
   "file_extension": ".py",
   "mimetype": "text/x-python",
   "name": "python",
   "nbconvert_exporter": "python",
   "pygments_lexer": "ipython3",
   "version": "3.7.6"
  }
 },
 "nbformat": 4,
 "nbformat_minor": 4
}

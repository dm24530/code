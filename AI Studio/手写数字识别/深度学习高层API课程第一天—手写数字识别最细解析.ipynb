{
 "cells": [
  {
   "cell_type": "markdown",
   "metadata": {
    "collapsed": false
   },
   "source": [
    "## paddle深度学习高层API第一天"
   ]
  },
  {
   "cell_type": "markdown",
   "metadata": {
    "collapsed": false
   },
   "source": [
    "7天的课程能干什么？\n",
    "\n",
    "你以为3天打鱼4天晒网就结束了嘛？\n",
    "\n",
    "不不不！\n",
    "\n",
    "充实的7天，靠谱的官方，你年前最好的会议~"
   ]
  },
  {
   "cell_type": "markdown",
   "metadata": {
    "collapsed": false
   },
   "source": [
    "### 课程说明\n",
    "[课程传送门](https://aistudio.baidu.com/aistudio/education/group/info/6771)\n",
    "\n",
    "* Day1、深度学习任务解析与高层API用法\n",
    "\n",
    "1.深度学习常见任务与解决方案通用套路\n",
    "\n",
    "2.高层 API 特点与具体用法\n",
    "\n",
    "\n",
    "* Day2、基于resnet的十二生肖分类任务详解\n",
    "\n",
    "1.深度学习CV方向必会模型结构解析\n",
    "\n",
    "2.多分类深度学习任务解析与代码实战\n",
    "\n",
    "\n",
    "Day3、深度学习CV进阶：人脸关键点检测\n",
    "\n",
    "1.检测任务原理解析\n",
    "\n",
    "2.人脸关键点检测项目代码实战\n",
    "\n",
    "\n",
    "Day4、深度学习NLP基础与情感分析实现\n",
    "\n",
    "1.NLP任务中的模型组网与训练评估\n",
    "\n",
    "2.从语义识别到情感分析实现\n",
    "\n",
    "\n",
    "Day5、深度学习NLP进阶：AI写对联\n",
    "\n",
    "1.seq2seq与attention机制\n",
    "\n",
    "2.AI写对联模型组网与代码实战\n",
    "\n",
    "Day6、玩转开源社区与模型部署\n",
    "\n",
    "1.如何优雅的（白嫖）使用开源社区\n",
    "\n",
    "2.鱼类分类的模型部署\n",
    "\n",
    "3.必备知识点与端侧模型部署\n",
    "\n",
    "Day7、作业讲评、小春晚颁奖、预拜年\n",
    "\n",
    "[最强课程资料整理传送门](https://ai.baidu.com/forum/topic/show/982718)"
   ]
  },
  {
   "cell_type": "markdown",
   "metadata": {
    "collapsed": false
   },
   "source": [
    ">大家好，这里是三岁，别的不会，擅长白话，今天就是我们的白话系列，内容是paddle2.0新出的高程API，在这里的七日打卡营0基础学习，emmm我这个负基础的也来凑凑热闹，那么就开始吧~~~~\n",
    "\n",
    ">注：以下白话内容为个人理解，如有不同看法和观点及不对的地方欢迎大家批评指正！\n"
   ]
  },
  {
   "cell_type": "markdown",
   "metadata": {
    "collapsed": false
   },
   "source": [
    "## 传说中的第四次“工业革命”\n",
    "![在这里插入图片描述](https://img-blog.csdnimg.cn/20210204123024713.png?x-oss-process=image/watermark,type_ZmFuZ3poZW5naGVpdGk,shadow_10,text_aHR0cHM6Ly9ibG9nLmNzZG4ubmV0L3dlaXhpbl80NTYyMzA5Mw==,size_16,color_FFFFFF,t_70)\n",
    "【白话时间】人工智能缩写AI，大家已经见过很多的人工智能产品，而且越来越多的产品在不断的涌现，质量效果也越来越好\n",
    "前几年有一个对人工智能的爱称“人工智障”训练的好是人工智能训练不好是“人工智障”，但是近年来，水平的不断提高，在非常多方面已经超过了之前的水平，甚至有非常有意义的使用价值（~~部分方面超过人~~ ）\n",
    "\n",
    "那么人工智能下面有哪些分支和我们要学的深度学习又有说没关系嗯？\n",
    "![在这里插入图片描述](https://img-blog.csdnimg.cn/20210204125001704.png?x-oss-process=image/watermark,type_ZmFuZ3poZW5naGVpdGk,shadow_10,text_aHR0cHM6Ly9ibG9nLmNzZG4ubmV0L3dlaXhpbl80NTYyMzA5Mw==,size_16,color_FFFFFF,t_70)\n",
    ">人工智能>机器学习>深度学习\n",
    "\n",
    "人工智能大家都知道那么什么是机器学习？？？\n",
    "回顾人类的历史长河，我们是怎么样一步一步的创新，发展的？\n",
    "在生物中这个叫做变异，当然有正确的有错误的，所以就有了现在大家说知晓的适者生存，不适者淘汰的理论\n",
    "\n",
    "那么机器可不可以通过不断的尝试试错得到一个比较好的理论呢？？？\n",
    "![在这里插入图片描述](https://img-blog.csdnimg.cn/20210204131852959.png?x-oss-process=image/watermark,type_ZmFuZ3poZW5naGVpdGk,shadow_10,text_aHR0cHM6Ly9ibG9nLmNzZG4ubmV0L3dlaXhpbl80NTYyMzA5Mw==,size_16,color_FFFFFF,t_70)\n",
    "看到这个图就知道了，其实 是一样的，规律就是大家不断探索以后得到的一个结果，也就是一个试错的过程。通过我们构建的一个规则然后机器通过算力不断的探索，最后得到一个比较好的结果，这个结果就是传说中的“规律”。\n",
    "\n",
    "机器学习就是通过一个“函数”（模型）来判断输出你想要的比较合适的一个结果\n",
    "\n",
    "深度学习就是通过一些神经网络等方法，提取我们的一些特征进行处理。\n",
    "计算机识别的都是二进制内容不好理解\n",
    "\n",
    "我们举一个栗子大家就明白了，如果说水果是臭的带刺的你们会想到什么水果，那基本上就是榴莲，通过几个特殊的特征进行提取。\n",
    "\n",
    "![在这里插入图片描述](https://img-blog.csdnimg.cn/20210204133047668.png?x-oss-process=image/watermark,type_ZmFuZ3poZW5naGVpdGk,shadow_10,text_aHR0cHM6Ly9ibG9nLmNzZG4ubmV0L3dlaXhpbl80NTYyMzA5Mw==,size_16,color_FFFFFF,t_70)"
   ]
  },
  {
   "cell_type": "markdown",
   "metadata": {
    "collapsed": false
   },
   "source": [
    "### 神经网络\n",
    "![在这里插入图片描述](https://img-blog.csdnimg.cn/20210204133413807.png?x-oss-process=image/watermark,type_ZmFuZ3poZW5naGVpdGk,shadow_10,text_aHR0cHM6Ly9ibG9nLmNzZG4ubmV0L3dlaXhpbl80NTYyMzA5Mw==,size_16,color_FFFFFF,t_70)\n",
    "**神经元**：和我们的神经元类似，但是他更类似于数学函数里面的斜率之类的一些重要参数。（有加权和、激活函数等构成）\n",
    "\n",
    "**多层神经网络**：相对应人类的神经传导，输入相对应接受电信号并传输到大脑皮层的一个过程，**前向计算**:相对应大脑给出一个指令然后进行运行；**返回传播**：相对应输入信息不断更新后大脑发出指令完成系列任务，输出相对应完成一件事情。\n",
    ">栗子：手碰到针，大脑皮层会产生痛觉然后大脑（应该是脑干）会发出收手的信号然后会一直检测直到痛感消失。\n",
    "\n",
    "![在这里插入图片描述](https://img-blog.csdnimg.cn/20210204141446620.png?x-oss-process=image/watermark,type_ZmFuZ3poZW5naGVpdGk,shadow_10,text_aHR0cHM6Ly9ibG9nLmNzZG4ubmV0L3dlaXhpbl80NTYyMzA5Mw==,size_16,color_FFFFFF,t_70)\n",
    "![在这里插入图片描述](https://img-blog.csdnimg.cn/2021020414153195.png?x-oss-process=image/watermark,type_ZmFuZ3poZW5naGVpdGk,shadow_10,text_aHR0cHM6Ly9ibG9nLmNzZG4ubmV0L3dlaXhpbl80NTYyMzA5Mw==,size_16,color_FFFFFF,t_70)\n",
    "![在这里插入图片描述](https://img-blog.csdnimg.cn/20210204141542450.png?x-oss-process=image/watermark,type_ZmFuZ3poZW5naGVpdGk,shadow_10,text_aHR0cHM6Ly9ibG9nLmNzZG4ubmV0L3dlaXhpbl80NTYyMzA5Mw==,size_16,color_FFFFFF,t_70)\n",
    "在不断的发展过程，越来越多的内容标准化，逐步的形成了一些框架和架构。"
   ]
  },
  {
   "cell_type": "markdown",
   "metadata": {
    "collapsed": false
   },
   "source": [
    "### 深度学习万能开发公示\n",
    "![在这里插入图片描述](https://img-blog.csdnimg.cn/20210204144558903.png?x-oss-process=image/watermark,type_ZmFuZ3poZW5naGVpdGk,shadow_10,text_aHR0cHM6Ly9ibG9nLmNzZG4ubmV0L3dlaXhpbl80NTYyMzA5Mw==,size_16,color_FFFFFF,t_70)\n",
    "深度学习训练就像是我们平时的考试，数据是知识，模型是我们的大脑，调优就是我们学习的方法，最后的预测相对应我们的考试，评价我们对知识的掌握情况\n",
    "![在这里插入图片描述](https://img-blog.csdnimg.cn/20210204145236941.png?x-oss-process=image/watermark,type_ZmFuZ3poZW5naGVpdGk,shadow_10,text_aHR0cHM6Ly9ibG9nLmNzZG4ubmV0L3dlaXhpbl80NTYyMzA5Mw==,size_16,color_FFFFFF,t_70)\n",
    "里面的\n",
    "loss是用于评判模型训练过程好坏的一个值，相对应我们平时对学习方法的一种认可与否。\n",
    "score这是判断学习成果的，相对应单元测试卷（以上是个人认知，不对可以批评指正，相互学习）\n",
    "![在这里插入图片描述](https://img-blog.csdnimg.cn/2021020414550229.png?x-oss-process=image/watermark,type_ZmFuZ3poZW5naGVpdGk,shadow_10,text_aHR0cHM6Ly9ibG9nLmNzZG4ubmV0L3dlaXhpbl80NTYyMzA5Mw==,size_16,color_FFFFFF,t_70)"
   ]
  },
  {
   "cell_type": "markdown",
   "metadata": {
    "collapsed": false
   },
   "source": [
    "#### 闻说双飞桨，翩然下广津\n",
    "* 飞桨\n",
    "[官网传送门](https://www.paddlepaddle.org.cn/)\n",
    "![在这里插入图片描述](https://img-blog.csdnimg.cn/20210204150451722.png?x-oss-process=image/watermark,type_ZmFuZ3poZW5naGVpdGk,shadow_10,text_aHR0cHM6Ly9ibG9nLmNzZG4ubmV0L3dlaXhpbl80NTYyMzA5Mw==,size_16,color_FFFFFF,t_70)\n",
    "![在这里插入图片描述](https://img-blog.csdnimg.cn/2021020415053168.png?x-oss-process=image/watermark,type_ZmFuZ3poZW5naGVpdGk,shadow_10,text_aHR0cHM6Ly9ibG9nLmNzZG4ubmV0L3dlaXhpbl80NTYyMzA5Mw==,size_16,color_FFFFFF,t_70)\n",
    "\n",
    "* paddle的高层API\n",
    "里面涵盖了大量的基础API和实现方法，使用方便快捷\n",
    "[API文档传送门](https://www.paddlepaddle.org.cn/documentation/docs/zh/api/index_cn.html)\n",
    "![在这里插入图片描述](https://img-blog.csdnimg.cn/20210204151415884.png?x-oss-process=image/watermark,type_ZmFuZ3poZW5naGVpdGk,shadow_10,text_aHR0cHM6Ly9ibG9nLmNzZG4ubmV0L3dlaXhpbl80NTYyMzA5Mw==,size_16,color_FFFFFF,t_70#pic_center)"
   ]
  },
  {
   "cell_type": "markdown",
   "metadata": {
    "collapsed": false
   },
   "source": [
    "### 手写数字识别实战\n",
    "![在这里插入图片描述](https://img-blog.csdnimg.cn/20210204152107342.png?x-oss-process=image/watermark,type_ZmFuZ3poZW5naGVpdGk,shadow_10,text_aHR0cHM6Ly9ibG9nLmNzZG4ubmV0L3dlaXhpbl80NTYyMzA5Mw==,size_16,color_FFFFFF,t_70)\n",
    "\n",
    "这个内容三岁之前也做过，看了一下发现没有那么的详细但是还是恬不知耻把项目链接什么的贴出来，有兴趣的小伙伴可以去看看\n",
    "\n",
    "[『深度学习7日打卡营』第1课案例：手写数字识别](https://aistudio.baidu.com/aistudio/projectdetail/1495354?channelType=0&channel=0)（课程代码地址）\n",
    "\n",
    "[PaddlePaddle2.0 ——手写数字识别](https://aistudio.baidu.com/aistudio/projectdetail/1324628)（三岁白话paddle项目）\n",
    "\n",
    " [\\[三岁白话系列\\]PaddlePaddle2.0——手写数字识别](https://editor.csdn.net/md/?articleId=111291633)（三岁白话paddle系列博客）\n",
    "\n",
    "![在这里插入图片描述](https://img-blog.csdnimg.cn/20210204152653594.png?x-oss-process=image/watermark,type_ZmFuZ3poZW5naGVpdGk,shadow_10,text_aHR0cHM6Ly9ibG9nLmNzZG4ubmV0L3dlaXhpbl80NTYyMzA5Mw==,size_16,color_FFFFFF,t_70)\n",
    "\n",
    "[官网传送门](http://yann.lecun.com/exdb/mnist/)\n",
    "\n",
    "![在这里插入图片描述](https://img-blog.csdnimg.cn/20210204152852858.png?x-oss-process=image/watermark,type_ZmFuZ3poZW5naGVpdGk,shadow_10,text_aHR0cHM6Ly9ibG9nLmNzZG4ubmV0L3dlaXhpbl80NTYyMzA5Mw==,size_16,color_FFFFFF,t_70)\n",
    "\n",
    "![在这里插入图片描述](https://img-blog.csdnimg.cn/2021020415292856.png?x-oss-process=image/watermark,type_ZmFuZ3poZW5naGVpdGk,shadow_10,text_aHR0cHM6Ly9ibG9nLmNzZG4ubmV0L3dlaXhpbl80NTYyMzA5Mw==,size_16,color_FFFFFF,t_70)\n",
    "\n",
    "![在这里插入图片描述](https://img-blog.csdnimg.cn/20210204152939427.png?x-oss-process=image/watermark,type_ZmFuZ3poZW5naGVpdGk,shadow_10,text_aHR0cHM6Ly9ibG9nLmNzZG4ubmV0L3dlaXhpbl80NTYyMzA5Mw==,size_16,color_FFFFFF,t_70)\n",
    "\n",
    "![在这里插入图片描述](https://img-blog.csdnimg.cn/20210204153008461.png?x-oss-process=image/watermark,type_ZmFuZ3poZW5naGVpdGk,shadow_10,text_aHR0cHM6Ly9ibG9nLmNzZG4ubmV0L3dlaXhpbl80NTYyMzA5Mw==,size_16,color_FFFFFF,t_70)\n",
    "\n",
    "上面的4步就是我们完成一个书写数字识别的流程，接下来就是雨哥详细代码解析，有一说一，真的细节！\n",
    "\n",
    "[『深度学习7日打卡营』第1课案例：手写数字识别](https://aistudio.baidu.com/aistudio/projectdetail/1495354?channelType=0&channel=0)（课程代码地址）"
   ]
  },
  {
   "cell_type": "markdown",
   "metadata": {
    "collapsed": false
   },
   "source": [
    "### 代码解析"
   ]
  },
  {
   "cell_type": "code",
   "execution_count": 1,
   "metadata": {
    "collapsed": false
   },
   "outputs": [
    {
     "name": "stderr",
     "output_type": "stream",
     "text": [
      "/opt/conda/envs/python35-paddle120-env/lib/python3.7/site-packages/matplotlib/__init__.py:107: DeprecationWarning: Using or importing the ABCs from 'collections' instead of from 'collections.abc' is deprecated, and in 3.8 it will stop working\n",
      "  from collections import MutableMapping\n",
      "/opt/conda/envs/python35-paddle120-env/lib/python3.7/site-packages/matplotlib/rcsetup.py:20: DeprecationWarning: Using or importing the ABCs from 'collections' instead of from 'collections.abc' is deprecated, and in 3.8 it will stop working\n",
      "  from collections import Iterable, Mapping\n",
      "/opt/conda/envs/python35-paddle120-env/lib/python3.7/site-packages/matplotlib/colors.py:53: DeprecationWarning: Using or importing the ABCs from 'collections' instead of from 'collections.abc' is deprecated, and in 3.8 it will stop working\n",
      "  from collections import Sized\n"
     ]
    },
    {
     "data": {
      "text/plain": [
       "'2.0.0'"
      ]
     },
     "execution_count": 1,
     "metadata": {},
     "output_type": "execute_result"
    }
   ],
   "source": [
    "# 导入相关库\n",
    "import paddle\n",
    "import numpy as np\n",
    "import matplotlib.pyplot as plt\n",
    "\n",
    "paddle.__version__"
   ]
  },
  {
   "cell_type": "markdown",
   "metadata": {
    "collapsed": false
   },
   "source": [
    "# ② 数据准备\n",
    "\n",
    "## 2.1 数据加载和预处理"
   ]
  },
  {
   "cell_type": "code",
   "execution_count": 6,
   "metadata": {
    "collapsed": false
   },
   "outputs": [
    {
     "name": "stdout",
     "output_type": "stream",
     "text": [
      "训练集样本量: 60000，验证集样本量: 10000\n",
      "<paddle.vision.datasets.mnist.MNIST object at 0x7f95f36b1650>\n",
      "(array([[[-1.        , -1.        , -1.        , -1.        ,\n",
      "         -1.        , -1.        , -1.        , -1.        ,\n",
      "         -1.        , -1.        , -1.        , -1.        ,\n",
      "         -1.        , -1.        , -1.        , -1.        ,\n",
      "         -1.        , -1.        , -1.        , -1.        ,\n",
      "         -1.        , -1.        , -1.        , -1.        ,\n",
      "         -1.        , -1.        , -1.        , -1.        ],\n",
      "        [-1.        , -1.        , -1.        , -1.        ,\n",
      "         -1.        , -1.        , -1.        , -1.        ,\n",
      "         -1.        , -1.        , -1.        , -1.        ,\n",
      "         -1.        , -1.        , -1.        , -1.        ,\n",
      "         -1.        , -1.        , -1.        , -1.        ,\n",
      "         -1.        , -1.        , -1.        , -1.        ,\n",
      "         -1.        , -1.        , -1.        , -1.        ],\n",
      "        [-1.        , -1.        , -1.        , -1.        ,\n",
      "         -1.        , -1.        , -1.        , -1.        ,\n",
      "         -1.        , -1.        , -1.        , -1.        ,\n",
      "         -1.        , -1.        , -1.        , -1.        ,\n",
      "         -1.        , -1.        , -1.        , -1.        ,\n",
      "         -1.        , -1.        , -1.        , -1.        ,\n",
      "         -1.        , -1.        , -1.        , -1.        ],\n",
      "        [-1.        , -1.        , -1.        , -1.        ,\n",
      "         -1.        , -1.        , -1.        , -1.        ,\n",
      "         -1.        , -1.        , -1.        , -1.        ,\n",
      "         -1.        , -1.        , -1.        , -1.        ,\n",
      "         -1.        , -1.        , -1.        , -1.        ,\n",
      "         -1.        , -1.        , -1.        , -1.        ,\n",
      "         -1.        , -1.        , -1.        , -1.        ],\n",
      "        [-1.        , -1.        , -1.        , -1.        ,\n",
      "         -1.        , -1.        , -1.        , -1.        ,\n",
      "         -1.        , -1.        , -1.        , -1.        ,\n",
      "         -1.        , -1.        , -1.        , -0.6       ,\n",
      "          0.24705882,  0.9843137 ,  0.24705882, -0.60784316,\n",
      "         -1.        , -1.        , -1.        , -1.        ,\n",
      "         -1.        , -1.        , -1.        , -1.        ],\n",
      "        [-1.        , -1.        , -1.        , -1.        ,\n",
      "         -1.        , -1.        , -1.        , -1.        ,\n",
      "         -1.        , -1.        , -1.        , -1.        ,\n",
      "         -1.        , -1.        , -0.62352943,  0.8666667 ,\n",
      "          0.9764706 ,  0.9764706 ,  0.9764706 ,  0.85882354,\n",
      "         -1.        , -1.        , -1.        , -1.        ,\n",
      "         -1.        , -1.        , -1.        , -1.        ],\n",
      "        [-1.        , -1.        , -1.        , -1.        ,\n",
      "         -1.        , -1.        , -1.        , -1.        ,\n",
      "         -1.        , -1.        , -1.        , -1.        ,\n",
      "         -1.        , -0.5764706 ,  0.78039217,  0.9843137 ,\n",
      "          0.9764706 ,  0.8745098 ,  0.827451  ,  0.9764706 ,\n",
      "         -0.5529412 , -0.9529412 , -1.        , -1.        ,\n",
      "         -1.        , -1.        , -1.        , -1.        ],\n",
      "        [-1.        , -1.        , -1.        , -1.        ,\n",
      "         -1.        , -1.        , -1.        , -1.        ,\n",
      "         -1.        , -1.        , -1.        , -0.92156863,\n",
      "         -0.5294118 ,  0.75686276,  0.9764706 ,  0.9843137 ,\n",
      "          0.9764706 ,  0.58431375, -0.34117648,  0.9764706 ,\n",
      "          0.9843137 , -0.04313726, -1.        , -1.        ,\n",
      "         -1.        , -1.        , -1.        , -1.        ],\n",
      "        [-1.        , -1.        , -1.        , -1.        ,\n",
      "         -1.        , -1.        , -1.        , -1.        ,\n",
      "         -1.        , -1.        , -1.        ,  0.2784314 ,\n",
      "          0.9764706 ,  0.9764706 ,  0.9764706 ,  0.9843137 ,\n",
      "          0.9764706 ,  0.9764706 , -0.24705882,  0.48235294,\n",
      "          0.9843137 ,  0.30980393, -1.        , -1.        ,\n",
      "         -1.        , -1.        , -1.        , -1.        ],\n",
      "        [-1.        , -1.        , -1.        , -1.        ,\n",
      "         -1.        , -1.        , -1.        , -1.        ,\n",
      "         -1.        , -1.        , -0.6       ,  0.8666667 ,\n",
      "          0.9843137 ,  0.9843137 ,  0.49019608, -0.10588235,\n",
      "          0.9843137 ,  0.7882353 , -0.6313726 , -0.38039216,\n",
      "          1.        ,  0.31764707, -1.        , -1.        ,\n",
      "         -1.        , -1.        , -1.        , -1.        ],\n",
      "        [-1.        , -1.        , -1.        , -1.        ,\n",
      "         -1.        , -1.        , -1.        , -1.        ,\n",
      "         -1.        , -0.62352943,  0.8666667 ,  0.9764706 ,\n",
      "          0.9764706 ,  0.40392157, -0.90588236, -0.4117647 ,\n",
      "         -0.05098039, -0.8352941 , -1.        , -1.        ,\n",
      "          0.9843137 ,  0.90588236, -0.60784316, -1.        ,\n",
      "         -1.        , -1.        , -1.        , -1.        ],\n",
      "        [-1.        , -1.        , -1.        , -1.        ,\n",
      "         -1.        , -1.        , -1.        , -1.        ,\n",
      "         -0.7019608 ,  0.29411766,  0.9843137 ,  0.827451  ,\n",
      "          0.6313726 , -0.34117648, -1.        , -1.        ,\n",
      "         -1.        , -1.        , -1.        , -1.        ,\n",
      "          0.9843137 ,  0.9764706 ,  0.29411766, -1.        ,\n",
      "         -1.        , -1.        , -1.        , -1.        ],\n",
      "        [-1.        , -1.        , -1.        , -1.        ,\n",
      "         -1.        , -1.        , -1.        , -0.94509804,\n",
      "          0.39607844,  0.9764706 ,  0.88235295, -0.44313726,\n",
      "         -0.8509804 , -0.78039217, -1.        , -1.        ,\n",
      "         -1.        , -1.        , -1.        , -1.        ,\n",
      "          0.9843137 ,  0.9764706 ,  0.5294118 , -1.        ,\n",
      "         -1.        , -1.        , -1.        , -1.        ],\n",
      "        [-1.        , -1.        , -1.        , -1.        ,\n",
      "         -1.        , -1.        , -1.        , -0.5529412 ,\n",
      "          0.9764706 ,  0.9764706 , -0.5058824 , -1.        ,\n",
      "         -1.        , -1.        , -1.        , -1.        ,\n",
      "         -1.        , -1.        , -1.        , -1.        ,\n",
      "          0.9843137 ,  0.9764706 ,  0.5294118 , -1.        ,\n",
      "         -1.        , -1.        , -1.        , -1.        ],\n",
      "        [-1.        , -1.        , -1.        , -1.        ,\n",
      "         -1.        , -1.        , -1.        ,  0.5529412 ,\n",
      "          0.9843137 ,  0.49019608, -1.        , -1.        ,\n",
      "         -1.        , -1.        , -1.        , -1.        ,\n",
      "         -1.        , -1.        , -1.        , -1.        ,\n",
      "          1.        ,  0.9843137 ,  0.5372549 , -1.        ,\n",
      "         -1.        , -1.        , -1.        , -1.        ],\n",
      "        [-1.        , -1.        , -1.        , -1.        ,\n",
      "         -1.        , -1.        , -0.40392157,  0.92941177,\n",
      "          0.9764706 , -0.12156863, -1.        , -1.        ,\n",
      "         -1.        , -1.        , -1.        , -1.        ,\n",
      "         -1.        , -1.        , -1.        , -1.        ,\n",
      "          0.9843137 ,  0.9764706 ,  0.16078432, -1.        ,\n",
      "         -1.        , -1.        , -1.        , -1.        ],\n",
      "        [-1.        , -1.        , -1.        , -1.        ,\n",
      "         -1.        , -1.        , -0.33333334,  0.9764706 ,\n",
      "          0.8039216 , -0.8039216 , -1.        , -1.        ,\n",
      "         -1.        , -1.        , -1.        , -1.        ,\n",
      "         -1.        , -1.        , -0.94509804,  0.05882353,\n",
      "          0.9843137 ,  0.45882353, -0.90588236, -1.        ,\n",
      "         -1.        , -1.        , -1.        , -1.        ],\n",
      "        [-1.        , -1.        , -1.        , -1.        ,\n",
      "         -1.        , -1.        , -0.33333334,  0.9764706 ,\n",
      "          0.7490196 , -1.        , -1.        , -1.        ,\n",
      "         -1.        , -1.        , -1.        , -1.        ,\n",
      "         -1.        , -0.94509804,  0.02745098,  0.9764706 ,\n",
      "          0.7647059 , -0.44313726, -1.        , -1.        ,\n",
      "         -1.        , -1.        , -1.        , -1.        ],\n",
      "        [-1.        , -1.        , -1.        , -1.        ,\n",
      "         -1.        , -1.        , -0.33333334,  0.9764706 ,\n",
      "          0.13725491, -1.        , -1.        , -1.        ,\n",
      "         -1.        , -1.        , -1.        , -1.        ,\n",
      "         -0.62352943,  0.29411766,  0.9764706 ,  0.35686275,\n",
      "         -1.        , -1.        , -1.        , -1.        ,\n",
      "         -1.        , -1.        , -1.        , -1.        ],\n",
      "        [-1.        , -1.        , -1.        , -1.        ,\n",
      "         -1.        , -1.        , -0.3254902 ,  0.9843137 ,\n",
      "          0.7647059 , -1.        , -1.        , -1.        ,\n",
      "         -1.        , -1.        , -1.        , -0.10588235,\n",
      "          0.8666667 ,  0.9843137 ,  0.27058825, -1.        ,\n",
      "         -1.        , -1.        , -1.        , -1.        ,\n",
      "         -1.        , -1.        , -1.        , -1.        ],\n",
      "        [-1.        , -1.        , -1.        , -1.        ,\n",
      "         -1.        , -1.        , -0.33333334,  0.9764706 ,\n",
      "          0.9529412 ,  0.14509805, -0.62352943, -0.77254903,\n",
      "         -0.33333334,  0.39607844,  0.7647059 ,  0.9843137 ,\n",
      "          0.7490196 ,  0.30980393, -0.56078434, -1.        ,\n",
      "         -1.        , -1.        , -1.        , -1.        ,\n",
      "         -1.        , -1.        , -1.        , -1.        ],\n",
      "        [-1.        , -1.        , -1.        , -1.        ,\n",
      "         -1.        , -1.        , -0.33333334,  0.9764706 ,\n",
      "          0.9764706 ,  0.9764706 ,  0.79607844,  0.6862745 ,\n",
      "          0.9764706 ,  0.9764706 ,  0.9764706 ,  0.5372549 ,\n",
      "          0.01960784, -1.        , -1.        , -1.        ,\n",
      "         -1.        , -1.        , -1.        , -1.        ,\n",
      "         -1.        , -1.        , -1.        , -1.        ],\n",
      "        [-1.        , -1.        , -1.        , -1.        ,\n",
      "         -1.        , -1.        , -0.78039217,  0.56078434,\n",
      "          0.9764706 ,  0.9764706 ,  0.9843137 ,  0.9764706 ,\n",
      "          0.9764706 ,  0.827451  ,  0.13725491, -1.        ,\n",
      "         -1.        , -1.        , -1.        , -1.        ,\n",
      "         -1.        , -1.        , -1.        , -1.        ,\n",
      "         -1.        , -1.        , -1.        , -1.        ],\n",
      "        [-1.        , -1.        , -1.        , -1.        ,\n",
      "         -1.        , -1.        , -1.        , -0.8039216 ,\n",
      "          0.00392157,  0.9764706 ,  0.9843137 ,  0.9764706 ,\n",
      "          0.10588235, -0.70980394, -1.        , -1.        ,\n",
      "         -1.        , -1.        , -1.        , -1.        ,\n",
      "         -1.        , -1.        , -1.        , -1.        ,\n",
      "         -1.        , -1.        , -1.        , -1.        ],\n",
      "        [-1.        , -1.        , -1.        , -1.        ,\n",
      "         -1.        , -1.        , -1.        , -1.        ,\n",
      "         -1.        , -1.        , -1.        , -1.        ,\n",
      "         -1.        , -1.        , -1.        , -1.        ,\n",
      "         -1.        , -1.        , -1.        , -1.        ,\n",
      "         -1.        , -1.        , -1.        , -1.        ,\n",
      "         -1.        , -1.        , -1.        , -1.        ],\n",
      "        [-1.        , -1.        , -1.        , -1.        ,\n",
      "         -1.        , -1.        , -1.        , -1.        ,\n",
      "         -1.        , -1.        , -1.        , -1.        ,\n",
      "         -1.        , -1.        , -1.        , -1.        ,\n",
      "         -1.        , -1.        , -1.        , -1.        ,\n",
      "         -1.        , -1.        , -1.        , -1.        ,\n",
      "         -1.        , -1.        , -1.        , -1.        ],\n",
      "        [-1.        , -1.        , -1.        , -1.        ,\n",
      "         -1.        , -1.        , -1.        , -1.        ,\n",
      "         -1.        , -1.        , -1.        , -1.        ,\n",
      "         -1.        , -1.        , -1.        , -1.        ,\n",
      "         -1.        , -1.        , -1.        , -1.        ,\n",
      "         -1.        , -1.        , -1.        , -1.        ,\n",
      "         -1.        , -1.        , -1.        , -1.        ],\n",
      "        [-1.        , -1.        , -1.        , -1.        ,\n",
      "         -1.        , -1.        , -1.        , -1.        ,\n",
      "         -1.        , -1.        , -1.        , -1.        ,\n",
      "         -1.        , -1.        , -1.        , -1.        ,\n",
      "         -1.        , -1.        , -1.        , -1.        ,\n",
      "         -1.        , -1.        , -1.        , -1.        ,\n",
      "         -1.        , -1.        , -1.        , -1.        ]]],\n",
      "      dtype=float32), array([0]))\n"
     ]
    }
   ],
   "source": [
    "import paddle.vision.transforms as T\n",
    "\n",
    "# 数据的加载和预处理\n",
    "transform = T.Normalize(mean=[127.5], std=[127.5])\n",
    "\n",
    "# 训练数据集\n",
    "train_dataset = paddle.vision.datasets.MNIST(mode='train', transform=transform)\n",
    "\n",
    "# 评估数据集\n",
    "eval_dataset = paddle.vision.datasets.MNIST(mode='test', transform=transform)\n",
    "\n",
    "print('训练集样本量: {}，验证集样本量: {}'.format(len(train_dataset), len(eval_dataset)))\n",
    "print(train_dataset)\n",
    "print(train_dataset[1])"
   ]
  },
  {
   "cell_type": "markdown",
   "metadata": {
    "collapsed": false
   },
   "source": [
    "这个里面涉及了两个高层的API\n",
    "\n",
    "让我们一起看一下\n",
    "\n",
    "![在这里插入图片描述](https://img-blog.csdnimg.cn/20210204154247864.png?x-oss-process=image/watermark,type_ZmFuZ3poZW5naGVpdGk,shadow_10,text_aHR0cHM6Ly9ibG9nLmNzZG4ubmV0L3dlaXhpbl80NTYyMzA5Mw==,size_16,color_FFFFFF,t_70)\n",
    "\n",
    "这个是` paddle.vision.Normalize(mean=0.0, std=1.0, data_format='CHW', to_rgb=False, keys=None)`\n",
    "\n",
    "作用是**图像归一化处理**\n",
    "\n",
    "![在这里插入图片描述](https://img-blog.csdnimg.cn/20210204152852858.png?x-oss-process=image/watermark,type_ZmFuZ3poZW5naGVpdGk,shadow_10,text_aHR0cHM6Ly9ibG9nLmNzZG4ubmV0L3dlaXhpbl80NTYyMzA5Mw==,size_16,color_FFFFFF,t_70)\n",
    "\n",
    "这个是`paddle.vision.MNIST`作用就是对书写数字识别进行下载并做基本处理。\n",
    "\n",
    "就相当于把养殖场的活物给你处理好，直接可以下锅。"
   ]
  },
  {
   "cell_type": "markdown",
   "metadata": {
    "collapsed": false
   },
   "source": [
    "## 2.2 数据集查看"
   ]
  },
  {
   "cell_type": "code",
   "execution_count": 65,
   "metadata": {
    "collapsed": false
   },
   "outputs": [
    {
     "name": "stdout",
     "output_type": "stream",
     "text": [
      "图片：\n",
      "<class 'numpy.ndarray'>\n",
      "[[[-1.         -1.         -1.         -1.         -1.\n",
      "   -1.         -1.         -1.         -1.         -1.\n",
      "   -1.         -1.         -1.         -1.         -1.\n",
      "   -1.         -1.         -1.         -1.         -1.\n",
      "   -1.         -1.         -1.         -1.         -1.\n",
      "   -1.         -1.         -1.        ]\n",
      "  [-1.         -1.         -1.         -1.         -1.\n",
      "   -1.         -1.         -1.         -1.         -1.\n",
      "   -1.         -1.         -1.         -1.         -1.\n",
      "   -1.         -1.         -1.         -1.         -1.\n",
      "   -1.         -1.         -1.         -1.         -1.\n",
      "   -1.         -1.         -1.        ]\n",
      "  [-1.         -1.         -1.         -1.         -1.\n",
      "   -1.         -1.         -1.         -1.         -1.\n",
      "   -1.         -1.         -1.         -1.         -1.\n",
      "   -1.         -1.         -1.         -1.         -1.\n",
      "   -1.         -1.         -1.         -1.         -1.\n",
      "   -1.         -1.         -1.        ]\n",
      "  [-1.         -1.         -1.         -1.         -1.\n",
      "   -1.         -1.         -1.         -1.         -1.\n",
      "   -1.         -1.         -1.         -1.         -1.\n",
      "   -1.         -1.         -1.         -1.         -1.\n",
      "   -1.         -1.         -1.         -1.         -1.\n",
      "   -1.         -1.         -1.        ]\n",
      "  [-1.         -1.         -1.         -1.         -1.\n",
      "   -1.         -1.         -1.         -1.         -1.\n",
      "   -1.         -1.         -1.         -1.         -1.\n",
      "   -1.         -1.         -1.         -1.         -1.\n",
      "   -1.         -1.         -1.         -1.         -1.\n",
      "   -1.         -1.         -1.        ]\n",
      "  [-1.         -1.         -1.         -1.         -1.\n",
      "   -1.         -1.         -1.         -1.         -1.\n",
      "   -1.         -1.         -0.9764706  -0.85882354 -0.85882354\n",
      "   -0.85882354 -0.01176471  0.06666667  0.37254903 -0.79607844\n",
      "    0.3019608   1.          0.9372549  -0.00392157 -1.\n",
      "   -1.         -1.         -1.        ]\n",
      "  [-1.         -1.         -1.         -1.         -1.\n",
      "   -1.         -1.         -1.         -0.7647059  -0.7176471\n",
      "   -0.2627451   0.20784314  0.33333334  0.9843137   0.9843137\n",
      "    0.9843137   0.9843137   0.9843137   0.7647059   0.34901962\n",
      "    0.9843137   0.8980392   0.5294118  -0.49803922 -1.\n",
      "   -1.         -1.         -1.        ]\n",
      "  [-1.         -1.         -1.         -1.         -1.\n",
      "   -1.         -1.         -0.6156863   0.8666667   0.9843137\n",
      "    0.9843137   0.9843137   0.9843137   0.9843137   0.9843137\n",
      "    0.9843137   0.9843137   0.96862745 -0.27058825 -0.35686275\n",
      "   -0.35686275 -0.56078434 -0.69411767 -1.         -1.\n",
      "   -1.         -1.         -1.        ]\n",
      "  [-1.         -1.         -1.         -1.         -1.\n",
      "   -1.         -1.         -0.85882354  0.7176471   0.9843137\n",
      "    0.9843137   0.9843137   0.9843137   0.9843137   0.5529412\n",
      "    0.42745098  0.9372549   0.8901961  -1.         -1.\n",
      "   -1.         -1.         -1.         -1.         -1.\n",
      "   -1.         -1.         -1.        ]\n",
      "  [-1.         -1.         -1.         -1.         -1.\n",
      "   -1.         -1.         -1.         -0.37254903  0.22352941\n",
      "   -0.16078432  0.9843137   0.9843137   0.60784316 -0.9137255\n",
      "   -1.         -0.6627451   0.20784314 -1.         -1.\n",
      "   -1.         -1.         -1.         -1.         -1.\n",
      "   -1.         -1.         -1.        ]\n",
      "  [-1.         -1.         -1.         -1.         -1.\n",
      "   -1.         -1.         -1.         -1.         -0.8901961\n",
      "   -0.99215686  0.20784314  0.9843137  -0.29411766 -1.\n",
      "   -1.         -1.         -1.         -1.         -1.\n",
      "   -1.         -1.         -1.         -1.         -1.\n",
      "   -1.         -1.         -1.        ]\n",
      "  [-1.         -1.         -1.         -1.         -1.\n",
      "   -1.         -1.         -1.         -1.         -1.\n",
      "   -1.          0.09019608  0.9843137   0.49019608 -0.9843137\n",
      "   -1.         -1.         -1.         -1.         -1.\n",
      "   -1.         -1.         -1.         -1.         -1.\n",
      "   -1.         -1.         -1.        ]\n",
      "  [-1.         -1.         -1.         -1.         -1.\n",
      "   -1.         -1.         -1.         -1.         -1.\n",
      "   -1.         -0.9137255   0.49019608  0.9843137  -0.4509804\n",
      "   -1.         -1.         -1.         -1.         -1.\n",
      "   -1.         -1.         -1.         -1.         -1.\n",
      "   -1.         -1.         -1.        ]\n",
      "  [-1.         -1.         -1.         -1.         -1.\n",
      "   -1.         -1.         -1.         -1.         -1.\n",
      "   -1.         -1.         -0.7254902   0.8901961   0.7647059\n",
      "    0.25490198 -0.15294118 -0.99215686 -1.         -1.\n",
      "   -1.         -1.         -1.         -1.         -1.\n",
      "   -1.         -1.         -1.        ]\n",
      "  [-1.         -1.         -1.         -1.         -1.\n",
      "   -1.         -1.         -1.         -1.         -1.\n",
      "   -1.         -1.         -1.         -0.3647059   0.88235295\n",
      "    0.9843137   0.9843137  -0.06666667 -0.8039216  -1.\n",
      "   -1.         -1.         -1.         -1.         -1.\n",
      "   -1.         -1.         -1.        ]\n",
      "  [-1.         -1.         -1.         -1.         -1.\n",
      "   -1.         -1.         -1.         -1.         -1.\n",
      "   -1.         -1.         -1.         -1.         -0.64705884\n",
      "    0.45882353  0.9843137   0.9843137   0.1764706  -0.7882353\n",
      "   -1.         -1.         -1.         -1.         -1.\n",
      "   -1.         -1.         -1.        ]\n",
      "  [-1.         -1.         -1.         -1.         -1.\n",
      "   -1.         -1.         -1.         -1.         -1.\n",
      "   -1.         -1.         -1.         -1.         -1.\n",
      "   -0.8745098  -0.27058825  0.9764706   0.9843137   0.46666667\n",
      "   -1.         -1.         -1.         -1.         -1.\n",
      "   -1.         -1.         -1.        ]\n",
      "  [-1.         -1.         -1.         -1.         -1.\n",
      "   -1.         -1.         -1.         -1.         -1.\n",
      "   -1.         -1.         -1.         -1.         -1.\n",
      "   -1.         -1.          0.9529412   0.9843137   0.9529412\n",
      "   -0.49803922 -1.         -1.         -1.         -1.\n",
      "   -1.         -1.         -1.        ]\n",
      "  [-1.         -1.         -1.         -1.         -1.\n",
      "   -1.         -1.         -1.         -1.         -1.\n",
      "   -1.         -1.         -1.         -1.         -0.6392157\n",
      "    0.01960784  0.43529412  0.9843137   0.9843137   0.62352943\n",
      "   -0.9843137  -1.         -1.         -1.         -1.\n",
      "   -1.         -1.         -1.        ]\n",
      "  [-1.         -1.         -1.         -1.         -1.\n",
      "   -1.         -1.         -1.         -1.         -1.\n",
      "   -1.         -1.         -0.69411767  0.16078432  0.79607844\n",
      "    0.9843137   0.9843137   0.9843137   0.9607843   0.42745098\n",
      "   -1.         -1.         -1.         -1.         -1.\n",
      "   -1.         -1.         -1.        ]\n",
      "  [-1.         -1.         -1.         -1.         -1.\n",
      "   -1.         -1.         -1.         -1.         -1.\n",
      "   -0.8117647  -0.10588235  0.73333335  0.9843137   0.9843137\n",
      "    0.9843137   0.9843137   0.5764706  -0.3882353  -1.\n",
      "   -1.         -1.         -1.         -1.         -1.\n",
      "   -1.         -1.         -1.        ]\n",
      "  [-1.         -1.         -1.         -1.         -1.\n",
      "   -1.         -1.         -1.         -0.81960785 -0.48235294\n",
      "    0.67058825  0.9843137   0.9843137   0.9843137   0.9843137\n",
      "    0.5529412  -0.3647059  -0.9843137  -1.         -1.\n",
      "   -1.         -1.         -1.         -1.         -1.\n",
      "   -1.         -1.         -1.        ]\n",
      "  [-1.         -1.         -1.         -1.         -1.\n",
      "   -1.         -0.85882354  0.34117648  0.7176471   0.9843137\n",
      "    0.9843137   0.9843137   0.9843137   0.5294118  -0.37254903\n",
      "   -0.92941177 -1.         -1.         -1.         -1.\n",
      "   -1.         -1.         -1.         -1.         -1.\n",
      "   -1.         -1.         -1.        ]\n",
      "  [-1.         -1.         -1.         -1.         -0.5686275\n",
      "    0.34901962  0.77254903  0.9843137   0.9843137   0.9843137\n",
      "    0.9843137   0.9137255   0.04313726 -0.9137255  -1.\n",
      "   -1.         -1.         -1.         -1.         -1.\n",
      "   -1.         -1.         -1.         -1.         -1.\n",
      "   -1.         -1.         -1.        ]\n",
      "  [-1.         -1.         -1.         -1.          0.06666667\n",
      "    0.9843137   0.9843137   0.9843137   0.6627451   0.05882353\n",
      "    0.03529412 -0.8745098  -1.         -1.         -1.\n",
      "   -1.         -1.         -1.         -1.         -1.\n",
      "   -1.         -1.         -1.         -1.         -1.\n",
      "   -1.         -1.         -1.        ]\n",
      "  [-1.         -1.         -1.         -1.         -1.\n",
      "   -1.         -1.         -1.         -1.         -1.\n",
      "   -1.         -1.         -1.         -1.         -1.\n",
      "   -1.         -1.         -1.         -1.         -1.\n",
      "   -1.         -1.         -1.         -1.         -1.\n",
      "   -1.         -1.         -1.        ]\n",
      "  [-1.         -1.         -1.         -1.         -1.\n",
      "   -1.         -1.         -1.         -1.         -1.\n",
      "   -1.         -1.         -1.         -1.         -1.\n",
      "   -1.         -1.         -1.         -1.         -1.\n",
      "   -1.         -1.         -1.         -1.         -1.\n",
      "   -1.         -1.         -1.        ]\n",
      "  [-1.         -1.         -1.         -1.         -1.\n",
      "   -1.         -1.         -1.         -1.         -1.\n",
      "   -1.         -1.         -1.         -1.         -1.\n",
      "   -1.         -1.         -1.         -1.         -1.\n",
      "   -1.         -1.         -1.         -1.         -1.\n",
      "   -1.         -1.         -1.        ]]]\n",
      "标签：\n",
      "<class 'numpy.ndarray'>\n",
      "[5]\n"
     ]
    },
    {
     "data": {
      "image/png": "[encoded data removed]",
      "text/plain": [
       "<Figure size 432x288 with 1 Axes>"
      ]
     },
     "metadata": {},
     "output_type": "display_data"
    }
   ],
   "source": [
    "print('图片：')\n",
    "print(type(train_dataset[0][0]))\n",
    "print(train_dataset[0][0])\n",
    "print('标签：')\n",
    "print(type(train_dataset[0][1]))\n",
    "print(train_dataset[0][1])\n",
    "\n",
    "# 可视化展示\n",
    "plt.figure()\n",
    "plt.imshow(train_dataset[0][0].reshape([28,28]), cmap=plt.cm.binary)\n",
    "plt.show()\n"
   ]
  },
  {
   "cell_type": "markdown",
   "metadata": {
    "collapsed": false
   },
   "source": [
    "# ③ 模型选择和开发\n",
    "\n",
    "## 3.1 模型组网\n",
    "\n",
    "![](https://ai-studio-static-online.cdn.bcebos.com/08542974fd1447a4af612a67f93adaba515dcb6723ff4484b526ff7daa088915)"
   ]
  },
  {
   "cell_type": "markdown",
   "metadata": {
    "collapsed": false
   },
   "source": [
    "接下去就到神经网络了\n",
    "\n",
    "输入层是784那么这个值是怎么来的？？？\n",
    "\n",
    "![在这里插入图片描述](https://img-blog.csdnimg.cn/20210204162228525.png?x-oss-process=image/watermark,type_ZmFuZ3poZW5naGVpdGk,shadow_10,text_aHR0cHM6Ly9ibG9nLmNzZG4ubmV0L3dlaXhpbl80NTYyMzA5Mw==,size_16,color_FFFFFF,t_70)\n",
    "\n",
    "原始数据是28*28的大小，拉平成一维以后就是784"
   ]
  },
  {
   "cell_type": "code",
   "execution_count": null,
   "metadata": {
    "collapsed": false
   },
   "outputs": [],
   "source": [
    "# 模型网络结构搭建\n",
    "network = paddle.nn.Sequential(\n",
    "    paddle.nn.Flatten(),           # 拉平，将 (28, 28) => (784)\n",
    "    paddle.nn.Linear(784, 512),    # 隐层：线性变换层\n",
    "    paddle.nn.ReLU(),              # 激活函数\n",
    "    paddle.nn.Linear(512, 10)      # 输出层\n",
    ")"
   ]
  },
  {
   "cell_type": "markdown",
   "metadata": {
    "collapsed": false
   },
   "source": [
    "\n",
    "`paddle.nn.Sequential(*layers)`:顺序容器。子Layer将按构造函数参数的顺序添加到此容器中。传递给构造函数的参数可以Layers或可迭代的name Layer元组。\n",
    "\n",
    "`paddle.nn.Flatten(start_axis=1, stop_axis=- 1)`:它实现将一个连续维度的Tensor展平成一维Tensor\n",
    "\n",
    "`paddle.nn.Linear(in_features, out_features, weight_attr=None, bias_attr=None, name=None)`:线性变换层(建议自己去API文档理解)\n",
    "\n",
    "`paddle.nn.ReLU(name=None)`:ReLU激活层\n",
    "\n",
    "`paddle.nn.Linear(in_features, out_features, weight_attr=None, bias_attr=None, name=None)`:线性变换层-输出 (建议自己去API文档理解)\n",
    "\n",
    "\n",
    "在这里面：输入是784已经固定，以为输入的一维数组是784，输出层的10已经固定，0-9为10个数值，需要进行判定\n",
    "\n",
    "中间的只要输入的线性变换层的第二个值和输出的线性变换层第一个值一样就行\n"
   ]
  },
  {
   "cell_type": "markdown",
   "metadata": {
    "collapsed": false
   },
   "source": [
    "## 模型网络结构可视化"
   ]
  },
  {
   "cell_type": "code",
   "execution_count": 37,
   "metadata": {
    "collapsed": false
   },
   "outputs": [
    {
     "name": "stdout",
     "output_type": "stream",
     "text": [
      "---------------------------------------------------------------------------\n",
      " Layer (type)       Input Shape          Output Shape         Param #    \n",
      "===========================================================================\n",
      "   Flatten-1       [[1, 28, 28]]           [1, 784]              0       \n",
      "   Linear-1          [[1, 784]]            [1, 512]           401,920    \n",
      "    ReLU-1           [[1, 512]]            [1, 512]              0       \n",
      "   Linear-2          [[1, 512]]            [1, 10]             5,130     \n",
      "===========================================================================\n",
      "Total params: 407,050\n",
      "Trainable params: 407,050\n",
      "Non-trainable params: 0\n",
      "---------------------------------------------------------------------------\n",
      "Input size (MB): 0.00\n",
      "Forward/backward pass size (MB): 0.01\n",
      "Params size (MB): 1.55\n",
      "Estimated Total Size (MB): 1.57\n",
      "---------------------------------------------------------------------------\n",
      "\n"
     ]
    },
    {
     "data": {
      "text/plain": [
       "{'total_params': 407050, 'trainable_params': 407050}"
      ]
     },
     "execution_count": 37,
     "metadata": {},
     "output_type": "execute_result"
    }
   ],
   "source": [
    "# 模型封装\n",
    "model = paddle.Model(network)\n",
    "\n",
    "# 模型可视化\n",
    "model.summary((1, 28, 28))"
   ]
  },
  {
   "cell_type": "markdown",
   "metadata": {
    "collapsed": false
   },
   "source": [
    "通过对模型的封装然后展示可以获得每一次网络的啥情况进行一个查看和检测\n",
    "\n",
    "这样子可以查看每一层的情况，包括学习的程度什么的"
   ]
  },
  {
   "cell_type": "code",
   "execution_count": 38,
   "metadata": {
    "collapsed": false
   },
   "outputs": [
    {
     "name": "stdout",
     "output_type": "stream",
     "text": [
      "The loss value printed in the log is the current step, and the metric is the average value of previous step.\n",
      "Epoch 1/5\n",
      "step 938/938 [==============================] - loss: 0.0325 - acc: 0.9902 - 7ms/step           \n",
      "Eval begin...\n",
      "The loss value printed in the log is the current batch, and the metric is the average value of previous step.\n",
      "step 157/157 [==============================] - loss: 7.0694e-04 - acc: 0.9807 - 6ms/step     \n",
      "Eval samples: 10000\n",
      "Epoch 2/5\n",
      "step 938/938 [==============================] - loss: 0.0028 - acc: 0.9920 - 7ms/step         \n",
      "Eval begin...\n",
      "The loss value printed in the log is the current batch, and the metric is the average value of previous step.\n",
      "step 157/157 [==============================] - loss: 6.0556e-05 - acc: 0.9744 - 6ms/step       \n",
      "Eval samples: 10000\n",
      "Epoch 3/5\n",
      "step 938/938 [==============================] - loss: 0.0070 - acc: 0.9932 - 7ms/step         \n",
      "Eval begin...\n",
      "The loss value printed in the log is the current batch, and the metric is the average value of previous step.\n",
      "step 157/157 [==============================] - loss: 1.0386e-04 - acc: 0.9767 - 6ms/step     \n",
      "Eval samples: 10000\n",
      "Epoch 4/5\n",
      "step 938/938 [==============================] - loss: 0.0012 - acc: 0.9928 - 7ms/step           \n",
      "Eval begin...\n",
      "The loss value printed in the log is the current batch, and the metric is the average value of previous step.\n",
      "step 157/157 [==============================] - loss: 5.0365e-06 - acc: 0.9790 - 6ms/step       \n",
      "Eval samples: 10000\n",
      "Epoch 5/5\n",
      "step 938/938 [==============================] - loss: 0.0416 - acc: 0.9925 - 7ms/step         \n",
      "Eval begin...\n",
      "The loss value printed in the log is the current batch, and the metric is the average value of previous step.\n",
      "step 157/157 [==============================] - loss: 1.2732e-05 - acc: 0.9795 - 6ms/step       \n",
      "Eval samples: 10000\n"
     ]
    }
   ],
   "source": [
    "# 配置优化器、损失函数、评估指标\n",
    "model.prepare(paddle.optimizer.Adam(learning_rate=0.001, parameters=network.parameters()),\n",
    "              paddle.nn.CrossEntropyLoss(),\n",
    "              paddle.metric.Accuracy())\n",
    "              \n",
    "# 启动模型全流程训练\n",
    "model.fit(train_dataset,  # 训练数据集\n",
    "          eval_dataset,   # 评估数据集\n",
    "          epochs=5,       # 训练的总轮次\n",
    "          batch_size=64,  # 训练使用的批大小\n",
    "          verbose=1)      # 日志展示形式"
   ]
  },
  {
   "cell_type": "markdown",
   "metadata": {
    "collapsed": false
   },
   "source": [
    "`paddle.Modle.prepare(optimizer=None, loss_function=None, metrics=None)`:用于配置模型所需的部件，比如优化器、损失函数和评价指标。\n",
    "\n",
    "`paddle.optimizer.Adam`：Adam优化器，能够利用梯度的一阶矩估计和二阶矩估计动态调整每个参数的学习率。\n",
    "\n",
    "`paddle.nn.CrossEntropyLoss`:该OP计算输入input和标签label间的交叉熵损失 ，它结合了 LogSoftmax 和 NLLLoss 的OP计算，可用于训练一个 n 类分类器。分类器\n",
    "\n",
    "`paddle.metric.Accuracy`：计算准确率(accuracy)\n",
    "\n",
    "`paddle.Modle.fit`:训练模型"
   ]
  },
  {
   "cell_type": "markdown",
   "metadata": {
    "collapsed": false
   },
   "source": [
    "# ⑤ 模型评估测试\n",
    "\n",
    "## 5.1 模型评估"
   ]
  },
  {
   "cell_type": "code",
   "execution_count": 40,
   "metadata": {
    "collapsed": false
   },
   "outputs": [
    {
     "name": "stdout",
     "output_type": "stream",
     "text": [
      "Eval begin...\n",
      "The loss value printed in the log is the current batch, and the metric is the average value of previous step.\n",
      "step 10000/10000 [==============================] - loss: 0.0000e+00 - acc: 0.9795 - 2ms/step         \n",
      "Eval samples: 10000\n",
      "{'loss': [0.0], 'acc': 0.9795}\n"
     ]
    }
   ],
   "source": [
    "# 模型评估，根据prepare接口配置的loss和metric进行返回\n",
    "result = model.evaluate(eval_dataset, verbose=1)\n",
    "\n",
    "print(result)"
   ]
  },
  {
   "cell_type": "markdown",
   "metadata": {
    "collapsed": false
   },
   "source": [
    "`paddle.Model.evaluate`：在输入数据上，评估模型的损失函数值和评估指标。"
   ]
  },
  {
   "cell_type": "markdown",
   "metadata": {
    "collapsed": false
   },
   "source": [
    "## 5.2 模型预测"
   ]
  },
  {
   "cell_type": "markdown",
   "metadata": {
    "collapsed": false
   },
   "source": [
    "### 5.2.1 批量预测\n",
    "\n",
    "使用model.predict接口来完成对大量数据集的批量预测。"
   ]
  },
  {
   "cell_type": "markdown",
   "metadata": {
    "collapsed": false
   },
   "source": [
    "`paddle.Modle.predict`:在输入数据上，预测模型的输出。\n",
    "\n",
    "通过函数把模型预测结束后，抽取个别数据集进行处理并预测"
   ]
  },
  {
   "cell_type": "code",
   "execution_count": 48,
   "metadata": {
    "collapsed": false
   },
   "outputs": [
    {
     "name": "stdout",
     "output_type": "stream",
     "text": [
      "Predict begin...\n",
      "step 10000/10000 [==============================] - 1ms/step        \n",
      "Predict samples: 10000\n"
     ]
    },
    {
     "data": {
      "image/png": "[encoded data removed]",
      "text/plain": [
       "<Figure size 432x288 with 1 Axes>"
      ]
     },
     "metadata": {},
     "output_type": "display_data"
    },
    {
     "data": {
      "image/png": "[encoded data removed]",
      "text/plain": [
       "<Figure size 432x288 with 1 Axes>"
      ]
     },
     "metadata": {},
     "output_type": "display_data"
    },
    {
     "data": {
      "image/png": "[encoded data removed]",
      "text/plain": [
       "<Figure size 432x288 with 1 Axes>"
      ]
     },
     "metadata": {},
     "output_type": "display_data"
    },
    {
     "data": {
      "image/png": "[encoded data removed]",
      "text/plain": [
       "<Figure size 432x288 with 1 Axes>"
      ]
     },
     "metadata": {},
     "output_type": "display_data"
    }
   ],
   "source": [
    "# 进行预测操作\n",
    "result = model.predict(eval_dataset)\n",
    "\n",
    "# 定义画图方法\n",
    "def show_img(img, predict):\n",
    "    plt.figure()\n",
    "    plt.title('predict: {}'.format(predict))\n",
    "    plt.imshow(img.reshape([28, 28]), cmap=plt.cm.binary)\n",
    "    plt.show()\n",
    "\n",
    "# 抽样展示\n",
    "indexs = [2, 15, 38, 211]\n",
    "\n",
    "for idx in indexs:\n",
    "    show_img(eval_dataset[idx][0], np.argmax(result[0][idx]))"
   ]
  },
  {
   "cell_type": "markdown",
   "metadata": {
    "collapsed": false
   },
   "source": [
    "### 5.2.2 单张图片预测\n",
    "\n",
    "采用model.predict_batch来进行单张或少量多张图片的预测。"
   ]
  },
  {
   "cell_type": "markdown",
   "metadata": {
    "collapsed": false
   },
   "source": [
    "`paddle.Model.predict_batch`:在一个批次的数据上进行测试"
   ]
  },
  {
   "cell_type": "code",
   "execution_count": 52,
   "metadata": {
    "collapsed": false
   },
   "outputs": [
    {
     "data": {
      "image/png": "[encoded data removed]",
      "text/plain": [
       "<Figure size 432x288 with 1 Axes>"
      ]
     },
     "metadata": {},
     "output_type": "display_data"
    }
   ],
   "source": [
    "# 读取单张图片\n",
    "image = eval_dataset[501][0]\n",
    "\n",
    "# 单张图片预测\n",
    "result = model.predict_batch([image])\n",
    "\n",
    "# 可视化结果\n",
    "show_img(image, np.argmax(result))"
   ]
  },
  {
   "cell_type": "markdown",
   "metadata": {
    "collapsed": false
   },
   "source": [
    "# ⑥ 部署上线\n",
    "\n",
    "## 6.1 保存模型"
   ]
  },
  {
   "cell_type": "markdown",
   "metadata": {
    "collapsed": false
   },
   "source": [
    "`paddle.Model.save`:将模型的参数和训练过程中优化器的信息保存到指定的路径，以及推理所需的参数与文件"
   ]
  },
  {
   "cell_type": "code",
   "execution_count": 54,
   "metadata": {
    "collapsed": false
   },
   "outputs": [],
   "source": [
    "# 保存用于后续继续调优训练的模型\n",
    "model.save('finetuning/mnist')"
   ]
  },
  {
   "cell_type": "markdown",
   "metadata": {
    "collapsed": false
   },
   "source": [
    "## 6.2 继续调优训练"
   ]
  },
  {
   "cell_type": "markdown",
   "metadata": {
    "collapsed": false
   },
   "source": [
    "这里就相当于把之前的几个大的流程再走一遍：封装模型，然后读取之前的模型，模型配置，训练配置然后就可以运行了"
   ]
  },
  {
   "cell_type": "code",
   "execution_count": 56,
   "metadata": {
    "collapsed": false
   },
   "outputs": [
    {
     "name": "stdout",
     "output_type": "stream",
     "text": [
      "The loss value printed in the log is the current step, and the metric is the average value of previous step.\n",
      "Epoch 1/2\n",
      "step 938/938 [==============================] - loss: 0.0563 - acc: 0.9926 - 7ms/step         \n",
      "Eval begin...\n",
      "The loss value printed in the log is the current batch, and the metric is the average value of previous step.\n",
      "step 157/157 [==============================] - loss: 3.1640e-05 - acc: 0.9775 - 6ms/step       \n",
      "Eval samples: 10000\n",
      "Epoch 2/2\n",
      "step 938/938 [==============================] - loss: 0.0018 - acc: 0.9935 - 7ms/step         \n",
      "Eval begin...\n",
      "The loss value printed in the log is the current batch, and the metric is the average value of previous step.\n",
      "step 157/157 [==============================] - loss: 8.6797e-06 - acc: 0.9783 - 6ms/step     \n",
      "Eval samples: 10000\n"
     ]
    }
   ],
   "source": [
    "from paddle.static import InputSpec\n",
    "\n",
    "\n",
    "# 模型封装，为了后面保存预测模型，这里传入了inputs参数\n",
    "model_2 = paddle.Model(network, inputs=[InputSpec(shape=[-1, 28, 28], dtype='float32', name='image')])\n",
    "\n",
    "# 加载之前保存的阶段训练模型\n",
    "model_2.load('finetuning/mnist')\n",
    "\n",
    "# 模型配置\n",
    "model_2.prepare(paddle.optimizer.Adam(learning_rate=0.001, parameters=network.parameters()),\n",
    "                paddle.nn.CrossEntropyLoss(),\n",
    "                paddle.metric.Accuracy())\n",
    "\n",
    "# 模型全流程训练\n",
    "model_2.fit(train_dataset, \n",
    "            eval_dataset,\n",
    "            epochs=2,\n",
    "            batch_size=64,\n",
    "            verbose=1)"
   ]
  },
  {
   "cell_type": "markdown",
   "metadata": {
    "collapsed": false
   },
   "source": [
    "## 6.3 保存预测模型"
   ]
  },
  {
   "cell_type": "markdown",
   "metadata": {
    "collapsed": false
   },
   "source": [
    "`training=False`不再保存其他的训练参数，只保留模型"
   ]
  },
  {
   "cell_type": "code",
   "execution_count": 7,
   "metadata": {
    "collapsed": false
   },
   "outputs": [],
   "source": [
    "# 保存用于后续推理部署的模型\n",
    "model_2.save('infer/mnist', training=False)"
   ]
  },
  {
   "cell_type": "markdown",
   "metadata": {
    "collapsed": false
   },
   "source": [
    "### 整理\n",
    "第一天的课程终于整理结束了，我们也来回顾一下，首先就是对人工智能、机器学习、深度学习进行的一定的解释和梳理，使得有一定的理解，知道什么是AI。\n",
    "\n",
    "然后对深度学习的流程进行了梳理得到了—`深度学习万能开发公式`\n",
    "\n",
    "引出了我们的boos——paddlepaddle\n",
    "\n",
    "对书写数字识别进行了详细的解析，真·详细\n",
    "\n",
    "把整个项目掰开，一点一点的进行了分析和梳理\n"
   ]
  },
  {
   "cell_type": "markdown",
   "metadata": {
    "collapsed": false
   },
   "source": [
    "### 总结\n",
    "虽然今天是课程的第一天，难度绝对不低，但是收获真的多，花了整整5小时的时间进行了梳理，对整个深度学习的流程有了更加丰富的理解，有一种马上就要恍然大悟但是又有点迷茫的那种状态。\n",
    "\n",
    "接下的课程更精彩，期待"
   ]
  },
  {
   "cell_type": "markdown",
   "metadata": {
    "collapsed": false
   },
   "source": [
    ">这里是三岁，飞桨社区最菜的小白\n",
    "\n",
    ">\t[我在AI Studio上获得黄金等级，点亮7个徽章，来互关呀~ ](https://aistudio.baidu.com/aistudio/personalcenter/thirdview/284366)\n",
    "\n",
    ">[CSDN首页](https://blog.csdn.net/weixin_45623093?spm=1011.2124.3001.5343)\n",
    "\n",
    ">如果喜欢记得关注呦！！！"
   ]
  }
 ],
 "metadata": {
  "kernelspec": {
   "display_name": "PaddlePaddle 2.0.0b0 (Python 3.5)",
   "language": "python",
   "name": "py35-paddle1.2.0"
  },
  "language_info": {
   "codemirror_mode": {
    "name": "ipython",
    "version": 3
   },
   "file_extension": ".py",
   "mimetype": "text/x-python",
   "name": "python",
   "nbconvert_exporter": "python",
   "pygments_lexer": "ipython3",
   "version": "3.7.4"
  }
 },
 "nbformat": 4,
 "nbformat_minor": 1
}

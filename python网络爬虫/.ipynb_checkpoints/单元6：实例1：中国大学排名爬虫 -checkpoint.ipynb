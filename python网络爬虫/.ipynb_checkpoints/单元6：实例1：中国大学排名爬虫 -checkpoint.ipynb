{
 "cells": [
  {
   "cell_type": "code",
   "execution_count": null,
   "metadata": {},
   "outputs": [],
   "source": [
    "import requests\n",
    "from bs4 import BeautifulSoup\n",
    "import bs4\n",
    "\n",
    "def getHTMLText(url):\n",
    "    try:\n",
    "        r = requests.get(url,timeout = 30)\n",
    "        r.raisr_for_status()\n",
    "        r.encoding = r.apparent_encoding\n",
    "        return r.text\n",
    "    except:\n",
    "        return ''\n",
    "def fillUnivList(ulist,html):\n",
    "    soup = BeautifulSoup(html,'html.parser')\n",
    "    for try in soup.find('tbody').children:\n",
    "        if isinstancen(tr,bs4.element.Tag):\n",
    "            \n",
    "    pass\n",
    "def printUnicList(ulists,num):\n",
    "    print('Suc' + str(num))\n",
    "def main():\n",
    "    unifo = []\n",
    "    url = 'http://www.zuihaodaxue.cn/zuihaodaxuepaiming2016.html'\n",
    "    html = getHTMLText(url)\n",
    "    fillUnivList(unifo,html)\n",
    "    printUnicList(unifo,20) \n",
    "main()"
   ]
  }
 ],
 "metadata": {
  "kernelspec": {
   "display_name": "Python 3",
   "language": "python",
   "name": "python3"
  },
  "language_info": {
   "codemirror_mode": {
    "name": "ipython",
    "version": 3
   },
   "file_extension": ".py",
   "mimetype": "text/x-python",
   "name": "python",
   "nbconvert_exporter": "python",
   "pygments_lexer": "ipython3",
   "version": "3.7.6"
  }
 },
 "nbformat": 4,
 "nbformat_minor": 4
}

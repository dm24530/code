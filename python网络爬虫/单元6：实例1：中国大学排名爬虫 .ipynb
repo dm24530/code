{
 "cells": [
  {
   "cell_type": "code",
   "execution_count": 20,
   "metadata": {},
   "outputs": [
    {
     "name": "stdout",
     "output_type": "stream",
     "text": [
      "    排名    \t    学校名称    \t    总分    \n",
      "    1     \t    清华大学    \t    北京    \n",
      "    2     \t    北京大学    \t    北京    \n",
      "    3     \t    浙江大学    \t    浙江    \n",
      "    4     \t   上海交通大学   \t    上海    \n",
      "    5     \t    南京大学    \t    江苏    \n",
      "    6     \t    复旦大学    \t    上海    \n",
      "    7     \t  中国科学技术大学  \t    安徽    \n",
      "    8     \t   华中科技大学   \t    湖北    \n",
      "    9     \t    武汉大学    \t    湖北    \n",
      "    10    \t    中山大学    \t    广东    \n",
      "    11    \t   西安交通大学   \t    陕西    \n",
      "    12    \t  哈尔滨工业大学   \t   黑龙江    \n",
      "    13    \t  北京航空航天大学  \t    北京    \n",
      "    14    \t   北京师范大学   \t    北京    \n",
      "    15    \t    同济大学    \t    上海    \n",
      "    16    \t    四川大学    \t    四川    \n",
      "    17    \t    东南大学    \t    江苏    \n",
      "    18    \t   中国人民大学   \t    北京    \n",
      "    19    \t    南开大学    \t    天津    \n",
      "    20    \t   北京理工大学   \t    北京    \n"
     ]
    }
   ],
   "source": [
    "\n",
    "#CrawUnivRankingA.py\n",
    "import requests\n",
    "from bs4 import BeautifulSoup\n",
    "import bs4\n",
    " \n",
    "def getHTMLText(url):\n",
    "    try:\n",
    "        r = requests.get(url, timeout=30)\n",
    "        r.raise_for_status()\n",
    "        r.encoding = r.apparent_encoding\n",
    "        return r.text\n",
    "    except:\n",
    "        return \"\"\n",
    " \n",
    "\n",
    "def fillUnivList(ulist,html):\n",
    "    soup = BeautifulSoup(html,'html.parser')\n",
    "    for tr in soup.find('tbody').children:\n",
    "        if isinstance(tr,bs4.element.Tag):\n",
    "            tds = tr('td')\n",
    "            ulist.append([tds[0].string,tds[1].string,tds[2].string])\n",
    "\n",
    " \n",
    "def printUnivList(ulist, num):\n",
    "    print(\"{:^10}\\t{:^12}\\t{:^10}\".format(\"排名\",\"学校名称\",\"总分\"))\n",
    "    for i in range(num):\n",
    "        u=ulist[i]\n",
    "        print(\"{:^10}\\t{:^12}\\t{:^10}\".format(u[0],u[1],u[2]))\n",
    "     \n",
    "def main():\n",
    "    uinfo = []\n",
    "    url = 'http://www.zuihaodaxue.cn/zuihaodaxuepaiming2020.html'\n",
    "    html = getHTMLText(url)\n",
    "    fillUnivList(uinfo, html)\n",
    "    printUnivList(uinfo, 20) # 20 univs\n",
    "main()\n"
   ]
  },
  {
   "cell_type": "code",
   "execution_count": 1,
   "metadata": {},
   "outputs": [
    {
     "name": "stdout",
     "output_type": "stream",
     "text": [
      "    排名    \t　　　学校名称　　　\t    总分    \n"
     ]
    },
    {
     "ename": "TypeError",
     "evalue": "unsupported format string passed to NoneType.__format__",
     "output_type": "error",
     "traceback": [
      "\u001b[1;31m---------------------------------------------------------------------------\u001b[0m",
      "\u001b[1;31mTypeError\u001b[0m                                 Traceback (most recent call last)",
      "\u001b[1;32m<ipython-input-1-209feaea9c47>\u001b[0m in \u001b[0;36m<module>\u001b[1;34m\u001b[0m\n\u001b[0;32m     37\u001b[0m     \u001b[0mfillUnivList\u001b[0m\u001b[1;33m(\u001b[0m\u001b[0muinfo\u001b[0m\u001b[1;33m,\u001b[0m\u001b[0mhtml\u001b[0m\u001b[1;33m)\u001b[0m\u001b[1;33m\u001b[0m\u001b[1;33m\u001b[0m\u001b[0m\n\u001b[0;32m     38\u001b[0m     \u001b[0mprintUnivList\u001b[0m\u001b[1;33m(\u001b[0m\u001b[0muinfo\u001b[0m\u001b[1;33m,\u001b[0m\u001b[1;36m20\u001b[0m\u001b[1;33m)\u001b[0m  \u001b[1;31m#20 表示取前20所大学\u001b[0m\u001b[1;33m\u001b[0m\u001b[1;33m\u001b[0m\u001b[0m\n\u001b[1;32m---> 39\u001b[1;33m \u001b[0mmain\u001b[0m\u001b[1;33m(\u001b[0m\u001b[1;33m)\u001b[0m\u001b[1;33m\u001b[0m\u001b[1;33m\u001b[0m\u001b[0m\n\u001b[0m",
      "\u001b[1;32m<ipython-input-1-209feaea9c47>\u001b[0m in \u001b[0;36mmain\u001b[1;34m()\u001b[0m\n\u001b[0;32m     36\u001b[0m     \u001b[0mhtml\u001b[0m \u001b[1;33m=\u001b[0m \u001b[0mgetHTMLText\u001b[0m\u001b[1;33m(\u001b[0m\u001b[0murl\u001b[0m\u001b[1;33m)\u001b[0m\u001b[1;33m\u001b[0m\u001b[1;33m\u001b[0m\u001b[0m\n\u001b[0;32m     37\u001b[0m     \u001b[0mfillUnivList\u001b[0m\u001b[1;33m(\u001b[0m\u001b[0muinfo\u001b[0m\u001b[1;33m,\u001b[0m\u001b[0mhtml\u001b[0m\u001b[1;33m)\u001b[0m\u001b[1;33m\u001b[0m\u001b[1;33m\u001b[0m\u001b[0m\n\u001b[1;32m---> 38\u001b[1;33m     \u001b[0mprintUnivList\u001b[0m\u001b[1;33m(\u001b[0m\u001b[0muinfo\u001b[0m\u001b[1;33m,\u001b[0m\u001b[1;36m20\u001b[0m\u001b[1;33m)\u001b[0m  \u001b[1;31m#20 表示取前20所大学\u001b[0m\u001b[1;33m\u001b[0m\u001b[1;33m\u001b[0m\u001b[0m\n\u001b[0m\u001b[0;32m     39\u001b[0m \u001b[0mmain\u001b[0m\u001b[1;33m(\u001b[0m\u001b[1;33m)\u001b[0m\u001b[1;33m\u001b[0m\u001b[1;33m\u001b[0m\u001b[0m\n",
      "\u001b[1;32m<ipython-input-1-209feaea9c47>\u001b[0m in \u001b[0;36mprintUnivList\u001b[1;34m(ulist, num)\u001b[0m\n\u001b[0;32m     29\u001b[0m     \u001b[1;32mfor\u001b[0m \u001b[0mi\u001b[0m \u001b[1;32min\u001b[0m \u001b[0mrange\u001b[0m\u001b[1;33m(\u001b[0m\u001b[0mnum\u001b[0m\u001b[1;33m)\u001b[0m\u001b[1;33m:\u001b[0m\u001b[1;33m\u001b[0m\u001b[1;33m\u001b[0m\u001b[0m\n\u001b[0;32m     30\u001b[0m         \u001b[0mu\u001b[0m \u001b[1;33m=\u001b[0m \u001b[0mulist\u001b[0m\u001b[1;33m[\u001b[0m\u001b[0mi\u001b[0m\u001b[1;33m]\u001b[0m\u001b[1;33m\u001b[0m\u001b[1;33m\u001b[0m\u001b[0m\n\u001b[1;32m---> 31\u001b[1;33m         \u001b[0mprint\u001b[0m\u001b[1;33m(\u001b[0m\u001b[0mtplt\u001b[0m\u001b[1;33m.\u001b[0m\u001b[0mformat\u001b[0m\u001b[1;33m(\u001b[0m\u001b[0mu\u001b[0m\u001b[1;33m[\u001b[0m\u001b[1;36m0\u001b[0m\u001b[1;33m]\u001b[0m\u001b[1;33m,\u001b[0m\u001b[0mu\u001b[0m\u001b[1;33m[\u001b[0m\u001b[1;36m1\u001b[0m\u001b[1;33m]\u001b[0m\u001b[1;33m,\u001b[0m\u001b[0mu\u001b[0m\u001b[1;33m[\u001b[0m\u001b[1;36m2\u001b[0m\u001b[1;33m]\u001b[0m\u001b[1;33m,\u001b[0m\u001b[0mchr\u001b[0m\u001b[1;33m(\u001b[0m\u001b[1;36m12288\u001b[0m\u001b[1;33m)\u001b[0m\u001b[1;33m)\u001b[0m\u001b[1;33m)\u001b[0m\u001b[1;33m\u001b[0m\u001b[1;33m\u001b[0m\u001b[0m\n\u001b[0m\u001b[0;32m     32\u001b[0m \u001b[1;33m\u001b[0m\u001b[0m\n\u001b[0;32m     33\u001b[0m \u001b[1;32mdef\u001b[0m \u001b[0mmain\u001b[0m\u001b[1;33m(\u001b[0m\u001b[1;33m)\u001b[0m\u001b[1;33m:\u001b[0m\u001b[1;33m\u001b[0m\u001b[1;33m\u001b[0m\u001b[0m\n",
      "\u001b[1;31mTypeError\u001b[0m: unsupported format string passed to NoneType.__format__"
     ]
    }
   ],
   "source": [
    "# 爬取由上海交通大学开发的最好大学网  http://www.zuihaodaxue.cn/\n",
    "# 中国大学排名网页  http://www.zuihaodaxue.cn/zuihaodaxuepaiming2018.html\n",
    " \n",
    "import requests\n",
    "from bs4 import BeautifulSoup\n",
    "import bs4\n",
    " \n",
    " \n",
    "def getHTMLText(url):\n",
    "    try:\n",
    "        r = requests.get(url,timeout=30)\n",
    "        r.raise_for_status()\n",
    "        r.encoding = r.apparent_encoding\n",
    "        return r.text\n",
    "    except:\n",
    "        return \"\"\n",
    " \n",
    " \n",
    "def fillUnivList(ulist,html):\n",
    "    soup = BeautifulSoup(html,'html.parser')\n",
    "    for tr in soup.find('tbody').children:\n",
    "        if isinstance(tr,bs4.element.Tag):\n",
    "            tds = tr('td')\n",
    "            ulist.append([tds[0].string,tds[1].string,tds[2].string])\n",
    " \n",
    "def printUnivList(ulist,num):\n",
    "    tplt = \"{0:^10}\\t{1:{3}^10}\\t{2:^10}\"\n",
    "    print(tplt.format(\"排名\",\"学校名称\",\"总分\",chr(12288)))\n",
    "    for i in range(num):\n",
    "        u = ulist[i]\n",
    "        print(tplt.format(u[0],u[1],u[2],chr(12288)))\n",
    " \n",
    "def main():\n",
    "    uinfo = []\n",
    "    url = 'https://www.shanghairanking.cn/rankings/bcur/2020'\n",
    "    html = getHTMLText(url)\n",
    "    fillUnivList(uinfo,html)\n",
    "    printUnivList(uinfo,20)  #20 表示取前20所大学\n",
    "main()"
   ]
  },
  {
   "cell_type": "code",
   "execution_count": null,
   "metadata": {},
   "outputs": [],
   "source": []
  }
 ],
 "metadata": {
  "kernelspec": {
   "display_name": "Python 3",
   "language": "python",
   "name": "python3"
  },
  "language_info": {
   "codemirror_mode": {
    "name": "ipython",
    "version": 3
   },
   "file_extension": ".py",
   "mimetype": "text/x-python",
   "name": "python",
   "nbconvert_exporter": "python",
   "pygments_lexer": "ipython3",
   "version": "3.7.6"
  }
 },
 "nbformat": 4,
 "nbformat_minor": 4
}

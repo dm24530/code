{
 "cells": [
  {
   "cell_type": "code",
   "execution_count": 3,
   "metadata": {},
   "outputs": [],
   "source": [
    "from PIL import Image\n",
    "import numpy as np"
   ]
  },
  {
   "cell_type": "code",
   "execution_count": 5,
   "metadata": {},
   "outputs": [],
   "source": [
    "im = np.array(Image.open(\"E:/图片/python/Python数据分析与展示/1.3 示例1，图像的手绘效果/1.png\"))"
   ]
  },
  {
   "cell_type": "code",
   "execution_count": 6,
   "metadata": {},
   "outputs": [
    {
     "name": "stdout",
     "output_type": "stream",
     "text": [
      "(334, 479, 3) uint8\n"
     ]
    }
   ],
   "source": [
    "print(im.shape,im.dtype)"
   ]
  },
  {
   "cell_type": "markdown",
   "metadata": {},
   "source": [
    "图像的变换"
   ]
  },
  {
   "cell_type": "markdown",
   "metadata": {},
   "source": [
    "1"
   ]
  },
  {
   "cell_type": "code",
   "execution_count": 12,
   "metadata": {},
   "outputs": [
    {
     "name": "stdout",
     "output_type": "stream",
     "text": [
      "(334, 479, 3) uint8\n"
     ]
    }
   ],
   "source": [
    "from PIL import Image\n",
    "import numpy as np\n",
    "a = np.array(Image.open(\"E:/图片/python/Python数据分析与展示/1.3 示例1，图像的手绘效果/1.png\"))\n",
    "print(a.shape,a.dtype)"
   ]
  },
  {
   "cell_type": "code",
   "execution_count": 13,
   "metadata": {},
   "outputs": [],
   "source": [
    "b= [255,255,255] - a\n",
    "im = Image.fromarray(b.astype('uint8'))\n",
    "im.save('E:/图片/python/Python数据分析与展示/1.3 示例1，图像的手绘效果/2.png')"
   ]
  },
  {
   "cell_type": "markdown",
   "metadata": {},
   "source": [
    "2"
   ]
  },
  {
   "cell_type": "code",
   "execution_count": 15,
   "metadata": {},
   "outputs": [
    {
     "name": "stdout",
     "output_type": "stream",
     "text": [
      "(334, 479) uint8\n"
     ]
    }
   ],
   "source": [
    "from PIL import Image\n",
    "import numpy as np\n",
    "a = np.array(Image.open(\"E:/图片/python/Python数据分析与展示/1.3 示例1，图像的手绘效果/1.png\").convert('L'))\n",
    "print(a.shape,a.dtype)"
   ]
  },
  {
   "cell_type": "code",
   "execution_count": 16,
   "metadata": {},
   "outputs": [],
   "source": [
    "b= 255 - a\n",
    "im = Image.fromarray(b.astype('uint8'))\n",
    "im.save('E:/图片/python/Python数据分析与展示/1.3 示例1，图像的手绘效果/3.png')"
   ]
  },
  {
   "cell_type": "markdown",
   "metadata": {},
   "source": [
    "3"
   ]
  },
  {
   "cell_type": "code",
   "execution_count": 18,
   "metadata": {},
   "outputs": [],
   "source": [
    "c = (100/255)*a + 150\n",
    "im = Image.fromarray(c.astype('uint8'))\n",
    "im.save('E:/图片/python/Python数据分析与展示/1.3 示例1，图像的手绘效果/4.png')"
   ]
  },
  {
   "cell_type": "markdown",
   "metadata": {},
   "source": [
    "4"
   ]
  },
  {
   "cell_type": "code",
   "execution_count": 19,
   "metadata": {},
   "outputs": [],
   "source": [
    "c = 255 * (a/255) ** 2\n",
    "im = Image.fromarray(c.astype('uint8'))\n",
    "im.save('E:/图片/python/Python数据分析与展示/1.3 示例1，图像的手绘效果/5.png')"
   ]
  },
  {
   "cell_type": "markdown",
   "metadata": {},
   "source": [
    "# 手绘"
   ]
  },
  {
   "cell_type": "code",
   "execution_count": 24,
   "metadata": {},
   "outputs": [],
   "source": [
    "from PIL import Image\n",
    "import numpy as np\n",
    " \n",
    "a = np.asarray(Image.open('E:/图片/python/Python数据分析与展示/1.3 示例1，图像的手绘效果/6.png').convert('L')).astype('float')\n",
    " \n",
    "depth = 10.                      # (0-100)\n",
    "grad = np.gradient(a)             #取图像灰度的梯度值\n",
    "grad_x, grad_y = grad               #分别取横纵图像梯度值\n",
    "grad_x = grad_x*depth/100.\n",
    "grad_y = grad_y*depth/100.\n",
    "A = np.sqrt(grad_x**2 + grad_y**2 + 1.)\n",
    "uni_x = grad_x/A\n",
    "uni_y = grad_y/A\n",
    "uni_z = 1./A\n",
    " \n",
    "vec_el = np.pi/2.2                   # 光源的俯视角度，弧度值\n",
    "vec_az = np.pi/4.                    # 光源的方位角度，弧度值\n",
    "dx = np.cos(vec_el)*np.cos(vec_az)   #光源对x 轴的影响\n",
    "dy = np.cos(vec_el)*np.sin(vec_az)   #光源对y 轴的影响\n",
    "dz = np.sin(vec_el)              #光源对z 轴的影响\n",
    " \n",
    "b = 255*(dx*uni_x + dy*uni_y + dz*uni_z)     #光源归一化\n",
    "b = b.clip(0,255)\n",
    " \n",
    "im = Image.fromarray(b.astype('uint8'))  #重构图像\n",
    "im.save('E:/图片/python/Python数据分析与展示/1.3 示例1，图像的手绘效果/7.png')"
   ]
  },
  {
   "cell_type": "code",
   "execution_count": null,
   "metadata": {},
   "outputs": [],
   "source": []
  }
 ],
 "metadata": {
  "kernelspec": {
   "display_name": "Python 3",
   "language": "python",
   "name": "python3"
  },
  "language_info": {
   "codemirror_mode": {
    "name": "ipython",
    "version": 3
   },
   "file_extension": ".py",
   "mimetype": "text/x-python",
   "name": "python",
   "nbconvert_exporter": "python",
   "pygments_lexer": "ipython3",
   "version": "3.7.6"
  }
 },
 "nbformat": 4,
 "nbformat_minor": 4
}

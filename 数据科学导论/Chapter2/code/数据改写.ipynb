{
 "cells": [
  {
   "cell_type": "markdown",
   "metadata": {},
   "source": [
    "# 一"
   ]
  },
  {
   "cell_type": "markdown",
   "metadata": {},
   "source": [
    "# 2.2.1数据快捷加载"
   ]
  },
  {
   "cell_type": "code",
   "execution_count": 77,
   "metadata": {},
   "outputs": [],
   "source": [
    "import pandas as pd"
   ]
  },
  {
   "cell_type": "code",
   "execution_count": 61,
   "metadata": {},
   "outputs": [],
   "source": [
    "iris_filename = 'datasets-uci-iris.csv'\n",
    "iris = pd.read_csv(iris_filename,sep=',',decimal='.',header=None,\n",
    "names=['sepal_length','sepal_width','petal_length','petal_width','target'])"
   ]
  },
  {
   "cell_type": "code",
   "execution_count": 62,
   "metadata": {},
   "outputs": [
    {
     "data": {
      "text/html": [
       "<div>\n",
       "<style scoped>\n",
       "    .dataframe tbody tr th:only-of-type {\n",
       "        vertical-align: middle;\n",
       "    }\n",
       "\n",
       "    .dataframe tbody tr th {\n",
       "        vertical-align: top;\n",
       "    }\n",
       "\n",
       "    .dataframe thead th {\n",
       "        text-align: right;\n",
       "    }\n",
       "</style>\n",
       "<table border=\"1\" class=\"dataframe\">\n",
       "  <thead>\n",
       "    <tr style=\"text-align: right;\">\n",
       "      <th></th>\n",
       "      <th>sepal_length</th>\n",
       "      <th>sepal_width</th>\n",
       "      <th>petal_length</th>\n",
       "      <th>petal_width</th>\n",
       "      <th>target</th>\n",
       "    </tr>\n",
       "  </thead>\n",
       "  <tbody>\n",
       "    <tr>\n",
       "      <td>0</td>\n",
       "      <td>5.1</td>\n",
       "      <td>3.5</td>\n",
       "      <td>1.4</td>\n",
       "      <td>0.2</td>\n",
       "      <td>Iris-setosa</td>\n",
       "    </tr>\n",
       "    <tr>\n",
       "      <td>1</td>\n",
       "      <td>4.9</td>\n",
       "      <td>3.0</td>\n",
       "      <td>1.4</td>\n",
       "      <td>0.2</td>\n",
       "      <td>Iris-setosa</td>\n",
       "    </tr>\n",
       "  </tbody>\n",
       "</table>\n",
       "</div>"
      ],
      "text/plain": [
       "   sepal_length  sepal_width  petal_length  petal_width       target\n",
       "0           5.1          3.5           1.4          0.2  Iris-setosa\n",
       "1           4.9          3.0           1.4          0.2  Iris-setosa"
      ]
     },
     "execution_count": 62,
     "metadata": {},
     "output_type": "execute_result"
    }
   ],
   "source": [
    "iris.head(2)"
   ]
  },
  {
   "cell_type": "code",
   "execution_count": 63,
   "metadata": {},
   "outputs": [
    {
     "data": {
      "text/plain": [
       "Index(['sepal_length', 'sepal_width', 'petal_length', 'petal_width', 'target'], dtype='object')"
      ]
     },
     "execution_count": 63,
     "metadata": {},
     "output_type": "execute_result"
    }
   ],
   "source": [
    "# 获取每列名称\n",
    "iris.columns"
   ]
  },
  {
   "cell_type": "code",
   "execution_count": 64,
   "metadata": {},
   "outputs": [
    {
     "data": {
      "text/html": [
       "<div>\n",
       "<style scoped>\n",
       "    .dataframe tbody tr th:only-of-type {\n",
       "        vertical-align: middle;\n",
       "    }\n",
       "\n",
       "    .dataframe tbody tr th {\n",
       "        vertical-align: top;\n",
       "    }\n",
       "\n",
       "    .dataframe thead th {\n",
       "        text-align: right;\n",
       "    }\n",
       "</style>\n",
       "<table border=\"1\" class=\"dataframe\">\n",
       "  <thead>\n",
       "    <tr style=\"text-align: right;\">\n",
       "      <th></th>\n",
       "      <th>target</th>\n",
       "    </tr>\n",
       "  </thead>\n",
       "  <tbody>\n",
       "    <tr>\n",
       "      <td>0</td>\n",
       "      <td>Iris-setosa</td>\n",
       "    </tr>\n",
       "    <tr>\n",
       "      <td>1</td>\n",
       "      <td>Iris-setosa</td>\n",
       "    </tr>\n",
       "    <tr>\n",
       "      <td>2</td>\n",
       "      <td>Iris-setosa</td>\n",
       "    </tr>\n",
       "    <tr>\n",
       "      <td>3</td>\n",
       "      <td>Iris-setosa</td>\n",
       "    </tr>\n",
       "    <tr>\n",
       "      <td>4</td>\n",
       "      <td>Iris-setosa</td>\n",
       "    </tr>\n",
       "    <tr>\n",
       "      <td>...</td>\n",
       "      <td>...</td>\n",
       "    </tr>\n",
       "    <tr>\n",
       "      <td>145</td>\n",
       "      <td>Iris-virginica</td>\n",
       "    </tr>\n",
       "    <tr>\n",
       "      <td>146</td>\n",
       "      <td>Iris-virginica</td>\n",
       "    </tr>\n",
       "    <tr>\n",
       "      <td>147</td>\n",
       "      <td>Iris-virginica</td>\n",
       "    </tr>\n",
       "    <tr>\n",
       "      <td>148</td>\n",
       "      <td>Iris-virginica</td>\n",
       "    </tr>\n",
       "    <tr>\n",
       "      <td>149</td>\n",
       "      <td>Iris-virginica</td>\n",
       "    </tr>\n",
       "  </tbody>\n",
       "</table>\n",
       "<p>150 rows × 1 columns</p>\n",
       "</div>"
      ],
      "text/plain": [
       "             target\n",
       "0       Iris-setosa\n",
       "1       Iris-setosa\n",
       "2       Iris-setosa\n",
       "3       Iris-setosa\n",
       "4       Iris-setosa\n",
       "..              ...\n",
       "145  Iris-virginica\n",
       "146  Iris-virginica\n",
       "147  Iris-virginica\n",
       "148  Iris-virginica\n",
       "149  Iris-virginica\n",
       "\n",
       "[150 rows x 1 columns]"
      ]
     },
     "execution_count": 64,
     "metadata": {},
     "output_type": "execute_result"
    }
   ],
   "source": [
    "y = iris[['target']]\n",
    "y"
   ]
  },
  {
   "cell_type": "code",
   "execution_count": 65,
   "metadata": {},
   "outputs": [
    {
     "data": {
      "text/html": [
       "<div>\n",
       "<style scoped>\n",
       "    .dataframe tbody tr th:only-of-type {\n",
       "        vertical-align: middle;\n",
       "    }\n",
       "\n",
       "    .dataframe tbody tr th {\n",
       "        vertical-align: top;\n",
       "    }\n",
       "\n",
       "    .dataframe thead th {\n",
       "        text-align: right;\n",
       "    }\n",
       "</style>\n",
       "<table border=\"1\" class=\"dataframe\">\n",
       "  <thead>\n",
       "    <tr style=\"text-align: right;\">\n",
       "      <th></th>\n",
       "      <th>sepal_length</th>\n",
       "      <th>sepal_width</th>\n",
       "    </tr>\n",
       "  </thead>\n",
       "  <tbody>\n",
       "    <tr>\n",
       "      <td>0</td>\n",
       "      <td>5.1</td>\n",
       "      <td>3.5</td>\n",
       "    </tr>\n",
       "    <tr>\n",
       "      <td>1</td>\n",
       "      <td>4.9</td>\n",
       "      <td>3.0</td>\n",
       "    </tr>\n",
       "    <tr>\n",
       "      <td>2</td>\n",
       "      <td>4.7</td>\n",
       "      <td>3.2</td>\n",
       "    </tr>\n",
       "    <tr>\n",
       "      <td>3</td>\n",
       "      <td>4.6</td>\n",
       "      <td>3.1</td>\n",
       "    </tr>\n",
       "    <tr>\n",
       "      <td>4</td>\n",
       "      <td>5.0</td>\n",
       "      <td>3.6</td>\n",
       "    </tr>\n",
       "    <tr>\n",
       "      <td>...</td>\n",
       "      <td>...</td>\n",
       "      <td>...</td>\n",
       "    </tr>\n",
       "    <tr>\n",
       "      <td>145</td>\n",
       "      <td>6.7</td>\n",
       "      <td>3.0</td>\n",
       "    </tr>\n",
       "    <tr>\n",
       "      <td>146</td>\n",
       "      <td>6.3</td>\n",
       "      <td>2.5</td>\n",
       "    </tr>\n",
       "    <tr>\n",
       "      <td>147</td>\n",
       "      <td>6.5</td>\n",
       "      <td>3.0</td>\n",
       "    </tr>\n",
       "    <tr>\n",
       "      <td>148</td>\n",
       "      <td>6.2</td>\n",
       "      <td>3.4</td>\n",
       "    </tr>\n",
       "    <tr>\n",
       "      <td>149</td>\n",
       "      <td>5.9</td>\n",
       "      <td>3.0</td>\n",
       "    </tr>\n",
       "  </tbody>\n",
       "</table>\n",
       "<p>150 rows × 2 columns</p>\n",
       "</div>"
      ],
      "text/plain": [
       "     sepal_length  sepal_width\n",
       "0             5.1          3.5\n",
       "1             4.9          3.0\n",
       "2             4.7          3.2\n",
       "3             4.6          3.1\n",
       "4             5.0          3.6\n",
       "..            ...          ...\n",
       "145           6.7          3.0\n",
       "146           6.3          2.5\n",
       "147           6.5          3.0\n",
       "148           6.2          3.4\n",
       "149           5.9          3.0\n",
       "\n",
       "[150 rows x 2 columns]"
      ]
     },
     "execution_count": 65,
     "metadata": {},
     "output_type": "execute_result"
    }
   ],
   "source": [
    "x = iris[['sepal_length','sepal_width']]\n",
    "x"
   ]
  },
  {
   "cell_type": "code",
   "execution_count": 31,
   "metadata": {},
   "outputs": [
    {
     "data": {
      "text/plain": [
       "(150, 2)"
      ]
     },
     "execution_count": 31,
     "metadata": {},
     "output_type": "execute_result"
    }
   ],
   "source": [
    "x.shape"
   ]
  },
  {
   "cell_type": "code",
   "execution_count": 32,
   "metadata": {},
   "outputs": [
    {
     "data": {
      "text/plain": [
       "(150, 1)"
      ]
     },
     "execution_count": 32,
     "metadata": {},
     "output_type": "execute_result"
    }
   ],
   "source": [
    "y.shape"
   ]
  },
  {
   "cell_type": "markdown",
   "metadata": {},
   "source": [
    "# 2.2.2处理问题数据"
   ]
  },
  {
   "cell_type": "code",
   "execution_count": 23,
   "metadata": {},
   "outputs": [
    {
     "data": {
      "text/html": [
       "<div>\n",
       "<style scoped>\n",
       "    .dataframe tbody tr th:only-of-type {\n",
       "        vertical-align: middle;\n",
       "    }\n",
       "\n",
       "    .dataframe tbody tr th {\n",
       "        vertical-align: top;\n",
       "    }\n",
       "\n",
       "    .dataframe thead th {\n",
       "        text-align: right;\n",
       "    }\n",
       "</style>\n",
       "<table border=\"1\" class=\"dataframe\">\n",
       "  <thead>\n",
       "    <tr style=\"text-align: right;\">\n",
       "      <th></th>\n",
       "      <th>Date</th>\n",
       "      <th>Temperature_city_1</th>\n",
       "      <th>Temperature_city_2</th>\n",
       "      <th>Temperature_city_3</th>\n",
       "      <th>Which_destination</th>\n",
       "    </tr>\n",
       "  </thead>\n",
       "  <tbody>\n",
       "    <tr>\n",
       "      <td>0</td>\n",
       "      <td>20140910</td>\n",
       "      <td>80.0</td>\n",
       "      <td>32.0</td>\n",
       "      <td>40</td>\n",
       "      <td>1</td>\n",
       "    </tr>\n",
       "    <tr>\n",
       "      <td>1</td>\n",
       "      <td>20140911</td>\n",
       "      <td>100.0</td>\n",
       "      <td>50.0</td>\n",
       "      <td>36</td>\n",
       "      <td>2</td>\n",
       "    </tr>\n",
       "    <tr>\n",
       "      <td>2</td>\n",
       "      <td>20140912</td>\n",
       "      <td>102.0</td>\n",
       "      <td>55.0</td>\n",
       "      <td>46</td>\n",
       "      <td>1</td>\n",
       "    </tr>\n",
       "    <tr>\n",
       "      <td>3</td>\n",
       "      <td>20140913</td>\n",
       "      <td>60.0</td>\n",
       "      <td>20.0</td>\n",
       "      <td>35</td>\n",
       "      <td>3</td>\n",
       "    </tr>\n",
       "    <tr>\n",
       "      <td>4</td>\n",
       "      <td>20140914</td>\n",
       "      <td>60.0</td>\n",
       "      <td>NaN</td>\n",
       "      <td>32</td>\n",
       "      <td>3</td>\n",
       "    </tr>\n",
       "    <tr>\n",
       "      <td>5</td>\n",
       "      <td>20140915</td>\n",
       "      <td>NaN</td>\n",
       "      <td>57.0</td>\n",
       "      <td>42</td>\n",
       "      <td>2</td>\n",
       "    </tr>\n",
       "  </tbody>\n",
       "</table>\n",
       "</div>"
      ],
      "text/plain": [
       "       Date  Temperature_city_1  Temperature_city_2  Temperature_city_3  \\\n",
       "0  20140910                80.0                32.0                  40   \n",
       "1  20140911               100.0                50.0                  36   \n",
       "2  20140912               102.0                55.0                  46   \n",
       "3  20140913                60.0                20.0                  35   \n",
       "4  20140914                60.0                 NaN                  32   \n",
       "5  20140915                 NaN                57.0                  42   \n",
       "\n",
       "   Which_destination  \n",
       "0                  1  \n",
       "1                  2  \n",
       "2                  1  \n",
       "3                  3  \n",
       "4                  3  \n",
       "5                  2  "
      ]
     },
     "execution_count": 23,
     "metadata": {},
     "output_type": "execute_result"
    }
   ],
   "source": [
    "import pandas as pd\n",
    "fake_dataset = pd.read_csv('a_loading_example_1.csv',sep=',')\n",
    "fake_dataset"
   ]
  },
  {
   "cell_type": "code",
   "execution_count": 25,
   "metadata": {},
   "outputs": [
    {
     "data": {
      "text/html": [
       "<div>\n",
       "<style scoped>\n",
       "    .dataframe tbody tr th:only-of-type {\n",
       "        vertical-align: middle;\n",
       "    }\n",
       "\n",
       "    .dataframe tbody tr th {\n",
       "        vertical-align: top;\n",
       "    }\n",
       "\n",
       "    .dataframe thead th {\n",
       "        text-align: right;\n",
       "    }\n",
       "</style>\n",
       "<table border=\"1\" class=\"dataframe\">\n",
       "  <thead>\n",
       "    <tr style=\"text-align: right;\">\n",
       "      <th></th>\n",
       "      <th>Date</th>\n",
       "      <th>Temperature_city_1</th>\n",
       "      <th>Temperature_city_2</th>\n",
       "      <th>Temperature_city_3</th>\n",
       "      <th>Which_destination</th>\n",
       "    </tr>\n",
       "  </thead>\n",
       "  <tbody>\n",
       "    <tr>\n",
       "      <td>0</td>\n",
       "      <td>2014-09-10</td>\n",
       "      <td>80.0</td>\n",
       "      <td>32.0</td>\n",
       "      <td>40</td>\n",
       "      <td>1</td>\n",
       "    </tr>\n",
       "    <tr>\n",
       "      <td>1</td>\n",
       "      <td>2014-09-11</td>\n",
       "      <td>100.0</td>\n",
       "      <td>50.0</td>\n",
       "      <td>36</td>\n",
       "      <td>2</td>\n",
       "    </tr>\n",
       "    <tr>\n",
       "      <td>2</td>\n",
       "      <td>2014-09-12</td>\n",
       "      <td>102.0</td>\n",
       "      <td>55.0</td>\n",
       "      <td>46</td>\n",
       "      <td>1</td>\n",
       "    </tr>\n",
       "    <tr>\n",
       "      <td>3</td>\n",
       "      <td>2014-09-13</td>\n",
       "      <td>60.0</td>\n",
       "      <td>20.0</td>\n",
       "      <td>35</td>\n",
       "      <td>3</td>\n",
       "    </tr>\n",
       "    <tr>\n",
       "      <td>4</td>\n",
       "      <td>2014-09-14</td>\n",
       "      <td>60.0</td>\n",
       "      <td>NaN</td>\n",
       "      <td>32</td>\n",
       "      <td>3</td>\n",
       "    </tr>\n",
       "    <tr>\n",
       "      <td>5</td>\n",
       "      <td>2014-09-15</td>\n",
       "      <td>NaN</td>\n",
       "      <td>57.0</td>\n",
       "      <td>42</td>\n",
       "      <td>2</td>\n",
       "    </tr>\n",
       "  </tbody>\n",
       "</table>\n",
       "</div>"
      ],
      "text/plain": [
       "        Date  Temperature_city_1  Temperature_city_2  Temperature_city_3  \\\n",
       "0 2014-09-10                80.0                32.0                  40   \n",
       "1 2014-09-11               100.0                50.0                  36   \n",
       "2 2014-09-12               102.0                55.0                  46   \n",
       "3 2014-09-13                60.0                20.0                  35   \n",
       "4 2014-09-14                60.0                 NaN                  32   \n",
       "5 2014-09-15                 NaN                57.0                  42   \n",
       "\n",
       "   Which_destination  \n",
       "0                  1  \n",
       "1                  2  \n",
       "2                  1  \n",
       "3                  3  \n",
       "4                  3  \n",
       "5                  2  "
      ]
     },
     "execution_count": 25,
     "metadata": {},
     "output_type": "execute_result"
    }
   ],
   "source": [
    "fake_dataset = pd.read_csv('a_loading_example_1.csv',parse_dates=[0])\n",
    "fake_dataset"
   ]
  },
  {
   "cell_type": "code",
   "execution_count": 26,
   "metadata": {},
   "outputs": [
    {
     "data": {
      "text/html": [
       "<div>\n",
       "<style scoped>\n",
       "    .dataframe tbody tr th:only-of-type {\n",
       "        vertical-align: middle;\n",
       "    }\n",
       "\n",
       "    .dataframe tbody tr th {\n",
       "        vertical-align: top;\n",
       "    }\n",
       "\n",
       "    .dataframe thead th {\n",
       "        text-align: right;\n",
       "    }\n",
       "</style>\n",
       "<table border=\"1\" class=\"dataframe\">\n",
       "  <thead>\n",
       "    <tr style=\"text-align: right;\">\n",
       "      <th></th>\n",
       "      <th>Date</th>\n",
       "      <th>Temperature_city_1</th>\n",
       "      <th>Temperature_city_2</th>\n",
       "      <th>Temperature_city_3</th>\n",
       "      <th>Which_destination</th>\n",
       "    </tr>\n",
       "  </thead>\n",
       "  <tbody>\n",
       "    <tr>\n",
       "      <td>0</td>\n",
       "      <td>2014-09-10</td>\n",
       "      <td>80.0</td>\n",
       "      <td>32.0</td>\n",
       "      <td>40</td>\n",
       "      <td>1</td>\n",
       "    </tr>\n",
       "    <tr>\n",
       "      <td>1</td>\n",
       "      <td>2014-09-11</td>\n",
       "      <td>100.0</td>\n",
       "      <td>50.0</td>\n",
       "      <td>36</td>\n",
       "      <td>2</td>\n",
       "    </tr>\n",
       "    <tr>\n",
       "      <td>2</td>\n",
       "      <td>2014-09-12</td>\n",
       "      <td>102.0</td>\n",
       "      <td>55.0</td>\n",
       "      <td>46</td>\n",
       "      <td>1</td>\n",
       "    </tr>\n",
       "    <tr>\n",
       "      <td>3</td>\n",
       "      <td>2014-09-13</td>\n",
       "      <td>60.0</td>\n",
       "      <td>20.0</td>\n",
       "      <td>35</td>\n",
       "      <td>3</td>\n",
       "    </tr>\n",
       "    <tr>\n",
       "      <td>4</td>\n",
       "      <td>2014-09-14</td>\n",
       "      <td>60.0</td>\n",
       "      <td>50.0</td>\n",
       "      <td>32</td>\n",
       "      <td>3</td>\n",
       "    </tr>\n",
       "    <tr>\n",
       "      <td>5</td>\n",
       "      <td>2014-09-15</td>\n",
       "      <td>50.0</td>\n",
       "      <td>57.0</td>\n",
       "      <td>42</td>\n",
       "      <td>2</td>\n",
       "    </tr>\n",
       "  </tbody>\n",
       "</table>\n",
       "</div>"
      ],
      "text/plain": [
       "        Date  Temperature_city_1  Temperature_city_2  Temperature_city_3  \\\n",
       "0 2014-09-10                80.0                32.0                  40   \n",
       "1 2014-09-11               100.0                50.0                  36   \n",
       "2 2014-09-12               102.0                55.0                  46   \n",
       "3 2014-09-13                60.0                20.0                  35   \n",
       "4 2014-09-14                60.0                50.0                  32   \n",
       "5 2014-09-15                50.0                57.0                  42   \n",
       "\n",
       "   Which_destination  \n",
       "0                  1  \n",
       "1                  2  \n",
       "2                  1  \n",
       "3                  3  \n",
       "4                  3  \n",
       "5                  2  "
      ]
     },
     "execution_count": 26,
     "metadata": {},
     "output_type": "execute_result"
    }
   ],
   "source": [
    "fake_dataset.fillna(50)"
   ]
  },
  {
   "cell_type": "code",
   "execution_count": 27,
   "metadata": {},
   "outputs": [
    {
     "data": {
      "text/html": [
       "<div>\n",
       "<style scoped>\n",
       "    .dataframe tbody tr th:only-of-type {\n",
       "        vertical-align: middle;\n",
       "    }\n",
       "\n",
       "    .dataframe tbody tr th {\n",
       "        vertical-align: top;\n",
       "    }\n",
       "\n",
       "    .dataframe thead th {\n",
       "        text-align: right;\n",
       "    }\n",
       "</style>\n",
       "<table border=\"1\" class=\"dataframe\">\n",
       "  <thead>\n",
       "    <tr style=\"text-align: right;\">\n",
       "      <th></th>\n",
       "      <th>Date</th>\n",
       "      <th>Temperature_city_1</th>\n",
       "      <th>Temperature_city_2</th>\n",
       "      <th>Temperature_city_3</th>\n",
       "      <th>Which_destination</th>\n",
       "    </tr>\n",
       "  </thead>\n",
       "  <tbody>\n",
       "    <tr>\n",
       "      <td>0</td>\n",
       "      <td>2014-09-10</td>\n",
       "      <td>80.0</td>\n",
       "      <td>32.0</td>\n",
       "      <td>40</td>\n",
       "      <td>1</td>\n",
       "    </tr>\n",
       "    <tr>\n",
       "      <td>1</td>\n",
       "      <td>2014-09-11</td>\n",
       "      <td>100.0</td>\n",
       "      <td>50.0</td>\n",
       "      <td>36</td>\n",
       "      <td>2</td>\n",
       "    </tr>\n",
       "    <tr>\n",
       "      <td>2</td>\n",
       "      <td>2014-09-12</td>\n",
       "      <td>102.0</td>\n",
       "      <td>55.0</td>\n",
       "      <td>46</td>\n",
       "      <td>1</td>\n",
       "    </tr>\n",
       "    <tr>\n",
       "      <td>3</td>\n",
       "      <td>2014-09-13</td>\n",
       "      <td>60.0</td>\n",
       "      <td>20.0</td>\n",
       "      <td>35</td>\n",
       "      <td>3</td>\n",
       "    </tr>\n",
       "    <tr>\n",
       "      <td>4</td>\n",
       "      <td>2014-09-14</td>\n",
       "      <td>60.0</td>\n",
       "      <td>-1.0</td>\n",
       "      <td>32</td>\n",
       "      <td>3</td>\n",
       "    </tr>\n",
       "    <tr>\n",
       "      <td>5</td>\n",
       "      <td>2014-09-15</td>\n",
       "      <td>-1.0</td>\n",
       "      <td>57.0</td>\n",
       "      <td>42</td>\n",
       "      <td>2</td>\n",
       "    </tr>\n",
       "  </tbody>\n",
       "</table>\n",
       "</div>"
      ],
      "text/plain": [
       "        Date  Temperature_city_1  Temperature_city_2  Temperature_city_3  \\\n",
       "0 2014-09-10                80.0                32.0                  40   \n",
       "1 2014-09-11               100.0                50.0                  36   \n",
       "2 2014-09-12               102.0                55.0                  46   \n",
       "3 2014-09-13                60.0                20.0                  35   \n",
       "4 2014-09-14                60.0                -1.0                  32   \n",
       "5 2014-09-15                -1.0                57.0                  42   \n",
       "\n",
       "   Which_destination  \n",
       "0                  1  \n",
       "1                  2  \n",
       "2                  1  \n",
       "3                  3  \n",
       "4                  3  \n",
       "5                  2  "
      ]
     },
     "execution_count": 27,
     "metadata": {},
     "output_type": "execute_result"
    }
   ],
   "source": [
    "fake_dataset.fillna(-1)"
   ]
  },
  {
   "cell_type": "code",
   "execution_count": 28,
   "metadata": {},
   "outputs": [
    {
     "data": {
      "text/html": [
       "<div>\n",
       "<style scoped>\n",
       "    .dataframe tbody tr th:only-of-type {\n",
       "        vertical-align: middle;\n",
       "    }\n",
       "\n",
       "    .dataframe tbody tr th {\n",
       "        vertical-align: top;\n",
       "    }\n",
       "\n",
       "    .dataframe thead th {\n",
       "        text-align: right;\n",
       "    }\n",
       "</style>\n",
       "<table border=\"1\" class=\"dataframe\">\n",
       "  <thead>\n",
       "    <tr style=\"text-align: right;\">\n",
       "      <th></th>\n",
       "      <th>Date</th>\n",
       "      <th>Temperature_city_1</th>\n",
       "      <th>Temperature_city_2</th>\n",
       "      <th>Temperature_city_3</th>\n",
       "      <th>Which_destination</th>\n",
       "    </tr>\n",
       "  </thead>\n",
       "  <tbody>\n",
       "    <tr>\n",
       "      <td>0</td>\n",
       "      <td>2014-09-10</td>\n",
       "      <td>80.0</td>\n",
       "      <td>32.0</td>\n",
       "      <td>40</td>\n",
       "      <td>1</td>\n",
       "    </tr>\n",
       "    <tr>\n",
       "      <td>1</td>\n",
       "      <td>2014-09-11</td>\n",
       "      <td>100.0</td>\n",
       "      <td>50.0</td>\n",
       "      <td>36</td>\n",
       "      <td>2</td>\n",
       "    </tr>\n",
       "    <tr>\n",
       "      <td>2</td>\n",
       "      <td>2014-09-12</td>\n",
       "      <td>102.0</td>\n",
       "      <td>55.0</td>\n",
       "      <td>46</td>\n",
       "      <td>1</td>\n",
       "    </tr>\n",
       "    <tr>\n",
       "      <td>3</td>\n",
       "      <td>2014-09-13</td>\n",
       "      <td>60.0</td>\n",
       "      <td>20.0</td>\n",
       "      <td>35</td>\n",
       "      <td>3</td>\n",
       "    </tr>\n",
       "    <tr>\n",
       "      <td>4</td>\n",
       "      <td>2014-09-14</td>\n",
       "      <td>60.0</td>\n",
       "      <td>42.8</td>\n",
       "      <td>32</td>\n",
       "      <td>3</td>\n",
       "    </tr>\n",
       "    <tr>\n",
       "      <td>5</td>\n",
       "      <td>2014-09-15</td>\n",
       "      <td>80.4</td>\n",
       "      <td>57.0</td>\n",
       "      <td>42</td>\n",
       "      <td>2</td>\n",
       "    </tr>\n",
       "  </tbody>\n",
       "</table>\n",
       "</div>"
      ],
      "text/plain": [
       "        Date  Temperature_city_1  Temperature_city_2  Temperature_city_3  \\\n",
       "0 2014-09-10                80.0                32.0                  40   \n",
       "1 2014-09-11               100.0                50.0                  36   \n",
       "2 2014-09-12               102.0                55.0                  46   \n",
       "3 2014-09-13                60.0                20.0                  35   \n",
       "4 2014-09-14                60.0                42.8                  32   \n",
       "5 2014-09-15                80.4                57.0                  42   \n",
       "\n",
       "   Which_destination  \n",
       "0                  1  \n",
       "1                  2  \n",
       "2                  1  \n",
       "3                  3  \n",
       "4                  3  \n",
       "5                  2  "
      ]
     },
     "execution_count": 28,
     "metadata": {},
     "output_type": "execute_result"
    }
   ],
   "source": [
    "fake_dataset.fillna(fake_dataset.mean(axis=0))"
   ]
  },
  {
   "cell_type": "code",
   "execution_count": 29,
   "metadata": {},
   "outputs": [
    {
     "data": {
      "text/html": [
       "<div>\n",
       "<style scoped>\n",
       "    .dataframe tbody tr th:only-of-type {\n",
       "        vertical-align: middle;\n",
       "    }\n",
       "\n",
       "    .dataframe tbody tr th {\n",
       "        vertical-align: top;\n",
       "    }\n",
       "\n",
       "    .dataframe thead th {\n",
       "        text-align: right;\n",
       "    }\n",
       "</style>\n",
       "<table border=\"1\" class=\"dataframe\">\n",
       "  <thead>\n",
       "    <tr style=\"text-align: right;\">\n",
       "      <th></th>\n",
       "      <th>Date</th>\n",
       "      <th>Temperature_city_1</th>\n",
       "      <th>Temperature_city_2</th>\n",
       "      <th>Temperature_city_3</th>\n",
       "      <th>Which_destination</th>\n",
       "    </tr>\n",
       "  </thead>\n",
       "  <tbody>\n",
       "    <tr>\n",
       "      <td>0</td>\n",
       "      <td>2014-09-10</td>\n",
       "      <td>80.0</td>\n",
       "      <td>32.0</td>\n",
       "      <td>40</td>\n",
       "      <td>1</td>\n",
       "    </tr>\n",
       "    <tr>\n",
       "      <td>1</td>\n",
       "      <td>2014-09-11</td>\n",
       "      <td>100.0</td>\n",
       "      <td>50.0</td>\n",
       "      <td>36</td>\n",
       "      <td>2</td>\n",
       "    </tr>\n",
       "    <tr>\n",
       "      <td>2</td>\n",
       "      <td>2014-09-12</td>\n",
       "      <td>102.0</td>\n",
       "      <td>55.0</td>\n",
       "      <td>46</td>\n",
       "      <td>1</td>\n",
       "    </tr>\n",
       "    <tr>\n",
       "      <td>3</td>\n",
       "      <td>2014-09-13</td>\n",
       "      <td>60.0</td>\n",
       "      <td>20.0</td>\n",
       "      <td>35</td>\n",
       "      <td>3</td>\n",
       "    </tr>\n",
       "    <tr>\n",
       "      <td>4</td>\n",
       "      <td>2014-09-14</td>\n",
       "      <td>60.0</td>\n",
       "      <td>50.0</td>\n",
       "      <td>32</td>\n",
       "      <td>3</td>\n",
       "    </tr>\n",
       "    <tr>\n",
       "      <td>5</td>\n",
       "      <td>2014-09-15</td>\n",
       "      <td>80.0</td>\n",
       "      <td>57.0</td>\n",
       "      <td>42</td>\n",
       "      <td>2</td>\n",
       "    </tr>\n",
       "  </tbody>\n",
       "</table>\n",
       "</div>"
      ],
      "text/plain": [
       "        Date  Temperature_city_1  Temperature_city_2  Temperature_city_3  \\\n",
       "0 2014-09-10                80.0                32.0                  40   \n",
       "1 2014-09-11               100.0                50.0                  36   \n",
       "2 2014-09-12               102.0                55.0                  46   \n",
       "3 2014-09-13                60.0                20.0                  35   \n",
       "4 2014-09-14                60.0                50.0                  32   \n",
       "5 2014-09-15                80.0                57.0                  42   \n",
       "\n",
       "   Which_destination  \n",
       "0                  1  \n",
       "1                  2  \n",
       "2                  1  \n",
       "3                  3  \n",
       "4                  3  \n",
       "5                  2  "
      ]
     },
     "execution_count": 29,
     "metadata": {},
     "output_type": "execute_result"
    }
   ],
   "source": [
    "fake_dataset.fillna(fake_dataset.median(axis=0))"
   ]
  },
  {
   "cell_type": "code",
   "execution_count": 30,
   "metadata": {},
   "outputs": [
    {
     "name": "stderr",
     "output_type": "stream",
     "text": [
      "b'Skipping line 4: expected 3 fields, saw 4\\n'\n"
     ]
    },
    {
     "data": {
      "text/html": [
       "<div>\n",
       "<style scoped>\n",
       "    .dataframe tbody tr th:only-of-type {\n",
       "        vertical-align: middle;\n",
       "    }\n",
       "\n",
       "    .dataframe tbody tr th {\n",
       "        vertical-align: top;\n",
       "    }\n",
       "\n",
       "    .dataframe thead th {\n",
       "        text-align: right;\n",
       "    }\n",
       "</style>\n",
       "<table border=\"1\" class=\"dataframe\">\n",
       "  <thead>\n",
       "    <tr style=\"text-align: right;\">\n",
       "      <th></th>\n",
       "      <th>Val1</th>\n",
       "      <th>Val2</th>\n",
       "      <th>Val3</th>\n",
       "    </tr>\n",
       "  </thead>\n",
       "  <tbody>\n",
       "    <tr>\n",
       "      <td>0</td>\n",
       "      <td>0</td>\n",
       "      <td>0</td>\n",
       "      <td>0</td>\n",
       "    </tr>\n",
       "    <tr>\n",
       "      <td>1</td>\n",
       "      <td>1</td>\n",
       "      <td>1</td>\n",
       "      <td>1</td>\n",
       "    </tr>\n",
       "    <tr>\n",
       "      <td>2</td>\n",
       "      <td>3</td>\n",
       "      <td>3</td>\n",
       "      <td>3</td>\n",
       "    </tr>\n",
       "  </tbody>\n",
       "</table>\n",
       "</div>"
      ],
      "text/plain": [
       "   Val1  Val2  Val3\n",
       "0     0     0     0\n",
       "1     1     1     1\n",
       "2     3     3     3"
      ]
     },
     "execution_count": 30,
     "metadata": {},
     "output_type": "execute_result"
    }
   ],
   "source": [
    "bad_dataset = pd.read_csv('a_loading_example_2.csv',\n",
    "error_bad_lines = False)\n",
    "bad_dataset"
   ]
  },
  {
   "cell_type": "markdown",
   "metadata": {},
   "source": [
    "# 2.2.3处理大数据集"
   ]
  },
  {
   "cell_type": "code",
   "execution_count": 8,
   "metadata": {},
   "outputs": [],
   "source": [
    "import pandas as pd\n",
    "iris_chunks = pd.read_csv(iris_filename,header=None,\n",
    "names=['C1','C2','C3','C4','C5'],chunksize=10)"
   ]
  },
  {
   "cell_type": "code",
   "execution_count": 9,
   "metadata": {},
   "outputs": [
    {
     "name": "stdout",
     "output_type": "stream",
     "text": [
      "(10, 5)\n",
      "    C1   C2   C3   C4           C5\n",
      "0  5.1  3.5  1.4  0.2  Iris-setosa\n",
      "1  4.9  3.0  1.4  0.2  Iris-setosa\n",
      "2  4.7  3.2  1.3  0.2  Iris-setosa\n",
      "3  4.6  3.1  1.5  0.2  Iris-setosa\n",
      "4  5.0  3.6  1.4  0.2  Iris-setosa\n",
      "5  5.4  3.9  1.7  0.4  Iris-setosa\n",
      "6  4.6  3.4  1.4  0.3  Iris-setosa\n",
      "7  5.0  3.4  1.5  0.2  Iris-setosa\n",
      "8  4.4  2.9  1.4  0.2  Iris-setosa\n",
      "9  4.9  3.1  1.5  0.1  Iris-setosa\n",
      "(10, 5)\n",
      "     C1   C2   C3   C4           C5\n",
      "10  5.4  3.7  1.5  0.2  Iris-setosa\n",
      "11  4.8  3.4  1.6  0.2  Iris-setosa\n",
      "12  4.8  3.0  1.4  0.1  Iris-setosa\n",
      "13  4.3  3.0  1.1  0.1  Iris-setosa\n",
      "14  5.8  4.0  1.2  0.2  Iris-setosa\n",
      "15  5.7  4.4  1.5  0.4  Iris-setosa\n",
      "16  5.4  3.9  1.3  0.4  Iris-setosa\n",
      "17  5.1  3.5  1.4  0.3  Iris-setosa\n",
      "18  5.7  3.8  1.7  0.3  Iris-setosa\n",
      "19  5.1  3.8  1.5  0.3  Iris-setosa\n",
      "(10, 5)\n",
      "     C1   C2   C3   C4           C5\n",
      "20  5.4  3.4  1.7  0.2  Iris-setosa\n",
      "21  5.1  3.7  1.5  0.4  Iris-setosa\n",
      "22  4.6  3.6  1.0  0.2  Iris-setosa\n",
      "23  5.1  3.3  1.7  0.5  Iris-setosa\n",
      "24  4.8  3.4  1.9  0.2  Iris-setosa\n",
      "25  5.0  3.0  1.6  0.2  Iris-setosa\n",
      "26  5.0  3.4  1.6  0.4  Iris-setosa\n",
      "27  5.2  3.5  1.5  0.2  Iris-setosa\n",
      "28  5.2  3.4  1.4  0.2  Iris-setosa\n",
      "29  4.7  3.2  1.6  0.2  Iris-setosa\n",
      "(10, 5)\n",
      "     C1   C2   C3   C4           C5\n",
      "30  4.8  3.1  1.6  0.2  Iris-setosa\n",
      "31  5.4  3.4  1.5  0.4  Iris-setosa\n",
      "32  5.2  4.1  1.5  0.1  Iris-setosa\n",
      "33  5.5  4.2  1.4  0.2  Iris-setosa\n",
      "34  4.9  3.1  1.5  0.1  Iris-setosa\n",
      "35  5.0  3.2  1.2  0.2  Iris-setosa\n",
      "36  5.5  3.5  1.3  0.2  Iris-setosa\n",
      "37  4.9  3.1  1.5  0.1  Iris-setosa\n",
      "38  4.4  3.0  1.3  0.2  Iris-setosa\n",
      "39  5.1  3.4  1.5  0.2  Iris-setosa\n",
      "(10, 5)\n",
      "     C1   C2   C3   C4           C5\n",
      "40  5.0  3.5  1.3  0.3  Iris-setosa\n",
      "41  4.5  2.3  1.3  0.3  Iris-setosa\n",
      "42  4.4  3.2  1.3  0.2  Iris-setosa\n",
      "43  5.0  3.5  1.6  0.6  Iris-setosa\n",
      "44  5.1  3.8  1.9  0.4  Iris-setosa\n",
      "45  4.8  3.0  1.4  0.3  Iris-setosa\n",
      "46  5.1  3.8  1.6  0.2  Iris-setosa\n",
      "47  4.6  3.2  1.4  0.2  Iris-setosa\n",
      "48  5.3  3.7  1.5  0.2  Iris-setosa\n",
      "49  5.0  3.3  1.4  0.2  Iris-setosa\n",
      "(10, 5)\n",
      "     C1   C2   C3   C4               C5\n",
      "50  7.0  3.2  4.7  1.4  Iris-versicolor\n",
      "51  6.4  3.2  4.5  1.5  Iris-versicolor\n",
      "52  6.9  3.1  4.9  1.5  Iris-versicolor\n",
      "53  5.5  2.3  4.0  1.3  Iris-versicolor\n",
      "54  6.5  2.8  4.6  1.5  Iris-versicolor\n",
      "55  5.7  2.8  4.5  1.3  Iris-versicolor\n",
      "56  6.3  3.3  4.7  1.6  Iris-versicolor\n",
      "57  4.9  2.4  3.3  1.0  Iris-versicolor\n",
      "58  6.6  2.9  4.6  1.3  Iris-versicolor\n",
      "59  5.2  2.7  3.9  1.4  Iris-versicolor\n",
      "(10, 5)\n",
      "     C1   C2   C3   C4               C5\n",
      "60  5.0  2.0  3.5  1.0  Iris-versicolor\n",
      "61  5.9  3.0  4.2  1.5  Iris-versicolor\n",
      "62  6.0  2.2  4.0  1.0  Iris-versicolor\n",
      "63  6.1  2.9  4.7  1.4  Iris-versicolor\n",
      "64  5.6  2.9  3.6  1.3  Iris-versicolor\n",
      "65  6.7  3.1  4.4  1.4  Iris-versicolor\n",
      "66  5.6  3.0  4.5  1.5  Iris-versicolor\n",
      "67  5.8  2.7  4.1  1.0  Iris-versicolor\n",
      "68  6.2  2.2  4.5  1.5  Iris-versicolor\n",
      "69  5.6  2.5  3.9  1.1  Iris-versicolor\n",
      "(10, 5)\n",
      "     C1   C2   C3   C4               C5\n",
      "70  5.9  3.2  4.8  1.8  Iris-versicolor\n",
      "71  6.1  2.8  4.0  1.3  Iris-versicolor\n",
      "72  6.3  2.5  4.9  1.5  Iris-versicolor\n",
      "73  6.1  2.8  4.7  1.2  Iris-versicolor\n",
      "74  6.4  2.9  4.3  1.3  Iris-versicolor\n",
      "75  6.6  3.0  4.4  1.4  Iris-versicolor\n",
      "76  6.8  2.8  4.8  1.4  Iris-versicolor\n",
      "77  6.7  3.0  5.0  1.7  Iris-versicolor\n",
      "78  6.0  2.9  4.5  1.5  Iris-versicolor\n",
      "79  5.7  2.6  3.5  1.0  Iris-versicolor\n",
      "(10, 5)\n",
      "     C1   C2   C3   C4               C5\n",
      "80  5.5  2.4  3.8  1.1  Iris-versicolor\n",
      "81  5.5  2.4  3.7  1.0  Iris-versicolor\n",
      "82  5.8  2.7  3.9  1.2  Iris-versicolor\n",
      "83  6.0  2.7  5.1  1.6  Iris-versicolor\n",
      "84  5.4  3.0  4.5  1.5  Iris-versicolor\n",
      "85  6.0  3.4  4.5  1.6  Iris-versicolor\n",
      "86  6.7  3.1  4.7  1.5  Iris-versicolor\n",
      "87  6.3  2.3  4.4  1.3  Iris-versicolor\n",
      "88  5.6  3.0  4.1  1.3  Iris-versicolor\n",
      "89  5.5  2.5  4.0  1.3  Iris-versicolor\n",
      "(10, 5)\n",
      "     C1   C2   C3   C4               C5\n",
      "90  5.5  2.6  4.4  1.2  Iris-versicolor\n",
      "91  6.1  3.0  4.6  1.4  Iris-versicolor\n",
      "92  5.8  2.6  4.0  1.2  Iris-versicolor\n",
      "93  5.0  2.3  3.3  1.0  Iris-versicolor\n",
      "94  5.6  2.7  4.2  1.3  Iris-versicolor\n",
      "95  5.7  3.0  4.2  1.2  Iris-versicolor\n",
      "96  5.7  2.9  4.2  1.3  Iris-versicolor\n",
      "97  6.2  2.9  4.3  1.3  Iris-versicolor\n",
      "98  5.1  2.5  3.0  1.1  Iris-versicolor\n",
      "99  5.7  2.8  4.1  1.3  Iris-versicolor\n",
      "(10, 5)\n",
      "      C1   C2   C3   C4              C5\n",
      "100  6.3  3.3  6.0  2.5  Iris-virginica\n",
      "101  5.8  2.7  5.1  1.9  Iris-virginica\n",
      "102  7.1  3.0  5.9  2.1  Iris-virginica\n",
      "103  6.3  2.9  5.6  1.8  Iris-virginica\n",
      "104  6.5  3.0  5.8  2.2  Iris-virginica\n",
      "105  7.6  3.0  6.6  2.1  Iris-virginica\n",
      "106  4.9  2.5  4.5  1.7  Iris-virginica\n",
      "107  7.3  2.9  6.3  1.8  Iris-virginica\n",
      "108  6.7  2.5  5.8  1.8  Iris-virginica\n",
      "109  7.2  3.6  6.1  2.5  Iris-virginica\n",
      "(10, 5)\n",
      "      C1   C2   C3   C4              C5\n",
      "110  6.5  3.2  5.1  2.0  Iris-virginica\n",
      "111  6.4  2.7  5.3  1.9  Iris-virginica\n",
      "112  6.8  3.0  5.5  2.1  Iris-virginica\n",
      "113  5.7  2.5  5.0  2.0  Iris-virginica\n",
      "114  5.8  2.8  5.1  2.4  Iris-virginica\n",
      "115  6.4  3.2  5.3  2.3  Iris-virginica\n",
      "116  6.5  3.0  5.5  1.8  Iris-virginica\n",
      "117  7.7  3.8  6.7  2.2  Iris-virginica\n",
      "118  7.7  2.6  6.9  2.3  Iris-virginica\n",
      "119  6.0  2.2  5.0  1.5  Iris-virginica\n",
      "(10, 5)\n",
      "      C1   C2   C3   C4              C5\n",
      "120  6.9  3.2  5.7  2.3  Iris-virginica\n",
      "121  5.6  2.8  4.9  2.0  Iris-virginica\n",
      "122  7.7  2.8  6.7  2.0  Iris-virginica\n",
      "123  6.3  2.7  4.9  1.8  Iris-virginica\n",
      "124  6.7  3.3  5.7  2.1  Iris-virginica\n",
      "125  7.2  3.2  6.0  1.8  Iris-virginica\n",
      "126  6.2  2.8  4.8  1.8  Iris-virginica\n",
      "127  6.1  3.0  4.9  1.8  Iris-virginica\n",
      "128  6.4  2.8  5.6  2.1  Iris-virginica\n",
      "129  7.2  3.0  5.8  1.6  Iris-virginica\n",
      "(10, 5)\n",
      "      C1   C2   C3   C4              C5\n",
      "130  7.4  2.8  6.1  1.9  Iris-virginica\n",
      "131  7.9  3.8  6.4  2.0  Iris-virginica\n",
      "132  6.4  2.8  5.6  2.2  Iris-virginica\n",
      "133  6.3  2.8  5.1  1.5  Iris-virginica\n",
      "134  6.1  2.6  5.6  1.4  Iris-virginica\n",
      "135  7.7  3.0  6.1  2.3  Iris-virginica\n",
      "136  6.3  3.4  5.6  2.4  Iris-virginica\n",
      "137  6.4  3.1  5.5  1.8  Iris-virginica\n",
      "138  6.0  3.0  4.8  1.8  Iris-virginica\n",
      "139  6.9  3.1  5.4  2.1  Iris-virginica\n",
      "(10, 5)\n",
      "      C1   C2   C3   C4              C5\n",
      "140  6.7  3.1  5.6  2.4  Iris-virginica\n",
      "141  6.9  3.1  5.1  2.3  Iris-virginica\n",
      "142  5.8  2.7  5.1  1.9  Iris-virginica\n",
      "143  6.8  3.2  5.9  2.3  Iris-virginica\n",
      "144  6.7  3.3  5.7  2.5  Iris-virginica\n",
      "145  6.7  3.0  5.2  2.3  Iris-virginica\n",
      "146  6.3  2.5  5.0  1.9  Iris-virginica\n",
      "147  6.5  3.0  5.2  2.0  Iris-virginica\n",
      "148  6.2  3.4  5.4  2.3  Iris-virginica\n",
      "149  5.9  3.0  5.1  1.8  Iris-virginica\n"
     ]
    }
   ],
   "source": [
    "for chunk in iris_chunks:\n",
    "    print (chunk.shape)\n",
    "    print (chunk)"
   ]
  },
  {
   "cell_type": "code",
   "execution_count": 10,
   "metadata": {},
   "outputs": [],
   "source": [
    "iris_iterator = pd.read_csv(iris_filename,header=None,\n",
    "names=['C1','C2','C3','C4','C5'],iterator = True)"
   ]
  },
  {
   "cell_type": "code",
   "execution_count": 12,
   "metadata": {},
   "outputs": [
    {
     "name": "stdout",
     "output_type": "stream",
     "text": [
      "(10, 5)\n"
     ]
    }
   ],
   "source": [
    "print (iris_iterator.get_chunk(10).shape)"
   ]
  },
  {
   "cell_type": "code",
   "execution_count": 13,
   "metadata": {},
   "outputs": [
    {
     "name": "stdout",
     "output_type": "stream",
     "text": [
      "     C1   C2   C3   C4           C5\n",
      "10  5.4  3.7  1.5  0.2  Iris-setosa\n",
      "11  4.8  3.4  1.6  0.2  Iris-setosa\n",
      "12  4.8  3.0  1.4  0.1  Iris-setosa\n",
      "13  4.3  3.0  1.1  0.1  Iris-setosa\n",
      "14  5.8  4.0  1.2  0.2  Iris-setosa\n",
      "15  5.7  4.4  1.5  0.4  Iris-setosa\n",
      "16  5.4  3.9  1.3  0.4  Iris-setosa\n",
      "17  5.1  3.5  1.4  0.3  Iris-setosa\n",
      "18  5.7  3.8  1.7  0.3  Iris-setosa\n",
      "19  5.1  3.8  1.5  0.3  Iris-setosa\n",
      "20  5.4  3.4  1.7  0.2  Iris-setosa\n",
      "21  5.1  3.7  1.5  0.4  Iris-setosa\n",
      "22  4.6  3.6  1.0  0.2  Iris-setosa\n",
      "23  5.1  3.3  1.7  0.5  Iris-setosa\n",
      "24  4.8  3.4  1.9  0.2  Iris-setosa\n",
      "25  5.0  3.0  1.6  0.2  Iris-setosa\n",
      "26  5.0  3.4  1.6  0.4  Iris-setosa\n",
      "27  5.2  3.5  1.5  0.2  Iris-setosa\n",
      "28  5.2  3.4  1.4  0.2  Iris-setosa\n",
      "29  4.7  3.2  1.6  0.2  Iris-setosa\n"
     ]
    }
   ],
   "source": [
    "print (iris_iterator.get_chunk(20))"
   ]
  },
  {
   "cell_type": "code",
   "execution_count": 14,
   "metadata": {},
   "outputs": [
    {
     "data": {
      "text/html": [
       "<div>\n",
       "<style scoped>\n",
       "    .dataframe tbody tr th:only-of-type {\n",
       "        vertical-align: middle;\n",
       "    }\n",
       "\n",
       "    .dataframe tbody tr th {\n",
       "        vertical-align: top;\n",
       "    }\n",
       "\n",
       "    .dataframe thead th {\n",
       "        text-align: right;\n",
       "    }\n",
       "</style>\n",
       "<table border=\"1\" class=\"dataframe\">\n",
       "  <thead>\n",
       "    <tr style=\"text-align: right;\">\n",
       "      <th></th>\n",
       "      <th>C1</th>\n",
       "      <th>C2</th>\n",
       "      <th>C3</th>\n",
       "      <th>C4</th>\n",
       "      <th>C5</th>\n",
       "    </tr>\n",
       "  </thead>\n",
       "  <tbody>\n",
       "    <tr>\n",
       "      <td>30</td>\n",
       "      <td>4.8</td>\n",
       "      <td>3.1</td>\n",
       "      <td>1.6</td>\n",
       "      <td>0.2</td>\n",
       "      <td>Iris-setosa</td>\n",
       "    </tr>\n",
       "    <tr>\n",
       "      <td>31</td>\n",
       "      <td>5.4</td>\n",
       "      <td>3.4</td>\n",
       "      <td>1.5</td>\n",
       "      <td>0.4</td>\n",
       "      <td>Iris-setosa</td>\n",
       "    </tr>\n",
       "  </tbody>\n",
       "</table>\n",
       "</div>"
      ],
      "text/plain": [
       "     C1   C2   C3   C4           C5\n",
       "30  4.8  3.1  1.6  0.2  Iris-setosa\n",
       "31  5.4  3.4  1.5  0.4  Iris-setosa"
      ]
     },
     "execution_count": 14,
     "metadata": {},
     "output_type": "execute_result"
    }
   ],
   "source": [
    "piece = iris_iterator.get_chunk(2)\n",
    "piece"
   ]
  },
  {
   "cell_type": "code",
   "execution_count": 24,
   "metadata": {},
   "outputs": [
    {
     "name": "stdout",
     "output_type": "stream",
     "text": [
      "0 OrderedDict([('sepal_length', '5.1'), ('sepal_width', '3.5'), ('petal_length', '1.4'), ('petal_width', '0.2'), ('target', 'Iris-setosa')])\n"
     ]
    }
   ],
   "source": [
    "# open函数在csv库中\n",
    "import csv\n",
    "# open也可以处理数据\n",
    "# rt是以文本形式进行操作\n",
    "with open(iris_filename, 'rt') as data_stream:\n",
    "    # 'rt' mode\n",
    "#     输出n和row\n",
    "#  enumerate用于产生新的索引序列\n",
    "    for n, row in enumerate(csv.DictReader(data_stream,\n",
    "        fieldnames = ['sepal_length', 'sepal_width',\n",
    "        'petal_length', 'petal_width', 'target'],\n",
    "        dialect='excel')):\n",
    "            if n== 0:\n",
    "                print (n,row)\n",
    "            else:\n",
    "                break"
   ]
  },
  {
   "cell_type": "code",
   "execution_count": 25,
   "metadata": {},
   "outputs": [
    {
     "name": "stdout",
     "output_type": "stream",
     "text": [
      "['5.1', '3.5', '1.4', '0.2', 'Iris-setosa']\n"
     ]
    }
   ],
   "source": [
    "with open (iris_filename,'rt') as data_stream:\n",
    "    for n,row in enumerate(csv.reader(data_stream,dialect='excel')):\n",
    "        if n==0:\n",
    "            print (row)\n",
    "        else:\n",
    "            break"
   ]
  },
  {
   "cell_type": "code",
   "execution_count": 26,
   "metadata": {},
   "outputs": [],
   "source": [
    "# 将数据以5个p次处理的方式进行读入\n",
    "def batch_read(filename, batch=5):\n",
    "    # open the data stream\n",
    "    with open(filename, 'rt') as data_stream:\n",
    "        # reset the batch\n",
    "        batch_output = list()\n",
    "        # iterate over the file\n",
    "        for n, row in enumerate(csv.reader(data_stream, dialect='excel')):\n",
    "            # if the batch is of the right size\n",
    "            if n > 0 and n % batch == 0:\n",
    "                # yield back the batch as an ndarray\n",
    "#                 将输出写成数组形式\n",
    "                yield(np.array(batch_output))\n",
    "                # reset the batch and restart\n",
    "                batch_output = list()\n",
    "            # otherwise add the row to the batch\n",
    "            batch_output.append(row)\n",
    "        # when the loop is over, yield what's left\n",
    "        yield(np.array(batch_output))"
   ]
  },
  {
   "cell_type": "code",
   "execution_count": 29,
   "metadata": {},
   "outputs": [
    {
     "name": "stdout",
     "output_type": "stream",
     "text": [
      "[['5.1' '3.5' '1.4' '0.2' 'Iris-setosa']\n",
      " ['4.9' '3.0' '1.4' '0.2' 'Iris-setosa']\n",
      " ['4.7' '3.2' '1.3' '0.2' 'Iris-setosa']]\n"
     ]
    }
   ],
   "source": [
    "import numpy as np\n",
    "for batch_input in batch_read(iris_filename, batch=3):\n",
    "    print (batch_input)\n",
    "    break"
   ]
  },
  {
   "cell_type": "markdown",
   "metadata": {},
   "source": [
    "# 二"
   ]
  },
  {
   "cell_type": "markdown",
   "metadata": {},
   "source": [
    "# 2.2.4访问其他数据格式"
   ]
  },
  {
   "cell_type": "code",
   "execution_count": 2,
   "metadata": {},
   "outputs": [
    {
     "data": {
      "text/html": [
       "<div>\n",
       "<style scoped>\n",
       "    .dataframe tbody tr th:only-of-type {\n",
       "        vertical-align: middle;\n",
       "    }\n",
       "\n",
       "    .dataframe tbody tr th {\n",
       "        vertical-align: top;\n",
       "    }\n",
       "\n",
       "    .dataframe thead th {\n",
       "        text-align: right;\n",
       "    }\n",
       "</style>\n",
       "<table border=\"1\" class=\"dataframe\">\n",
       "  <thead>\n",
       "    <tr style=\"text-align: right;\">\n",
       "      <th></th>\n",
       "      <th>Coll</th>\n",
       "      <th>Col2</th>\n",
       "      <th>Col3</th>\n",
       "      <th>Col4</th>\n",
       "    </tr>\n",
       "  </thead>\n",
       "  <tbody>\n",
       "    <tr>\n",
       "      <td>0</td>\n",
       "      <td>0</td>\n",
       "      <td>1.0</td>\n",
       "      <td>1.0</td>\n",
       "      <td>Hello World!</td>\n",
       "    </tr>\n",
       "    <tr>\n",
       "      <td>1</td>\n",
       "      <td>1</td>\n",
       "      <td>1.0</td>\n",
       "      <td>1.0</td>\n",
       "      <td>Hello World!</td>\n",
       "    </tr>\n",
       "    <tr>\n",
       "      <td>2</td>\n",
       "      <td>2</td>\n",
       "      <td>1.0</td>\n",
       "      <td>1.0</td>\n",
       "      <td>Hello World!</td>\n",
       "    </tr>\n",
       "    <tr>\n",
       "      <td>3</td>\n",
       "      <td>3</td>\n",
       "      <td>1.0</td>\n",
       "      <td>1.0</td>\n",
       "      <td>Hello World!</td>\n",
       "    </tr>\n",
       "    <tr>\n",
       "      <td>4</td>\n",
       "      <td>4</td>\n",
       "      <td>1.0</td>\n",
       "      <td>1.0</td>\n",
       "      <td>Hello World!</td>\n",
       "    </tr>\n",
       "  </tbody>\n",
       "</table>\n",
       "</div>"
      ],
      "text/plain": [
       "   Coll  Col2  Col3          Col4\n",
       "0     0   1.0   1.0  Hello World!\n",
       "1     1   1.0   1.0  Hello World!\n",
       "2     2   1.0   1.0  Hello World!\n",
       "3     3   1.0   1.0  Hello World!\n",
       "4     4   1.0   1.0  Hello World!"
      ]
     },
     "execution_count": 2,
     "metadata": {},
     "output_type": "execute_result"
    }
   ],
   "source": [
    "import pandas as pd\n",
    "my_own_dataset = pd.DataFrame({'Coll':range(5),'Col2':\n",
    "[1.0]*5,'Col3':1.0,'Col4':'Hello World!'})\n",
    "my_own_dataset"
   ]
  },
  {
   "cell_type": "code",
   "execution_count": 3,
   "metadata": {},
   "outputs": [
    {
     "data": {
      "text/plain": [
       "Coll      int64\n",
       "Col2    float64\n",
       "Col3    float64\n",
       "Col4     object\n",
       "dtype: object"
      ]
     },
     "execution_count": 3,
     "metadata": {},
     "output_type": "execute_result"
    }
   ],
   "source": [
    "my_own_dataset.dtypes"
   ]
  },
  {
   "cell_type": "code",
   "execution_count": 7,
   "metadata": {},
   "outputs": [
    {
     "data": {
      "text/plain": [
       "Coll    float64\n",
       "Col2    float64\n",
       "Col3    float64\n",
       "Col4     object\n",
       "dtype: object"
      ]
     },
     "execution_count": 7,
     "metadata": {},
     "output_type": "execute_result"
    }
   ],
   "source": [
    "my_own_dataset['Coll'] = my_own_dataset['Coll'].astype(float)\n",
    "my_own_dataset.dtypes"
   ]
  },
  {
   "cell_type": "markdown",
   "metadata": {},
   "source": [
    "# 2.2.5数据预处理"
   ]
  },
  {
   "cell_type": "code",
   "execution_count": 81,
   "metadata": {},
   "outputs": [
    {
     "data": {
      "text/plain": [
       "0      False\n",
       "1      False\n",
       "2      False\n",
       "3      False\n",
       "4      False\n",
       "       ...  \n",
       "145     True\n",
       "146     True\n",
       "147     True\n",
       "148     True\n",
       "149    False\n",
       "Name: sepal_length, Length: 150, dtype: bool"
      ]
     },
     "execution_count": 81,
     "metadata": {},
     "output_type": "execute_result"
    }
   ],
   "source": [
    "make_feature = iris['sepal_length'] > 6.0\n",
    "make_feature"
   ]
  },
  {
   "cell_type": "code",
   "execution_count": 82,
   "metadata": {},
   "outputs": [
    {
     "data": {
      "text/plain": [
       "Index(['sepal_length', 'sepal_width', 'petal_length', 'petal_width', 'target'], dtype='object')"
      ]
     },
     "execution_count": 82,
     "metadata": {},
     "output_type": "execute_result"
    }
   ],
   "source": [
    "iris.columns"
   ]
  },
  {
   "cell_type": "code",
   "execution_count": 83,
   "metadata": {},
   "outputs": [
    {
     "data": {
      "text/plain": [
       "0      Iris-setosa\n",
       "1      Iris-setosa\n",
       "2      Iris-setosa\n",
       "3      Iris-setosa\n",
       "4      Iris-setosa\n",
       "          ...     \n",
       "145      New label\n",
       "146      New label\n",
       "147      New label\n",
       "148      New label\n",
       "149      New label\n",
       "Name: target, Length: 150, dtype: object"
      ]
     },
     "execution_count": 83,
     "metadata": {},
     "output_type": "execute_result"
    }
   ],
   "source": [
    "iris['target']"
   ]
  },
  {
   "cell_type": "code",
   "execution_count": 84,
   "metadata": {},
   "outputs": [
    {
     "data": {
      "text/plain": [
       "array(['Iris-setosa', 'Iris-versicolor', 'New label'], dtype=object)"
      ]
     },
     "execution_count": 84,
     "metadata": {},
     "output_type": "execute_result"
    }
   ],
   "source": [
    "iris['target'].unique()"
   ]
  },
  {
   "cell_type": "code",
   "execution_count": 85,
   "metadata": {},
   "outputs": [],
   "source": [
    "mask_target = iris['target'] =='Iris-virginica'\n",
    "iris.loc[mask_target,'target'] = 'New label'"
   ]
  },
  {
   "cell_type": "code",
   "execution_count": 86,
   "metadata": {},
   "outputs": [
    {
     "data": {
      "text/plain": [
       "0      Iris-setosa\n",
       "1      Iris-setosa\n",
       "2      Iris-setosa\n",
       "3      Iris-setosa\n",
       "4      Iris-setosa\n",
       "          ...     \n",
       "145      New label\n",
       "146      New label\n",
       "147      New label\n",
       "148      New label\n",
       "149      New label\n",
       "Name: target, Length: 150, dtype: object"
      ]
     },
     "execution_count": 86,
     "metadata": {},
     "output_type": "execute_result"
    }
   ],
   "source": [
    "iris['target']"
   ]
  },
  {
   "cell_type": "code",
   "execution_count": 72,
   "metadata": {},
   "outputs": [
    {
     "data": {
      "text/plain": [
       "array(['Iris-setosa', 'Iris-versicolor', 'New label'], dtype=object)"
      ]
     },
     "execution_count": 72,
     "metadata": {},
     "output_type": "execute_result"
    }
   ],
   "source": [
    "iris['target'].unique()"
   ]
  },
  {
   "cell_type": "code",
   "execution_count": 73,
   "metadata": {},
   "outputs": [
    {
     "data": {
      "text/html": [
       "<div>\n",
       "<style scoped>\n",
       "    .dataframe tbody tr th:only-of-type {\n",
       "        vertical-align: middle;\n",
       "    }\n",
       "\n",
       "    .dataframe tbody tr th {\n",
       "        vertical-align: top;\n",
       "    }\n",
       "\n",
       "    .dataframe thead th {\n",
       "        text-align: right;\n",
       "    }\n",
       "</style>\n",
       "<table border=\"1\" class=\"dataframe\">\n",
       "  <thead>\n",
       "    <tr style=\"text-align: right;\">\n",
       "      <th></th>\n",
       "      <th>sepal_length</th>\n",
       "      <th>sepal_width</th>\n",
       "      <th>petal_length</th>\n",
       "      <th>petal_width</th>\n",
       "    </tr>\n",
       "    <tr>\n",
       "      <th>target</th>\n",
       "      <th></th>\n",
       "      <th></th>\n",
       "      <th></th>\n",
       "      <th></th>\n",
       "    </tr>\n",
       "  </thead>\n",
       "  <tbody>\n",
       "    <tr>\n",
       "      <td>Iris-setosa</td>\n",
       "      <td>5.006</td>\n",
       "      <td>3.418</td>\n",
       "      <td>1.464</td>\n",
       "      <td>0.244</td>\n",
       "    </tr>\n",
       "    <tr>\n",
       "      <td>Iris-versicolor</td>\n",
       "      <td>5.936</td>\n",
       "      <td>2.770</td>\n",
       "      <td>4.260</td>\n",
       "      <td>1.326</td>\n",
       "    </tr>\n",
       "    <tr>\n",
       "      <td>New label</td>\n",
       "      <td>6.588</td>\n",
       "      <td>2.974</td>\n",
       "      <td>5.552</td>\n",
       "      <td>2.026</td>\n",
       "    </tr>\n",
       "  </tbody>\n",
       "</table>\n",
       "</div>"
      ],
      "text/plain": [
       "                 sepal_length  sepal_width  petal_length  petal_width\n",
       "target                                                               \n",
       "Iris-setosa             5.006        3.418         1.464        0.244\n",
       "Iris-versicolor         5.936        2.770         4.260        1.326\n",
       "New label               6.588        2.974         5.552        2.026"
      ]
     },
     "execution_count": 73,
     "metadata": {},
     "output_type": "execute_result"
    }
   ],
   "source": [
    "grouped_targets_mean = iris.groupby(['target']).mean()\n",
    "grouped_targets_mean"
   ]
  },
  {
   "cell_type": "code",
   "execution_count": 74,
   "metadata": {},
   "outputs": [
    {
     "data": {
      "text/html": [
       "<div>\n",
       "<style scoped>\n",
       "    .dataframe tbody tr th:only-of-type {\n",
       "        vertical-align: middle;\n",
       "    }\n",
       "\n",
       "    .dataframe tbody tr th {\n",
       "        vertical-align: top;\n",
       "    }\n",
       "\n",
       "    .dataframe thead th {\n",
       "        text-align: right;\n",
       "    }\n",
       "</style>\n",
       "<table border=\"1\" class=\"dataframe\">\n",
       "  <thead>\n",
       "    <tr style=\"text-align: right;\">\n",
       "      <th></th>\n",
       "      <th>sepal_length</th>\n",
       "      <th>sepal_width</th>\n",
       "      <th>petal_length</th>\n",
       "      <th>petal_width</th>\n",
       "    </tr>\n",
       "    <tr>\n",
       "      <th>target</th>\n",
       "      <th></th>\n",
       "      <th></th>\n",
       "      <th></th>\n",
       "      <th></th>\n",
       "    </tr>\n",
       "  </thead>\n",
       "  <tbody>\n",
       "    <tr>\n",
       "      <td>Iris-setosa</td>\n",
       "      <td>0.124249</td>\n",
       "      <td>0.145180</td>\n",
       "      <td>0.030106</td>\n",
       "      <td>0.011494</td>\n",
       "    </tr>\n",
       "    <tr>\n",
       "      <td>Iris-versicolor</td>\n",
       "      <td>0.266433</td>\n",
       "      <td>0.098469</td>\n",
       "      <td>0.220816</td>\n",
       "      <td>0.039106</td>\n",
       "    </tr>\n",
       "    <tr>\n",
       "      <td>New label</td>\n",
       "      <td>0.404343</td>\n",
       "      <td>0.104004</td>\n",
       "      <td>0.304588</td>\n",
       "      <td>0.075433</td>\n",
       "    </tr>\n",
       "  </tbody>\n",
       "</table>\n",
       "</div>"
      ],
      "text/plain": [
       "                 sepal_length  sepal_width  petal_length  petal_width\n",
       "target                                                               \n",
       "Iris-setosa          0.124249     0.145180      0.030106     0.011494\n",
       "Iris-versicolor      0.266433     0.098469      0.220816     0.039106\n",
       "New label            0.404343     0.104004      0.304588     0.075433"
      ]
     },
     "execution_count": 74,
     "metadata": {},
     "output_type": "execute_result"
    }
   ],
   "source": [
    "grouped_targets_var = iris.groupby(['target']).var()\n",
    "grouped_targets_var"
   ]
  },
  {
   "cell_type": "code",
   "execution_count": 75,
   "metadata": {},
   "outputs": [
    {
     "data": {
      "text/html": [
       "<div>\n",
       "<style scoped>\n",
       "    .dataframe tbody tr th:only-of-type {\n",
       "        vertical-align: middle;\n",
       "    }\n",
       "\n",
       "    .dataframe tbody tr th {\n",
       "        vertical-align: top;\n",
       "    }\n",
       "\n",
       "    .dataframe thead th {\n",
       "        text-align: right;\n",
       "    }\n",
       "</style>\n",
       "<table border=\"1\" class=\"dataframe\">\n",
       "  <thead>\n",
       "    <tr style=\"text-align: right;\">\n",
       "      <th></th>\n",
       "      <th>sepal_length</th>\n",
       "      <th>sepal_width</th>\n",
       "      <th>petal_length</th>\n",
       "      <th>petal_width</th>\n",
       "      <th>target</th>\n",
       "    </tr>\n",
       "  </thead>\n",
       "  <tbody>\n",
       "    <tr>\n",
       "      <td>13</td>\n",
       "      <td>4.3</td>\n",
       "      <td>3.0</td>\n",
       "      <td>1.1</td>\n",
       "      <td>0.1</td>\n",
       "      <td>Iris-setosa</td>\n",
       "    </tr>\n",
       "    <tr>\n",
       "      <td>42</td>\n",
       "      <td>4.4</td>\n",
       "      <td>3.2</td>\n",
       "      <td>1.3</td>\n",
       "      <td>0.2</td>\n",
       "      <td>Iris-setosa</td>\n",
       "    </tr>\n",
       "    <tr>\n",
       "      <td>38</td>\n",
       "      <td>4.4</td>\n",
       "      <td>3.0</td>\n",
       "      <td>1.3</td>\n",
       "      <td>0.2</td>\n",
       "      <td>Iris-setosa</td>\n",
       "    </tr>\n",
       "    <tr>\n",
       "      <td>8</td>\n",
       "      <td>4.4</td>\n",
       "      <td>2.9</td>\n",
       "      <td>1.4</td>\n",
       "      <td>0.2</td>\n",
       "      <td>Iris-setosa</td>\n",
       "    </tr>\n",
       "    <tr>\n",
       "      <td>41</td>\n",
       "      <td>4.5</td>\n",
       "      <td>2.3</td>\n",
       "      <td>1.3</td>\n",
       "      <td>0.3</td>\n",
       "      <td>Iris-setosa</td>\n",
       "    </tr>\n",
       "  </tbody>\n",
       "</table>\n",
       "</div>"
      ],
      "text/plain": [
       "    sepal_length  sepal_width  petal_length  petal_width       target\n",
       "13           4.3          3.0           1.1          0.1  Iris-setosa\n",
       "42           4.4          3.2           1.3          0.2  Iris-setosa\n",
       "38           4.4          3.0           1.3          0.2  Iris-setosa\n",
       "8            4.4          2.9           1.4          0.2  Iris-setosa\n",
       "41           4.5          2.3           1.3          0.3  Iris-setosa"
      ]
     },
     "execution_count": 75,
     "metadata": {},
     "output_type": "execute_result"
    }
   ],
   "source": [
    "iris.sort_values(by='sepal_length').head()"
   ]
  },
  {
   "cell_type": "code",
   "execution_count": 48,
   "metadata": {},
   "outputs": [],
   "source": [
    "# smooth_time_series = pd.rolling_mean(time_series,5)"
   ]
  },
  {
   "cell_type": "code",
   "execution_count": 50,
   "metadata": {},
   "outputs": [],
   "source": [
    "# median_time_series = pd.rolling_median(time_series,5)"
   ]
  },
  {
   "cell_type": "code",
   "execution_count": 87,
   "metadata": {},
   "outputs": [
    {
     "data": {
      "text/plain": [
       "0    5\n",
       "1    5\n",
       "2    5\n",
       "3    5\n",
       "4    5\n",
       "5    5\n",
       "6    5\n",
       "7    5\n",
       "8    5\n",
       "9    5\n",
       "dtype: int64"
      ]
     },
     "execution_count": 87,
     "metadata": {},
     "output_type": "execute_result"
    }
   ],
   "source": [
    "import numpy as np\n",
    "iris.apply(np.count_nonzero, axis=1).head(10)\n",
    "# axis=0是列方向，axis=1是按行方向\n",
    "# 计算每一行上非零数据"
   ]
  },
  {
   "cell_type": "code",
   "execution_count": 88,
   "metadata": {},
   "outputs": [
    {
     "data": {
      "text/plain": [
       "sepal_length    150\n",
       "sepal_width     150\n",
       "petal_length    150\n",
       "petal_width     150\n",
       "target          150\n",
       "dtype: int64"
      ]
     },
     "execution_count": 88,
     "metadata": {},
     "output_type": "execute_result"
    }
   ],
   "source": [
    "iris.apply(np.count_nonzero, axis=0)"
   ]
  },
  {
   "cell_type": "code",
   "execution_count": 89,
   "metadata": {},
   "outputs": [
    {
     "data": {
      "text/html": [
       "<div>\n",
       "<style scoped>\n",
       "    .dataframe tbody tr th:only-of-type {\n",
       "        vertical-align: middle;\n",
       "    }\n",
       "\n",
       "    .dataframe tbody tr th {\n",
       "        vertical-align: top;\n",
       "    }\n",
       "\n",
       "    .dataframe thead th {\n",
       "        text-align: right;\n",
       "    }\n",
       "</style>\n",
       "<table border=\"1\" class=\"dataframe\">\n",
       "  <thead>\n",
       "    <tr style=\"text-align: right;\">\n",
       "      <th></th>\n",
       "      <th>sepal_length</th>\n",
       "      <th>sepal_width</th>\n",
       "      <th>petal_length</th>\n",
       "      <th>petal_width</th>\n",
       "      <th>target</th>\n",
       "    </tr>\n",
       "  </thead>\n",
       "  <tbody>\n",
       "    <tr>\n",
       "      <td>0</td>\n",
       "      <td>3</td>\n",
       "      <td>3</td>\n",
       "      <td>3</td>\n",
       "      <td>3</td>\n",
       "      <td>11</td>\n",
       "    </tr>\n",
       "    <tr>\n",
       "      <td>1</td>\n",
       "      <td>3</td>\n",
       "      <td>3</td>\n",
       "      <td>3</td>\n",
       "      <td>3</td>\n",
       "      <td>11</td>\n",
       "    </tr>\n",
       "    <tr>\n",
       "      <td>2</td>\n",
       "      <td>3</td>\n",
       "      <td>3</td>\n",
       "      <td>3</td>\n",
       "      <td>3</td>\n",
       "      <td>11</td>\n",
       "    </tr>\n",
       "    <tr>\n",
       "      <td>3</td>\n",
       "      <td>3</td>\n",
       "      <td>3</td>\n",
       "      <td>3</td>\n",
       "      <td>3</td>\n",
       "      <td>11</td>\n",
       "    </tr>\n",
       "    <tr>\n",
       "      <td>4</td>\n",
       "      <td>3</td>\n",
       "      <td>3</td>\n",
       "      <td>3</td>\n",
       "      <td>3</td>\n",
       "      <td>11</td>\n",
       "    </tr>\n",
       "  </tbody>\n",
       "</table>\n",
       "</div>"
      ],
      "text/plain": [
       "   sepal_length  sepal_width  petal_length  petal_width  target\n",
       "0             3            3             3            3      11\n",
       "1             3            3             3            3      11\n",
       "2             3            3             3            3      11\n",
       "3             3            3             3            3      11\n",
       "4             3            3             3            3      11"
      ]
     },
     "execution_count": 89,
     "metadata": {},
     "output_type": "execute_result"
    }
   ],
   "source": [
    "iris.applymap(lambda el:len(str(el))).head()\n",
    "# lambda是一个循环函数\n",
    "# 将el中的函数转换成字符串的长度"
   ]
  },
  {
   "cell_type": "markdown",
   "metadata": {},
   "source": [
    "# 2.2.6数据选择"
   ]
  },
  {
   "cell_type": "code",
   "execution_count": 51,
   "metadata": {},
   "outputs": [
    {
     "data": {
      "text/html": [
       "<div>\n",
       "<style scoped>\n",
       "    .dataframe tbody tr th:only-of-type {\n",
       "        vertical-align: middle;\n",
       "    }\n",
       "\n",
       "    .dataframe tbody tr th {\n",
       "        vertical-align: top;\n",
       "    }\n",
       "\n",
       "    .dataframe thead th {\n",
       "        text-align: right;\n",
       "    }\n",
       "</style>\n",
       "<table border=\"1\" class=\"dataframe\">\n",
       "  <thead>\n",
       "    <tr style=\"text-align: right;\">\n",
       "      <th></th>\n",
       "      <th>n</th>\n",
       "      <th>val1</th>\n",
       "      <th>val2</th>\n",
       "      <th>val3</th>\n",
       "    </tr>\n",
       "  </thead>\n",
       "  <tbody>\n",
       "    <tr>\n",
       "      <td>0</td>\n",
       "      <td>100</td>\n",
       "      <td>10</td>\n",
       "      <td>10</td>\n",
       "      <td>C</td>\n",
       "    </tr>\n",
       "    <tr>\n",
       "      <td>1</td>\n",
       "      <td>101</td>\n",
       "      <td>10</td>\n",
       "      <td>20</td>\n",
       "      <td>C</td>\n",
       "    </tr>\n",
       "    <tr>\n",
       "      <td>2</td>\n",
       "      <td>102</td>\n",
       "      <td>10</td>\n",
       "      <td>30</td>\n",
       "      <td>B</td>\n",
       "    </tr>\n",
       "    <tr>\n",
       "      <td>3</td>\n",
       "      <td>103</td>\n",
       "      <td>10</td>\n",
       "      <td>40</td>\n",
       "      <td>B</td>\n",
       "    </tr>\n",
       "    <tr>\n",
       "      <td>4</td>\n",
       "      <td>104</td>\n",
       "      <td>10</td>\n",
       "      <td>50</td>\n",
       "      <td>A</td>\n",
       "    </tr>\n",
       "  </tbody>\n",
       "</table>\n",
       "</div>"
      ],
      "text/plain": [
       "     n  val1  val2 val3\n",
       "0  100    10    10    C\n",
       "1  101    10    20    C\n",
       "2  102    10    30    B\n",
       "3  103    10    40    B\n",
       "4  104    10    50    A"
      ]
     },
     "execution_count": 51,
     "metadata": {},
     "output_type": "execute_result"
    }
   ],
   "source": [
    "import pandas as pd\n",
    "dataset = pd.read_csv('a_selection_example_1.csv')\n",
    "dataset"
   ]
  },
  {
   "cell_type": "code",
   "execution_count": 52,
   "metadata": {},
   "outputs": [
    {
     "data": {
      "text/html": [
       "<div>\n",
       "<style scoped>\n",
       "    .dataframe tbody tr th:only-of-type {\n",
       "        vertical-align: middle;\n",
       "    }\n",
       "\n",
       "    .dataframe tbody tr th {\n",
       "        vertical-align: top;\n",
       "    }\n",
       "\n",
       "    .dataframe thead th {\n",
       "        text-align: right;\n",
       "    }\n",
       "</style>\n",
       "<table border=\"1\" class=\"dataframe\">\n",
       "  <thead>\n",
       "    <tr style=\"text-align: right;\">\n",
       "      <th></th>\n",
       "      <th>val1</th>\n",
       "      <th>val2</th>\n",
       "      <th>val3</th>\n",
       "    </tr>\n",
       "    <tr>\n",
       "      <th>n</th>\n",
       "      <th></th>\n",
       "      <th></th>\n",
       "      <th></th>\n",
       "    </tr>\n",
       "  </thead>\n",
       "  <tbody>\n",
       "    <tr>\n",
       "      <td>100</td>\n",
       "      <td>10</td>\n",
       "      <td>10</td>\n",
       "      <td>C</td>\n",
       "    </tr>\n",
       "    <tr>\n",
       "      <td>101</td>\n",
       "      <td>10</td>\n",
       "      <td>20</td>\n",
       "      <td>C</td>\n",
       "    </tr>\n",
       "    <tr>\n",
       "      <td>102</td>\n",
       "      <td>10</td>\n",
       "      <td>30</td>\n",
       "      <td>B</td>\n",
       "    </tr>\n",
       "    <tr>\n",
       "      <td>103</td>\n",
       "      <td>10</td>\n",
       "      <td>40</td>\n",
       "      <td>B</td>\n",
       "    </tr>\n",
       "    <tr>\n",
       "      <td>104</td>\n",
       "      <td>10</td>\n",
       "      <td>50</td>\n",
       "      <td>A</td>\n",
       "    </tr>\n",
       "  </tbody>\n",
       "</table>\n",
       "</div>"
      ],
      "text/plain": [
       "     val1  val2 val3\n",
       "n                   \n",
       "100    10    10    C\n",
       "101    10    20    C\n",
       "102    10    30    B\n",
       "103    10    40    B\n",
       "104    10    50    A"
      ]
     },
     "execution_count": 52,
     "metadata": {},
     "output_type": "execute_result"
    }
   ],
   "source": [
    "dataset = pd.read_csv('a_selection_example_1.csv',index_col=0)\n",
    "dataset"
   ]
  },
  {
   "cell_type": "code",
   "execution_count": 53,
   "metadata": {},
   "outputs": [
    {
     "data": {
      "text/plain": [
       "'A'"
      ]
     },
     "execution_count": 53,
     "metadata": {},
     "output_type": "execute_result"
    }
   ],
   "source": [
    "dataset['val3'][104]"
   ]
  },
  {
   "cell_type": "code",
   "execution_count": 54,
   "metadata": {},
   "outputs": [
    {
     "data": {
      "text/plain": [
       "'A'"
      ]
     },
     "execution_count": 54,
     "metadata": {},
     "output_type": "execute_result"
    }
   ],
   "source": [
    "dataset.loc[104,'val3']"
   ]
  },
  {
   "cell_type": "code",
   "execution_count": 55,
   "metadata": {},
   "outputs": [
    {
     "data": {
      "text/plain": [
       "'A'"
      ]
     },
     "execution_count": 55,
     "metadata": {},
     "output_type": "execute_result"
    }
   ],
   "source": [
    "dataset.iloc[4,2]"
   ]
  },
  {
   "cell_type": "code",
   "execution_count": 56,
   "metadata": {},
   "outputs": [
    {
     "data": {
      "text/html": [
       "<div>\n",
       "<style scoped>\n",
       "    .dataframe tbody tr th:only-of-type {\n",
       "        vertical-align: middle;\n",
       "    }\n",
       "\n",
       "    .dataframe tbody tr th {\n",
       "        vertical-align: top;\n",
       "    }\n",
       "\n",
       "    .dataframe thead th {\n",
       "        text-align: right;\n",
       "    }\n",
       "</style>\n",
       "<table border=\"1\" class=\"dataframe\">\n",
       "  <thead>\n",
       "    <tr style=\"text-align: right;\">\n",
       "      <th></th>\n",
       "      <th>val3</th>\n",
       "      <th>val2</th>\n",
       "    </tr>\n",
       "    <tr>\n",
       "      <th>n</th>\n",
       "      <th></th>\n",
       "      <th></th>\n",
       "    </tr>\n",
       "  </thead>\n",
       "  <tbody>\n",
       "    <tr>\n",
       "      <td>100</td>\n",
       "      <td>C</td>\n",
       "      <td>10</td>\n",
       "    </tr>\n",
       "    <tr>\n",
       "      <td>101</td>\n",
       "      <td>C</td>\n",
       "      <td>20</td>\n",
       "    </tr>\n",
       "  </tbody>\n",
       "</table>\n",
       "</div>"
      ],
      "text/plain": [
       "    val3  val2\n",
       "n             \n",
       "100    C    10\n",
       "101    C    20"
      ]
     },
     "execution_count": 56,
     "metadata": {},
     "output_type": "execute_result"
    }
   ],
   "source": [
    "dataset.loc[range(100,102),['val3','val2']]"
   ]
  },
  {
   "cell_type": "code",
   "execution_count": 57,
   "metadata": {},
   "outputs": [
    {
     "data": {
      "text/html": [
       "<div>\n",
       "<style scoped>\n",
       "    .dataframe tbody tr th:only-of-type {\n",
       "        vertical-align: middle;\n",
       "    }\n",
       "\n",
       "    .dataframe tbody tr th {\n",
       "        vertical-align: top;\n",
       "    }\n",
       "\n",
       "    .dataframe thead th {\n",
       "        text-align: right;\n",
       "    }\n",
       "</style>\n",
       "<table border=\"1\" class=\"dataframe\">\n",
       "  <thead>\n",
       "    <tr style=\"text-align: right;\">\n",
       "      <th></th>\n",
       "      <th>val3</th>\n",
       "      <th>val2</th>\n",
       "    </tr>\n",
       "    <tr>\n",
       "      <th>n</th>\n",
       "      <th></th>\n",
       "      <th></th>\n",
       "    </tr>\n",
       "  </thead>\n",
       "  <tbody>\n",
       "    <tr>\n",
       "      <td>100</td>\n",
       "      <td>C</td>\n",
       "      <td>10</td>\n",
       "    </tr>\n",
       "    <tr>\n",
       "      <td>101</td>\n",
       "      <td>C</td>\n",
       "      <td>20</td>\n",
       "    </tr>\n",
       "  </tbody>\n",
       "</table>\n",
       "</div>"
      ],
      "text/plain": [
       "    val3  val2\n",
       "n             \n",
       "100    C    10\n",
       "101    C    20"
      ]
     },
     "execution_count": 57,
     "metadata": {},
     "output_type": "execute_result"
    }
   ],
   "source": [
    "dataset.iloc[range(2),[2,1]]"
   ]
  },
  {
   "cell_type": "code",
   "execution_count": 58,
   "metadata": {},
   "outputs": [
    {
     "data": {
      "text/html": [
       "<div>\n",
       "<style scoped>\n",
       "    .dataframe tbody tr th:only-of-type {\n",
       "        vertical-align: middle;\n",
       "    }\n",
       "\n",
       "    .dataframe tbody tr th {\n",
       "        vertical-align: top;\n",
       "    }\n",
       "\n",
       "    .dataframe thead th {\n",
       "        text-align: right;\n",
       "    }\n",
       "</style>\n",
       "<table border=\"1\" class=\"dataframe\">\n",
       "  <thead>\n",
       "    <tr style=\"text-align: right;\">\n",
       "      <th></th>\n",
       "      <th>val3</th>\n",
       "      <th>val2</th>\n",
       "    </tr>\n",
       "    <tr>\n",
       "      <th>n</th>\n",
       "      <th></th>\n",
       "      <th></th>\n",
       "    </tr>\n",
       "  </thead>\n",
       "  <tbody>\n",
       "    <tr>\n",
       "      <td>100</td>\n",
       "      <td>C</td>\n",
       "      <td>10</td>\n",
       "    </tr>\n",
       "    <tr>\n",
       "      <td>101</td>\n",
       "      <td>C</td>\n",
       "      <td>20</td>\n",
       "    </tr>\n",
       "  </tbody>\n",
       "</table>\n",
       "</div>"
      ],
      "text/plain": [
       "    val3  val2\n",
       "n             \n",
       "100    C    10\n",
       "101    C    20"
      ]
     },
     "execution_count": 58,
     "metadata": {},
     "output_type": "execute_result"
    }
   ],
   "source": [
    "dataset[['val3','val2']][0:2]"
   ]
  },
  {
   "cell_type": "markdown",
   "metadata": {},
   "source": [
    "# 三"
   ]
  },
  {
   "cell_type": "markdown",
   "metadata": {},
   "source": [
    "# 2.3使用分类数据和文本数据"
   ]
  },
  {
   "cell_type": "markdown",
   "metadata": {},
   "source": [
    "# 2.3使用分类数据和文本数据"
   ]
  },
  {
   "cell_type": "code",
   "execution_count": 5,
   "metadata": {},
   "outputs": [
    {
     "data": {
      "text/html": [
       "<div>\n",
       "<style scoped>\n",
       "    .dataframe tbody tr th:only-of-type {\n",
       "        vertical-align: middle;\n",
       "    }\n",
       "\n",
       "    .dataframe tbody tr th {\n",
       "        vertical-align: top;\n",
       "    }\n",
       "\n",
       "    .dataframe thead th {\n",
       "        text-align: right;\n",
       "    }\n",
       "</style>\n",
       "<table border=\"1\" class=\"dataframe\">\n",
       "  <thead>\n",
       "    <tr style=\"text-align: right;\">\n",
       "      <th></th>\n",
       "      <th>cloudy</th>\n",
       "      <th>foggy</th>\n",
       "      <th>rainy</th>\n",
       "      <th>snowy</th>\n",
       "      <th>sunny</th>\n",
       "    </tr>\n",
       "  </thead>\n",
       "  <tbody>\n",
       "    <tr>\n",
       "      <td>0</td>\n",
       "      <td>0</td>\n",
       "      <td>0</td>\n",
       "      <td>0</td>\n",
       "      <td>0</td>\n",
       "      <td>1</td>\n",
       "    </tr>\n",
       "    <tr>\n",
       "      <td>1</td>\n",
       "      <td>1</td>\n",
       "      <td>0</td>\n",
       "      <td>0</td>\n",
       "      <td>0</td>\n",
       "      <td>0</td>\n",
       "    </tr>\n",
       "    <tr>\n",
       "      <td>2</td>\n",
       "      <td>0</td>\n",
       "      <td>0</td>\n",
       "      <td>0</td>\n",
       "      <td>1</td>\n",
       "      <td>0</td>\n",
       "    </tr>\n",
       "    <tr>\n",
       "      <td>3</td>\n",
       "      <td>0</td>\n",
       "      <td>0</td>\n",
       "      <td>1</td>\n",
       "      <td>0</td>\n",
       "      <td>0</td>\n",
       "    </tr>\n",
       "    <tr>\n",
       "      <td>4</td>\n",
       "      <td>0</td>\n",
       "      <td>1</td>\n",
       "      <td>0</td>\n",
       "      <td>0</td>\n",
       "      <td>0</td>\n",
       "    </tr>\n",
       "  </tbody>\n",
       "</table>\n",
       "</div>"
      ],
      "text/plain": [
       "   cloudy  foggy  rainy  snowy  sunny\n",
       "0       0      0      0      0      1\n",
       "1       1      0      0      0      0\n",
       "2       0      0      0      1      0\n",
       "3       0      0      1      0      0\n",
       "4       0      1      0      0      0"
      ]
     },
     "execution_count": 5,
     "metadata": {},
     "output_type": "execute_result"
    }
   ],
   "source": [
    "import pandas as pd\n",
    "categorical_feature = pd.Series(['sunny','cloudy','snowy','rainy','foggy'])\n",
    "mapping = pd.get_dummies(categorical_feature)\n",
    "mapping"
   ]
  },
  {
   "cell_type": "code",
   "execution_count": 4,
   "metadata": {},
   "outputs": [
    {
     "data": {
      "text/plain": [
       "0    1\n",
       "1    0\n",
       "2    0\n",
       "3    0\n",
       "4    0\n",
       "Name: sunny, dtype: uint8"
      ]
     },
     "execution_count": 4,
     "metadata": {},
     "output_type": "execute_result"
    }
   ],
   "source": [
    "mapping['sunny']"
   ]
  },
  {
   "cell_type": "code",
   "execution_count": 6,
   "metadata": {},
   "outputs": [
    {
     "data": {
      "text/plain": [
       "0    0\n",
       "1    1\n",
       "2    0\n",
       "3    0\n",
       "4    0\n",
       "Name: cloudy, dtype: uint8"
      ]
     },
     "execution_count": 6,
     "metadata": {},
     "output_type": "execute_result"
    }
   ],
   "source": [
    "mapping['cloudy']"
   ]
  },
  {
   "cell_type": "code",
   "execution_count": 11,
   "metadata": {},
   "outputs": [
    {
     "name": "stdout",
     "output_type": "stream",
     "text": [
      "[[0. 0. 0. 0. 1.]]\n",
      "[[1. 0. 0. 0. 0.]]\n"
     ]
    },
    {
     "name": "stderr",
     "output_type": "stream",
     "text": [
      "C:\\Users\\84146\\Anaconda3\\lib\\site-packages\\sklearn\\preprocessing\\_encoders.py:415: FutureWarning: The handling of integer data will change in version 0.22. Currently, the categories are determined based on the range [0, max(values)], while in the future they will be determined based on the unique values.\n",
      "If you want the future behaviour and silence this warning, you can specify \"categories='auto'\".\n",
      "In case you used a LabelEncoder before this OneHotEncoder to convert the categories to integers, then you can now use the OneHotEncoder directly.\n",
      "  warnings.warn(msg, FutureWarning)\n"
     ]
    }
   ],
   "source": [
    "from sklearn.preprocessing import OneHotEncoder\n",
    "from sklearn.preprocessing import LabelEncoder\n",
    "le = LabelEncoder()\n",
    "ohe = OneHotEncoder()\n",
    "levels = ['sunny','cloudy','snowy','rainy','foggy']\n",
    "fit_levs = le.fit_transform(levels)\n",
    "ohe.fit([[fit_levs[0]],[fit_levs[1]],[fit_levs[2]],[fit_levs[3]],[fit_levs[4]]])\n",
    "print (ohe.transform([le.transform(['sunny'])]).toarray())\n",
    "print (ohe.transform([le.transform(['cloudy'])]).toarray())"
   ]
  },
  {
   "cell_type": "markdown",
   "metadata": {},
   "source": [
    "特殊的数据类型---文本"
   ]
  },
  {
   "cell_type": "code",
   "execution_count": 13,
   "metadata": {},
   "outputs": [],
   "source": [
    "from sklearn.datasets import fetch_20newsgroups\n",
    "categories = ['sci.med','sci.space']\n",
    "twenty_sci_news = fetch_20newsgroups(categories=categories)"
   ]
  },
  {
   "cell_type": "code",
   "execution_count": 14,
   "metadata": {},
   "outputs": [
    {
     "data": {
      "text/plain": [
       "'From: flb@flb.optiplan.fi (\"F.Baube[tm]\")\\nSubject: Vandalizing the sky\\nX-Added: Forwarded by Space Digest\\nOrganization: [via International Space University]\\nOriginal-Sender: isu@VACATION.VENARI.CS.CMU.EDU\\nDistribution: sci\\nLines: 12\\n\\nFrom: \"Phil G. Fraering\" <pgf@srl03.cacs.usl.edu>\\n> \\n> Finally: this isn\\'t the Bronze Age, [..]\\n> please try to remember that there are more human activities than\\n> those practiced by the Warrior Caste, the Farming Caste, and the\\n> Priesthood.\\n\\nRight, the Profiting Caste is blessed by God, and may \\n freely blare its presence in the evening twilight ..\\n\\n-- \\n* Fred Baube (tm)\\n'"
      ]
     },
     "execution_count": 14,
     "metadata": {},
     "output_type": "execute_result"
    }
   ],
   "source": [
    "twenty_sci_news.data[0]"
   ]
  },
  {
   "cell_type": "code",
   "execution_count": 15,
   "metadata": {},
   "outputs": [
    {
     "data": {
      "text/plain": [
       "array(['C:\\\\Users\\\\84146\\\\scikit_learn_data\\\\20news_home\\\\20news-bydate-train\\\\sci.space\\\\61116',\n",
       "       'C:\\\\Users\\\\84146\\\\scikit_learn_data\\\\20news_home\\\\20news-bydate-train\\\\sci.med\\\\58122',\n",
       "       'C:\\\\Users\\\\84146\\\\scikit_learn_data\\\\20news_home\\\\20news-bydate-train\\\\sci.med\\\\58903',\n",
       "       ...,\n",
       "       'C:\\\\Users\\\\84146\\\\scikit_learn_data\\\\20news_home\\\\20news-bydate-train\\\\sci.space\\\\60774',\n",
       "       'C:\\\\Users\\\\84146\\\\scikit_learn_data\\\\20news_home\\\\20news-bydate-train\\\\sci.space\\\\60954',\n",
       "       'C:\\\\Users\\\\84146\\\\scikit_learn_data\\\\20news_home\\\\20news-bydate-train\\\\sci.med\\\\58911'],\n",
       "      dtype='<U95')"
      ]
     },
     "execution_count": 15,
     "metadata": {},
     "output_type": "execute_result"
    }
   ],
   "source": [
    "twenty_sci_news.filenames"
   ]
  },
  {
   "cell_type": "code",
   "execution_count": 21,
   "metadata": {},
   "outputs": [
    {
     "name": "stdout",
     "output_type": "stream",
     "text": [
      "1\n",
      "sci.space\n"
     ]
    }
   ],
   "source": [
    "print (twenty_sci_news.target[0])\n",
    "print (twenty_sci_news.target_names[twenty_sci_news.target[0]])"
   ]
  },
  {
   "cell_type": "code",
   "execution_count": 23,
   "metadata": {},
   "outputs": [
    {
     "data": {
      "text/plain": [
       "(1187, 25638)"
      ]
     },
     "execution_count": 23,
     "metadata": {},
     "output_type": "execute_result"
    }
   ],
   "source": [
    "from sklearn.feature_extraction.text import CountVectorizer\n",
    "count_vect = CountVectorizer()\n",
    "word_count = count_vect.fit_transform(twenty_sci_news.data)\n",
    "word_count.shape"
   ]
  },
  {
   "cell_type": "code",
   "execution_count": 24,
   "metadata": {},
   "outputs": [
    {
     "name": "stdout",
     "output_type": "stream",
     "text": [
      "  (0, 10827)\t2\n",
      "  (0, 10501)\t2\n",
      "  (0, 17170)\t1\n",
      "  (0, 10341)\t1\n",
      "  (0, 4762)\t2\n",
      "  (0, 23381)\t2\n",
      "  (0, 22345)\t1\n",
      "  (0, 24461)\t1\n",
      "  (0, 23137)\t7\n",
      "  (0, 21382)\t1\n",
      "  (0, 3233)\t1\n",
      "  (0, 10713)\t1\n",
      "  (0, 5650)\t3\n",
      "  (0, 21686)\t2\n",
      "  (0, 8438)\t1\n",
      "  (0, 17217)\t1\n",
      "  (0, 24626)\t1\n",
      "  (0, 13158)\t1\n",
      "  (0, 24151)\t1\n",
      "  (0, 17235)\t1\n",
      "  (0, 20909)\t1\n",
      "  (0, 13359)\t1\n",
      "  (0, 24415)\t1\n",
      "  (0, 24547)\t1\n",
      "  (0, 7646)\t1\n",
      "  :\t:\n",
      "  (0, 15968)\t1\n",
      "  (0, 12362)\t1\n",
      "  (0, 3191)\t1\n",
      "  (0, 23129)\t1\n",
      "  (0, 23241)\t1\n",
      "  (0, 18474)\t1\n",
      "  (0, 24930)\t1\n",
      "  (0, 6017)\t3\n",
      "  (0, 10188)\t1\n",
      "  (0, 3808)\t2\n",
      "  (0, 18642)\t1\n",
      "  (0, 20110)\t1\n",
      "  (0, 18744)\t1\n",
      "  (0, 13318)\t1\n",
      "  (0, 5148)\t1\n",
      "  (0, 11330)\t1\n",
      "  (0, 15246)\t1\n",
      "  (0, 10785)\t1\n",
      "  (0, 5134)\t1\n",
      "  (0, 13384)\t1\n",
      "  (0, 18586)\t1\n",
      "  (0, 12716)\t1\n",
      "  (0, 9796)\t1\n",
      "  (0, 23849)\t1\n",
      "  (0, 10778)\t1\n"
     ]
    }
   ],
   "source": [
    "print(word_count[0])"
   ]
  },
  {
   "cell_type": "code",
   "execution_count": 25,
   "metadata": {},
   "outputs": [
    {
     "name": "stdout",
     "output_type": "stream",
     "text": [
      "Word: from appears 2 times\n",
      "Word: flb appears 2 times\n",
      "Word: optiplan appears 1 times\n",
      "Word: fi appears 1 times\n",
      "Word: baube appears 2 times\n",
      "Word: tm appears 2 times\n",
      "Word: subject appears 1 times\n",
      "Word: vandalizing appears 1 times\n",
      "Word: the appears 7 times\n",
      "Word: sky appears 1 times\n",
      "Word: added appears 1 times\n",
      "Word: forwarded appears 1 times\n",
      "Word: by appears 3 times\n",
      "Word: space appears 2 times\n",
      "Word: digest appears 1 times\n",
      "Word: organization appears 1 times\n",
      "Word: via appears 1 times\n",
      "Word: international appears 1 times\n",
      "Word: university appears 1 times\n",
      "Word: original appears 1 times\n",
      "Word: sender appears 1 times\n",
      "Word: isu appears 1 times\n",
      "Word: vacation appears 1 times\n",
      "Word: venari appears 1 times\n",
      "Word: cs appears 1 times\n",
      "Word: cmu appears 1 times\n",
      "Word: edu appears 2 times\n",
      "Word: distribution appears 1 times\n",
      "Word: sci appears 1 times\n",
      "Word: lines appears 1 times\n",
      "Word: 12 appears 1 times\n",
      "Word: phil appears 1 times\n",
      "Word: fraering appears 1 times\n",
      "Word: pgf appears 1 times\n",
      "Word: srl03 appears 1 times\n",
      "Word: cacs appears 1 times\n",
      "Word: usl appears 1 times\n",
      "Word: finally appears 1 times\n",
      "Word: this appears 1 times\n",
      "Word: isn appears 1 times\n",
      "Word: bronze appears 1 times\n",
      "Word: age appears 1 times\n",
      "Word: please appears 1 times\n",
      "Word: try appears 1 times\n",
      "Word: to appears 1 times\n",
      "Word: remember appears 1 times\n",
      "Word: that appears 1 times\n",
      "Word: there appears 1 times\n",
      "Word: are appears 1 times\n",
      "Word: more appears 1 times\n",
      "Word: human appears 1 times\n",
      "Word: activities appears 1 times\n",
      "Word: than appears 1 times\n",
      "Word: those appears 1 times\n",
      "Word: practiced appears 1 times\n",
      "Word: warrior appears 1 times\n",
      "Word: caste appears 3 times\n",
      "Word: farming appears 1 times\n",
      "Word: and appears 2 times\n",
      "Word: priesthood appears 1 times\n",
      "Word: right appears 1 times\n",
      "Word: profiting appears 1 times\n",
      "Word: is appears 1 times\n",
      "Word: blessed appears 1 times\n",
      "Word: god appears 1 times\n",
      "Word: may appears 1 times\n",
      "Word: freely appears 1 times\n",
      "Word: blare appears 1 times\n",
      "Word: its appears 1 times\n",
      "Word: presence appears 1 times\n",
      "Word: in appears 1 times\n",
      "Word: evening appears 1 times\n",
      "Word: twilight appears 1 times\n",
      "Word: fred appears 1 times\n"
     ]
    }
   ],
   "source": [
    "word_list = count_vect.get_feature_names()\n",
    "for n in word_count[0].indices:\n",
    "    print (\"Word:\",word_list[n],'appears',word_count[0,n],\"times\")"
   ]
  },
  {
   "cell_type": "code",
   "execution_count": 28,
   "metadata": {},
   "outputs": [
    {
     "name": "stdout",
     "output_type": "stream",
     "text": [
      "Word: from has frequency 0.02197802197802198\n",
      "Word: flb has frequency 0.02197802197802198\n",
      "Word: optiplan has frequency 0.01098901098901099\n",
      "Word: fi has frequency 0.01098901098901099\n",
      "Word: baube has frequency 0.02197802197802198\n",
      "Word: tm has frequency 0.02197802197802198\n",
      "Word: subject has frequency 0.01098901098901099\n",
      "Word: vandalizing has frequency 0.01098901098901099\n",
      "Word: the has frequency 0.07692307692307693\n",
      "Word: sky has frequency 0.01098901098901099\n",
      "Word: added has frequency 0.01098901098901099\n",
      "Word: forwarded has frequency 0.01098901098901099\n",
      "Word: by has frequency 0.03296703296703297\n",
      "Word: space has frequency 0.02197802197802198\n",
      "Word: digest has frequency 0.01098901098901099\n",
      "Word: organization has frequency 0.01098901098901099\n",
      "Word: via has frequency 0.01098901098901099\n",
      "Word: international has frequency 0.01098901098901099\n",
      "Word: university has frequency 0.01098901098901099\n",
      "Word: original has frequency 0.01098901098901099\n",
      "Word: sender has frequency 0.01098901098901099\n",
      "Word: isu has frequency 0.01098901098901099\n",
      "Word: vacation has frequency 0.01098901098901099\n",
      "Word: venari has frequency 0.01098901098901099\n",
      "Word: cs has frequency 0.01098901098901099\n",
      "Word: cmu has frequency 0.01098901098901099\n",
      "Word: edu has frequency 0.02197802197802198\n",
      "Word: distribution has frequency 0.01098901098901099\n",
      "Word: sci has frequency 0.01098901098901099\n",
      "Word: lines has frequency 0.01098901098901099\n",
      "Word: 12 has frequency 0.01098901098901099\n",
      "Word: phil has frequency 0.01098901098901099\n",
      "Word: fraering has frequency 0.01098901098901099\n",
      "Word: pgf has frequency 0.01098901098901099\n",
      "Word: srl03 has frequency 0.01098901098901099\n",
      "Word: cacs has frequency 0.01098901098901099\n",
      "Word: usl has frequency 0.01098901098901099\n",
      "Word: finally has frequency 0.01098901098901099\n",
      "Word: this has frequency 0.01098901098901099\n",
      "Word: isn has frequency 0.01098901098901099\n",
      "Word: bronze has frequency 0.01098901098901099\n",
      "Word: age has frequency 0.01098901098901099\n",
      "Word: please has frequency 0.01098901098901099\n",
      "Word: try has frequency 0.01098901098901099\n",
      "Word: to has frequency 0.01098901098901099\n",
      "Word: remember has frequency 0.01098901098901099\n",
      "Word: that has frequency 0.01098901098901099\n",
      "Word: there has frequency 0.01098901098901099\n",
      "Word: are has frequency 0.01098901098901099\n",
      "Word: more has frequency 0.01098901098901099\n",
      "Word: human has frequency 0.01098901098901099\n",
      "Word: activities has frequency 0.01098901098901099\n",
      "Word: than has frequency 0.01098901098901099\n",
      "Word: those has frequency 0.01098901098901099\n",
      "Word: practiced has frequency 0.01098901098901099\n",
      "Word: warrior has frequency 0.01098901098901099\n",
      "Word: caste has frequency 0.03296703296703297\n",
      "Word: farming has frequency 0.01098901098901099\n",
      "Word: and has frequency 0.02197802197802198\n",
      "Word: priesthood has frequency 0.01098901098901099\n",
      "Word: right has frequency 0.01098901098901099\n",
      "Word: profiting has frequency 0.01098901098901099\n",
      "Word: is has frequency 0.01098901098901099\n",
      "Word: blessed has frequency 0.01098901098901099\n",
      "Word: god has frequency 0.01098901098901099\n",
      "Word: may has frequency 0.01098901098901099\n",
      "Word: freely has frequency 0.01098901098901099\n",
      "Word: blare has frequency 0.01098901098901099\n",
      "Word: its has frequency 0.01098901098901099\n",
      "Word: presence has frequency 0.01098901098901099\n",
      "Word: in has frequency 0.01098901098901099\n",
      "Word: evening has frequency 0.01098901098901099\n",
      "Word: twilight has frequency 0.01098901098901099\n",
      "Word: fred has frequency 0.01098901098901099\n"
     ]
    }
   ],
   "source": [
    "from sklearn.feature_extraction.text import TfidfVectorizer\n",
    "tf_vect = TfidfVectorizer(use_idf=False,norm='l1')\n",
    "word_freq = tf_vect.fit_transform(twenty_sci_news.data)\n",
    "word_list = tf_vect.get_feature_names()\n",
    "for n in word_freq[0].indices:\n",
    "    print(\"Word:\",word_list[n],\"has frequency\",word_freq[0,n])"
   ]
  },
  {
   "cell_type": "code",
   "execution_count": 29,
   "metadata": {},
   "outputs": [
    {
     "name": "stdout",
     "output_type": "stream",
     "text": [
      "Word: fred has tfidf 0.08936045234843078\n",
      "Word: twilight has tfidf 0.13938927782180835\n",
      "Word: evening has tfidf 0.11302673424119597\n",
      "Word: in has tfidf 0.0239166759663498\n",
      "Word: presence has tfidf 0.1188056711727349\n",
      "Word: its has tfidf 0.0614868335851203\n",
      "Word: blare has tfidf 0.1503934722357903\n",
      "Word: freely has tfidf 0.1188056711727349\n",
      "Word: may has tfidf 0.05435468556679453\n",
      "Word: god has tfidf 0.1188056711727349\n",
      "Word: blessed has tfidf 0.1503934722357903\n",
      "Word: is has tfidf 0.025534922944795504\n",
      "Word: profiting has tfidf 0.1503934722357903\n",
      "Word: right has tfidf 0.06776142459179928\n",
      "Word: priesthood has tfidf 0.14419623132344553\n",
      "Word: and has tfidf 0.04914899480764025\n",
      "Word: farming has tfidf 0.14419623132344553\n",
      "Word: caste has tfidf 0.43258869397033656\n",
      "Word: warrior has tfidf 0.14419623132344553\n",
      "Word: practiced has tfidf 0.132141000260103\n",
      "Word: those has tfidf 0.060468912973222586\n",
      "Word: than has tfidf 0.05191930330186187\n",
      "Word: activities has tfidf 0.09066642662557041\n",
      "Word: human has tfidf 0.0844691857132256\n",
      "Word: more has tfidf 0.04649724133406932\n",
      "Word: are has tfidf 0.03463261182073175\n",
      "Word: there has tfidf 0.03852690933840286\n",
      "Word: that has tfidf 0.026770080186189097\n",
      "Word: remember has tfidf 0.07688691730428243\n",
      "Word: to has tfidf 0.02312167880805218\n",
      "Word: try has tfidf 0.07299884066247375\n",
      "Word: please has tfidf 0.07128977029653104\n",
      "Word: age has tfidf 0.09158324490848231\n",
      "Word: bronze has tfidf 0.14419623132344553\n",
      "Word: isn has tfidf 0.07299884066247375\n",
      "Word: this has tfidf 0.03108008679402127\n",
      "Word: finally has tfidf 0.09747052395335588\n",
      "Word: usl has tfidf 0.11179542894047015\n",
      "Word: cacs has tfidf 0.11433270851833557\n",
      "Word: srl03 has tfidf 0.12052994943068035\n",
      "Word: pgf has tfidf 0.11433270851833557\n",
      "Word: fraering has tfidf 0.11302673424119597\n",
      "Word: phil has tfidf 0.10227747745499305\n",
      "Word: 12 has tfidf 0.07618819730345817\n",
      "Word: lines has tfidf 0.021724075391797198\n",
      "Word: sci has tfidf 0.06670300928912896\n",
      "Word: distribution has tfidf 0.05290729202325938\n",
      "Word: edu has tfidf 0.05947852867520309\n",
      "Word: cmu has tfidf 0.08134167803269202\n",
      "Word: cs has tfidf 0.05460566290811566\n",
      "Word: venari has tfidf 0.10306090845025996\n",
      "Word: vacation has tfidf 0.09940094711578058\n",
      "Word: isu has tfidf 0.09940094711578058\n",
      "Word: sender has tfidf 0.09303606350425024\n",
      "Word: original has tfidf 0.08515311547788547\n",
      "Word: university has tfidf 0.044724150250747635\n",
      "Word: international has tfidf 0.08134167803269202\n",
      "Word: via has tfidf 0.083163211436086\n",
      "Word: organization has tfidf 0.022204860525140275\n",
      "Word: digest has tfidf 0.09459399361414342\n",
      "Word: space has tfidf 0.09814129398947688\n",
      "Word: by has tfidf 0.11991135778082024\n",
      "Word: forwarded has tfidf 0.09627343943524701\n",
      "Word: added has tfidf 0.08812914704770498\n",
      "Word: sky has tfidf 0.09111995870601315\n",
      "Word: the has tfidf 0.15754306290689327\n",
      "Word: vandalizing has tfidf 0.10306090845025996\n",
      "Word: subject has tfidf 0.021541978127203303\n",
      "Word: tm has tfidf 0.2190515100333968\n",
      "Word: baube has tfidf 0.264282000520206\n",
      "Word: fi has tfidf 0.1095257550166984\n",
      "Word: optiplan has tfidf 0.132141000260103\n",
      "Word: flb has tfidf 0.264282000520206\n",
      "Word: from has tfidf 0.04308395625440661\n"
     ]
    }
   ],
   "source": [
    "from sklearn.feature_extraction.text import TfidfVectorizer\n",
    "tfidf_vect = TfidfVectorizer( )# Default: use_idf=True\n",
    "word_tfidf = tfidf_vect.fit_transform(twenty_sci_news.data)\n",
    "word_list = tfidf_vect.get_feature_names()\n",
    "for n in word_tfidf[0].indices:\n",
    "    print(\"Word:\",word_list[n],\"has tfidf\",word_tfidf[0,n])"
   ]
  },
  {
   "cell_type": "code",
   "execution_count": 31,
   "metadata": {},
   "outputs": [
    {
     "data": {
      "text/plain": [
       "['we love data science', 'data science is hard']"
      ]
     },
     "execution_count": 31,
     "metadata": {},
     "output_type": "execute_result"
    }
   ],
   "source": [
    "text_1 = 'we love data science'\n",
    "text_2 = 'data science is hard'\n",
    "documents = [text_1,text_2]\n",
    "documents"
   ]
  },
  {
   "cell_type": "code",
   "execution_count": 33,
   "metadata": {},
   "outputs": [
    {
     "name": "stdout",
     "output_type": "stream",
     "text": [
      "Word list =  ['data', 'hard', 'is', 'love', 'science', 'we']\n",
      "text_1 is described with ['we(1)', 'love(1)', 'data(1)', 'science(1)']\n"
     ]
    }
   ],
   "source": [
    "# That is what we say above, the default one\n",
    "# 用一元语法\n",
    "count_vect_1_grams = CountVectorizer(ngram_range=(1, 1),\n",
    "stop_words=[], min_df=1)\n",
    "word_count = count_vect_1_grams.fit_transform(documents)\n",
    "word_list = count_vect_1_grams.get_feature_names()\n",
    "print (\"Word list = \", word_list)\n",
    "# 统计第一个文本中的词\n",
    "print (\"text_1 is described with\", [word_list[n] + \"(\" +\n",
    "str(word_count[0, n]) + \")\" for n in word_count[0].indices])"
   ]
  },
  {
   "cell_type": "code",
   "execution_count": 34,
   "metadata": {},
   "outputs": [
    {
     "name": "stdout",
     "output_type": "stream",
     "text": [
      "Word list =  ['data science', 'is hard', 'love data', 'science is', 'we love']\n",
      "text_1 is described with ['we love(1)', 'love data(1)', 'data science(1)']\n"
     ]
    }
   ],
   "source": [
    "# Now a bi-gram count vectorizer\n",
    "count_vect_1_grams = CountVectorizer(ngram_range=(2, 2))\n",
    "word_count = count_vect_1_grams.fit_transform(documents)\n",
    "word_list = count_vect_1_grams.get_feature_names()\n",
    "print (\"Word list = \", word_list)\n",
    "print (\"text_1 is described with\", [word_list[n] + \"(\" +\n",
    "str(word_count[0, n]) + \")\" for n in word_count[0].indices])"
   ]
  },
  {
   "cell_type": "code",
   "execution_count": 35,
   "metadata": {},
   "outputs": [
    {
     "name": "stdout",
     "output_type": "stream",
     "text": [
      "Word list =  ['data', 'data science', 'hard', 'is', 'is hard', 'love', 'love data', 'science', 'science is', 'we', 'we love']\n",
      "text_1 is described with ['we(1)', 'love(1)', 'data(1)', 'science(1)', 'we love(1)', 'love data(1)', 'data science(1)']\n"
     ]
    }
   ],
   "source": [
    "# Now a uni- and bi-gram count vectorizer\n",
    "count_vect_1_grams = CountVectorizer(ngram_range=(1, 2))\n",
    "word_count = count_vect_1_grams.fit_transform(documents)\n",
    "word_list = count_vect_1_grams.get_feature_names()\n",
    "print (\"Word list = \", word_list)\n",
    "print (\"text_1 is described with\", [word_list[n] + \"(\" +\n",
    "str(word_count[0, n]) + \")\" for n in word_count[0].indices])"
   ]
  },
  {
   "cell_type": "code",
   "execution_count": 36,
   "metadata": {},
   "outputs": [
    {
     "data": {
      "text/plain": [
       "(1187, 1000)"
      ]
     },
     "execution_count": 36,
     "metadata": {},
     "output_type": "execute_result"
    }
   ],
   "source": [
    "from sklearn.feature_extraction.text import HashingVectorizer\n",
    "# 构造一个容量为1000的词桶\n",
    "hash_vect = HashingVectorizer(n_features=1000)\n",
    "word_hashed = hash_vect.fit_transform(twenty_sci_news.data)\n",
    "word_hashed.shape"
   ]
  },
  {
   "cell_type": "code",
   "execution_count": null,
   "metadata": {},
   "outputs": [],
   "source": []
  }
 ],
 "metadata": {
  "kernelspec": {
   "display_name": "Python 3",
   "language": "python",
   "name": "python3"
  },
  "language_info": {
   "codemirror_mode": {
    "name": "ipython",
    "version": 3
   },
   "file_extension": ".py",
   "mimetype": "text/x-python",
   "name": "python",
   "nbconvert_exporter": "python",
   "pygments_lexer": "ipython3",
   "version": "3.7.4"
  }
 },
 "nbformat": 4,
 "nbformat_minor": 2
}

{
 "cells": [
  {
   "cell_type": "markdown",
   "metadata": {},
   "source": [
    "# 文本文件"
   ]
  },
  {
   "cell_type": "code",
   "execution_count": 64,
   "metadata": {},
   "outputs": [
    {
     "name": "stdout",
     "output_type": "stream",
     "text": [
      "中国是一个伟大的国家！\n"
     ]
    }
   ],
   "source": [
    "tf = open('f.txt','rt',encoding='UTF-8')\n",
    "print(tf.readline())\n",
    "tf.close()"
   ]
  },
  {
   "cell_type": "markdown",
   "metadata": {},
   "source": [
    "# 二进制文件，将rt改为rb"
   ]
  },
  {
   "cell_type": "code",
   "execution_count": 2,
   "metadata": {},
   "outputs": [
    {
     "name": "stdout",
     "output_type": "stream",
     "text": [
      "b'\\xe4\\xb8\\xad\\xe5\\x9b\\xbd\\xe6\\x98\\xaf\\xe4\\xb8\\x80\\xe4\\xb8\\xaa\\xe4\\xbc\\x9f\\xe5\\xa4\\xa7\\xe7\\x9a\\x84\\xe5\\x9b\\xbd\\xe5\\xae\\xb6\\r\\n'\n"
     ]
    }
   ],
   "source": [
    "tf = open('E:/学习/python/python语言设计/7、文件和数据格式化/f.txt','rb')\n",
    "print(tf.readline())\n",
    "tf.close()"
   ]
  },
  {
   "cell_type": "markdown",
   "metadata": {},
   "source": [
    "# 文件内容的读取"
   ]
  },
  {
   "cell_type": "code",
   "execution_count": 66,
   "metadata": {},
   "outputs": [
    {
     "data": {
      "text/plain": [
       "'中国'"
      ]
     },
     "execution_count": 66,
     "metadata": {},
     "output_type": "execute_result"
    }
   ],
   "source": [
    "f = open('f.txt','rt',encoding='utf-8')\n",
    "s = f.read(2)\n",
    "s"
   ]
  },
  {
   "cell_type": "code",
   "execution_count": 67,
   "metadata": {},
   "outputs": [
    {
     "data": {
      "text/plain": [
       "'中国是一个伟大的国家！'"
      ]
     },
     "execution_count": 67,
     "metadata": {},
     "output_type": "execute_result"
    }
   ],
   "source": [
    "f = open('f.txt','rt',encoding='utf-8')\n",
    "s = f.readline()\n",
    "s"
   ]
  },
  {
   "cell_type": "code",
   "execution_count": 14,
   "metadata": {},
   "outputs": [
    {
     "data": {
      "text/plain": [
       "['中国是一个伟大的国家！']"
      ]
     },
     "execution_count": 14,
     "metadata": {},
     "output_type": "execute_result"
    }
   ],
   "source": [
    "f = open('E:/学习/python/python语言设计/7、文件和数据格式化/f.txt','rt',encoding='utf-8')\n",
    "c = f.readlines()\n",
    "c"
   ]
  },
  {
   "cell_type": "markdown",
   "metadata": {},
   "source": [
    "# 遍历全文本：方法一"
   ]
  },
  {
   "cell_type": "code",
   "execution_count": 51,
   "metadata": {},
   "outputs": [
    {
     "name": "stdout",
     "output_type": "stream",
     "text": [
      "请输入要打开的文件名f.txt\n",
      "中国是一个伟大的国家！\n"
     ]
    }
   ],
   "source": [
    "fname=input(\"请输入要打开的文件名\")\n",
    "fo=open(fname,\"r\",encoding='utf-8')\n",
    "txt=fo.read()\n",
    "#对全文txt进行处理\n",
    "print(txt)\n",
    "fo.close()\n"
   ]
  },
  {
   "cell_type": "markdown",
   "metadata": {},
   "source": [
    "# 方法二"
   ]
  },
  {
   "cell_type": "code",
   "execution_count": 52,
   "metadata": {},
   "outputs": [
    {
     "name": "stdout",
     "output_type": "stream",
     "text": [
      "请输入要打开的文件名称：f.txt\n",
      "中国\n",
      "是一\n",
      "个伟\n",
      "大的\n",
      "国家\n",
      "！\n",
      "\n"
     ]
    }
   ],
   "source": [
    "fname = input('请输入要打开的文件名称：')\n",
    "fo = open(fname,\"rt\",encoding='utf-8')\n",
    "txt = fo.read(2)\n",
    "print(txt)\n",
    "while txt != '':\n",
    "    txt = fo.read(2)\n",
    "    print(txt)\n",
    "fo.close()"
   ]
  },
  {
   "cell_type": "markdown",
   "metadata": {},
   "source": [
    "# 逐行遍历文件：方法一"
   ]
  },
  {
   "cell_type": "code",
   "execution_count": 38,
   "metadata": {},
   "outputs": [
    {
     "name": "stdout",
     "output_type": "stream",
     "text": [
      "请输入要打开的文件名称：f.txt\n",
      "中国是一个伟大的国家！\n"
     ]
    }
   ],
   "source": [
    "fname = input('请输入要打开的文件名称：')\n",
    "fo = open(fname,\"r\",encoding='utf-8')\n",
    "\n",
    "for line in fo.readlines():\n",
    "    print(line)\n",
    "fo.close()"
   ]
  },
  {
   "cell_type": "markdown",
   "metadata": {},
   "source": [
    "# 方法二"
   ]
  },
  {
   "cell_type": "code",
   "execution_count": 53,
   "metadata": {},
   "outputs": [
    {
     "name": "stdout",
     "output_type": "stream",
     "text": [
      "请输入要打开的文件名称：f.txt\n",
      "中国是一个伟大的国家！\n"
     ]
    }
   ],
   "source": [
    "fname = input('请输入要打开的文件名称：')\n",
    "fo = open(fname,'r',encoding='utf-8')\n",
    "for line in fo:\n",
    "    print(line)\n",
    "fo.close()"
   ]
  },
  {
   "cell_type": "markdown",
   "metadata": {},
   "source": [
    "# 文件写入"
   ]
  },
  {
   "cell_type": "code",
   "execution_count": 62,
   "metadata": {},
   "outputs": [],
   "source": [
    "fo = open('output.txt','w+',encoding='utf-8')\n",
    "ls = ['中国','法国','美国']\n",
    "fo.writelines(ls)\n",
    "for line in fo:\n",
    "    print(line)\n",
    "fo.close()"
   ]
  },
  {
   "cell_type": "code",
   "execution_count": 63,
   "metadata": {},
   "outputs": [
    {
     "name": "stdout",
     "output_type": "stream",
     "text": [
      "中国法国美国\n"
     ]
    }
   ],
   "source": [
    "fo = open('output.txt','w+',encoding='utf-8')\n",
    "ls = ['中国','法国','美国']\n",
    "fo.writelines(ls)\n",
    "fo.seek(0)\n",
    "for line in fo:\n",
    "    print(line)\n",
    "fo.close()"
   ]
  },
  {
   "cell_type": "code",
   "execution_count": 1,
   "metadata": {},
   "outputs": [],
   "source": [
    "import turtle as t\n",
    "t.penup()\n",
    "t.seth(-90)\n",
    "t.fd(160)\n",
    "t.pendown()\n",
    "t.pensize(20)\n",
    "t.colormode(255)\n",
    "for j in range(10):\n",
    "    t.speed(1000)\n",
    "    t.pencolor(25*j,5*j,15*j)\n",
    "    t.seth(130)\n",
    "    t.fd(220)\n",
    "    for i in range(23):\n",
    "        t.circle(-80,10)\n",
    "    t.seth(100)\n",
    "    for i in range (23):\n",
    "        t.circle(-80,10)\n",
    "    t.fd(220)"
   ]
  },
  {
   "cell_type": "code",
   "execution_count": null,
   "metadata": {},
   "outputs": [],
   "source": []
  }
 ],
 "metadata": {
  "kernelspec": {
   "display_name": "Python 3",
   "language": "python",
   "name": "python3"
  },
  "language_info": {
   "codemirror_mode": {
    "name": "ipython",
    "version": 3
   },
   "file_extension": ".py",
   "mimetype": "text/x-python",
   "name": "python",
   "nbconvert_exporter": "python",
   "pygments_lexer": "ipython3",
   "version": "3.7.6"
  }
 },
 "nbformat": 4,
 "nbformat_minor": 4
}

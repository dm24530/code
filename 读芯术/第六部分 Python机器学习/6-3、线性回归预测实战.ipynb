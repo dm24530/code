{
 "cells": [
  {
   "cell_type": "markdown",
   "metadata": {},
   "source": [
    "### 线性回归预测儿童身高实战"
   ]
  },
  {
   "cell_type": "markdown",
   "metadata": {},
   "source": [
    "训练数据：\n",
    "              [1, 0, 180, 165, 175, 165, 170, 165],\n",
    "              [3, 0, 180, 165, 175, 165, 173, 165],\n",
    "              [4, 0, 180, 165, 175, 165, 170, 165],\n",
    "              [6, 0, 180, 165, 175, 165, 170, 165],\n",
    "              [8, 1, 180, 165, 175, 167, 170, 165],\n",
    "              [10, 0, 180, 166, 175, 165, 170, 165],\n",
    "              [11, 0, 180, 165, 175, 165, 170, 165],\n",
    "              [12, 0, 180, 165, 175, 165, 170, 165],\n",
    "              [13, 1, 180, 165, 175, 165, 170, 165],\n",
    "              [14, 0, 180, 165, 175, 165, 170, 165],\n",
    "              [17, 0, 170, 165, 175, 165, 170, 165]]"
   ]
  },
  {
   "cell_type": "markdown",
   "metadata": {},
   "source": [
    "对应标签：[60, 90, 100, 110, 130, 140, 150, 164, 160, 163, 168]"
   ]
  },
  {
   "cell_type": "markdown",
   "metadata": {},
   "source": [
    "待预测数据：[[10, 0, 180, 165, 175, 165, 170, 165],\n",
    "               [17, 1, 173, 153, 175, 161, 170, 161],\n",
    "               [34, 0, 170, 165, 170, 165, 170, 165]]"
   ]
  },
  {
   "cell_type": "markdown",
   "metadata": {},
   "source": [
    "#### 问题分析与步骤"
   ]
  },
  {
   "cell_type": "markdown",
   "metadata": {},
   "source": [
    "###### 导入扩展库"
   ]
  },
  {
   "cell_type": "code",
   "execution_count": 3,
   "metadata": {},
   "outputs": [],
   "source": [
    "import copy\n",
    "import numpy as np\n",
    "from sklearn import linear_model"
   ]
  },
  {
   "cell_type": "markdown",
   "metadata": {},
   "source": [
    "##### 准备训练数据"
   ]
  },
  {
   "cell_type": "code",
   "execution_count": 4,
   "metadata": {},
   "outputs": [],
   "source": [
    "# # 父亲、母亲、训练数据，每一行表示一个样本，包含的信息分别为：\n",
    "# 儿童年龄,性别（0女1男）祖父、祖母、外祖父、外祖母的身高\n",
    "x = np.array([[1, 0, 180, 165, 175, 165, 170, 165],\n",
    "              [3, 0, 180, 165, 175, 165, 173, 165],\n",
    "              [4, 0, 180, 165, 175, 165, 170, 165],\n",
    "              [6, 0, 180, 165, 175, 165, 170, 165],\n",
    "              [8, 1, 180, 165, 175, 167, 170, 165],\n",
    "              [10, 0, 180, 166, 175, 165, 170, 165],\n",
    "              [11, 0, 180, 165, 175, 165, 170, 165],\n",
    "              [12, 0, 180, 165, 175, 165, 170, 165],\n",
    "              [13, 1, 180, 165, 175, 165, 170, 165],\n",
    "              [14, 0, 180, 165, 175, 165, 170, 165],\n",
    "              [17, 0, 170, 165, 175, 165, 170, 165]])\n",
    "\n",
    "# 儿童身高，单位：cm\n",
    "y = np.array([60, 90, 100, 110, 130, 140, 150, 164, 160, 163, 168])"
   ]
  },
  {
   "cell_type": "markdown",
   "metadata": {},
   "source": [
    "##### 创建线性回归模型"
   ]
  },
  {
   "cell_type": "code",
   "execution_count": 5,
   "metadata": {},
   "outputs": [],
   "source": [
    "# 创建线性回归模型\n",
    "lr = linear_model.LinearRegression()"
   ]
  },
  {
   "cell_type": "markdown",
   "metadata": {},
   "source": [
    "##### 训练模型"
   ]
  },
  {
   "cell_type": "code",
   "execution_count": 6,
   "metadata": {},
   "outputs": [
    {
     "data": {
      "text/plain": [
       "LinearRegression(copy_X=True, fit_intercept=True, n_jobs=None,\n",
       "         normalize=False)"
      ]
     },
     "execution_count": 6,
     "metadata": {},
     "output_type": "execute_result"
    }
   ],
   "source": [
    "# 根据已知数据拟合最佳直线\n",
    "lr.fit(x, y)"
   ]
  },
  {
   "cell_type": "markdown",
   "metadata": {},
   "source": [
    "##### 准备待预测数据"
   ]
  },
  {
   "cell_type": "code",
   "execution_count": 7,
   "metadata": {},
   "outputs": [],
   "source": [
    "# 待测的未知数据，其中每个分量的含义和训练数据相同\n",
    "xs = np.array([[10, 0, 180, 165, 175, 165, 170, 165],\n",
    "               [17, 1, 173, 153, 175, 161, 170, 161],\n",
    "               [34, 0, 170, 165, 170, 165, 170, 165]])"
   ]
  },
  {
   "cell_type": "markdown",
   "metadata": {},
   "source": [
    "##### 预测数据并打印出结果 "
   ]
  },
  {
   "cell_type": "code",
   "execution_count": 8,
   "metadata": {},
   "outputs": [
    {
     "name": "stdout",
     "output_type": "stream",
     "text": [
      "[ 10   0 180 165 175 165 170 165] : [140.56153846]\n",
      "[ 17   1 173 153 175 161 170 161] : [158.41]\n",
      "[ 34   0 170 165 170 165 170 165] : [176.03076923]\n"
     ]
    }
   ],
   "source": [
    "for item in xs:\n",
    "    # 为不改变原始数据，进行深复制，并假设超过18岁以后就不再长高了\n",
    "    # 对于18岁以后的年龄，返回18岁时的身高\n",
    "    item1 = copy.deepcopy(item)\n",
    "    if item1[0] > 18:\n",
    "        item1[0] = 18\n",
    "    print(item, ':', lr.predict(item1.reshape(1,-1)))\n"
   ]
  }
 ],
 "metadata": {
  "kernelspec": {
   "display_name": "Python 3",
   "language": "python",
   "name": "python3"
  },
  "language_info": {
   "codemirror_mode": {
    "name": "ipython",
    "version": 3
   },
   "file_extension": ".py",
   "mimetype": "text/x-python",
   "name": "python",
   "nbconvert_exporter": "python",
   "pygments_lexer": "ipython3",
   "version": "3.7.3"
  }
 },
 "nbformat": 4,
 "nbformat_minor": 2
}

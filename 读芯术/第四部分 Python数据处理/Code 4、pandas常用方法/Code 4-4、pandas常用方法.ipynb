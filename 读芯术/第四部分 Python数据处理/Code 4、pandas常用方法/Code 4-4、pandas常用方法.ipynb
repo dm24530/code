{
 "cells": [
  {
   "cell_type": "markdown",
   "metadata": {},
   "source": [
    "# pandas常用方法"
   ]
  },
  {
   "cell_type": "markdown",
   "metadata": {},
   "source": [
    "## pandas数据读取与写入"
   ]
  },
  {
   "cell_type": "code",
   "execution_count": 5,
   "metadata": {},
   "outputs": [],
   "source": [
    "# 示例1，读入剪贴板数据，写入csv，转换为json、html、excel等格式 \n",
    "import numpy as np\n",
    "import pandas as pd\n",
    "from pandas import Series, DataFrame\n",
    "\n",
    "# 粘贴板内容\n",
    "# \tA\tB\tC\n",
    "# x\t1\t4\tp\n",
    "# y\t2\t5\tq\n",
    "# z\t3\t6\tr\n",
    "\n",
    "# 从粘贴板读取数据\n",
    "df1 = pd.read_clipboard()\n",
    "# 把数据放入到粘粘板中，数据可以直接粘粘到excel文件中\n",
    "df1.to_clipboard()\n",
    "# 读写csv文件,可以取消index\n",
    "df1.to_csv('df1.csv')\n",
    "df1.to_csv('df1_noIndex.csv', index = False)\n",
    "df2 = pd.read_csv('df1.csv')\n",
    "# 转化为json格式\n",
    "df1.to_json()\n",
    "# 读取json\n",
    "pd.read_json(df1.to_json())\n",
    "# 转化为html格式\n",
    "df1.to_html('df1.html')\n",
    "# 装换为excel格式\n",
    "df1.to_excel('df1.xlsx')"
   ]
  },
  {
   "cell_type": "code",
   "execution_count": 6,
   "metadata": {},
   "outputs": [
    {
     "name": "stdout",
     "output_type": "stream",
     "text": [
      "   S.No    Name  Age       City  Salary\n",
      "0     1     Tom   28    Toronto   20000\n",
      "1     2     Lee   32   HongKong    3000\n",
      "2     3  Steven   43   Bay Area    8300\n",
      "3     4     Ram   38  Hyderabad    3900\n"
     ]
    }
   ],
   "source": [
    "# 示例2-1  read_csv\n",
    "df=pd.read_csv(\"temp.csv\")\n",
    "print(df)"
   ]
  },
  {
   "cell_type": "code",
   "execution_count": 10,
   "metadata": {},
   "outputs": [
    {
     "name": "stdout",
     "output_type": "stream",
     "text": [
      "        Name  Age       City  Salary\n",
      "S.No                                \n",
      "1        Tom   28    Toronto   20000\n",
      "2        Lee   32   HongKong    3000\n",
      "3     Steven   43   Bay Area    8300\n",
      "4        Ram   38  Hyderabad    3900\n"
     ]
    }
   ],
   "source": [
    "# 示例2-2 自定义索引: 可以指定csv文件中的一列来使用index_col定制索引。\n",
    "df=pd.read_csv(\"temp.csv\",index_col=['S.No'])\n",
    "print (df)"
   ]
  },
  {
   "cell_type": "code",
   "execution_count": null,
   "metadata": {},
   "outputs": [],
   "source": [
    "#示例2-3 转换器 dtype\n",
    "df = pd.read_csv(\"temp.csv\", dtype={'Salary': np.float64})\n",
    "print(df)\n",
    "print(df.dtypes)"
   ]
  },
  {
   "cell_type": "code",
   "execution_count": 11,
   "metadata": {},
   "outputs": [
    {
     "name": "stdout",
     "output_type": "stream",
     "text": [
      "      a       b    c          d       e\n",
      "0  S.No    Name  Age       City  Salary\n",
      "1     1     Tom   28    Toronto   20000\n",
      "2     2     Lee   32   HongKong    3000\n",
      "3     3  Steven   43   Bay Area    8300\n",
      "4     4     Ram   38  Hyderabad    3900\n"
     ]
    }
   ],
   "source": [
    "#示例2-3 使用names参数指定标题的名称\n",
    "df=pd.read_csv(\"temp.csv\", names=['a', 'b', 'c','d','e'])\n",
    "print(df)"
   ]
  },
  {
   "cell_type": "markdown",
   "metadata": {},
   "source": [
    "观察可以看到，标题名称附加了自定义名称，但文件中的标题还没有被消除。 现在，使用header参数来删除它。\n",
    "如果标题不是第一行，则将行号传递给标题。这将跳过前面的行。"
   ]
  },
  {
   "cell_type": "code",
   "execution_count": 12,
   "metadata": {},
   "outputs": [
    {
     "name": "stdout",
     "output_type": "stream",
     "text": [
      "   a       b   c          d      e\n",
      "0  1     Tom  28    Toronto  20000\n",
      "1  2     Lee  32   HongKong   3000\n",
      "2  3  Steven  43   Bay Area   8300\n",
      "3  4     Ram  38  Hyderabad   3900\n"
     ]
    }
   ],
   "source": [
    "df=pd.read_csv(\"temp.csv\",names=['a','b','c','d','e'],header=0)\n",
    "print(df)"
   ]
  },
  {
   "cell_type": "code",
   "execution_count": 13,
   "metadata": {},
   "outputs": [
    {
     "name": "stdout",
     "output_type": "stream",
     "text": [
      "   2     Lee  32   HongKong  3000\n",
      "0  3  Steven  43   Bay Area  8300\n",
      "1  4     Ram  38  Hyderabad  3900\n"
     ]
    }
   ],
   "source": [
    "# 示例2-4 skiprows跳过指定的行数。\n",
    "df=pd.read_csv(\"temp.csv\", skiprows=2)\n",
    "print (df)"
   ]
  },
  {
   "cell_type": "markdown",
   "metadata": {},
   "source": [
    "##  描述性统计方法"
   ]
  },
  {
   "cell_type": "code",
   "execution_count": 29,
   "metadata": {},
   "outputs": [
    {
     "name": "stdout",
     "output_type": "stream",
     "text": [
      "      Name  Age  Rating\n",
      "0      Tom   25    4.23\n",
      "1    James   26    3.24\n",
      "2    Ricky   25    3.98\n",
      "3      Vin   23    2.56\n",
      "4    Steve   30    3.20\n",
      "5    Minsu   29    4.60\n",
      "6     Jack   23    3.80\n",
      "7      Lee   34    3.78\n",
      "8    David   40    2.98\n",
      "9   Gasper   30    4.80\n",
      "10  Betina   51    4.10\n",
      "11  Andres   46    3.65 \n",
      "\n",
      "Name      TomJamesRickyVinSteveMinsuJackLeeDavidGasperBe...\n",
      "Age                                                     382\n",
      "Rating                                                44.92\n",
      "dtype: object \n",
      "\n",
      "0     29.23\n",
      "1     29.24\n",
      "2     28.98\n",
      "3     25.56\n",
      "4     33.20\n",
      "5     33.60\n",
      "6     26.80\n",
      "7     37.78\n",
      "8     42.98\n",
      "9     34.80\n",
      "10    55.10\n",
      "11    49.65\n",
      "dtype: float64 \n",
      "\n",
      "Age       31.833333\n",
      "Rating     3.743333\n",
      "dtype: float64 \n",
      "\n",
      "Age       9.232682\n",
      "Rating    0.661628\n",
      "dtype: float64 \n",
      "\n"
     ]
    }
   ],
   "source": [
    "# 示例3  描述统计方法\n",
    "import pandas as pd\n",
    "import numpy as np\n",
    "\n",
    "#Create a Dictionary of series\n",
    "d = {'Name':pd.Series(['Tom','James','Ricky','Vin','Steve','Minsu','Jack',\n",
    "   'Lee','David','Gasper','Betina','Andres']),\n",
    "   'Age':pd.Series([25,26,25,23,30,29,23,34,40,30,51,46]),\n",
    "   'Rating':pd.Series([4.23,3.24,3.98,2.56,3.20,4.6,3.8,3.78,2.98,4.80,4.10,3.65])}\n",
    "\n",
    "#Create a DataFrame\n",
    "df = pd.DataFrame(d)\n",
    "print(df, '\\n')\n",
    "print(df.sum(), '\\n')  # 列求和， 默认axis=0\n",
    "print(df.sum(1), '\\n')   # 行求和，axis=1\n",
    "print(df.mean(), '\\n')   # 求均值\n",
    "print(df.std(), '\\n')    # 标准差"
   ]
  },
  {
   "cell_type": "markdown",
   "metadata": {},
   "source": [
    "###### include是用于传递关于什么列需要考虑用于总结的必要信息的参数。获取值列表; 默认情况下是”数字值”。\n",
    "object - 汇总字符串列; \n",
    "number - 汇总数字列; \n",
    "all - 将所有列汇总在一起(不应将其作为列表值传递)."
   ]
  },
  {
   "cell_type": "code",
   "execution_count": 28,
   "metadata": {},
   "outputs": [
    {
     "name": "stdout",
     "output_type": "stream",
     "text": [
      "             Age     Rating\n",
      "count  12.000000  12.000000\n",
      "mean   31.833333   3.743333\n",
      "std     9.232682   0.661628\n",
      "min    23.000000   2.560000\n",
      "25%    25.000000   3.230000\n",
      "50%    29.500000   3.790000\n",
      "75%    35.500000   4.132500\n",
      "max    51.000000   4.800000\n"
     ]
    }
   ],
   "source": [
    "print(df.describe(include=['number']))    # 统计信息摘要"
   ]
  },
  {
   "cell_type": "markdown",
   "metadata": {},
   "source": [
    "## 迭代与遍历"
   ]
  },
  {
   "cell_type": "code",
   "execution_count": 39,
   "metadata": {},
   "outputs": [
    {
     "name": "stdout",
     "output_type": "stream",
     "text": [
      "           D    x         y       z\n",
      "0 2019-01-31  0.0  0.571437    High\n",
      "1 2019-02-28  1.0  0.521910  Medium\n",
      "2 2019-03-31  2.0  0.364962     Low\n",
      "3 2019-04-30  3.0  0.561096    High\n",
      "4 2019-05-31  4.0  0.312570    High \n",
      "\n",
      "D\n",
      "x\n",
      "y\n",
      "z\n"
     ]
    }
   ],
   "source": [
    "# 迭代DataFrame\n",
    "import pandas as pd\n",
    "import numpy as np\n",
    "\n",
    "N=5\n",
    "\n",
    "df = pd.DataFrame({\n",
    "    'D': pd.date_range(start='2019-01-01',periods=N,freq='M'),\n",
    "    'x': np.linspace(0,stop=N-1,num=N),\n",
    "    'y': np.random.rand(N),\n",
    "    'z': np.random.choice(['Low','Medium','High'],N).tolist(),\n",
    "    })\n",
    "\n",
    "print(df,'\\n')\n",
    "\n",
    "for col in df:\n",
    "   print(col)"
   ]
  },
  {
   "cell_type": "code",
   "execution_count": 40,
   "metadata": {},
   "outputs": [
    {
     "name": "stdout",
     "output_type": "stream",
     "text": [
      "col1 0    0.189032\n",
      "1    0.088379\n",
      "2    0.018292\n",
      "3    0.320569\n",
      "Name: col1, dtype: float64\n",
      "col2 0    0.454794\n",
      "1    0.581986\n",
      "2    0.067205\n",
      "3    0.027683\n",
      "Name: col2, dtype: float64\n",
      "col3 0    0.459669\n",
      "1    0.742531\n",
      "2    0.592305\n",
      "3    0.081399\n",
      "Name: col3, dtype: float64\n"
     ]
    }
   ],
   "source": [
    "# 遍历  iteritems()将每个列作为,将索引和值作为键和列值迭代为Series对象。\n",
    "df = pd.DataFrame(np.random.rand(4,3),columns=['col1','col2','col3'])\n",
    "for key,value in df.iteritems():\n",
    "   print(key,value)"
   ]
  },
  {
   "cell_type": "code",
   "execution_count": 41,
   "metadata": {},
   "outputs": [
    {
     "name": "stdout",
     "output_type": "stream",
     "text": [
      "0 col1    0.330512\n",
      "col2    0.648158\n",
      "col3    0.006276\n",
      "Name: 0, dtype: float64\n",
      "1 col1    0.793552\n",
      "col2    0.419818\n",
      "col3    0.142505\n",
      "Name: 1, dtype: float64\n",
      "2 col1    0.155124\n",
      "col2    0.958747\n",
      "col3    0.067155\n",
      "Name: 2, dtype: float64\n",
      "3 col1    0.629477\n",
      "col2    0.341689\n",
      "col3    0.569596\n",
      "Name: 3, dtype: float64\n"
     ]
    }
   ],
   "source": [
    "# iterrows()返回迭代器，产生每个索引值以及包含每行数据的序列。 \n",
    "df = pd.DataFrame(np.random.rand(4,3),columns=['col1','col2','col3'])\n",
    "for row_index,row in df.iterrows():\n",
    "   print(row_index,row)"
   ]
  },
  {
   "cell_type": "code",
   "execution_count": 42,
   "metadata": {},
   "outputs": [
    {
     "name": "stdout",
     "output_type": "stream",
     "text": [
      "Pandas(Index=0, col1=0.5648141732218348, col2=0.08344971305737703, col3=0.8683646775857635)\n",
      "Pandas(Index=1, col1=0.05688701354902115, col2=0.10991581118232197, col3=0.07126703560769898)\n",
      "Pandas(Index=2, col1=0.6880394568926367, col2=0.11410606417113411, col3=0.30359773267261636)\n",
      "Pandas(Index=3, col1=0.5426231635233075, col2=0.4681726938470241, col3=0.9049256269917223)\n"
     ]
    }
   ],
   "source": [
    "# itertuples()方法将为DataFrame中的每一行返回一个产生一个命名元组的迭代器。元组的第一个元素将是行的相应索引值，而剩余的值是行值。\n",
    "df = pd.DataFrame(np.random.rand(4,3),columns=['col1','col2','col3'])\n",
    "for row in df.itertuples():\n",
    "    print(row)"
   ]
  },
  {
   "cell_type": "markdown",
   "metadata": {},
   "source": [
    "# 排序"
   ]
  },
  {
   "cell_type": "code",
   "execution_count": 51,
   "metadata": {},
   "outputs": [
    {
     "name": "stdout",
     "output_type": "stream",
     "text": [
      "          A         B\n",
      "1  0.317958  0.819729\n",
      "4  0.275815  0.621646\n",
      "6  0.135542  0.241550\n",
      "2  0.714122  0.151641\n",
      "3  0.798709  0.662859\n",
      "5  0.235265  0.191215\n",
      "9  0.093220  0.050614\n",
      "8  0.302075  0.864406\n",
      "0  0.294041  0.557130\n",
      "7  0.242075  0.505933 \n",
      "\n",
      "          A         B\n",
      "0  0.294041  0.557130\n",
      "1  0.317958  0.819729\n",
      "2  0.714122  0.151641\n",
      "3  0.798709  0.662859\n",
      "4  0.275815  0.621646\n",
      "5  0.235265  0.191215\n",
      "6  0.135542  0.241550\n",
      "7  0.242075  0.505933\n",
      "8  0.302075  0.864406\n",
      "9  0.093220  0.050614 \n",
      "\n",
      "          A         B\n",
      "1  0.317958  0.819729\n",
      "4  0.275815  0.621646\n",
      "6  0.135542  0.241550\n",
      "2  0.714122  0.151641\n",
      "3  0.798709  0.662859\n",
      "5  0.235265  0.191215\n",
      "9  0.093220  0.050614\n",
      "8  0.302075  0.864406\n",
      "0  0.294041  0.557130\n",
      "7  0.242075  0.505933 \n",
      "\n",
      "          A         B\n",
      "9  0.093220  0.050614\n",
      "2  0.714122  0.151641\n",
      "5  0.235265  0.191215\n",
      "6  0.135542  0.241550\n",
      "7  0.242075  0.505933\n",
      "0  0.294041  0.557130\n",
      "4  0.275815  0.621646\n",
      "3  0.798709  0.662859\n",
      "1  0.317958  0.819729\n",
      "8  0.302075  0.864406 \n",
      "\n"
     ]
    }
   ],
   "source": [
    "unsorted_df = pd.DataFrame(np.random.rand(10,2),index=[1,4,6,2,3,5,9,8,0,7],columns = ['A','B'])\n",
    "print(unsorted_df,'\\n')\n",
    "\n",
    "sorted_df=unsorted_df.sort_index(ascending = True)  #按索引排序\n",
    "print (sorted_df,'\\n')\n",
    "\n",
    "sorted_df=unsorted_df.sort_index(axis=1)  # 按列排序\n",
    "print (sorted_df,'\\n')\n",
    "\n",
    "sorted_df = unsorted_df.sort_values(by='B') # 按'B'列的值进行排序\n",
    "print (sorted_df,'\\n')"
   ]
  },
  {
   "cell_type": "markdown",
   "metadata": {},
   "source": [
    "# 缺失值处理"
   ]
  },
  {
   "cell_type": "code",
   "execution_count": 58,
   "metadata": {},
   "outputs": [
    {
     "name": "stdout",
     "output_type": "stream",
     "text": [
      "        one       two     three\n",
      "a  0.186266  0.886873  0.327252\n",
      "b       NaN       NaN       NaN\n",
      "c  0.567557  0.651344  0.232037\n",
      "d       NaN       NaN       NaN\n",
      "e  0.599943  0.986859  0.524712\n",
      "f  0.348339  0.731453  0.192680\n",
      "g       NaN       NaN       NaN \n",
      "\n",
      "a    False\n",
      "b     True\n",
      "c    False\n",
      "d     True\n",
      "e    False\n",
      "f    False\n",
      "g     True\n",
      "Name: one, dtype: bool \n",
      "\n",
      "a     True\n",
      "b    False\n",
      "c     True\n",
      "d    False\n",
      "e     True\n",
      "f     True\n",
      "g    False\n",
      "Name: one, dtype: bool \n",
      "\n"
     ]
    }
   ],
   "source": [
    "# 使用reindex()人为生成缺失值\n",
    "df = pd.DataFrame(np.random.rand(4, 3), index=['a', 'c', 'e', 'f'],columns=['one', 'two', 'three'])\n",
    "\n",
    "df = df.reindex(['a', 'b', 'c', 'd', 'e', 'f', 'g'])\n",
    "\n",
    "print (df,'\\n')\n",
    "\n",
    "print(df['one'].isnull(),'\\n')      # 缺失值标记\n",
    "print (df['one'].notnull(),'\\n')"
   ]
  },
  {
   "cell_type": "code",
   "execution_count": 59,
   "metadata": {},
   "outputs": [
    {
     "name": "stdout",
     "output_type": "stream",
     "text": [
      "NaN replaced with '0':\n",
      "        one       two     three\n",
      "a  0.186266  0.886873  0.327252\n",
      "b  0.000000  0.000000  0.000000\n",
      "c  0.567557  0.651344  0.232037\n",
      "d  0.000000  0.000000  0.000000\n",
      "e  0.599943  0.986859  0.524712\n",
      "f  0.348339  0.731453  0.192680\n",
      "g  0.000000  0.000000  0.000000\n"
     ]
    }
   ],
   "source": [
    "# 用标量填充\n",
    "print (\"NaN replaced with '0':\")\n",
    "print (df.fillna(0))"
   ]
  },
  {
   "cell_type": "code",
   "execution_count": 60,
   "metadata": {},
   "outputs": [
    {
     "name": "stdout",
     "output_type": "stream",
     "text": [
      "        one       two     three\n",
      "a  0.186266  0.886873  0.327252\n",
      "b  0.186266  0.886873  0.327252\n",
      "c  0.567557  0.651344  0.232037\n",
      "d  0.567557  0.651344  0.232037\n",
      "e  0.599943  0.986859  0.524712\n",
      "f  0.348339  0.731453  0.192680\n",
      "g  0.348339  0.731453  0.192680\n"
     ]
    }
   ],
   "source": [
    "# 向前填充\n",
    "print (df.fillna(method='pad'))"
   ]
  },
  {
   "cell_type": "code",
   "execution_count": 61,
   "metadata": {},
   "outputs": [
    {
     "name": "stdout",
     "output_type": "stream",
     "text": [
      "        one       two     three\n",
      "a  0.186266  0.886873  0.327252\n",
      "b  0.567557  0.651344  0.232037\n",
      "c  0.567557  0.651344  0.232037\n",
      "d  0.599943  0.986859  0.524712\n",
      "e  0.599943  0.986859  0.524712\n",
      "f  0.348339  0.731453  0.192680\n",
      "g       NaN       NaN       NaN\n"
     ]
    }
   ],
   "source": [
    "# 向后填充\n",
    "print (df.fillna(method='backfill'))"
   ]
  },
  {
   "cell_type": "markdown",
   "metadata": {},
   "source": [
    "###### 缺失值丢弃"
   ]
  },
  {
   "cell_type": "code",
   "execution_count": 66,
   "metadata": {},
   "outputs": [
    {
     "name": "stdout",
     "output_type": "stream",
     "text": [
      "        one       two     three\n",
      "a  0.432330  0.352715  0.079177\n",
      "b       NaN       NaN       NaN\n",
      "c  0.694525  0.902293  0.800932\n",
      "d       NaN       NaN       NaN\n",
      "e  0.777439  0.781499  0.374718\n",
      "f  0.912139  0.870626  0.096564\n",
      "g       NaN       NaN       NaN \n",
      "\n",
      "        one       two     three\n",
      "a  0.432330  0.352715  0.079177\n",
      "c  0.694525  0.902293  0.800932\n",
      "e  0.777439  0.781499  0.374718\n",
      "f  0.912139  0.870626  0.096564 \n",
      "\n",
      "Empty DataFrame\n",
      "Columns: []\n",
      "Index: [a, b, c, d, e, f, g]\n"
     ]
    }
   ],
   "source": [
    "df = pd.DataFrame(np.random.rand(4, 3), index=['a', 'c', 'e', 'f'],columns=['one', 'two', 'three'])\n",
    "\n",
    "df = df.reindex(['a', 'b', 'c', 'd', 'e', 'f', 'g'])\n",
    "\n",
    "print (df,'\\n')\n",
    "print(df.dropna(),'\\n')       #丢弃含NaN值的行\n",
    "print(df.dropna(axis=1)) #丢弃含NaN值的列 "
   ]
  },
  {
   "cell_type": "code",
   "execution_count": 68,
   "metadata": {},
   "outputs": [
    {
     "name": "stdout",
     "output_type": "stream",
     "text": [
      "    one   two\n",
      "0    10  1000\n",
      "1    20     0\n",
      "2    30    30\n",
      "3    40    40\n",
      "4    50    50\n",
      "5  2000    60 \n",
      "\n",
      "   one  two\n",
      "0   10   10\n",
      "1   20    0\n",
      "2   30   30\n",
      "3   40   40\n",
      "4   50   50\n",
      "5   60   60\n"
     ]
    }
   ],
   "source": [
    "# 替换通用数据或者缺失值\n",
    "df = pd.DataFrame({'one':[10,20,30,40,50,2000],'two':[1000,0,30,40,50,60]})\n",
    "print(df,'\\n')\n",
    "print(df.replace({1000:10,2000:60}))  "
   ]
  }
 ],
 "metadata": {
  "kernelspec": {
   "display_name": "Python 3",
   "language": "python",
   "name": "python3"
  },
  "language_info": {
   "codemirror_mode": {
    "name": "ipython",
    "version": 3
   },
   "file_extension": ".py",
   "mimetype": "text/x-python",
   "name": "python",
   "nbconvert_exporter": "python",
   "pygments_lexer": "ipython3",
   "version": "3.7.3"
  }
 },
 "nbformat": 4,
 "nbformat_minor": 2
}

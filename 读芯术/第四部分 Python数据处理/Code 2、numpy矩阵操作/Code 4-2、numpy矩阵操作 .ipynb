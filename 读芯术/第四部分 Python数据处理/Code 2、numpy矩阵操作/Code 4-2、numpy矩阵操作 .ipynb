{
 "cells": [
  {
   "cell_type": "code",
   "execution_count": 1,
   "metadata": {},
   "outputs": [
    {
     "name": "stdout",
     "output_type": "stream",
     "text": [
      "[[1.67494829e+243 5.82477780e+252]\n",
      " [2.02910187e+174 2.46052273e-154]]\n"
     ]
    }
   ],
   "source": [
    "import numpy.matlib \n",
    "import numpy as np\n",
    " \n",
    "print (np.matlib.empty((2,2)))\n",
    "# 填充为随机数据"
   ]
  },
  {
   "cell_type": "code",
   "execution_count": 2,
   "metadata": {},
   "outputs": [
    {
     "name": "stdout",
     "output_type": "stream",
     "text": [
      "[[0. 0.]\n",
      " [0. 0.]]\n",
      "[[1. 1.]\n",
      " [1. 1.]]\n"
     ]
    }
   ],
   "source": [
    "import numpy.matlib \n",
    "import numpy as np \n",
    " \n",
    "print (np.matlib.zeros((2,2)))\n",
    "print (np.matlib.ones((2,2)))"
   ]
  },
  {
   "cell_type": "code",
   "execution_count": 3,
   "metadata": {},
   "outputs": [
    {
     "name": "stdout",
     "output_type": "stream",
     "text": [
      "[[1 0 0 0]\n",
      " [0 1 0 0]\n",
      " [0 0 1 0]]\n"
     ]
    }
   ],
   "source": [
    "import numpy.matlib \n",
    "import numpy as np \n",
    " \n",
    "print (np.matlib.eye(n =  3, M =  4, k =  0, dtype =  int))"
   ]
  },
  {
   "cell_type": "code",
   "execution_count": 4,
   "metadata": {},
   "outputs": [
    {
     "name": "stdout",
     "output_type": "stream",
     "text": [
      "[[1 0 0 0]\n",
      " [0 1 0 0]\n",
      " [0 0 1 0]\n",
      " [0 0 0 1]]\n"
     ]
    }
   ],
   "source": [
    "import numpy.matlib \n",
    "import numpy as np \n",
    " \n",
    "# 大小为4，类型为整型\n",
    "print (np.matlib.identity(4, dtype = int))"
   ]
  },
  {
   "cell_type": "code",
   "execution_count": 2,
   "metadata": {},
   "outputs": [
    {
     "name": "stdout",
     "output_type": "stream",
     "text": [
      "[[0.60816204 0.96497772 0.99442573 0.16514713]\n",
      " [0.36112951 0.5849557  0.17710848 0.25984388]\n",
      " [0.39050801 0.12108994 0.73987486 0.54932934]\n",
      " [0.87680497 0.74928449 0.1441885  0.20470777]]\n"
     ]
    }
   ],
   "source": [
    "import numpy.matlib \n",
    "import numpy as np \n",
    " \n",
    "print (np.matlib.rand(4,4))"
   ]
  },
  {
   "cell_type": "code",
   "execution_count": 3,
   "metadata": {},
   "outputs": [
    {
     "name": "stdout",
     "output_type": "stream",
     "text": [
      "[[1 2]\n",
      " [3 4]]\n",
      "[[1 2]\n",
      " [3 4]]\n",
      "[[1 2]\n",
      " [3 4]]\n"
     ]
    }
   ],
   "source": [
    "import numpy.matlib \n",
    "import numpy as np  \n",
    " \n",
    "i = np.matrix('1,2;3,4')  \n",
    "print(i)\n",
    "j = np.asarray(i)\n",
    "print(j)\n",
    "k = np.asmatrix (j)  \n",
    "print (k)"
   ]
  },
  {
   "cell_type": "code",
   "execution_count": 4,
   "metadata": {},
   "outputs": [
    {
     "name": "stdout",
     "output_type": "stream",
     "text": [
      "[[1 4]\n",
      " [2 5]\n",
      " [3 6]]\n",
      "\n",
      "[[1]\n",
      " [2]\n",
      " [3]\n",
      " [4]\n",
      " [5]\n",
      " [6]]\n"
     ]
    }
   ],
   "source": [
    "import numpy as np\n",
    "\n",
    "x = np.matrix([[1,2,3], [4,5,6]])\n",
    "y = np.matrix([1,2,3,4,5,6])\n",
    "print(x.T, y.T, sep='\\n\\n')"
   ]
  },
  {
   "cell_type": "code",
   "execution_count": 7,
   "metadata": {},
   "outputs": [
    {
     "name": "stdout",
     "output_type": "stream",
     "text": [
      "5.0\n",
      "====\n",
      "[[4. 5. 6.]]\n",
      "====\n",
      "(1, 3)\n",
      "====\n",
      "[[2.]\n",
      " [5.]\n",
      " [8.]]\n",
      "====\n",
      "45\n",
      "====\n",
      "[[3]\n",
      " [6]\n",
      " [9]]\n",
      "====\n",
      "[[2]\n",
      " [2]\n",
      " [2]]\n",
      "====\n",
      "[[1 5 9]]\n",
      "====\n"
     ]
    }
   ],
   "source": [
    "import numpy as np\n",
    "\n",
    "x = np.matrix([[1,2,3], [4,5,6],[7,8,9]])\n",
    "print(x.mean(), end='\\n====\\n')             # 所有元素平均值\n",
    "print(x.mean(axis=0), end='\\n====\\n')       # 纵向平均值\n",
    "print(x.mean(axis=0).shape, end='\\n====\\n')\n",
    "print(x.mean(axis=1), end='\\n====\\n')       # 横向平均值\n",
    "print(x.sum(), end='\\n====\\n')              # 所有元素之和\n",
    "print(x.max(axis=1), end='\\n====\\n')        # 横向最大值\n",
    "print(x.argmax(axis=1), end='\\n====\\n')     # 横向最大值的下标\n",
    "print(x.diagonal(), end='\\n====\\n')         # 对角线元素"
   ]
  },
  {
   "cell_type": "code",
   "execution_count": 8,
   "metadata": {},
   "outputs": [
    {
     "name": "stdout",
     "output_type": "stream",
     "text": [
      "[[22 28]\n",
      " [49 64]]\n"
     ]
    }
   ],
   "source": [
    "import numpy as np\n",
    "\n",
    "x = np.matrix([[1,2,3], [4,5,6]])\n",
    "y = np.matrix([[1,2], [3,4], [5,6]])\n",
    "print(x*y)"
   ]
  },
  {
   "cell_type": "code",
   "execution_count": 11,
   "metadata": {},
   "outputs": [
    {
     "name": "stdout",
     "output_type": "stream",
     "text": [
      "[[-1.77777778  0.88888889 -0.11111111]\n",
      " [ 1.55555556 -0.77777778  0.22222222]\n",
      " [-0.11111111  0.22222222 -0.11111111]]\n",
      "[[ 1.00000000e+00  1.66533454e-16  1.38777878e-17]\n",
      " [-1.05471187e-15  1.00000000e+00  2.77555756e-17]\n",
      " [ 0.00000000e+00  0.00000000e+00  1.00000000e+00]]\n",
      "[[ 1.00000000e+00 -4.44089210e-16  0.00000000e+00]\n",
      " [ 2.77555756e-16  1.00000000e+00  0.00000000e+00]\n",
      " [ 6.93889390e-17  1.11022302e-16  1.00000000e+00]]\n"
     ]
    }
   ],
   "source": [
    "import numpy as np\n",
    "\n",
    "x = np.matrix([[1,2,3], [4,5,6], [7,8,0]])\n",
    "y = np.linalg.inv(x)\n",
    "print(y)\n",
    "print(x*y)          # 对角线元素为1，其他元素为0或近似为0\n",
    "print(y*x)"
   ]
  },
  {
   "cell_type": "code",
   "execution_count": 12,
   "metadata": {},
   "outputs": [
    {
     "name": "stdout",
     "output_type": "stream",
     "text": [
      "[[37 40]\n",
      " [85 92]]\n"
     ]
    }
   ],
   "source": [
    "import numpy.matlib\n",
    "import numpy as np\n",
    " \n",
    "a = np.array([[1,2],[3,4]])\n",
    "b = np.array([[11,12],[13,14]])\n",
    "print(np.dot(a,b))"
   ]
  },
  {
   "cell_type": "code",
   "execution_count": 13,
   "metadata": {},
   "outputs": [
    {
     "name": "stdout",
     "output_type": "stream",
     "text": [
      "130\n"
     ]
    }
   ],
   "source": [
    "import numpy as np \n",
    " \n",
    "a = np.array([[1,2],[3,4]]) \n",
    "b = np.array([[11,12],[13,14]]) \n",
    " \n",
    "# vdot 将数组展开计算内积\n",
    "print (np.vdot(a,b))"
   ]
  },
  {
   "cell_type": "code",
   "execution_count": 14,
   "metadata": {},
   "outputs": [
    {
     "name": "stdout",
     "output_type": "stream",
     "text": [
      "[[1 2]\n",
      " [3 4]]\n",
      "[[-2.   1. ]\n",
      " [ 1.5 -0.5]]\n",
      "[[1.00000000e+00 1.11022302e-16]\n",
      " [0.00000000e+00 1.00000000e+00]]\n"
     ]
    }
   ],
   "source": [
    "import numpy as np \n",
    " \n",
    "x = np.array([[1,2],[3,4]]) \n",
    "y = np.linalg.inv(x) \n",
    "print (x)\n",
    "print (y)\n",
    "print (np.dot(x,y))"
   ]
  },
  {
   "cell_type": "code",
   "execution_count": 16,
   "metadata": {},
   "outputs": [
    {
     "name": "stdout",
     "output_type": "stream",
     "text": [
      "[ 5.  3. -2.]\n",
      "[ 6. -4. 27.]\n"
     ]
    }
   ],
   "source": [
    "import numpy as np\n",
    "\n",
    "a = np.array([[1,1,1], [0,2,5],[2,5,-1]])   # 系数矩阵\n",
    "b = np.array([6,-4,27])            # 系数矩阵\n",
    "x = np.linalg.solve(a, b)      # 求解\n",
    "print(x)\n",
    "print(np.dot(a, x))            # 验证"
   ]
  },
  {
   "cell_type": "code",
   "execution_count": null,
   "metadata": {},
   "outputs": [],
   "source": []
  }
 ],
 "metadata": {
  "kernelspec": {
   "display_name": "Python 3",
   "language": "python",
   "name": "python3"
  },
  "language_info": {
   "codemirror_mode": {
    "name": "ipython",
    "version": 3
   },
   "file_extension": ".py",
   "mimetype": "text/x-python",
   "name": "python",
   "nbconvert_exporter": "python",
   "pygments_lexer": "ipython3",
   "version": "3.7.3"
  }
 },
 "nbformat": 4,
 "nbformat_minor": 2
}

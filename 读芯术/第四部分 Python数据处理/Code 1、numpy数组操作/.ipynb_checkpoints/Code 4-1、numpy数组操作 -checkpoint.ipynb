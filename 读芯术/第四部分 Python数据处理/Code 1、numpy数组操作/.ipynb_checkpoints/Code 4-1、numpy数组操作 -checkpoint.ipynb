{
 "cells": [
  {
   "cell_type": "code",
   "execution_count": 2,
   "metadata": {},
   "outputs": [
    {
     "name": "stdout",
     "output_type": "stream",
     "text": [
      "[1, 2, 3, 4]\n",
      "[1 2 3 4]\n",
      "[[1 2]\n",
      " [3 4]]\n"
     ]
    }
   ],
   "source": [
    "import numpy as np\n",
    "a = [1, 2, 3, 4]   # 创建简单的列表\n",
    "b = np.array(a)    # 将列表转换为数组\n",
    "c = np.array([[1,  2],  [3,  4]]) \n",
    "print(a)\n",
    "print(b)\n",
    "print(c)"
   ]
  },
  {
   "cell_type": "code",
   "execution_count": 7,
   "metadata": {},
   "outputs": [
    {
     "data": {
      "text/plain": [
       "array([0., 0., 0.])"
      ]
     },
     "execution_count": 7,
     "metadata": {},
     "output_type": "execute_result"
    }
   ],
   "source": [
    "np.zeros(3)"
   ]
  },
  {
   "cell_type": "code",
   "execution_count": 4,
   "metadata": {},
   "outputs": [
    {
     "data": {
      "text/plain": [
       "array([1., 1., 1.])"
      ]
     },
     "execution_count": 4,
     "metadata": {},
     "output_type": "execute_result"
    }
   ],
   "source": [
    "np.ones(3)"
   ]
  },
  {
   "cell_type": "code",
   "execution_count": 6,
   "metadata": {},
   "outputs": [
    {
     "data": {
      "text/plain": [
       "array([[0., 0., 0.],\n",
       "       [0., 0., 0.],\n",
       "       [0., 0., 0.]])"
      ]
     },
     "execution_count": 6,
     "metadata": {},
     "output_type": "execute_result"
    }
   ],
   "source": [
    "np.zeros((3,3))"
   ]
  },
  {
   "cell_type": "code",
   "execution_count": 8,
   "metadata": {},
   "outputs": [
    {
     "data": {
      "text/plain": [
       "array([[0.],\n",
       "       [0.],\n",
       "       [0.]])"
      ]
     },
     "execution_count": 8,
     "metadata": {},
     "output_type": "execute_result"
    }
   ],
   "source": [
    "np.zeros((3,1))"
   ]
  },
  {
   "cell_type": "code",
   "execution_count": 9,
   "metadata": {},
   "outputs": [
    {
     "data": {
      "text/plain": [
       "array([[0., 0., 0.]])"
      ]
     },
     "execution_count": 9,
     "metadata": {},
     "output_type": "execute_result"
    }
   ],
   "source": [
    "np.zeros((1,3))"
   ]
  },
  {
   "cell_type": "code",
   "execution_count": 10,
   "metadata": {},
   "outputs": [
    {
     "data": {
      "text/plain": [
       "array([[1., 1., 1.],\n",
       "       [1., 1., 1.],\n",
       "       [1., 1., 1.]])"
      ]
     },
     "execution_count": 10,
     "metadata": {},
     "output_type": "execute_result"
    }
   ],
   "source": [
    "np.ones((3, 3))"
   ]
  },
  {
   "cell_type": "code",
   "execution_count": 11,
   "metadata": {},
   "outputs": [
    {
     "data": {
      "text/plain": [
       "array([[1., 1., 1.]])"
      ]
     },
     "execution_count": 11,
     "metadata": {},
     "output_type": "execute_result"
    }
   ],
   "source": [
    "np.ones((1,3))"
   ]
  },
  {
   "cell_type": "code",
   "execution_count": 12,
   "metadata": {},
   "outputs": [
    {
     "data": {
      "text/plain": [
       "array([[1., 0., 0.],\n",
       "       [0., 1., 0.],\n",
       "       [0., 0., 1.]])"
      ]
     },
     "execution_count": 12,
     "metadata": {},
     "output_type": "execute_result"
    }
   ],
   "source": [
    "np.identity(3)"
   ]
  },
  {
   "cell_type": "code",
   "execution_count": 13,
   "metadata": {},
   "outputs": [
    {
     "data": {
      "text/plain": [
       "array([14, 33,  1, 24, 35])"
      ]
     },
     "execution_count": 13,
     "metadata": {},
     "output_type": "execute_result"
    }
   ],
   "source": [
    "np.random.randint(0, 50, 5)      \t# 随机数组，5个0到50之间的数字"
   ]
  },
  {
   "cell_type": "code",
   "execution_count": 14,
   "metadata": {},
   "outputs": [
    {
     "data": {
      "text/plain": [
       "array([[25, 47, 49, 11, 19],\n",
       "       [33, 11, 31, 36, 49],\n",
       "       [ 1, 32, 44, 45, 42]])"
      ]
     },
     "execution_count": 14,
     "metadata": {},
     "output_type": "execute_result"
    }
   ],
   "source": [
    "np.random.randint(0, 50, (3,5)) \t# 3行5列，共15个随机数，都介于[0,50]"
   ]
  },
  {
   "cell_type": "code",
   "execution_count": 19,
   "metadata": {},
   "outputs": [
    {
     "data": {
      "text/plain": [
       "array([-0.56775441, -0.04009788,  2.06516224,  0.43939799,  1.0914694 ])"
      ]
     },
     "execution_count": 19,
     "metadata": {},
     "output_type": "execute_result"
    }
   ],
   "source": [
    "np.random.rand(10)              \t # 10个介于[0,1)的随机数"
   ]
  },
  {
   "cell_type": "code",
   "execution_count": 16,
   "metadata": {},
   "outputs": [
    {
     "data": {
      "text/plain": [
       "array([-1.26878476, -0.3858705 , -0.37826937,  0.4134558 ,  0.10609188])"
      ]
     },
     "execution_count": 16,
     "metadata": {},
     "output_type": "execute_result"
    }
   ],
   "source": [
    "np.random.standard_normal(5)     \t # 从标准正态分布中随机采样5个数字"
   ]
  },
  {
   "cell_type": "code",
   "execution_count": 23,
   "metadata": {},
   "outputs": [
    {
     "name": "stdout",
     "output_type": "stream",
     "text": [
      "[[1 2 4]\n",
      " [4 1 1]\n",
      " [7 1 1]] \n",
      "\n",
      "[[1 2 4]\n",
      " [4 1 2]\n",
      " [7 1 2]] \n",
      "\n",
      "[[1 2 4]\n",
      " [4 1 2]\n",
      " [7 3 4]] \n",
      "\n"
     ]
    }
   ],
   "source": [
    "##修改数组中的元素值\n",
    "x = np.array([[1,2,3], [4,5,6], [7,8,9]])\n",
    "x[0, 2] = 4                   # 修改第0行第2列的元素值\n",
    "x[1:, 1:] = 1                 # 切片，把行下标大于等于1，且列下标也大于等于1的元素值都设置1\n",
    "print(x, '\\n')\n",
    "x[1:, 1:] = [1,2]             # 同时修改多个元素值\n",
    "print(x, '\\n')\n",
    "x[1:, 1:] = [[1,2],[3,4]]     # 同时修改多个元素值\n",
    "print(x, '\\n')"
   ]
  },
  {
   "cell_type": "code",
   "execution_count": 26,
   "metadata": {},
   "outputs": [
    {
     "name": "stdout",
     "output_type": "stream",
     "text": [
      "[[1. 2. 3.]\n",
      " [4. 5. 6.]] \n",
      "\n",
      "[[1.         0.5        0.33333333]\n",
      " [0.25       0.2        0.16666667]] \n",
      "\n",
      "[[0. 0. 0.]\n",
      " [0. 0. 0.]] \n",
      "\n",
      "[[ 1.  4.  9.]\n",
      " [16. 25. 36.]] \n",
      "\n",
      "[[0.5 1.  1.5]\n",
      " [2.  2.5 3. ]] \n",
      "\n"
     ]
    }
   ],
   "source": [
    "###数组与标量的运算\n",
    "arr = np.array([[1., 2., 3.], [4., 5., 6.]])\n",
    "print(arr, '\\n')\n",
    "print(1/arr, '\\n')\n",
    "print(arr-arr, '\\n')\n",
    "print(arr * arr, '\\n')\n",
    "print(arr * 0.5, '\\n')"
   ]
  },
  {
   "cell_type": "code",
   "execution_count": 30,
   "metadata": {},
   "outputs": [
    {
     "name": "stdout",
     "output_type": "stream",
     "text": [
      "[0 1 2 3 4 5 6 7 8 9] \n",
      "\n",
      "5 \n",
      "\n",
      "[5 6 7] \n",
      "\n",
      "[ 0  1  2  3  4 12 12 12  8  9] \n",
      "\n",
      "[    0     1     2     3     4    12 12345    12     8     9] \n",
      "\n",
      "[ 0  1  2  3  4 64 64 64  8  9] \n",
      "\n",
      "[[[ 1  2  3]\n",
      "  [ 4  5  6]]\n",
      "\n",
      " [[ 7  8  9]\n",
      "  [10 11 12]]] \n",
      "\n",
      "[[1 2 3]\n",
      " [4 5 6]] \n",
      "\n",
      "[4 5 6] \n",
      "\n"
     ]
    }
   ],
   "source": [
    "###索引和切片\n",
    "arr = np.arange(10)\n",
    "print(arr, '\\n')\n",
    "print(arr[5], '\\n')\n",
    "print(arr[5:8], '\\n')\n",
    "arr[5:8] = 12\n",
    "print(arr, '\\n')\n",
    "arr_slice = arr[5:8]\n",
    "arr_slice[1] = 12345\n",
    "print(arr, '\\n')\n",
    "arr_slice[:] = 64\n",
    "print(arr, '\\n')\n",
    "\n",
    "arr3d = np.array([[[1, 2, 3], [4, 5, 6]], [[7, 8, 9], [10, 11, 12]]])\n",
    "print(arr3d, '\\n')\n",
    "print(arr3d[0], '\\n')\n",
    "print(arr3d[0][1], '\\n')"
   ]
  },
  {
   "cell_type": "code",
   "execution_count": 34,
   "metadata": {},
   "outputs": [
    {
     "name": "stdout",
     "output_type": "stream",
     "text": [
      "[[-1.07039615  1.90030725  0.60674875 -1.38985179]\n",
      " [ 1.00828717 -1.46188843  0.80696005 -0.20756736]\n",
      " [ 2.18049733 -2.04884173 -0.01589721 -0.59893286]\n",
      " [-0.42428122 -0.60575861  1.61080702  0.24572414]\n",
      " [-0.51474947  1.28560309  0.90026676 -1.80609013]] \n",
      "\n",
      "0.020047330099791892 \n",
      "\n",
      "0.020047330099791892 \n",
      "\n",
      "0.40094660199583787 \n",
      "\n",
      "[ 0.01170202  0.03644786 -0.12079362  0.20662283 -0.03374244] \n",
      "\n",
      "[ 1.17935765 -0.93057843  3.90888539 -3.75671801] \n",
      "\n"
     ]
    }
   ],
   "source": [
    "###数学和统计方法\n",
    "arr = np.random.randn(5, 4)  # 正态分布的数据\n",
    "print(arr, '\\n')\n",
    "print(arr.mean(), '\\n')\n",
    "print(np.mean(arr), '\\n')\n",
    "print(arr.sum(), '\\n')\n",
    "print(arr.mean(axis = 1), '\\n')\n",
    "print(arr.sum(0), '\\n')\n",
    "\n"
   ]
  },
  {
   "cell_type": "code",
   "execution_count": 37,
   "metadata": {},
   "outputs": [
    {
     "name": "stdout",
     "output_type": "stream",
     "text": [
      "[[0 1 2]\n",
      " [3 4 5]\n",
      " [6 7 8]] \n",
      "\n",
      "[[ 0  1  2]\n",
      " [ 3  5  7]\n",
      " [ 9 12 15]] \n",
      "\n",
      "[[  0   0   0]\n",
      " [  3  12  60]\n",
      " [  6  42 336]] \n",
      "\n"
     ]
    }
   ],
   "source": [
    "arr = np.array([[0, 1 ,2], [3, 4, 5], [6, 7, 8]])\n",
    "print(arr, '\\n')\n",
    "print(arr.cumsum(0), '\\n')\n",
    "print(arr.cumprod(1), '\\n')"
   ]
  },
  {
   "cell_type": "code",
   "execution_count": null,
   "metadata": {},
   "outputs": [],
   "source": []
  }
 ],
 "metadata": {
  "kernelspec": {
   "display_name": "Python 3",
   "language": "python",
   "name": "python3"
  },
  "language_info": {
   "codemirror_mode": {
    "name": "ipython",
    "version": 3
   },
   "file_extension": ".py",
   "mimetype": "text/x-python",
   "name": "python",
   "nbconvert_exporter": "python",
   "pygments_lexer": "ipython3",
   "version": "3.7.6"
  }
 },
 "nbformat": 4,
 "nbformat_minor": 2
}
